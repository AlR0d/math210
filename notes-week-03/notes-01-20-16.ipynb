{
 "cells": [
  {
   "cell_type": "markdown",
   "metadata": {},
   "source": [
    "**IMPORTANT:** Make sure the kernel is set to Python 3\n",
    "\n",
    "---\n",
    "\n",
    "# MATH 210 Introduction to Mathematical Computing\n",
    "\n",
    "## January 20, 2016\n",
    "\n",
    "Today's Agenda:\n",
    "\n",
    "1. [Python Tutor](http://www.pythontutor.com/)\n",
    "2. Example: Pythagorean Triples"
   ]
  },
  {
   "cell_type": "markdown",
   "metadata": {},
   "source": [
    "## 1. Python Tutor"
   ]
  },
  {
   "cell_type": "markdown",
   "metadata": {},
   "source": [
    "[Python Tutor](http://www.pythontutor.com/) is a tool to visualize Python code. It's a great way to see how your code is working! Copy and paste the examples below (one at a time) into the visualizer and see how it works."
   ]
  },
  {
   "cell_type": "markdown",
   "metadata": {},
   "source": [
    "**Example.** Construct the list of Fibonacci numbers (up to $x_{10}$ where $x_0 = 1$ and $x_1 = 1$ and $x_n = x_{n-1} + x_{n-2}$)."
   ]
  },
  {
   "cell_type": "code",
   "execution_count": 1,
   "metadata": {
    "collapsed": false
   },
   "outputs": [
    {
     "name": "stdout",
     "output_type": "stream",
     "text": [
      "[1, 1, 2, 3, 5, 8, 13, 21, 34, 55, 89]\n"
     ]
    }
   ],
   "source": [
    "N = 10\n",
    "fib_list = [1,1]\n",
    "for n in range(2,N+1):\n",
    "    next_fib = fib_list[n-1] + fib_list[n-2]\n",
    "    fib_list.append( next_fib )\n",
    "print(fib_list)"
   ]
  },
  {
   "cell_type": "markdown",
   "metadata": {},
   "source": [
    "**Example.** Write a function which takes an integer $n$ and returns the factorial $n!$"
   ]
  },
  {
   "cell_type": "code",
   "execution_count": 2,
   "metadata": {
    "collapsed": false
   },
   "outputs": [
    {
     "name": "stdout",
     "output_type": "stream",
     "text": [
      "120\n"
     ]
    }
   ],
   "source": [
    "def factorial(n):\n",
    "    \"Compute the factorial n! of a positive integer.\"\n",
    "    product = 1\n",
    "    if n == 0 or n == 1:\n",
    "        return product\n",
    "    else:\n",
    "        for d in range(2,n+1):\n",
    "            product = product * d\n",
    "        return product\n",
    "\n",
    "print(factorial(5))"
   ]
  },
  {
   "cell_type": "markdown",
   "metadata": {},
   "source": [
    "**Example.** Use the function `factorial` above to write a new function called `e_approx` which takes an integer $N$ and returns the $N$th partial sum of the Taylor series of $e^x$ centered at $0$ and evaluated at $x=1$:\n",
    "$$\n",
    "\\sum_{n=0}^N \\frac{1}{n!}\n",
    "$$"
   ]
  },
  {
   "cell_type": "code",
   "execution_count": 3,
   "metadata": {
    "collapsed": false
   },
   "outputs": [
    {
     "name": "stdout",
     "output_type": "stream",
     "text": [
      "2.6666666666666665\n",
      "2.7182818011463845\n"
     ]
    }
   ],
   "source": [
    "def factorial(n):\n",
    "    \"Compute the factorial n! of a positive integer.\"\n",
    "    product = 1\n",
    "    if n == 0 or n == 1:\n",
    "        return product\n",
    "    else:\n",
    "        for d in range(2,n+1):\n",
    "            product = product * d\n",
    "        return product\n",
    "\n",
    "def e_approx(N):\n",
    "    \"Compute the Nth partial sum of the Taylor series of e^x centered at 0 evaluated at x=1.\"\n",
    "    terms_in_series = []\n",
    "    for n in range(0,N+1):\n",
    "        # We can use our factorial function defined above to compute the terms of the series\n",
    "        terms_in_series.append(1 / factorial(n))\n",
    "    return sum(terms_in_series)\n",
    "\n",
    "print(e_approx(3))\n",
    "print(e_approx(10))"
   ]
  },
  {
   "cell_type": "markdown",
   "metadata": {},
   "source": [
    "Here's another (perhaps more efficient way) to compute the sum of the series:"
   ]
  },
  {
   "cell_type": "code",
   "execution_count": 4,
   "metadata": {
    "collapsed": false
   },
   "outputs": [
    {
     "name": "stdout",
     "output_type": "stream",
     "text": [
      "2.6666666666666665\n",
      "2.7182818011463845\n"
     ]
    }
   ],
   "source": [
    "def factorial(n):\n",
    "    \"Compute the factorial n! of a positive integer.\"\n",
    "    product = 1\n",
    "    if n == 0 or n == 1:\n",
    "        return product\n",
    "    else:\n",
    "        for d in range(2,n+1):\n",
    "            product = product * d\n",
    "        return product\n",
    "\n",
    "def e_approx_2(N):\n",
    "    \"Compute the Nth partial sum of the Taylor series of e^x centered at 0 evaluated at x=0.\"\n",
    "    series_sum = 0\n",
    "    for n in range(0,N+1):\n",
    "        series_sum = series_sum + 1 / factorial(n)\n",
    "    return series_sum\n",
    "\n",
    "print(e_approx_2(3))\n",
    "print(e_approx_2(10))"
   ]
  },
  {
   "cell_type": "markdown",
   "metadata": {},
   "source": [
    "## 2. Example: Pythagorean Triples"
   ]
  },
  {
   "cell_type": "markdown",
   "metadata": {},
   "source": [
    "A [Pythagorean triple](https://en.wikipedia.org/wiki/Pythagorean_triple) is a triple $[a,b,c]$ of integers (with $1 \\leq a < b$) such that $a^2 + b^2 = c^2$. Write a function called `pythagorean` which takes an integer $N$ and returns the list of all Pythagorean triples $[a,b,c]$ with $c \\leq N$. Use the function to compute:\n",
    "\n",
    "* The number of Pythagorean triples with $c \\leq 500$\n",
    "* The four different Pythagorean triples with $c=85$\n",
    "* The list of numbers $c \\leq 50$ which **do not** appear in a Pythagorean triple as the largest value $c$"
   ]
  },
  {
   "cell_type": "markdown",
   "metadata": {},
   "source": [
    "**Solution.** Let's make a plan. In other words, let's write some [pseudocode](https://en.wikipedia.org/wiki/Pseudocode)!\n",
    "\n",
    "* Input: N\n",
    "    * Create an empty list called `py_triples` so that we can append Pythagorean triples to the list when we find them\n",
    "    * Loop over all possible values of $a$ and $b$\n",
    "        * Restrict to $1 \\leq a < b$\n",
    "        * How big can $b$ be? We must have $b < N$ if $a^2 + b^2 = c^2 \\leq N^2$\n",
    "        * Loop over $b$ from $1$ to $N$ and then $a$ from $1$ to $b$\n",
    "    * Test if $a^2 + b^2$ is a square\n",
    "        * Compute $\\sqrt{a^2 + b^2}$ and round to the nearest integer, and call it $n$\n",
    "        * If $n^2 = a^2 + b^2$ then $[a,b,n]$ is a triple\n",
    "    * If $a^2 + b^2$ is a square $c^2$ with $c \\leq N$, then add the triple $\\left[ a,b,\\sqrt{a^2 + b^2} \\right]$ to the list `py_triples`\n",
    "* Output: `py_triples`, a list of Pythagorean triples $[a,b,c]$ with $c \\leq N$"
   ]
  },
  {
   "cell_type": "code",
   "execution_count": 5,
   "metadata": {
    "collapsed": true
   },
   "outputs": [],
   "source": [
    "def pythagorean(N):\n",
    "    \"Find all Pythagorean triples [a,b,c] with c less than or equal to N.\"\n",
    "    \n",
    "    # Create an empty list so that we can append Pythagorean triples to the list when we find them\n",
    "    py_triples = []\n",
    "        \n",
    "    # Loop over all possible values of a and b\n",
    "    # We can restrict to 1 <= a <= b < N\n",
    "    # Loop over values of b up to N\n",
    "    for b in range(1,N):\n",
    "        \n",
    "        # Loop over values of a up to b\n",
    "        for a in range(1,b+1):\n",
    "            \n",
    "            # Test if a^2 + b^2 is equal to a square c^2 with c <= N, and append if True\n",
    "            c = round( (a ** 2 + b ** 2) ** 0.5 )\n",
    "            if (a ** 2 + b ** 2 == c ** 2) and (c <= N):\n",
    "                py_triples.append([a,b,c])\n",
    "                \n",
    "    return py_triples"
   ]
  },
  {
   "cell_type": "markdown",
   "metadata": {},
   "source": [
    "Let's test our function with some inputs and we can check our answers against the [list of triples](http://www.tsm-resources.com/alists/trip.html)."
   ]
  },
  {
   "cell_type": "code",
   "execution_count": 6,
   "metadata": {
    "collapsed": false
   },
   "outputs": [
    {
     "name": "stdout",
     "output_type": "stream",
     "text": [
      "[[3, 4, 5], [6, 8, 10]]\n"
     ]
    }
   ],
   "source": [
    "print(pythagorean(10))"
   ]
  },
  {
   "cell_type": "code",
   "execution_count": 7,
   "metadata": {
    "collapsed": false
   },
   "outputs": [
    {
     "name": "stdout",
     "output_type": "stream",
     "text": [
      "[[3, 4, 5], [6, 8, 10], [5, 12, 13], [9, 12, 15], [8, 15, 17], [12, 16, 20], [15, 20, 25], [20, 21, 29], [7, 24, 25], [10, 24, 26], [18, 24, 30]]\n"
     ]
    }
   ],
   "source": [
    "print(pythagorean(30))"
   ]
  },
  {
   "cell_type": "markdown",
   "metadata": {},
   "source": [
    "We can use the function `len` to find the number of Pythagorean triples $[a,b,c]$ with $c \\leq 500$."
   ]
  },
  {
   "cell_type": "code",
   "execution_count": 8,
   "metadata": {
    "collapsed": false
   },
   "outputs": [
    {
     "data": {
      "text/plain": [
       "386"
      ]
     },
     "execution_count": 8,
     "metadata": {},
     "output_type": "execute_result"
    }
   ],
   "source": [
    "len(pythagorean(500))"
   ]
  },
  {
   "cell_type": "markdown",
   "metadata": {},
   "source": [
    "We can loop over the list of triples $[a,b,c]$ with $c \\leq 85$ to find the triples where $c = 85$"
   ]
  },
  {
   "cell_type": "code",
   "execution_count": 9,
   "metadata": {
    "collapsed": false
   },
   "outputs": [
    {
     "name": "stdout",
     "output_type": "stream",
     "text": [
      "[51, 68, 85]\n",
      "[40, 75, 85]\n",
      "[36, 77, 85]\n",
      "[13, 84, 85]\n"
     ]
    }
   ],
   "source": [
    "for triple in pythagorean(85):\n",
    "    if triple[2] == 85:\n",
    "        print(triple)"
   ]
  },
  {
   "cell_type": "markdown",
   "metadata": {},
   "source": [
    "Or we could just look at the last 10 triples in the list `pythagorean(85)` and pick out the ones with $c = 85$"
   ]
  },
  {
   "cell_type": "code",
   "execution_count": 10,
   "metadata": {
    "collapsed": false
   },
   "outputs": [
    {
     "data": {
      "text/plain": [
       "[[16, 63, 65],\n",
       " [48, 64, 80],\n",
       " [51, 68, 85],\n",
       " [24, 70, 74],\n",
       " [21, 72, 75],\n",
       " [30, 72, 78],\n",
       " [40, 75, 85],\n",
       " [36, 77, 85],\n",
       " [18, 80, 82],\n",
       " [13, 84, 85]]"
      ]
     },
     "execution_count": 10,
     "metadata": {},
     "output_type": "execute_result"
    }
   ],
   "source": [
    "pythagorean(85)[-10:]"
   ]
  },
  {
   "cell_type": "markdown",
   "metadata": {},
   "source": [
    "We can find those numbers which do not appear as $c$ in a triple $[a,b,c]$:\n",
    "\n",
    "* Make a list of values less than 50 which appear as $c$ in a triple\n",
    "* Loop over integers up to 50 and check if they're in the list of values $c$"
   ]
  },
  {
   "cell_type": "code",
   "execution_count": 11,
   "metadata": {
    "collapsed": false
   },
   "outputs": [
    {
     "name": "stdout",
     "output_type": "stream",
     "text": [
      "1 is not in the list.\n",
      "2 is not in the list.\n",
      "3 is not in the list.\n",
      "4 is not in the list.\n",
      "6 is not in the list.\n",
      "7 is not in the list.\n",
      "8 is not in the list.\n",
      "9 is not in the list.\n",
      "11 is not in the list.\n",
      "12 is not in the list.\n",
      "14 is not in the list.\n",
      "16 is not in the list.\n",
      "18 is not in the list.\n",
      "19 is not in the list.\n",
      "21 is not in the list.\n",
      "22 is not in the list.\n",
      "23 is not in the list.\n",
      "24 is not in the list.\n",
      "27 is not in the list.\n",
      "28 is not in the list.\n",
      "31 is not in the list.\n",
      "32 is not in the list.\n",
      "33 is not in the list.\n",
      "36 is not in the list.\n",
      "38 is not in the list.\n",
      "42 is not in the list.\n",
      "43 is not in the list.\n",
      "44 is not in the list.\n",
      "46 is not in the list.\n",
      "47 is not in the list.\n",
      "48 is not in the list.\n",
      "49 is not in the list.\n"
     ]
    }
   ],
   "source": [
    "list_of_c = []\n",
    "for triple in pythagorean(50):\n",
    "    if triple[2] not in list_of_c:\n",
    "        list_of_c.append(triple[2])\n",
    "for n in range(1,51):\n",
    "    if n not in list_of_c:\n",
    "        print(n,'is not in the list.')"
   ]
  }
 ],
 "metadata": {
  "kernelspec": {
   "display_name": "Python 3",
   "language": "python",
   "name": "python3"
  },
  "language_info": {
   "codemirror_mode": {
    "name": "ipython",
    "version": 3
   },
   "file_extension": ".py",
   "mimetype": "text/x-python",
   "name": "python",
   "nbconvert_exporter": "python",
   "pygments_lexer": "ipython3",
   "version": "3.4.3"
  }
 },
 "nbformat": 4,
 "nbformat_minor": 0
}
