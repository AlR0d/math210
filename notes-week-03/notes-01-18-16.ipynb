{
 "cells": [
  {
   "cell_type": "markdown",
   "metadata": {},
   "source": [
    "**IMPORTANT:** Make sure the kernel is set to Python 3\n",
    "\n",
    "---\n",
    "\n",
    "# MATH 210 Introduction to Mathematical Computing\n",
    "\n",
    "## January 18, 2016\n",
    "\n",
    "Today's Agenda:\n",
    "\n",
    "1. Writing comments in Python code\n",
    "2. Function documentation strings\n",
    "3. `while` loops\n",
    "4. Exercises\n",
    "\n",
    "For more exercises, check out [Project Euler](https://projecteuler.net/)."
   ]
  },
  {
   "cell_type": "markdown",
   "metadata": {},
   "source": [
    "## 1. Writing Comments in Python Code\n",
    "\n",
    "It is good practice to write comments within your Python code to explain what your code is doing. It is not enough for your code to make sense to you; your code must be clear to anyone who is reading it!\n",
    "\n",
    "Use the symbol `#` to turn a line of Python code into a comment. For example, let's construct the list of positive integers less than (or equal to) 200 which are multiples of either 7 or 11."
   ]
  },
  {
   "cell_type": "code",
   "execution_count": 1,
   "metadata": {
    "collapsed": false
   },
   "outputs": [
    {
     "name": "stdout",
     "output_type": "stream",
     "text": [
      "[7, 11, 14, 21, 22, 28, 33, 35, 42, 44, 49, 55, 56, 63, 66, 70, 77, 84, 88, 91, 98, 99, 105, 110, 112, 119, 121, 126, 132, 133, 140, 143, 147, 154, 161, 165, 168, 175, 176, 182, 187, 189, 196, 198]\n"
     ]
    }
   ],
   "source": [
    "# Initialize the list of multiples of 7 and 11\n",
    "multiples_of_7_and_11 = []\n",
    "\n",
    "# Write a for loop over all the integers up to 200\n",
    "for integer in range(1,201):\n",
    "    # Test if the integer is a multiple of 7 or 11\n",
    "    if ((integer % 7 == 0) or (integer % 11 == 0)):\n",
    "        # Append the integer to the list of multiples\n",
    "        multiples_of_7_and_11.append(integer)\n",
    "        \n",
    "# Print the list when the loop is complete\n",
    "print(multiples_of_7_and_11)"
   ]
  },
  {
   "cell_type": "markdown",
   "metadata": {},
   "source": [
    "## 2. Function Documentation Strings\n",
    "\n",
    "In the definition of a function, the documentation string is a string written directly following the first line containing the `def` keyword. The following is taken from the Python 3 tutorial about [documentation strings](https://docs.python.org/3/tutorial/controlflow.html#documentation-strings):\n",
    "\n",
    "> The first line should always be a short, concise summary of the object’s purpose. For brevity, it should not explicitly state the object’s name or type, since these are available by other means (except if the name happens to be a verb describing a function’s operation). This line should begin with a capital letter and end with a period.\n",
    "\n",
    "> If there are more lines in the documentation string, the second line should be blank, visually separating the summary from the rest of the description. The following lines should be one or more paragraphs describing the object’s calling conventions, its side effects, etc.\n",
    "\n",
    "Note that we can write a long string over several lines using triple quotes `'''`."
   ]
  },
  {
   "cell_type": "code",
   "execution_count": 2,
   "metadata": {
    "collapsed": true
   },
   "outputs": [],
   "source": [
    "def mean(x,y):\n",
    "    \"Compute the mean of x and y.\"\n",
    "    return (x+y)/2"
   ]
  },
  {
   "cell_type": "markdown",
   "metadata": {},
   "source": [
    "And we can access the documentation string using the question mark `?`."
   ]
  },
  {
   "cell_type": "code",
   "execution_count": 3,
   "metadata": {
    "collapsed": true
   },
   "outputs": [],
   "source": [
    "mean?"
   ]
  },
  {
   "cell_type": "markdown",
   "metadata": {},
   "source": [
    "Try this on Python's built-in functions:"
   ]
  },
  {
   "cell_type": "code",
   "execution_count": 4,
   "metadata": {
    "collapsed": true
   },
   "outputs": [],
   "source": [
    "len?"
   ]
  },
  {
   "cell_type": "code",
   "execution_count": 5,
   "metadata": {
    "collapsed": true
   },
   "outputs": [],
   "source": [
    "int?"
   ]
  },
  {
   "cell_type": "markdown",
   "metadata": {},
   "source": [
    "Or we can use the help function `help()`"
   ]
  },
  {
   "cell_type": "code",
   "execution_count": 6,
   "metadata": {
    "collapsed": false
   },
   "outputs": [],
   "source": [
    "type?"
   ]
  },
  {
   "cell_type": "code",
   "execution_count": 7,
   "metadata": {
    "collapsed": false
   },
   "outputs": [],
   "source": [
    "abs?"
   ]
  },
  {
   "cell_type": "markdown",
   "metadata": {},
   "source": [
    "Let's define a long documentation string using triple quotes `'''`."
   ]
  },
  {
   "cell_type": "code",
   "execution_count": 8,
   "metadata": {
    "collapsed": true
   },
   "outputs": [],
   "source": [
    "def determinant(matrix):\n",
    "    '''Compute the determinant of a 2 by 2 matrix.\n",
    "    \n",
    "    Input: list\n",
    "    A Python list [a,b,c,d] to represent the matrix [a,b;c,d]\n",
    "    Output: number\n",
    "    The determinant a*d-b*c\n",
    "    '''\n",
    "    return matrix[0] * matrix[3] - matrix[1] * matrix[2]"
   ]
  },
  {
   "cell_type": "code",
   "execution_count": 9,
   "metadata": {
    "collapsed": true
   },
   "outputs": [],
   "source": [
    "determinant?"
   ]
  },
  {
   "cell_type": "markdown",
   "metadata": {},
   "source": [
    "Let's use the function `determinant` to computer the determinant of $\\begin{bmatrix} 2 & 3 \\\\ -1 & 1 \\end{bmatrix}$ and also $\\begin{bmatrix} 1 & -1 \\\\ -2 & 4 \\end{bmatrix}$:"
   ]
  },
  {
   "cell_type": "code",
   "execution_count": 10,
   "metadata": {
    "collapsed": false
   },
   "outputs": [
    {
     "data": {
      "text/plain": [
       "5"
      ]
     },
     "execution_count": 10,
     "metadata": {},
     "output_type": "execute_result"
    }
   ],
   "source": [
    "determinant([2,3,-1,1])"
   ]
  },
  {
   "cell_type": "code",
   "execution_count": 11,
   "metadata": {
    "collapsed": false
   },
   "outputs": [
    {
     "data": {
      "text/plain": [
       "2"
      ]
     },
     "execution_count": 11,
     "metadata": {},
     "output_type": "execute_result"
    }
   ],
   "source": [
    "determinant([1,-1,-2,4])"
   ]
  },
  {
   "cell_type": "markdown",
   "metadata": {},
   "source": [
    "## 3. `while` loops"
   ]
  },
  {
   "cell_type": "markdown",
   "metadata": {},
   "source": [
    "The syntax for writing a `while` loop is the following:\n",
    "\n",
    "```python\n",
    "while expression:\n",
    "    Python code\n",
    "    Python code\n",
    "```"
   ]
  },
  {
   "cell_type": "markdown",
   "metadata": {},
   "source": [
    "The loop will continue to execute its block of code until the expression evaluates to `False`. **BE CAREFUL TO AVOID INFINITE LOOPS!!!** If you create an infinite loop, interupt and restart the kernel (click the Stop button and then the Restart button in the toolbar)."
   ]
  },
  {
   "cell_type": "code",
   "execution_count": 12,
   "metadata": {
    "collapsed": false
   },
   "outputs": [
    {
     "name": "stdout",
     "output_type": "stream",
     "text": [
      "10!\n",
      "9!\n",
      "8!\n",
      "7!\n",
      "6!\n",
      "5!\n",
      "4!\n",
      "3!\n",
      "2!\n",
      "1!\n",
      "Blast off!\n"
     ]
    }
   ],
   "source": [
    "n = 10\n",
    "while n > 0:\n",
    "    print(str(n) + '!')\n",
    "    n = n - 1\n",
    "print('Blast off!')"
   ]
  },
  {
   "cell_type": "markdown",
   "metadata": {},
   "source": [
    "**Exercise 1.** Consider the sequence defined by the recursive formula\n",
    "$$\n",
    "\\begin{align*}\n",
    "x_0 &= 1 \\\\\n",
    "x_n &= \\sqrt{ 1 + x_{n-1} }\n",
    "\\end{align*}\n",
    "$$\n",
    "\n",
    "* Compute the limit $L = \\lim_{n \\to \\infty} x_n$\n",
    "* Find the smallest $n$ such that $x_n > 1.6$\n",
    "* Find the largest $n$ such that $x_n < 1.61803$"
   ]
  },
  {
   "cell_type": "markdown",
   "metadata": {},
   "source": [
    "First of all, let's compute the limit of the sequence. Let $L = \\lim_{n \\to \\infty} x_n$ and compute\n",
    "$$\n",
    "\\begin{align*}\n",
    "x_n &= \\sqrt{ 1 + x_{n-1} } \\\\\n",
    "\\lim_{n \\to \\infty} x_n &= \\lim_{n \\to \\infty} \\sqrt{ 1 + x_{n-1} } \\\\\n",
    "\\lim_{n \\to \\infty} x_n &= \\sqrt{ 1 + \\lim_{n \\to \\infty} x_{n-1} } \\\\\n",
    "L &= \\sqrt{ 1 + L } \\\\\n",
    "L^2 &= 1 + L \\\\\n",
    "L^2 - L - 1 &= 0 \\\\\n",
    "L &= \\frac{ 1 \\pm \\sqrt{5}}{2}\n",
    "\\end{align*}\n",
    "$$\n",
    "threfore $L = \\frac{ 1 + \\sqrt{5}}{2}$ since $L > 0$."
   ]
  },
  {
   "cell_type": "code",
   "execution_count": 13,
   "metadata": {
    "collapsed": false
   },
   "outputs": [
    {
     "data": {
      "text/plain": [
       "1.618033988749895"
      ]
     },
     "execution_count": 13,
     "metadata": {},
     "output_type": "execute_result"
    }
   ],
   "source": [
    "(1 + 5 ** 0.5)/2"
   ]
  },
  {
   "cell_type": "markdown",
   "metadata": {},
   "source": [
    "Use a `while` loop to find the smallest $n$ such that $x_n > 1.6$:"
   ]
  },
  {
   "cell_type": "code",
   "execution_count": 14,
   "metadata": {
    "collapsed": false
   },
   "outputs": [
    {
     "name": "stdout",
     "output_type": "stream",
     "text": [
      "n = 0 , x_n = 1\n",
      "n = 1 , x_n = 1.4142135623730951\n",
      "n = 2 , x_n = 1.5537739740300374\n",
      "n = 3 , x_n = 1.5980531824786175\n",
      "n = 4 , x_n = 1.6118477541252516\n"
     ]
    }
   ],
   "source": [
    "# Define the first number in the sequence\n",
    "x_n = 1\n",
    "n = 0\n",
    "while x_n <= 1.6:\n",
    "    print('n =',n,', x_n =',x_n)\n",
    "    # Compute the next number in the sequnce and increment n by 1\n",
    "    x_n = (1 + x_n) ** 0.5\n",
    "    n = n + 1\n",
    "# Print the value x_n and index n for the first number greater than 1.6\n",
    "print('n =',n,', x_n =',x_n)"
   ]
  },
  {
   "cell_type": "markdown",
   "metadata": {},
   "source": [
    "## 4. Exercises"
   ]
  },
  {
   "cell_type": "markdown",
   "metadata": {
    "collapsed": true
   },
   "source": [
    "**Exercise 2.** A Collatz sequence (see the [Collatz Conjecture](https://en.wikipedia.org/wiki/Collatz_conjecture)) is defined as follows. Given a starting integer $a$, the sequence is defined by:\n",
    "\n",
    "$$\n",
    "\\begin{align*}\n",
    "x_0 &= a \\\\\n",
    "x_n &= \\left\\{ \\begin{matrix} x_n / 2 & x_n \\text{ odd} \\\\ 3 x_n + 1 & x_n \\text{ even} \\end{matrix} \\right.\n",
    "\\end{align*}\n",
    "$$\n",
    "\n",
    "The Collatz conjecture states that every such sequence arrives at 1.\n",
    "\n",
    "* Write a function called `collatz` which takes an integer `a` and returns the Collatz sequence starting with $x_0 = a$ (terminated when it reaches 1).\n",
    "* Use the function `collatz` to find the length (and initial value $a$) of the longest Collatz sequence for $a \\leq 1000$.\n",
    "\n",
    "For example, `collatz(13)` return the list `[13,40,20,10,5,16,8,4,2,1]`."
   ]
  },
  {
   "cell_type": "markdown",
   "metadata": {},
   "source": [
    "**More Exercises.** Check out [Project Euler](http://projecteuler.net)."
   ]
  }
 ],
 "metadata": {
  "kernelspec": {
   "display_name": "Python 3",
   "language": "python",
   "name": "python3"
  },
  "language_info": {
   "codemirror_mode": {
    "name": "ipython",
    "version": 3
   },
   "file_extension": ".py",
   "mimetype": "text/x-python",
   "name": "python",
   "nbconvert_exporter": "python",
   "pygments_lexer": "ipython3",
   "version": "3.4.3"
  }
 },
 "nbformat": 4,
 "nbformat_minor": 0
}
