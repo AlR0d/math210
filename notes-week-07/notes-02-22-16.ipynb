{
 "cells": [
  {
   "cell_type": "markdown",
   "metadata": {},
   "source": [
    "# MATH 210 Introduction to Mathematical Computing\n",
    "\n",
    "## February 22, 2016\n",
    "\n",
    "Today's Agenda:\n",
    "\n",
    "1. More about functions:\n",
    "    * Defining functions with parameters that have default values\n",
    "    * Calling functions with positional arguments or keyword arguments\n",
    "2. Approximating definite integrals with `scipy.integrate`\n",
    "3. Exercises"
   ]
  },
  {
   "cell_type": "code",
   "execution_count": 1,
   "metadata": {
    "collapsed": true
   },
   "outputs": [],
   "source": [
    "import numpy as np\n",
    "import matplotlib.pyplot as plt\n",
    "%matplotlib inline"
   ]
  },
  {
   "cell_type": "markdown",
   "metadata": {},
   "source": [
    "## 1. More about functions\n",
    "\n",
    "Be sure to read the section on [defining functions](https://docs.python.org/3/tutorial/controlflow.html#defining-functions) in the Python tutorial.\n",
    "\n",
    "### Defining functions with default values\n",
    "\n",
    "Look closely at the documentation string for the `numpy` function `linspace`:"
   ]
  },
  {
   "cell_type": "code",
   "execution_count": 2,
   "metadata": {
    "collapsed": true
   },
   "outputs": [],
   "source": [
    "np.linspace?"
   ]
  },
  {
   "cell_type": "markdown",
   "metadata": {},
   "source": [
    "The **variable names** in the **function definition** are called function **parameters**. But notice that there are 4 parameters with **default values**:\n",
    "\n",
    "* `num` is the number of points in the array (default value is `50`)\n",
    "* `endpoint` determines if the value `stop` is included as the last entry (default is `True`)\n",
    "* `retstep` determines if the function returns a tuple of length 2 including the array and the step value instead of just the array on its own (default is `False`)\n",
    "* `dtype` allows the user to specify the datatype of the entries (default is `False` which means that the function chooses what it thinks you want)\n",
    "\n",
    "This means that when we call the function, we **must** input 2 values for the parameters `start` and `stop` but the others are optional and we can change their default values if we choose."
   ]
  },
  {
   "cell_type": "markdown",
   "metadata": {},
   "source": [
    "For example, if we don't specify `num`, then we get an array with 50 points"
   ]
  },
  {
   "cell_type": "code",
   "execution_count": 3,
   "metadata": {
    "collapsed": false
   },
   "outputs": [
    {
     "name": "stdout",
     "output_type": "stream",
     "text": [
      "[  1.   2.   3.   4.   5.   6.   7.   8.   9.  10.  11.  12.  13.  14.  15.\n",
      "  16.  17.  18.  19.  20.  21.  22.  23.  24.  25.  26.  27.  28.  29.  30.\n",
      "  31.  32.  33.  34.  35.  36.  37.  38.  39.  40.  41.  42.  43.  44.  45.\n",
      "  46.  47.  48.  49.  50.]\n"
     ]
    }
   ],
   "source": [
    "arr = np.linspace(1,50)\n",
    "print(arr)"
   ]
  },
  {
   "cell_type": "markdown",
   "metadata": {},
   "source": [
    "Or we can pass in arguments for all the parameters:"
   ]
  },
  {
   "cell_type": "code",
   "execution_count": 4,
   "metadata": {
    "collapsed": false
   },
   "outputs": [
    {
     "name": "stdout",
     "output_type": "stream",
     "text": [
      "(array([ 0,  5, 10, 15, 20, 25, 30, 35, 40, 45]), 5.0)\n"
     ]
    }
   ],
   "source": [
    "arr2 = np.linspace(0,50,10,False,True,int)\n",
    "print(arr2)"
   ]
  },
  {
   "cell_type": "markdown",
   "metadata": {},
   "source": [
    "### Calling functions with positional arguements or keyword arguments\n",
    "\n",
    "Notice that we called the function `np.linspace` in the previous cell above by specifying values for all the input parameters and we had to **keep track of the order in which they were entered**. This means we called the function with **positional arguments**: the first argument is the starting point, the second argument is the end point, the third argument is `num`, the fourth is `endpoint`, the fifth is `retstep`, and the sixth is `dtype`.\n",
    "\n",
    "What if we don't want to have to remember the order? More importantly, what if we want to call the function but **only** enter values to change some default values but not all? Do we have to enter values for all the arguments?\n",
    "\n",
    "No! We can call the function with **keyword arguments**. This just means that we call the function with the parameters names in the function call:"
   ]
  },
  {
   "cell_type": "code",
   "execution_count": 5,
   "metadata": {
    "collapsed": false
   },
   "outputs": [
    {
     "name": "stdout",
     "output_type": "stream",
     "text": [
      "[ 1  2  3  4  5  6  7  8  9 10 11 12 13 14 15 16 17 18 19 20 21 22 23 24 25\n",
      " 26 27 28 29 30 31 32 33 34 35 36 37 38 39 40 41 42 43 44 45 46 47 48 49 50]\n"
     ]
    }
   ],
   "source": [
    "arr3 = np.linspace(1,50,dtype=int)\n",
    "print(arr3)"
   ]
  },
  {
   "cell_type": "markdown",
   "metadata": {},
   "source": [
    "In fact, we can use keywords for all the arguments and the order doesn't matter!"
   ]
  },
  {
   "cell_type": "code",
   "execution_count": 6,
   "metadata": {
    "collapsed": false
   },
   "outputs": [
    {
     "name": "stdout",
     "output_type": "stream",
     "text": [
      "[ 0  4  8 12 16 20]\n"
     ]
    }
   ],
   "source": [
    "arr4 = np.linspace(stop=20,dtype=int,retstep=False,start=0,num=6,endpoint=True)\n",
    "print(arr4)"
   ]
  },
  {
   "cell_type": "markdown",
   "metadata": {},
   "source": [
    "But usually, we call the function with a **mix of positional arguments and keyword arguments**:"
   ]
  },
  {
   "cell_type": "code",
   "execution_count": 7,
   "metadata": {
    "collapsed": false
   },
   "outputs": [
    {
     "name": "stdout",
     "output_type": "stream",
     "text": [
      "[0 1 2 3 4 5 6 7 8 9]\n"
     ]
    }
   ],
   "source": [
    "arr5 = np.linspace(0,10,10,endpoint=False,dtype=int)\n",
    "print(arr5)"
   ]
  },
  {
   "cell_type": "markdown",
   "metadata": {
    "collapsed": true
   },
   "source": [
    "## 2. Approximating definite integrals with `scipy.integrate`\n",
    "\n",
    "See the notebook in `projects` folder to see an introduction to [`scipy.integrate`](http://docs.scipy.org/doc/scipy/reference/integrate.html)."
   ]
  },
  {
   "cell_type": "markdown",
   "metadata": {},
   "source": [
    "## 3. Exercises"
   ]
  },
  {
   "cell_type": "markdown",
   "metadata": {},
   "source": [
    "**Exercise.** Define a function called `my_int` with three parameters `y`, `x` and `method` (in that order) such that:\n",
    "* `y` and `x` are arrays of the same size which represent the values of a function $y = f(x)$ over the interval $[a,b]$\n",
    "* the first entry of `x` is the value $a$ and the last entry of `x` is the value $b$ (and the first and last entries of `y` are $f(a)$ and $f(b)$ respectively)\n",
    "* `method` is one of the strings `trapz` or `simps` (with **default value** `trapz`)\n",
    "* `my_int` returns the approximation of $\\int_a^b f(x) \\, dx$ using the method determined by `method`"
   ]
  },
  {
   "cell_type": "markdown",
   "metadata": {},
   "source": [
    "**Exercise.** Approximate the following definite integrals using all three methods `trapz`, `simps` and `quad`:\n",
    "\n",
    "$$\\int_0^{\\pi} e^{\\sin x} dx$$\n",
    "\n",
    "$$\\int_{-\\pi}^{\\pi} \\frac{\\sin x}{x} dx$$"
   ]
  },
  {
   "cell_type": "markdown",
   "metadata": {},
   "source": [
    "**Exercise.** (a) Write $\\LaTeX \\ $ code to display the definition of the Gamma function:\n",
    "\n",
    "![gamme](https://upload.wikimedia.org/math/6/0/3/603515ff4df2cb431387e92bb6419c66.png)\n",
    "\n",
    "(b) Define a function called `gamma_fun` with 2 parameters `t` and `b` which returns the value of the (partial) Gamma function\n",
    "\n",
    "$$\n",
    "\\int_0^b x^{t-1} e^{-x} dx\n",
    "$$\n",
    "\n",
    "and such that `b` has the **default value** $10$."
   ]
  }
 ],
 "metadata": {
  "kernelspec": {
   "display_name": "Python 3",
   "language": "python",
   "name": "python3"
  },
  "language_info": {
   "codemirror_mode": {
    "name": "ipython",
    "version": 3
   },
   "file_extension": ".py",
   "mimetype": "text/x-python",
   "name": "python",
   "nbconvert_exporter": "python",
   "pygments_lexer": "ipython3",
   "version": "3.4.3"
  }
 },
 "nbformat": 4,
 "nbformat_minor": 0
}
