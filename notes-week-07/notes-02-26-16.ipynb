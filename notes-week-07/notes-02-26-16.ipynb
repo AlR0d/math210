{
 "cells": [
  {
   "cell_type": "markdown",
   "metadata": {},
   "source": [
    "# MATH 210 Introduction to Mathematical Computing\n",
    "\n",
    "## February 26, 2016\n",
    "\n",
    "Today's Agenda:\n",
    "\n",
    "1. Ordinary Differential Equations\n",
    "2. Approximating Solutions of ODEs with `scipy.integrate.odeint`"
   ]
  },
  {
   "cell_type": "markdown",
   "metadata": {},
   "source": [
    "## 1. Odinary Differential Equations\n",
    "\n",
    "An **ordinary differential equation** is an equation involving an unknown function $y$ and its derivatives $y'$, $y''$, $y'''$, etc. The term *ordinary* implies that the unknown function is a function of one variable (usually denoted $t$) as opposed to several variables. The **order** of an ODE is the highest order derivative of $y$ appearing in the equation.\n",
    "\n",
    "For example, the equation $y' = y$ is a first order ODE, and the equation $y''+y=t$ is a second order ODE.\n",
    "\n",
    "### First Order ODEs\n",
    "\n",
    "Given a first order ODE, we usually write it in the form\n",
    "\n",
    "$$\n",
    "y' = f(y,t)\n",
    "$$\n",
    "\n",
    "where the right side is some function $f$ involving $y$ and $t$.\n",
    "\n",
    "Some first order ODEs are easy to solve. For example, the general solution of $y' = y$ is $y(t) = Ce^{t}$ where $C$ is a constant.\n",
    "\n",
    "Other ODEs are impossible to solve in closed form (ie. in terms of elementary functions). For example, the equation $y' = e^{-t^2}$ has no closed form solution since $y(t) = \\int_0^t e^{-x^2} \\, dx + y(0)$ and the Gaussian has no closed form solution."
   ]
  },
  {
   "cell_type": "markdown",
   "metadata": {},
   "source": [
    "## 2. Using `scipy.integrate.odeint`\n",
    "\n",
    "SciPy's main ODE solver is `scipy.integrate.odeint` and is based on an established FORTRAN library. Let's import all the necessary packages and then look at the documentation for `odeint`."
   ]
  },
  {
   "cell_type": "code",
   "execution_count": 1,
   "metadata": {
    "collapsed": true
   },
   "outputs": [],
   "source": [
    "import scipy.integrate as spi\n",
    "import numpy as np\n",
    "import matplotlib.pyplot as plt\n",
    "%matplotlib inline"
   ]
  },
  {
   "cell_type": "code",
   "execution_count": 2,
   "metadata": {
    "collapsed": true
   },
   "outputs": [],
   "source": [
    "spi.odeint?"
   ]
  },
  {
   "cell_type": "markdown",
   "metadata": {},
   "source": [
    "From the documentation, we see that we first need to define a function `f` which gives $f(y,t)$ on the right hand side of our ODE. The first three mandatory inputs are then the function `f`, initial condition $y(t_0)=y_0$ and an array `t` of $t$ values where the first entry in `t` is $t_0$.F Finally, the return value of `odeint` (for scalar ODEs) is simply the array `y` of $y$ values corresponding to the $t$ values in the array `t`."
   ]
  },
  {
   "cell_type": "markdown",
   "metadata": {},
   "source": [
    "**Example.** Let's use `odeint` to approximate the solution of $y'=y$ with $y(0)=1$ over the interval $[0,2]$. Let's plot the result and compare it to the true solution $y=e^t$.\n",
    "\n",
    "First, we need to define the function `f` appearing on the right side of the equation which is $f(y,t) = y$, and then we input `f`, the initial condition `y0` and the array of $t$ values `t`."
   ]
  },
  {
   "cell_type": "code",
   "execution_count": 28,
   "metadata": {
    "collapsed": false
   },
   "outputs": [
    {
     "data": {
      "image/png": "[encoded data removed]",
      "text/plain": [
       "<matplotlib.figure.Figure at 0x109e2b6d8>"
      ]
     },
     "metadata": {},
     "output_type": "display_data"
    }
   ],
   "source": [
    "# Right side of ODE y' = y\n",
    "def f(y,t):\n",
    "    return y\n",
    "\n",
    "# Initial condition\n",
    "y0 = 1\n",
    "\n",
    "# Array of t values over interval [0,2]\n",
    "t = np.linspace(0,2,50)\n",
    "\n",
    "# Compute the approximation\n",
    "y = spi.odeint(f,y0,t)\n",
    "\n",
    "# Compute values of the true solution y = e^t\n",
    "y1 = np.exp(t)\n",
    "\n",
    "# Plot the approximation y along with the true solution y1 (as red dots)\n",
    "plt.plot(t,y,t,y1,'r.')\n",
    "plt.show()"
   ]
  },
  {
   "cell_type": "markdown",
   "metadata": {},
   "source": [
    "The approximation looks pretty close to the true solution!"
   ]
  },
  {
   "cell_type": "markdown",
   "metadata": {},
   "source": [
    "**Example.** Use `odeint` to plot an approximation of $y'=y^2-t$ for $y(0)=0$ over the interval $[0,1]$."
   ]
  },
  {
   "cell_type": "code",
   "execution_count": 5,
   "metadata": {
    "collapsed": false
   },
   "outputs": [
    {
     "data": {
      "image/png": "[encoded data removed]",
      "text/plain": [
       "<matplotlib.figure.Figure at 0x108a9b0b8>"
      ]
     },
     "metadata": {},
     "output_type": "display_data"
    }
   ],
   "source": [
    "def f(y,t):\n",
    "    return y**2 - t\n",
    "\n",
    "y0 = 1\n",
    "t = np.linspace(0,1,92)\n",
    "y = spi.odeint(f,y0,t)\n",
    "\n",
    "plt.plot(t,y)\n",
    "plt.show()"
   ]
  },
  {
   "cell_type": "markdown",
   "metadata": {},
   "source": [
    "Now let's plot solutions for various initial conditions $y(0)=-20,-19, \\dots, -1, 0, 0.1, 0.2, \\dots, 1$."
   ]
  },
  {
   "cell_type": "code",
   "execution_count": 6,
   "metadata": {
    "collapsed": false
   },
   "outputs": [
    {
     "data": {
      "image/png": "[encoded data removed]",
      "text/plain": [
       "<matplotlib.figure.Figure at 0x108a93048>"
      ]
     },
     "metadata": {},
     "output_type": "display_data"
    }
   ],
   "source": [
    "def f(y,t):\n",
    "    return y**2 - t\n",
    "\n",
    "t = np.linspace(0,1,100)\n",
    "\n",
    "for y0 in range(-20,0):\n",
    "    y = spi.odeint(f,y0,t)\n",
    "    plt.plot(t,y,'b')\n",
    "\n",
    "for y0 in np.arange(0,1,0.1):\n",
    "    y = spi.odeint(f,y0,t)\n",
    "    plt.plot(t,y,'b')\n",
    "\n",
    "plt.show()"
   ]
  },
  {
   "cell_type": "markdown",
   "metadata": {},
   "source": [
    "**Example.** Plot an approximation to the solution of the equation $y' = \\frac{e^{-t^2}}{\\sqrt{\\pi}}$ with $y(0) = 1/2$ over the interval $[-3,3]$.\n",
    "\n",
    "To plot over the interval $[-3,3]$ given the initial condition at $t=0$, we can solve for both interval $[-3,0]$ and $[0,3]$ and the plot the two results together."
   ]
  },
  {
   "cell_type": "code",
   "execution_count": 7,
   "metadata": {
    "collapsed": false
   },
   "outputs": [
    {
     "data": {
      "image/png": "[encoded data removed]",
      "text/plain": [
       "<matplotlib.figure.Figure at 0x108ade748>"
      ]
     },
     "metadata": {},
     "output_type": "display_data"
    }
   ],
   "source": [
    "def f(y,t):\n",
    "    return np.exp(-t**2) / np.sqrt(np.pi)\n",
    "\n",
    "y0 = 0.5\n",
    "\n",
    "t = np.linspace(0,3,1000)\n",
    "\n",
    "y1 = spi.odeint(f,y0,t)\n",
    "y2 = spi.odeint(f,y0,-t)\n",
    "\n",
    "plt.plot(t,y1,'b',-t,y2,'b')\n",
    "plt.ylim([-1,2])\n",
    "\n",
    "plt.show()"
   ]
  },
  {
   "cell_type": "markdown",
   "metadata": {
    "collapsed": true
   },
   "source": [
    "## 3. Exercises"
   ]
  },
  {
   "cell_type": "markdown",
   "metadata": {},
   "source": [
    "**Exercise.** Use `odeint` to plot an approximation of the solution of $y' = \\sin y$ for $t \\in [0,5]$ for several initial conditions $y(0) = -5, -4, \\dots , 3, 4, 5$."
   ]
  },
  {
   "cell_type": "markdown",
   "metadata": {},
   "source": [
    "**Exercise.** Use `odeint` to plot an approximation of the solution of $y'=yt$ for $y(-3)=1$ for $t \\in [-3,3]$ and compare it to the true solution."
   ]
  },
  {
   "cell_type": "markdown",
   "metadata": {},
   "source": [
    "**Exercise.** Use `odeint` to plot an approximation of the solution of $y' = y + t^2$ over the interval $t \\in [0,3]$ for $y(0)=-1$."
   ]
  }
 ],
 "metadata": {
  "kernelspec": {
   "display_name": "Python 3",
   "language": "python",
   "name": "python3"
  },
  "language_info": {
   "codemirror_mode": {
    "name": "ipython",
    "version": 3
   },
   "file_extension": ".py",
   "mimetype": "text/x-python",
   "name": "python",
   "nbconvert_exporter": "python",
   "pygments_lexer": "ipython3",
   "version": "3.4.3"
  }
 },
 "nbformat": 4,
 "nbformat_minor": 0
}
