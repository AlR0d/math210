{
 "cells": [
  {
   "cell_type": "markdown",
   "metadata": {},
   "source": [
    "# MATH 210 Introduction to Mathematical Computing\n",
    "\n",
    "## February 24, 2016\n",
    "\n",
    "Today's Agenda:\n",
    "\n",
    "1. Unpacking lists and tuples\n",
    "2. Integration with `scipy.integrate`\n",
    "3. Exercises"
   ]
  },
  {
   "cell_type": "markdown",
   "metadata": {},
   "source": [
    "## 1. Unpacking lists and tuples\n",
    "\n",
    "### Tuples\n",
    "\n",
    "A Python **tuple** is like a list but it had a few technical differences. The major difference is that tuples are **immutable**. This means that we **cannot** change the entries of a tuple, or append to a tuple once it's been defined.\n",
    "\n",
    "We use parentheses to define tuples and so let's define a tuple and then try to modify it. Error!"
   ]
  },
  {
   "cell_type": "code",
   "execution_count": 1,
   "metadata": {
    "collapsed": false
   },
   "outputs": [
    {
     "name": "stdout",
     "output_type": "stream",
     "text": [
      "(1, 2, 3)\n"
     ]
    }
   ],
   "source": [
    "my_tuple = (1,2,3)\n",
    "print(my_tuple)"
   ]
  },
  {
   "cell_type": "code",
   "execution_count": 2,
   "metadata": {
    "collapsed": false
   },
   "outputs": [
    {
     "data": {
      "text/plain": [
       "tuple"
      ]
     },
     "execution_count": 2,
     "metadata": {},
     "output_type": "execute_result"
    }
   ],
   "source": [
    "type(my_tuple)"
   ]
  },
  {
   "cell_type": "code",
   "execution_count": 3,
   "metadata": {
    "collapsed": false
   },
   "outputs": [
    {
     "data": {
      "text/plain": [
       "1"
      ]
     },
     "execution_count": 3,
     "metadata": {},
     "output_type": "execute_result"
    }
   ],
   "source": [
    "my_tuple[0]"
   ]
  },
  {
   "cell_type": "code",
   "execution_count": 5,
   "metadata": {
    "collapsed": false
   },
   "outputs": [
    {
     "ename": "TypeError",
     "evalue": "'tuple' object does not support item assignment",
     "output_type": "error",
     "traceback": [
      "\u001b[0;31m---------------------------------------------------------------------------\u001b[0m",
      "\u001b[0;31mTypeError\u001b[0m                                 Traceback (most recent call last)",
      "\u001b[0;32m<ipython-input-5-d89e02797c78>\u001b[0m in \u001b[0;36m<module>\u001b[0;34m()\u001b[0m\n\u001b[0;32m----> 1\u001b[0;31m \u001b[0mmy_tuple\u001b[0m\u001b[0;34m[\u001b[0m\u001b[0;36m0\u001b[0m\u001b[0;34m]\u001b[0m \u001b[0;34m=\u001b[0m \u001b[0;36m5\u001b[0m\u001b[0;34m\u001b[0m\u001b[0m\n\u001b[0m",
      "\u001b[0;31mTypeError\u001b[0m: 'tuple' object does not support item assignment"
     ]
    }
   ],
   "source": [
    "my_tuple[0] = 5"
   ]
  },
  {
   "cell_type": "code",
   "execution_count": 6,
   "metadata": {
    "collapsed": false
   },
   "outputs": [
    {
     "ename": "AttributeError",
     "evalue": "'tuple' object has no attribute 'append'",
     "output_type": "error",
     "traceback": [
      "\u001b[0;31m---------------------------------------------------------------------------\u001b[0m",
      "\u001b[0;31mAttributeError\u001b[0m                            Traceback (most recent call last)",
      "\u001b[0;32m<ipython-input-6-f2f40152e20d>\u001b[0m in \u001b[0;36m<module>\u001b[0;34m()\u001b[0m\n\u001b[0;32m----> 1\u001b[0;31m \u001b[0mmy_tuple\u001b[0m\u001b[0;34m.\u001b[0m\u001b[0mappend\u001b[0m\u001b[0;34m(\u001b[0m\u001b[0;36m5\u001b[0m\u001b[0;34m)\u001b[0m\u001b[0;34m\u001b[0m\u001b[0m\n\u001b[0m",
      "\u001b[0;31mAttributeError\u001b[0m: 'tuple' object has no attribute 'append'"
     ]
    }
   ],
   "source": [
    "my_tuple.append(5)"
   ]
  },
  {
   "cell_type": "markdown",
   "metadata": {},
   "source": [
    "### Unpacking\n",
    "\n",
    "To access the entries in a list or tuple, we usually use indices. But we can also **unpack** the entries of a list or tuple into variables. This is a special feature of Python (like list comprehensions) and you'll see this a lot in other people's code (especially in documentation). We're going to ues unpacking in the next section when we use `scipy.integrate.quad`."
   ]
  },
  {
   "cell_type": "code",
   "execution_count": 7,
   "metadata": {
    "collapsed": true
   },
   "outputs": [],
   "source": [
    "my_tuple2 = ('Math','Chemistry',3.14159)"
   ]
  },
  {
   "cell_type": "code",
   "execution_count": 8,
   "metadata": {
    "collapsed": false
   },
   "outputs": [
    {
     "name": "stdout",
     "output_type": "stream",
     "text": [
      "Math\n",
      "Chemistry\n",
      "3.14159\n"
     ]
    }
   ],
   "source": [
    "most_favourite, least_favourite, pi = my_tuple2\n",
    "print(most_favourite)\n",
    "print(least_favourite)\n",
    "print(pi)"
   ]
  },
  {
   "cell_type": "markdown",
   "metadata": {},
   "source": [
    "## 2. Integration with `scipy.integrate`"
   ]
  },
  {
   "cell_type": "code",
   "execution_count": 9,
   "metadata": {
    "collapsed": true
   },
   "outputs": [],
   "source": [
    "import numpy as np\n",
    "import scipy.integrate as spi\n",
    "import matplotlib.pyplot as plt\n",
    "%matplotlib inline"
   ]
  },
  {
   "cell_type": "markdown",
   "metadata": {},
   "source": [
    "**Example.** Let's approximate $\\int_0^{\\pi} \\sin x \\, dx$ using `scipy.integrate.trapz`. Recall, all we need to do is create arrays `y` and `x` which correspond to the $x$ and $y$ values of $\\sin x$ over the interval $[0,\\pi]$. (We can solve this easily and it's equal to 2.)"
   ]
  },
  {
   "cell_type": "code",
   "execution_count": 10,
   "metadata": {
    "collapsed": false
   },
   "outputs": [
    {
     "data": {
      "text/plain": [
       "1.9999983517708519"
      ]
     },
     "execution_count": 10,
     "metadata": {},
     "output_type": "execute_result"
    }
   ],
   "source": [
    "x = np.linspace(0,np.pi,1000)\n",
    "y = np.sin(x)\n",
    "spi.trapz(y,x)"
   ]
  },
  {
   "cell_type": "markdown",
   "metadata": {},
   "source": [
    "**Example.** Let's approximate the [Fresnel integral](https://en.wikipedia.org/wiki/Fresnel_integral) evaluated at $x = 2$\n",
    "\n",
    "$$\n",
    "\\int_0^2 \\sin t^2 \\, dt\n",
    "$$\n",
    "\n",
    "using `scipy.integrate.simps`."
   ]
  },
  {
   "cell_type": "code",
   "execution_count": 11,
   "metadata": {
    "collapsed": false
   },
   "outputs": [
    {
     "data": {
      "text/plain": [
       "0.80477649360903636"
      ]
     },
     "execution_count": 11,
     "metadata": {},
     "output_type": "execute_result"
    }
   ],
   "source": [
    "x = np.linspace(0,2,1000)\n",
    "y = np.sin(x**2)\n",
    "spi.simps(y,x)"
   ]
  },
  {
   "cell_type": "markdown",
   "metadata": {},
   "source": [
    "**Example.** Let's approximate both sides of the integral equation\n",
    "\n",
    "$$\n",
    "\\int_0^{\\infty} \\frac{ x^2 e^x }{ \\sqrt{ (e^x - 1)^3 } } \\, dx = 8 \\pi \\ln 2\n",
    "$$\n",
    "\n",
    "using `scipy.integrate.quad`. Recall, this function works slightly differently than `trapz` and `simps`. First of all, its (first three) parameters are a function `f` and two values `a` an `b` (the limits of integration), instead of arrays `y` and `x`. Second, the output is a tuple `(y,abserr)` where `y` is the approximation for the integral $\\int_a^b f(x) \\, dx$ and `abserr` is an estimate for the error of the approximation.\n",
    "\n",
    "This means that if we want to use `quad` we first need to define the function `f` and then we need to unpack the returned tuple."
   ]
  },
  {
   "cell_type": "code",
   "execution_count": 12,
   "metadata": {
    "collapsed": true
   },
   "outputs": [],
   "source": [
    "def f(x):\n",
    "    return x**2 * np.exp(x) / np.sqrt( (np.exp(x) - 1)**3 )"
   ]
  },
  {
   "cell_type": "code",
   "execution_count": 13,
   "metadata": {
    "collapsed": false
   },
   "outputs": [
    {
     "data": {
      "text/plain": [
       "(17.420688722431624, 1.7997925993995523e-07)"
      ]
     },
     "execution_count": 13,
     "metadata": {},
     "output_type": "execute_result"
    }
   ],
   "source": [
    "# Approximate the integral above over the interval [0,100]\n",
    "spi.quad(f,0,100)"
   ]
  },
  {
   "cell_type": "markdown",
   "metadata": {},
   "source": [
    "The first entry of the tuple that `quad` produces is the approximation for the integral and the second entry is an estimate for the error. Let's unpack the output into variables:"
   ]
  },
  {
   "cell_type": "code",
   "execution_count": 14,
   "metadata": {
    "collapsed": false
   },
   "outputs": [
    {
     "name": "stdout",
     "output_type": "stream",
     "text": [
      "17.420688722431624\n",
      "1.7997925993995523e-07\n"
     ]
    }
   ],
   "source": [
    "approximation, error = spi.quad(f,0,100)\n",
    "print(approximation)\n",
    "print(error)"
   ]
  },
  {
   "cell_type": "markdown",
   "metadata": {},
   "source": [
    "Now let's compute the true value of the infinite integral (the right hand side of the equation above):"
   ]
  },
  {
   "cell_type": "code",
   "execution_count": 15,
   "metadata": {
    "collapsed": false
   },
   "outputs": [
    {
     "name": "stdout",
     "output_type": "stream",
     "text": [
      "17.4206887224\n"
     ]
    }
   ],
   "source": [
    "true_value = 8 * np.pi * np.log(2)\n",
    "print(true_value)"
   ]
  },
  {
   "cell_type": "markdown",
   "metadata": {
    "collapsed": true
   },
   "source": [
    "Let's check if the approximation is indeed within the error estimate provided by `quad`:"
   ]
  },
  {
   "cell_type": "code",
   "execution_count": 16,
   "metadata": {
    "collapsed": false
   },
   "outputs": [
    {
     "data": {
      "text/plain": [
       "True"
      ]
     },
     "execution_count": 16,
     "metadata": {},
     "output_type": "execute_result"
    }
   ],
   "source": [
    "abs(approximation - true_value) < error"
   ]
  },
  {
   "cell_type": "markdown",
   "metadata": {},
   "source": [
    "## 3. Exercises"
   ]
  },
  {
   "cell_type": "markdown",
   "metadata": {},
   "source": [
    "**Exercise.** Use all three functions `trapz`, `simps` and `quad` to approximate the left side of the integral equation\n",
    "\n",
    "$$\n",
    "\\int_0^1 \\ln(x) \\ln(1-x) \\, dx = 2 - \\frac{\\pi^2}{6}\n",
    "$$\n",
    "\n",
    "and compare each with the right side. (Note that this is an improper integral since the integrand is not defined at 0 nor 1. To use `trapz` and `simps` consider using an array of $x$ values over an interval such as $[0.0001,0.9999]$.)"
   ]
  },
  {
   "cell_type": "markdown",
   "metadata": {},
   "source": [
    "**Exercise.** Use all three function `trapz`, `simps` and `quad` to approximate the left side of the integral equation\n",
    "\n",
    "$$\n",
    "\\int_0^{\\infty} \\frac{x^2}{\\sqrt{e^x - 1}} \\, dx = 4 \\pi \\left\\{ (\\ln 2)^2 + \\frac{\\pi^2}{12} \\right\\}\n",
    "$$\n",
    "\n",
    "and compare each with the right side. (Note this is an infinite integral therefore use a large interval such as $[0,100]$ for the approximation.)"
   ]
  },
  {
   "cell_type": "markdown",
   "metadata": {},
   "source": [
    "**Exercise.** Use all three function `trapz`, `simps` and `quad` to approximate the left side of the integral equation\n",
    "\n",
    "$$\n",
    "\\int_0^{\\pi/2} \\frac{x^3 \\cos x}{\\sin^3 x} \\, dx = \\frac{3}{2} \\pi \\ln 2 - \\frac{\\pi^3}{16}\n",
    "$$\n",
    "\n",
    "and compare each to the right side. (Note this is an improper integral since the integrand is not defined at $x=0$. Try using an interval such as $[0.0001,\\pi/2]$.)"
   ]
  },
  {
   "cell_type": "markdown",
   "metadata": {},
   "source": [
    "**Exercise.** Plot each of the functions appearing as the integrands in the integrals above."
   ]
  }
 ],
 "metadata": {
  "kernelspec": {
   "display_name": "Python 3",
   "language": "python",
   "name": "python3"
  },
  "language_info": {
   "codemirror_mode": {
    "name": "ipython",
    "version": 3
   },
   "file_extension": ".py",
   "mimetype": "text/x-python",
   "name": "python",
   "nbconvert_exporter": "python",
   "pygments_lexer": "ipython3",
   "version": "3.4.3"
  }
 },
 "nbformat": 4,
 "nbformat_minor": 0
}
