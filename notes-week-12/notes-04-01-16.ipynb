{
 "cells": [
  {
   "cell_type": "markdown",
   "metadata": {},
   "source": [
    "# MATH 210 Introduction to Mathematical Computing\n",
    "\n",
    "## April 1, 2016\n",
    "\n",
    "Today's Agenda:\n",
    "\n",
    "1. Example: Vancouver Airport Weather Data\n",
    "2. More groupby and DataFrame methods"
   ]
  },
  {
   "cell_type": "code",
   "execution_count": 1,
   "metadata": {
    "collapsed": true
   },
   "outputs": [],
   "source": [
    "import pandas as pd\n",
    "%matplotlib inline"
   ]
  },
  {
   "cell_type": "markdown",
   "metadata": {},
   "source": [
    "## 1. Example: Vancouver Airport Weather Data\n",
    "\n",
    "Historical weather data is available from [Environment and Climate Change Canada](http://climate.weather.gc.ca/) however the availability is limited. Luckily, the website [vancouver.weatherstats.ca](http://vancouver.weatherstats.ca/download.html) has compiled the historical data for the Vancouver Airport weather station and made the data available.\n",
    "\n",
    "I have downloaded and edited the weather data from January 1, 2010 to today and saved the data to `wind.csv`. Let's import the data is see some patterns in the weather! The data consists of hourly measurements for pressure (kPa), wind speed (km/h) and direction, and temperature (C) from 12AM January 1, 2010 to 11AM April 1, 2016. "
   ]
  },
  {
   "cell_type": "code",
   "execution_count": 2,
   "metadata": {
    "collapsed": false
   },
   "outputs": [],
   "source": [
    "df = pd.read_csv('wind.csv')"
   ]
  },
  {
   "cell_type": "code",
   "execution_count": 3,
   "metadata": {
    "collapsed": false
   },
   "outputs": [
    {
     "data": {
      "text/html": [
       "<div>\n",
       "<table border=\"1\" class=\"dataframe\">\n",
       "  <thead>\n",
       "    <tr style=\"text-align: right;\">\n",
       "      <th></th>\n",
       "      <th>Year</th>\n",
       "      <th>Month</th>\n",
       "      <th>Day</th>\n",
       "      <th>Hour</th>\n",
       "      <th>Pressure</th>\n",
       "      <th>Wind Direction</th>\n",
       "      <th>Wind Speed</th>\n",
       "      <th>Temperature</th>\n",
       "    </tr>\n",
       "  </thead>\n",
       "  <tbody>\n",
       "    <tr>\n",
       "      <th>0</th>\n",
       "      <td>2010</td>\n",
       "      <td>1</td>\n",
       "      <td>1</td>\n",
       "      <td>0</td>\n",
       "      <td>100.87</td>\n",
       "      <td>E</td>\n",
       "      <td>22</td>\n",
       "      <td>5.5</td>\n",
       "    </tr>\n",
       "    <tr>\n",
       "      <th>1</th>\n",
       "      <td>2010</td>\n",
       "      <td>1</td>\n",
       "      <td>1</td>\n",
       "      <td>1</td>\n",
       "      <td>100.81</td>\n",
       "      <td>E</td>\n",
       "      <td>19</td>\n",
       "      <td>5.4</td>\n",
       "    </tr>\n",
       "    <tr>\n",
       "      <th>2</th>\n",
       "      <td>2010</td>\n",
       "      <td>1</td>\n",
       "      <td>1</td>\n",
       "      <td>2</td>\n",
       "      <td>100.77</td>\n",
       "      <td>E</td>\n",
       "      <td>26</td>\n",
       "      <td>5.7</td>\n",
       "    </tr>\n",
       "    <tr>\n",
       "      <th>3</th>\n",
       "      <td>2010</td>\n",
       "      <td>1</td>\n",
       "      <td>1</td>\n",
       "      <td>3</td>\n",
       "      <td>100.69</td>\n",
       "      <td>ESE</td>\n",
       "      <td>26</td>\n",
       "      <td>5.5</td>\n",
       "    </tr>\n",
       "    <tr>\n",
       "      <th>4</th>\n",
       "      <td>2010</td>\n",
       "      <td>1</td>\n",
       "      <td>1</td>\n",
       "      <td>4</td>\n",
       "      <td>100.58</td>\n",
       "      <td>ESE</td>\n",
       "      <td>26</td>\n",
       "      <td>5.8</td>\n",
       "    </tr>\n",
       "  </tbody>\n",
       "</table>\n",
       "</div>"
      ],
      "text/plain": [
       "   Year  Month  Day  Hour  Pressure Wind Direction  Wind Speed  Temperature\n",
       "0  2010      1    1     0    100.87              E          22          5.5\n",
       "1  2010      1    1     1    100.81              E          19          5.4\n",
       "2  2010      1    1     2    100.77              E          26          5.7\n",
       "3  2010      1    1     3    100.69            ESE          26          5.5\n",
       "4  2010      1    1     4    100.58            ESE          26          5.8"
      ]
     },
     "execution_count": 3,
     "metadata": {},
     "output_type": "execute_result"
    }
   ],
   "source": [
    "df.head()"
   ]
  },
  {
   "cell_type": "code",
   "execution_count": 4,
   "metadata": {
    "collapsed": false
   },
   "outputs": [
    {
     "name": "stdout",
     "output_type": "stream",
     "text": [
      "<class 'pandas.core.frame.DataFrame'>\n",
      "Int64Index: 54779 entries, 0 to 54778\n",
      "Data columns (total 8 columns):\n",
      "Year              54779 non-null int64\n",
      "Month             54779 non-null int64\n",
      "Day               54779 non-null int64\n",
      "Hour              54779 non-null int64\n",
      "Pressure          54776 non-null float64\n",
      "Wind Direction    53180 non-null object\n",
      "Wind Speed        54777 non-null float64\n",
      "Temperature       54777 non-null float64\n",
      "dtypes: float64(3), int64(4), object(1)\n",
      "memory usage: 3.8+ MB\n"
     ]
    }
   ],
   "source": [
    "df.info()"
   ]
  },
  {
   "cell_type": "code",
   "execution_count": 5,
   "metadata": {
    "collapsed": false
   },
   "outputs": [
    {
     "data": {
      "text/html": [
       "<div>\n",
       "<table border=\"1\" class=\"dataframe\">\n",
       "  <thead>\n",
       "    <tr style=\"text-align: right;\">\n",
       "      <th></th>\n",
       "      <th>Year</th>\n",
       "      <th>Month</th>\n",
       "      <th>Day</th>\n",
       "      <th>Hour</th>\n",
       "      <th>Pressure</th>\n",
       "      <th>Wind Direction</th>\n",
       "      <th>Wind Speed</th>\n",
       "      <th>Temperature</th>\n",
       "    </tr>\n",
       "  </thead>\n",
       "  <tbody>\n",
       "    <tr>\n",
       "      <th>54774</th>\n",
       "      <td>2016</td>\n",
       "      <td>4</td>\n",
       "      <td>1</td>\n",
       "      <td>7</td>\n",
       "      <td>102.15</td>\n",
       "      <td>ENE</td>\n",
       "      <td>4</td>\n",
       "      <td>8.7</td>\n",
       "    </tr>\n",
       "    <tr>\n",
       "      <th>54775</th>\n",
       "      <td>2016</td>\n",
       "      <td>4</td>\n",
       "      <td>1</td>\n",
       "      <td>8</td>\n",
       "      <td>102.15</td>\n",
       "      <td>ESE</td>\n",
       "      <td>17</td>\n",
       "      <td>10.1</td>\n",
       "    </tr>\n",
       "    <tr>\n",
       "      <th>54776</th>\n",
       "      <td>2016</td>\n",
       "      <td>4</td>\n",
       "      <td>1</td>\n",
       "      <td>9</td>\n",
       "      <td>102.15</td>\n",
       "      <td>ESE</td>\n",
       "      <td>11</td>\n",
       "      <td>11.7</td>\n",
       "    </tr>\n",
       "    <tr>\n",
       "      <th>54777</th>\n",
       "      <td>2016</td>\n",
       "      <td>4</td>\n",
       "      <td>1</td>\n",
       "      <td>10</td>\n",
       "      <td>102.15</td>\n",
       "      <td>SE</td>\n",
       "      <td>10</td>\n",
       "      <td>13.5</td>\n",
       "    </tr>\n",
       "    <tr>\n",
       "      <th>54778</th>\n",
       "      <td>2016</td>\n",
       "      <td>4</td>\n",
       "      <td>1</td>\n",
       "      <td>11</td>\n",
       "      <td>102.15</td>\n",
       "      <td>SSW</td>\n",
       "      <td>13</td>\n",
       "      <td>13.4</td>\n",
       "    </tr>\n",
       "  </tbody>\n",
       "</table>\n",
       "</div>"
      ],
      "text/plain": [
       "       Year  Month  Day  Hour  Pressure Wind Direction  Wind Speed  \\\n",
       "54774  2016      4    1     7    102.15            ENE           4   \n",
       "54775  2016      4    1     8    102.15            ESE          17   \n",
       "54776  2016      4    1     9    102.15            ESE          11   \n",
       "54777  2016      4    1    10    102.15             SE          10   \n",
       "54778  2016      4    1    11    102.15            SSW          13   \n",
       "\n",
       "       Temperature  \n",
       "54774          8.7  \n",
       "54775         10.1  \n",
       "54776         11.7  \n",
       "54777         13.5  \n",
       "54778         13.4  "
      ]
     },
     "execution_count": 5,
     "metadata": {},
     "output_type": "execute_result"
    }
   ],
   "source": [
    "df.tail()"
   ]
  },
  {
   "cell_type": "markdown",
   "metadata": {
    "collapsed": true
   },
   "source": [
    "## 2. More groupby and DataFrame methods\n",
    "\n",
    "Let's explore the data!\n",
    "\n",
    "**EXAMPLE 1.** Plot the average temperature by month in 2015.\n",
    "\n",
    "Let's do this calculation 2 different ways. First, let's break the process into 5 distinct steps. Second, we'll do it all at once.\n",
    "\n",
    "**1. Select the 2015 data**"
   ]
  },
  {
   "cell_type": "code",
   "execution_count": 6,
   "metadata": {
    "collapsed": false
   },
   "outputs": [
    {
     "data": {
      "text/html": [
       "<div>\n",
       "<table border=\"1\" class=\"dataframe\">\n",
       "  <thead>\n",
       "    <tr style=\"text-align: right;\">\n",
       "      <th></th>\n",
       "      <th>Year</th>\n",
       "      <th>Month</th>\n",
       "      <th>Day</th>\n",
       "      <th>Hour</th>\n",
       "      <th>Pressure</th>\n",
       "      <th>Wind Direction</th>\n",
       "      <th>Wind Speed</th>\n",
       "      <th>Temperature</th>\n",
       "    </tr>\n",
       "  </thead>\n",
       "  <tbody>\n",
       "    <tr>\n",
       "      <th>43824</th>\n",
       "      <td>2015</td>\n",
       "      <td>1</td>\n",
       "      <td>1</td>\n",
       "      <td>0</td>\n",
       "      <td>103.07</td>\n",
       "      <td>ESE</td>\n",
       "      <td>8</td>\n",
       "      <td>-2.4</td>\n",
       "    </tr>\n",
       "    <tr>\n",
       "      <th>43825</th>\n",
       "      <td>2015</td>\n",
       "      <td>1</td>\n",
       "      <td>1</td>\n",
       "      <td>1</td>\n",
       "      <td>103.01</td>\n",
       "      <td>ESE</td>\n",
       "      <td>10</td>\n",
       "      <td>-3.6</td>\n",
       "    </tr>\n",
       "    <tr>\n",
       "      <th>43826</th>\n",
       "      <td>2015</td>\n",
       "      <td>1</td>\n",
       "      <td>1</td>\n",
       "      <td>2</td>\n",
       "      <td>102.96</td>\n",
       "      <td>N</td>\n",
       "      <td>2</td>\n",
       "      <td>-3.6</td>\n",
       "    </tr>\n",
       "    <tr>\n",
       "      <th>43827</th>\n",
       "      <td>2015</td>\n",
       "      <td>1</td>\n",
       "      <td>1</td>\n",
       "      <td>3</td>\n",
       "      <td>102.94</td>\n",
       "      <td>E</td>\n",
       "      <td>5</td>\n",
       "      <td>-4.2</td>\n",
       "    </tr>\n",
       "    <tr>\n",
       "      <th>43828</th>\n",
       "      <td>2015</td>\n",
       "      <td>1</td>\n",
       "      <td>1</td>\n",
       "      <td>4</td>\n",
       "      <td>102.88</td>\n",
       "      <td>ENE</td>\n",
       "      <td>6</td>\n",
       "      <td>-4.2</td>\n",
       "    </tr>\n",
       "  </tbody>\n",
       "</table>\n",
       "</div>"
      ],
      "text/plain": [
       "       Year  Month  Day  Hour  Pressure Wind Direction  Wind Speed  \\\n",
       "43824  2015      1    1     0    103.07            ESE           8   \n",
       "43825  2015      1    1     1    103.01            ESE          10   \n",
       "43826  2015      1    1     2    102.96              N           2   \n",
       "43827  2015      1    1     3    102.94              E           5   \n",
       "43828  2015      1    1     4    102.88            ENE           6   \n",
       "\n",
       "       Temperature  \n",
       "43824         -2.4  \n",
       "43825         -3.6  \n",
       "43826         -3.6  \n",
       "43827         -4.2  \n",
       "43828         -4.2  "
      ]
     },
     "execution_count": 6,
     "metadata": {},
     "output_type": "execute_result"
    }
   ],
   "source": [
    "df_2015 = df[df['Year'] == 2015]\n",
    "df_2015.head()"
   ]
  },
  {
   "cell_type": "markdown",
   "metadata": {},
   "source": [
    "**2. Group by month**\n",
    "\n",
    "Note that a groupby object is a collection of DataFrames: one DataFrame for each distinct value in the Month column which we grouped by. We can use the `.head()` method to display the **top rows of each DataFrame in the groupby object**."
   ]
  },
  {
   "cell_type": "code",
   "execution_count": 7,
   "metadata": {
    "collapsed": false
   },
   "outputs": [
    {
     "data": {
      "text/html": [
       "<div>\n",
       "<table border=\"1\" class=\"dataframe\">\n",
       "  <thead>\n",
       "    <tr style=\"text-align: right;\">\n",
       "      <th></th>\n",
       "      <th>Year</th>\n",
       "      <th>Month</th>\n",
       "      <th>Day</th>\n",
       "      <th>Hour</th>\n",
       "      <th>Pressure</th>\n",
       "      <th>Wind Direction</th>\n",
       "      <th>Wind Speed</th>\n",
       "      <th>Temperature</th>\n",
       "    </tr>\n",
       "  </thead>\n",
       "  <tbody>\n",
       "    <tr>\n",
       "      <th>43824</th>\n",
       "      <td>2015</td>\n",
       "      <td>1</td>\n",
       "      <td>1</td>\n",
       "      <td>0</td>\n",
       "      <td>103.07</td>\n",
       "      <td>ESE</td>\n",
       "      <td>8</td>\n",
       "      <td>-2.4</td>\n",
       "    </tr>\n",
       "    <tr>\n",
       "      <th>43825</th>\n",
       "      <td>2015</td>\n",
       "      <td>1</td>\n",
       "      <td>1</td>\n",
       "      <td>1</td>\n",
       "      <td>103.01</td>\n",
       "      <td>ESE</td>\n",
       "      <td>10</td>\n",
       "      <td>-3.6</td>\n",
       "    </tr>\n",
       "    <tr>\n",
       "      <th>44568</th>\n",
       "      <td>2015</td>\n",
       "      <td>2</td>\n",
       "      <td>1</td>\n",
       "      <td>0</td>\n",
       "      <td>102.01</td>\n",
       "      <td>W</td>\n",
       "      <td>8</td>\n",
       "      <td>5.9</td>\n",
       "    </tr>\n",
       "    <tr>\n",
       "      <th>44569</th>\n",
       "      <td>2015</td>\n",
       "      <td>2</td>\n",
       "      <td>1</td>\n",
       "      <td>1</td>\n",
       "      <td>101.90</td>\n",
       "      <td>NNE</td>\n",
       "      <td>9</td>\n",
       "      <td>6.0</td>\n",
       "    </tr>\n",
       "    <tr>\n",
       "      <th>45240</th>\n",
       "      <td>2015</td>\n",
       "      <td>3</td>\n",
       "      <td>1</td>\n",
       "      <td>0</td>\n",
       "      <td>102.36</td>\n",
       "      <td>N</td>\n",
       "      <td>3</td>\n",
       "      <td>1.5</td>\n",
       "    </tr>\n",
       "    <tr>\n",
       "      <th>45241</th>\n",
       "      <td>2015</td>\n",
       "      <td>3</td>\n",
       "      <td>1</td>\n",
       "      <td>1</td>\n",
       "      <td>102.37</td>\n",
       "      <td>NE</td>\n",
       "      <td>4</td>\n",
       "      <td>2.9</td>\n",
       "    </tr>\n",
       "    <tr>\n",
       "      <th>45983</th>\n",
       "      <td>2015</td>\n",
       "      <td>4</td>\n",
       "      <td>1</td>\n",
       "      <td>0</td>\n",
       "      <td>102.03</td>\n",
       "      <td>W</td>\n",
       "      <td>13</td>\n",
       "      <td>8.3</td>\n",
       "    </tr>\n",
       "    <tr>\n",
       "      <th>45984</th>\n",
       "      <td>2015</td>\n",
       "      <td>4</td>\n",
       "      <td>1</td>\n",
       "      <td>1</td>\n",
       "      <td>102.08</td>\n",
       "      <td>NNW</td>\n",
       "      <td>8</td>\n",
       "      <td>7.2</td>\n",
       "    </tr>\n",
       "    <tr>\n",
       "      <th>46703</th>\n",
       "      <td>2015</td>\n",
       "      <td>5</td>\n",
       "      <td>1</td>\n",
       "      <td>0</td>\n",
       "      <td>101.94</td>\n",
       "      <td>E</td>\n",
       "      <td>12</td>\n",
       "      <td>10.6</td>\n",
       "    </tr>\n",
       "    <tr>\n",
       "      <th>46704</th>\n",
       "      <td>2015</td>\n",
       "      <td>5</td>\n",
       "      <td>1</td>\n",
       "      <td>1</td>\n",
       "      <td>101.91</td>\n",
       "      <td>E</td>\n",
       "      <td>14</td>\n",
       "      <td>9.7</td>\n",
       "    </tr>\n",
       "    <tr>\n",
       "      <th>47447</th>\n",
       "      <td>2015</td>\n",
       "      <td>6</td>\n",
       "      <td>1</td>\n",
       "      <td>0</td>\n",
       "      <td>100.76</td>\n",
       "      <td>SW</td>\n",
       "      <td>10</td>\n",
       "      <td>16.0</td>\n",
       "    </tr>\n",
       "    <tr>\n",
       "      <th>47448</th>\n",
       "      <td>2015</td>\n",
       "      <td>6</td>\n",
       "      <td>1</td>\n",
       "      <td>1</td>\n",
       "      <td>100.78</td>\n",
       "      <td>WNW</td>\n",
       "      <td>7</td>\n",
       "      <td>15.7</td>\n",
       "    </tr>\n",
       "    <tr>\n",
       "      <th>48167</th>\n",
       "      <td>2015</td>\n",
       "      <td>7</td>\n",
       "      <td>1</td>\n",
       "      <td>0</td>\n",
       "      <td>101.66</td>\n",
       "      <td>WNW</td>\n",
       "      <td>26</td>\n",
       "      <td>20.0</td>\n",
       "    </tr>\n",
       "    <tr>\n",
       "      <th>48168</th>\n",
       "      <td>2015</td>\n",
       "      <td>7</td>\n",
       "      <td>1</td>\n",
       "      <td>1</td>\n",
       "      <td>101.69</td>\n",
       "      <td>WNW</td>\n",
       "      <td>28</td>\n",
       "      <td>19.3</td>\n",
       "    </tr>\n",
       "    <tr>\n",
       "      <th>48911</th>\n",
       "      <td>2015</td>\n",
       "      <td>8</td>\n",
       "      <td>1</td>\n",
       "      <td>0</td>\n",
       "      <td>101.47</td>\n",
       "      <td>WNW</td>\n",
       "      <td>7</td>\n",
       "      <td>17.9</td>\n",
       "    </tr>\n",
       "    <tr>\n",
       "      <th>48912</th>\n",
       "      <td>2015</td>\n",
       "      <td>8</td>\n",
       "      <td>1</td>\n",
       "      <td>1</td>\n",
       "      <td>101.49</td>\n",
       "      <td>WNW</td>\n",
       "      <td>13</td>\n",
       "      <td>18.9</td>\n",
       "    </tr>\n",
       "    <tr>\n",
       "      <th>49655</th>\n",
       "      <td>2015</td>\n",
       "      <td>9</td>\n",
       "      <td>1</td>\n",
       "      <td>0</td>\n",
       "      <td>100.82</td>\n",
       "      <td>S</td>\n",
       "      <td>31</td>\n",
       "      <td>15.0</td>\n",
       "    </tr>\n",
       "    <tr>\n",
       "      <th>49656</th>\n",
       "      <td>2015</td>\n",
       "      <td>9</td>\n",
       "      <td>1</td>\n",
       "      <td>1</td>\n",
       "      <td>100.84</td>\n",
       "      <td>S</td>\n",
       "      <td>26</td>\n",
       "      <td>15.0</td>\n",
       "    </tr>\n",
       "    <tr>\n",
       "      <th>50375</th>\n",
       "      <td>2015</td>\n",
       "      <td>10</td>\n",
       "      <td>1</td>\n",
       "      <td>0</td>\n",
       "      <td>101.53</td>\n",
       "      <td>E</td>\n",
       "      <td>10</td>\n",
       "      <td>11.5</td>\n",
       "    </tr>\n",
       "    <tr>\n",
       "      <th>50376</th>\n",
       "      <td>2015</td>\n",
       "      <td>10</td>\n",
       "      <td>1</td>\n",
       "      <td>1</td>\n",
       "      <td>101.52</td>\n",
       "      <td>ENE</td>\n",
       "      <td>4</td>\n",
       "      <td>11.5</td>\n",
       "    </tr>\n",
       "    <tr>\n",
       "      <th>51119</th>\n",
       "      <td>2015</td>\n",
       "      <td>11</td>\n",
       "      <td>1</td>\n",
       "      <td>0</td>\n",
       "      <td>100.04</td>\n",
       "      <td>SSE</td>\n",
       "      <td>33</td>\n",
       "      <td>11.5</td>\n",
       "    </tr>\n",
       "    <tr>\n",
       "      <th>51120</th>\n",
       "      <td>2015</td>\n",
       "      <td>11</td>\n",
       "      <td>1</td>\n",
       "      <td>1</td>\n",
       "      <td>100.03</td>\n",
       "      <td>SSE</td>\n",
       "      <td>19</td>\n",
       "      <td>10.7</td>\n",
       "    </tr>\n",
       "    <tr>\n",
       "      <th>51840</th>\n",
       "      <td>2015</td>\n",
       "      <td>12</td>\n",
       "      <td>1</td>\n",
       "      <td>0</td>\n",
       "      <td>101.97</td>\n",
       "      <td>E</td>\n",
       "      <td>14</td>\n",
       "      <td>7.1</td>\n",
       "    </tr>\n",
       "    <tr>\n",
       "      <th>51841</th>\n",
       "      <td>2015</td>\n",
       "      <td>12</td>\n",
       "      <td>1</td>\n",
       "      <td>1</td>\n",
       "      <td>101.95</td>\n",
       "      <td>NE</td>\n",
       "      <td>16</td>\n",
       "      <td>6.6</td>\n",
       "    </tr>\n",
       "  </tbody>\n",
       "</table>\n",
       "</div>"
      ],
      "text/plain": [
       "       Year  Month  Day  Hour  Pressure Wind Direction  Wind Speed  \\\n",
       "43824  2015      1    1     0    103.07            ESE           8   \n",
       "43825  2015      1    1     1    103.01            ESE          10   \n",
       "44568  2015      2    1     0    102.01              W           8   \n",
       "44569  2015      2    1     1    101.90            NNE           9   \n",
       "45240  2015      3    1     0    102.36              N           3   \n",
       "45241  2015      3    1     1    102.37             NE           4   \n",
       "45983  2015      4    1     0    102.03              W          13   \n",
       "45984  2015      4    1     1    102.08            NNW           8   \n",
       "46703  2015      5    1     0    101.94              E          12   \n",
       "46704  2015      5    1     1    101.91              E          14   \n",
       "47447  2015      6    1     0    100.76             SW          10   \n",
       "47448  2015      6    1     1    100.78            WNW           7   \n",
       "48167  2015      7    1     0    101.66            WNW          26   \n",
       "48168  2015      7    1     1    101.69            WNW          28   \n",
       "48911  2015      8    1     0    101.47            WNW           7   \n",
       "48912  2015      8    1     1    101.49            WNW          13   \n",
       "49655  2015      9    1     0    100.82              S          31   \n",
       "49656  2015      9    1     1    100.84              S          26   \n",
       "50375  2015     10    1     0    101.53              E          10   \n",
       "50376  2015     10    1     1    101.52            ENE           4   \n",
       "51119  2015     11    1     0    100.04            SSE          33   \n",
       "51120  2015     11    1     1    100.03            SSE          19   \n",
       "51840  2015     12    1     0    101.97              E          14   \n",
       "51841  2015     12    1     1    101.95             NE          16   \n",
       "\n",
       "       Temperature  \n",
       "43824         -2.4  \n",
       "43825         -3.6  \n",
       "44568          5.9  \n",
       "44569          6.0  \n",
       "45240          1.5  \n",
       "45241          2.9  \n",
       "45983          8.3  \n",
       "45984          7.2  \n",
       "46703         10.6  \n",
       "46704          9.7  \n",
       "47447         16.0  \n",
       "47448         15.7  \n",
       "48167         20.0  \n",
       "48168         19.3  \n",
       "48911         17.9  \n",
       "48912         18.9  \n",
       "49655         15.0  \n",
       "49656         15.0  \n",
       "50375         11.5  \n",
       "50376         11.5  \n",
       "51119         11.5  \n",
       "51120         10.7  \n",
       "51840          7.1  \n",
       "51841          6.6  "
      ]
     },
     "execution_count": 7,
     "metadata": {},
     "output_type": "execute_result"
    }
   ],
   "source": [
    "df_2015_grouped = df_2015.groupby('Month')\n",
    "df_2015_grouped.head(2) # Top 2 rows in each DataFrame in the groupby object"
   ]
  },
  {
   "cell_type": "markdown",
   "metadata": {},
   "source": [
    "**3. Select the temperature column**"
   ]
  },
  {
   "cell_type": "code",
   "execution_count": 8,
   "metadata": {
    "collapsed": false
   },
   "outputs": [
    {
     "data": {
      "text/plain": [
       "43824    -2.4\n",
       "43825    -3.6\n",
       "44568     5.9\n",
       "44569     6.0\n",
       "45240     1.5\n",
       "45241     2.9\n",
       "45983     8.3\n",
       "45984     7.2\n",
       "46703    10.6\n",
       "46704     9.7\n",
       "47447    16.0\n",
       "47448    15.7\n",
       "48167    20.0\n",
       "48168    19.3\n",
       "48911    17.9\n",
       "48912    18.9\n",
       "49655    15.0\n",
       "49656    15.0\n",
       "50375    11.5\n",
       "50376    11.5\n",
       "51119    11.5\n",
       "51120    10.7\n",
       "51840     7.1\n",
       "51841     6.6\n",
       "Name: Temperature, dtype: float64"
      ]
     },
     "execution_count": 8,
     "metadata": {},
     "output_type": "execute_result"
    }
   ],
   "source": [
    "df_2015_grouped_temp = df_2015_grouped['Temperature']\n",
    "df_2015_grouped_temp.head(2) # Top 2 rows of the Temperature column in the groupby object"
   ]
  },
  {
   "cell_type": "markdown",
   "metadata": {},
   "source": [
    "**4. Calculate the mean of each DataFrame object in the groupby object**"
   ]
  },
  {
   "cell_type": "code",
   "execution_count": 9,
   "metadata": {
    "collapsed": false
   },
   "outputs": [
    {
     "data": {
      "text/plain": [
       "Month\n",
       "1      5.680242\n",
       "2      7.702827\n",
       "3      8.424630\n",
       "4      9.436528\n",
       "5     14.564516\n",
       "6     18.034444\n",
       "7     19.250000\n",
       "8     18.336694\n",
       "9     14.096250\n",
       "10    11.960887\n",
       "11     5.263800\n",
       "12     5.180108\n",
       "Name: Temperature, dtype: float64"
      ]
     },
     "execution_count": 9,
     "metadata": {},
     "output_type": "execute_result"
    }
   ],
   "source": [
    "df_2015_grouped_temp_mean = df_2015_grouped_temp.mean()\n",
    "df_2015_grouped_temp_mean"
   ]
  },
  {
   "cell_type": "markdown",
   "metadata": {},
   "source": [
    "**5. Plot the result**"
   ]
  },
  {
   "cell_type": "code",
   "execution_count": 10,
   "metadata": {
    "collapsed": false
   },
   "outputs": [
    {
     "data": {
      "text/plain": [
       "<matplotlib.axes._subplots.AxesSubplot at 0x106fc7b70>"
      ]
     },
     "execution_count": 10,
     "metadata": {},
     "output_type": "execute_result"
    },
    {
     "data": {
      "image/png": "[encoded data removed]",
      "text/plain": [
       "<matplotlib.figure.Figure at 0x106fc7a58>"
      ]
     },
     "metadata": {},
     "output_type": "display_data"
    }
   ],
   "source": [
    "df_2015_grouped_temp_mean.plot(kind='bar',title='Average Monthy Temperature (Celsius) in 2015')"
   ]
  },
  {
   "cell_type": "markdown",
   "metadata": {},
   "source": [
    "**All 5 steps in one line!**"
   ]
  },
  {
   "cell_type": "code",
   "execution_count": 11,
   "metadata": {
    "collapsed": false
   },
   "outputs": [
    {
     "data": {
      "text/plain": [
       "<matplotlib.axes._subplots.AxesSubplot at 0x107681da0>"
      ]
     },
     "execution_count": 11,
     "metadata": {},
     "output_type": "execute_result"
    },
    {
     "data": {
      "image/png": "[encoded data removed]",
      "text/plain": [
       "<matplotlib.figure.Figure at 0x107f98d30>"
      ]
     },
     "metadata": {},
     "output_type": "display_data"
    }
   ],
   "source": [
    "df[df['Year'] == 2015].groupby('Month')['Temperature'].mean().plot(kind='bar',title='Average Monthy Temperature (Celsius) in 2015')"
   ]
  },
  {
   "cell_type": "markdown",
   "metadata": {},
   "source": [
    "The process of applying methods sequentially in a single line is called **method chaining** and is an advantage of [object oriented programming](https://en.wikipedia.org/wiki/Object-oriented_programming)."
   ]
  },
  {
   "cell_type": "markdown",
   "metadata": {},
   "source": [
    "**EXAMPLE 2.** Create a histogram of wind direction in January for all years.\n",
    "\n",
    "Let's select the January data, groupby wind direction and count the number of rows for each wind direction."
   ]
  },
  {
   "cell_type": "code",
   "execution_count": 12,
   "metadata": {
    "collapsed": false
   },
   "outputs": [
    {
     "data": {
      "text/plain": [
       "<matplotlib.axes._subplots.AxesSubplot at 0x10769af28>"
      ]
     },
     "execution_count": 12,
     "metadata": {},
     "output_type": "execute_result"
    },
    {
     "data": {
      "image/png": "[encoded data removed]",
      "text/plain": [
       "<matplotlib.figure.Figure at 0x107f8dba8>"
      ]
     },
     "metadata": {},
     "output_type": "display_data"
    }
   ],
   "source": [
    "df[df['Month'] == 1].groupby('Wind Direction').size().plot(kind='bar',title='Hourly Wind Direction Measurements in January (2010-2016)')"
   ]
  },
  {
   "cell_type": "markdown",
   "metadata": {},
   "source": [
    "The prevailing wind direction in January is towards the East (from the Pacific ocean)."
   ]
  },
  {
   "cell_type": "markdown",
   "metadata": {},
   "source": [
    "**EXAMPLE 3.** Create a histogram of hourly wind direction measurements in August for all years."
   ]
  },
  {
   "cell_type": "code",
   "execution_count": 13,
   "metadata": {
    "collapsed": false
   },
   "outputs": [
    {
     "data": {
      "text/plain": [
       "<matplotlib.axes._subplots.AxesSubplot at 0x107fe38d0>"
      ]
     },
     "execution_count": 13,
     "metadata": {},
     "output_type": "execute_result"
    },
    {
     "data": {
      "image/png": "[encoded data removed]",
      "text/plain": [
       "<matplotlib.figure.Figure at 0x107da6cf8>"
      ]
     },
     "metadata": {},
     "output_type": "display_data"
    }
   ],
   "source": [
    "df[df['Month'] == 8].groupby('Wind Direction').size().plot(kind='bar',title='Hourly Wind Direction Measurements in August (2010-2016)')"
   ]
  },
  {
   "cell_type": "markdown",
   "metadata": {},
   "source": [
    "There is much more variance in the wind direction in August as opposed to January."
   ]
  },
  {
   "cell_type": "markdown",
   "metadata": {},
   "source": [
    "**EXAMPLE 4.** Create a histogram of hourly wind direction measurements for all years."
   ]
  },
  {
   "cell_type": "code",
   "execution_count": 14,
   "metadata": {
    "collapsed": false
   },
   "outputs": [
    {
     "data": {
      "text/plain": [
       "<matplotlib.axes._subplots.AxesSubplot at 0x10820f3c8>"
      ]
     },
     "execution_count": 14,
     "metadata": {},
     "output_type": "execute_result"
    },
    {
     "data": {
      "image/png": "[encoded data removed]",
      "text/plain": [
       "<matplotlib.figure.Figure at 0x106fc7c88>"
      ]
     },
     "metadata": {},
     "output_type": "display_data"
    }
   ],
   "source": [
    "df.groupby('Wind Direction').size().plot(kind='bar',title='Hourly Wind Direction Measurements (2010-2016)')"
   ]
  },
  {
   "cell_type": "markdown",
   "metadata": {},
   "source": [
    "**EXAMPLE 5.** Plot hourly average wind speed for March 2016. Notice that wind speed follows a periodic diurnal pattern similar to [temperature variation](https://en.wikipedia.org/wiki/Diurnal_temperature_variation)."
   ]
  },
  {
   "cell_type": "code",
   "execution_count": 15,
   "metadata": {
    "collapsed": false
   },
   "outputs": [
    {
     "data": {
      "text/plain": [
       "<matplotlib.axes._subplots.AxesSubplot at 0x1083bb5c0>"
      ]
     },
     "execution_count": 15,
     "metadata": {},
     "output_type": "execute_result"
    },
    {
     "data": {
      "image/png": "[encoded data removed]",
      "text/plain": [
       "<matplotlib.figure.Figure at 0x10842dc18>"
      ]
     },
     "metadata": {},
     "output_type": "display_data"
    }
   ],
   "source": [
    "df_March_2016 = df[(df['Month'] == 3) & (df['Year'] == 2016)]\n",
    "df_March_2016.groupby('Hour')['Wind Speed'].mean().plot(kind='bar',title='Average Wind Speed (km/h) by Hour in March 2016')"
   ]
  },
  {
   "cell_type": "markdown",
   "metadata": {},
   "source": [
    "**EXAMPLE 6.** Plot the hourly average temperature for March 2015. Compare to Example 5."
   ]
  },
  {
   "cell_type": "code",
   "execution_count": 16,
   "metadata": {
    "collapsed": false
   },
   "outputs": [
    {
     "data": {
      "text/plain": [
       "<matplotlib.axes._subplots.AxesSubplot at 0x108602828>"
      ]
     },
     "execution_count": 16,
     "metadata": {},
     "output_type": "execute_result"
    },
    {
     "data": {
      "image/png": "[encoded data removed]",
      "text/plain": [
       "<matplotlib.figure.Figure at 0x1086a9ef0>"
      ]
     },
     "metadata": {},
     "output_type": "display_data"
    }
   ],
   "source": [
    "df[(df['Year'] == 2016) & (df['Month'] == 3)].groupby('Hour')['Temperature'].mean().plot(kind='bar')"
   ]
  },
  {
   "cell_type": "markdown",
   "metadata": {},
   "source": [
    "**EXAMPLE 7.** Create a histogram of wind speeds in December 2015. The distribution of wind speed follows a [Weibull distribution](https://en.wikipedia.org/wiki/Weibull_distribution)."
   ]
  },
  {
   "cell_type": "code",
   "execution_count": 17,
   "metadata": {
    "collapsed": false
   },
   "outputs": [
    {
     "data": {
      "text/plain": [
       "<matplotlib.axes._subplots.AxesSubplot at 0x108681400>"
      ]
     },
     "execution_count": 17,
     "metadata": {},
     "output_type": "execute_result"
    },
    {
     "data": {
      "image/png": "[encoded data removed]",
      "text/plain": [
       "<matplotlib.figure.Figure at 0x108879f60>"
      ]
     },
     "metadata": {},
     "output_type": "display_data"
    }
   ],
   "source": [
    "df[(df['Year'] == 2015) & (df['Month'] == 12)]['Wind Speed'].hist(bins=15)"
   ]
  }
 ],
 "metadata": {
  "kernelspec": {
   "display_name": "Python 3",
   "language": "python",
   "name": "python3"
  },
  "language_info": {
   "codemirror_mode": {
    "name": "ipython",
    "version": 3
   },
   "file_extension": ".py",
   "mimetype": "text/x-python",
   "name": "python",
   "nbconvert_exporter": "python",
   "pygments_lexer": "ipython3",
   "version": "3.4.3"
  }
 },
 "nbformat": 4,
 "nbformat_minor": 0
}
