{
 "cells": [
  {
   "cell_type": "markdown",
   "metadata": {},
   "source": [
    "# MATH 210 Introduction to Mathematical Computing\n",
    "\n",
    "## March 16, 2016\n",
    "\n",
    "Today's Agenda:\n",
    "\n",
    "1. NumyPy Matrix Datatype\n",
    "2. More Linear Algebra Examples:\n",
    "    * Markov Chains\n",
    "    * Least Squares Linear Regression\n",
    "3. Exercises"
   ]
  },
  {
   "cell_type": "code",
   "execution_count": 1,
   "metadata": {
    "collapsed": true
   },
   "outputs": [],
   "source": [
    "import numpy as np\n",
    "import matplotlib.pyplot as plt\n",
    "import scipy.linalg as la\n",
    "%matplotlib inline"
   ]
  },
  {
   "cell_type": "markdown",
   "metadata": {},
   "source": [
    "## 1. NumPy Matrices\n",
    "\n",
    "**The NumPy matrix datatype behaves differently than the NumPy array datatype** and so we have to be careful when using both arrays and matrices. It's a good idea to stick with arrays when plotting functions, but it's more convenient to use the matrix datatype when solving matrix equations and doing general linear algebra stuff.\n",
    "\n",
    "To create a matrix, use the function `np.matrix`."
   ]
  },
  {
   "cell_type": "code",
   "execution_count": 2,
   "metadata": {
    "collapsed": false
   },
   "outputs": [
    {
     "name": "stdout",
     "output_type": "stream",
     "text": [
      "[[1 2]\n",
      " [3 4]]\n"
     ]
    }
   ],
   "source": [
    "A = np.matrix([ [1,2], [3,4] ])\n",
    "print(A)"
   ]
  },
  {
   "cell_type": "code",
   "execution_count": 3,
   "metadata": {
    "collapsed": false
   },
   "outputs": [
    {
     "data": {
      "text/plain": [
       "numpy.matrixlib.defmatrix.matrix"
      ]
     },
     "execution_count": 3,
     "metadata": {},
     "output_type": "execute_result"
    }
   ],
   "source": [
    "type(A)"
   ]
  },
  {
   "cell_type": "markdown",
   "metadata": {},
   "source": [
    "The main advantages are that matrix operations (ie. multiplatication, transpose, inverse and matrix powers) are easier to use."
   ]
  },
  {
   "cell_type": "code",
   "execution_count": 4,
   "metadata": {
    "collapsed": false
   },
   "outputs": [
    {
     "data": {
      "text/plain": [
       "matrix([[ 7, 10],\n",
       "        [15, 22]])"
      ]
     },
     "execution_count": 4,
     "metadata": {},
     "output_type": "execute_result"
    }
   ],
   "source": [
    "A * A"
   ]
  },
  {
   "cell_type": "code",
   "execution_count": 5,
   "metadata": {
    "collapsed": false
   },
   "outputs": [
    {
     "data": {
      "text/plain": [
       "matrix([[1, 3],\n",
       "        [2, 4]])"
      ]
     },
     "execution_count": 5,
     "metadata": {},
     "output_type": "execute_result"
    }
   ],
   "source": [
    "A.T"
   ]
  },
  {
   "cell_type": "code",
   "execution_count": 6,
   "metadata": {
    "collapsed": false
   },
   "outputs": [
    {
     "data": {
      "text/plain": [
       "matrix([[-2. ,  1. ],\n",
       "        [ 1.5, -0.5]])"
      ]
     },
     "execution_count": 6,
     "metadata": {},
     "output_type": "execute_result"
    }
   ],
   "source": [
    "A ** (-1)"
   ]
  },
  {
   "cell_type": "code",
   "execution_count": 7,
   "metadata": {
    "collapsed": false
   },
   "outputs": [
    {
     "data": {
      "text/plain": [
       "matrix([[  1.00000000e+00,   0.00000000e+00],\n",
       "        [  8.88178420e-16,   1.00000000e+00]])"
      ]
     },
     "execution_count": 7,
     "metadata": {},
     "output_type": "execute_result"
    }
   ],
   "source": [
    "A * A**(-1)"
   ]
  },
  {
   "cell_type": "code",
   "execution_count": 8,
   "metadata": {
    "collapsed": false
   },
   "outputs": [
    {
     "data": {
      "text/plain": [
       "matrix([[ 7, 10],\n",
       "        [15, 22]])"
      ]
     },
     "execution_count": 8,
     "metadata": {},
     "output_type": "execute_result"
    }
   ],
   "source": [
    "A ** 2"
   ]
  },
  {
   "cell_type": "markdown",
   "metadata": {},
   "source": [
    "**Remeber that array operations are elementwise** and so we note the differences:"
   ]
  },
  {
   "cell_type": "code",
   "execution_count": 9,
   "metadata": {
    "collapsed": false
   },
   "outputs": [
    {
     "name": "stdout",
     "output_type": "stream",
     "text": [
      "[[1 2]\n",
      " [3 4]]\n"
     ]
    }
   ],
   "source": [
    "A_as_array = np.array(A)\n",
    "print(A_as_array)"
   ]
  },
  {
   "cell_type": "code",
   "execution_count": 10,
   "metadata": {
    "collapsed": false
   },
   "outputs": [
    {
     "data": {
      "text/plain": [
       "numpy.ndarray"
      ]
     },
     "execution_count": 10,
     "metadata": {},
     "output_type": "execute_result"
    }
   ],
   "source": [
    "type(A_as_array)"
   ]
  },
  {
   "cell_type": "code",
   "execution_count": 11,
   "metadata": {
    "collapsed": false
   },
   "outputs": [
    {
     "data": {
      "text/plain": [
       "array([[ 1,  4],\n",
       "       [ 9, 16]])"
      ]
     },
     "execution_count": 11,
     "metadata": {},
     "output_type": "execute_result"
    }
   ],
   "source": [
    "A_as_array ** 2"
   ]
  },
  {
   "cell_type": "code",
   "execution_count": 12,
   "metadata": {
    "collapsed": false
   },
   "outputs": [
    {
     "data": {
      "text/plain": [
       "array([[ 1,  4],\n",
       "       [ 9, 16]])"
      ]
     },
     "execution_count": 12,
     "metadata": {},
     "output_type": "execute_result"
    }
   ],
   "source": [
    "A_as_array * A_as_array"
   ]
  },
  {
   "cell_type": "markdown",
   "metadata": {},
   "source": [
    "All the `scipy.linalg` functions work with matrices **but we have to be careful since the output is usually a NumPy array** even if the input is a matrix. **Remember we can always use the function `type` to determine whether something is a NumPy array or a NumPy matrix.**"
   ]
  },
  {
   "cell_type": "code",
   "execution_count": 13,
   "metadata": {
    "collapsed": false
   },
   "outputs": [],
   "source": [
    "eigvals, eigvecs = la.eig(A)"
   ]
  },
  {
   "cell_type": "code",
   "execution_count": 14,
   "metadata": {
    "collapsed": false
   },
   "outputs": [
    {
     "name": "stdout",
     "output_type": "stream",
     "text": [
      "[-0.37228132+0.j  5.37228132+0.j]\n"
     ]
    }
   ],
   "source": [
    "print(eigvals)"
   ]
  },
  {
   "cell_type": "code",
   "execution_count": 15,
   "metadata": {
    "collapsed": false
   },
   "outputs": [
    {
     "data": {
      "text/plain": [
       "numpy.ndarray"
      ]
     },
     "execution_count": 15,
     "metadata": {},
     "output_type": "execute_result"
    }
   ],
   "source": [
    "type(eigvals)"
   ]
  },
  {
   "cell_type": "code",
   "execution_count": 16,
   "metadata": {
    "collapsed": false
   },
   "outputs": [
    {
     "name": "stdout",
     "output_type": "stream",
     "text": [
      "[[-0.82456484 -0.41597356]\n",
      " [ 0.56576746 -0.90937671]]\n"
     ]
    }
   ],
   "source": [
    "print(eigvecs)"
   ]
  },
  {
   "cell_type": "code",
   "execution_count": 17,
   "metadata": {
    "collapsed": false
   },
   "outputs": [
    {
     "data": {
      "text/plain": [
       "numpy.ndarray"
      ]
     },
     "execution_count": 17,
     "metadata": {},
     "output_type": "execute_result"
    }
   ],
   "source": [
    "type(eigvecs)"
   ]
  },
  {
   "cell_type": "code",
   "execution_count": 18,
   "metadata": {
    "collapsed": false
   },
   "outputs": [
    {
     "data": {
      "text/plain": [
       "array([[-2. ,  1. ],\n",
       "       [ 1.5, -0.5]])"
      ]
     },
     "execution_count": 18,
     "metadata": {},
     "output_type": "execute_result"
    }
   ],
   "source": [
    "la.inv(A)"
   ]
  },
  {
   "cell_type": "markdown",
   "metadata": {},
   "source": [
    "## 2. More Linear Algebra Examples"
   ]
  },
  {
   "cell_type": "markdown",
   "metadata": {},
   "source": [
    "### Least Squares Linear Regression\n",
    "\n",
    "**Theorem.** Let $(x_1,y_1), \\dots , (x_n,y_n)$ be a collection of data such that at least two of $x_1, \\dots , x_n$ are distinct. Let\n",
    "\n",
    "$$\n",
    "Y = \\begin{bmatrix} y_1 \\\\ \\vdots \\\\ y_n \\end{bmatrix}\n",
    "\\ \\\n",
    "M = \\begin{bmatrix} 1 & x_1 \\\\ \\vdots & \\vdots \\\\ 1 & x_n \\end{bmatrix}\n",
    "$$\n",
    "\n",
    "The least squares approximating line is $y = a_0 + a_1 x$ where $A = \\begin{bmatrix} a_0 \\\\ a_1 \\end{bmatrix}$ and is given by\n",
    "\n",
    "$$\n",
    "A = (M^T M)^{-1} M^T Y\n",
    "$$\n",
    "\n",
    "The least squares approximation minimizes $|| MA - Y ||^2$.\n",
    "\n",
    "Let's do an example with some fake test data. Choose some parameters $N$, $a$, $b$ and `noise_scale`. Create an array of size $N$ of $x$ values chosen uniformly from the interval $[0,1]$, and let's create an array of $y$ values using the formula $y = a + b x + \\epsilon$ where $\\epsilon$ is sampled from the standard normal distribution (scaled by `noise_scale`)."
   ]
  },
  {
   "cell_type": "code",
   "execution_count": 19,
   "metadata": {
    "collapsed": false
   },
   "outputs": [
    {
     "data": {
      "image/png": "[encoded data removed]",
      "text/plain": [
       "<matplotlib.figure.Figure at 0x108b01fd0>"
      ]
     },
     "metadata": {},
     "output_type": "display_data"
    }
   ],
   "source": [
    "N = 200\n",
    "a = 2\n",
    "b = 3\n",
    "noise_scale = 0.3\n",
    "x = np.random.random(N)\n",
    "y = a + b*x + np.random.randn(N)*noise_scale\n",
    "plt.plot(x,y,'r.')\n",
    "plt.show()"
   ]
  },
  {
   "cell_type": "markdown",
   "metadata": {},
   "source": [
    "Let's find the least squares approximation. Build the matrices $Y$ and $M$. **Note that we're using NumPy arrays x and y to do the plotting and NumPy matrices M, Y and A to do the calculation.**"
   ]
  },
  {
   "cell_type": "code",
   "execution_count": 20,
   "metadata": {
    "collapsed": false
   },
   "outputs": [
    {
     "name": "stdout",
     "output_type": "stream",
     "text": [
      "Shape of Y is: (200, 1)\n",
      "Shape of M is: (200, 2)\n"
     ]
    }
   ],
   "source": [
    "Y = np.matrix(y).T\n",
    "M = np.matrix([np.ones(200),x]).T\n",
    "print(\"Shape of Y is:\",np.shape(Y))\n",
    "print(\"Shape of M is:\",np.shape(M))"
   ]
  },
  {
   "cell_type": "markdown",
   "metadata": {},
   "source": [
    "Let's compute $A = (M^T M)^{-1} M^T Y$:"
   ]
  },
  {
   "cell_type": "code",
   "execution_count": 21,
   "metadata": {
    "collapsed": false
   },
   "outputs": [
    {
     "name": "stdout",
     "output_type": "stream",
     "text": [
      "[[ 2.01465062]\n",
      " [ 3.01672319]]\n"
     ]
    }
   ],
   "source": [
    "A = (M.T * M) ** (-1) * M.T * Y\n",
    "print(A)"
   ]
  },
  {
   "cell_type": "code",
   "execution_count": 22,
   "metadata": {
    "collapsed": false
   },
   "outputs": [
    {
     "data": {
      "text/plain": [
       "matrix([[ 2.01465062],\n",
       "        [ 3.01672319]])"
      ]
     },
     "execution_count": 22,
     "metadata": {},
     "output_type": "execute_result"
    }
   ],
   "source": [
    "A"
   ]
  },
  {
   "cell_type": "code",
   "execution_count": 23,
   "metadata": {
    "collapsed": false
   },
   "outputs": [
    {
     "data": {
      "image/png": "[encoded data removed]",
      "text/plain": [
       "<matplotlib.figure.Figure at 0x108c0ac50>"
      ]
     },
     "metadata": {},
     "output_type": "display_data"
    }
   ],
   "source": [
    "x_new = np.linspace(0,1,20)\n",
    "y_new = A[0,0] + A[1,0] * x_new\n",
    "plt.plot(x_new,y_new,x,y,'r.')\n",
    "plt.show()"
   ]
  },
  {
   "cell_type": "markdown",
   "metadata": {},
   "source": [
    "### Markov Chains\n",
    "\n",
    "The transition matrix\n",
    "\n",
    "$$\n",
    "P = [p_{i,j}]\n",
    "$$\n",
    "\n",
    "of a Markov chain is given by the probabilities: $p_{i,j}$ = the probability of moving to state $i$ from state $j$. It is an $m \\times m$ given $m$ states.\n",
    "\n",
    "The probability vector after $n$ steps given $m$ states is\n",
    "\n",
    "$$\n",
    "\\mathbf{x}_n = \\begin{bmatrix} x_{n,1} \\\\ \\vdots \\\\ x_{n,m} \\end{bmatrix}\n",
    "$$\n",
    "\n",
    "where $x_{n,i}$ = the probability of being in state $i$ after $n$ steps. We calculate $\\mathbf{x}_n$ by\n",
    "\n",
    "$$\n",
    "\\mathbf{x}_n = P^n \\mathbf{x}_0\n",
    "$$\n",
    "\n",
    "where $\\mathbf{x}_0$ is the initial probability vector.\n",
    "\n",
    "Consider the following example. A walker moves every minute between three states 1, 2 and 3 (arranged counterclockwise). At each state, the walker either stays where they are or walks to the next state in the counterclockwise direction (from 1 to 2, from 2 to 3, from 3 to 1). The walker stays with probability 2/3 and walks counterclockwise with probabilty 1/3. The transition matrix in this case is\n",
    "\n",
    "$$\n",
    "P = \\begin{bmatrix} 2/3 & 0 & 1/3 \\\\ 1/3 & 2/3 & 0 \\\\ 0 & 1/3 & 2/3 \\end{bmatrix}\n",
    "$$\n",
    "\n",
    "(a) If the walker begins at state 1, what is the probability they will be at state 3 after three minutes?\n",
    "\n",
    "(b) What fraction of the time is the walker at each position as $n \\to \\infty$?"
   ]
  },
  {
   "cell_type": "code",
   "execution_count": 24,
   "metadata": {
    "collapsed": false
   },
   "outputs": [
    {
     "name": "stdout",
     "output_type": "stream",
     "text": [
      "[[ 0.66666667  0.          0.33333333]\n",
      " [ 0.33333333  0.66666667  0.        ]\n",
      " [ 0.          0.33333333  0.66666667]]\n"
     ]
    }
   ],
   "source": [
    "P = np.matrix( [ [2/3,0,1/3],[1/3,2/3,0],[0,1/3,2/3] ] )\n",
    "print(P)"
   ]
  },
  {
   "cell_type": "code",
   "execution_count": 25,
   "metadata": {
    "collapsed": false
   },
   "outputs": [
    {
     "name": "stdout",
     "output_type": "stream",
     "text": [
      "[[1]\n",
      " [0]\n",
      " [0]]\n"
     ]
    }
   ],
   "source": [
    "x0 = np.matrix( [1,0,0]).T\n",
    "print(x0)"
   ]
  },
  {
   "cell_type": "code",
   "execution_count": 26,
   "metadata": {
    "collapsed": false
   },
   "outputs": [
    {
     "name": "stdout",
     "output_type": "stream",
     "text": [
      "[[ 0.33333333]\n",
      " [ 0.44444444]\n",
      " [ 0.22222222]]\n"
     ]
    }
   ],
   "source": [
    "x3 = P ** 3 * x0\n",
    "print(x3)"
   ]
  },
  {
   "cell_type": "code",
   "execution_count": 27,
   "metadata": {
    "collapsed": false
   },
   "outputs": [
    {
     "data": {
      "text/plain": [
       "0.22222222222222221"
      ]
     },
     "execution_count": 27,
     "metadata": {},
     "output_type": "execute_result"
    }
   ],
   "source": [
    "x3[2,0]"
   ]
  },
  {
   "cell_type": "markdown",
   "metadata": {},
   "source": [
    "There is a 22.2\\% chance the walker is at state 3 after three minutes."
   ]
  },
  {
   "cell_type": "code",
   "execution_count": 28,
   "metadata": {
    "collapsed": false
   },
   "outputs": [
    {
     "data": {
      "text/plain": [
       "matrix([[ 0.33333333,  0.33333333,  0.33333333],\n",
       "        [ 0.33333333,  0.33333333,  0.33333333],\n",
       "        [ 0.33333333,  0.33333333,  0.33333333]])"
      ]
     },
     "execution_count": 28,
     "metadata": {},
     "output_type": "execute_result"
    }
   ],
   "source": [
    "P ** 100"
   ]
  },
  {
   "cell_type": "markdown",
   "metadata": {},
   "source": [
    "Therefore we can see that the walker is at each state an equal amount of time as $n \\to \\infty$."
   ]
  },
  {
   "cell_type": "markdown",
   "metadata": {},
   "source": [
    "## 3. Exercises"
   ]
  },
  {
   "cell_type": "markdown",
   "metadata": {},
   "source": [
    "**Exercise.** Least square quadratic regression works in a similar way as linear regression. Let $(x_1,y_1), \\dots , (x_n,y_n)$ be a collection of data such that at least two of $x_1, \\dots , x_n$ are distinct. Let\n",
    "\n",
    "$$\n",
    "Y = \\begin{bmatrix} y_1 \\\\ \\vdots \\\\ y_n \\end{bmatrix}\n",
    "\\ \\\n",
    "M = \\begin{bmatrix} 1 & x_1 & x_1^2 \\\\ & \\vdots & \\\\ 1 & x_n & x_n^2 \\end{bmatrix}\n",
    "$$\n",
    "\n",
    "The least squares approximating qudratic polynomial is $y = a_0 + a_1 x + a_2 x^2$ where $A = \\begin{bmatrix} a_0 \\\\ a_1 \\\\ a_2 \\end{bmatrix}$ and is given by\n",
    "\n",
    "$$\n",
    "A = (M^T M)^{-1} M^T Y\n",
    "$$\n",
    "\n",
    "The least squares approximation minimizes $|| MA - Y ||^2$.\n",
    "\n",
    "Choose some parameters $N$, $a$, $b$, $c$ and `noise_scale`. Create an array of size $N$ of $x$ values chosen uniformly from the interval $[0,1]$, and create an array of $y$ values using the formula $y = a + b x + cx^2 + \\epsilon$ where $\\epsilon$ is sampled from the standard normal distribution (scaled by `noise_scale`). Compute the least squares quadratic regression to recover the parameters $a$, $b$ and $c$."
   ]
  },
  {
   "cell_type": "markdown",
   "metadata": {},
   "source": [
    "**Exercise.** Consider the following Markov chain (from [quant-econ.net](http://quant-econ.net/py/finite_markov.html)) which models the wealth of a ficticious set of households: \n",
    "\n",
    "![quant](http://quant-econ.net/_images/graphviz-dfd0a02ebca6beddb515ccd15bd85ffa3bd2d866.png)\n",
    "\n",
    "The probabilities describe the yearly transition of a given household between three different income levels: 1 = rich, 2 = middle class, 3 = poor.\n",
    "\n",
    "(a) Find the transition matrix $P$.\n",
    "\n",
    "(b) Suppose a given household is classified as poor. What is the probability that the household is classified as rich after 5 years?\n",
    "\n",
    "(c) Calculate $P^n$ for large values of $n$ to approximate the limit $\\lim_{n \\to \\infty} P^n$. Use this approximation to calculate the probability that any household will be eventually be poor. Does your result make sense?"
   ]
  }
 ],
 "metadata": {
  "kernelspec": {
   "display_name": "Python 3",
   "language": "python",
   "name": "python3"
  },
  "language_info": {
   "codemirror_mode": {
    "name": "ipython",
    "version": 3
   },
   "file_extension": ".py",
   "mimetype": "text/x-python",
   "name": "python",
   "nbconvert_exporter": "python",
   "pygments_lexer": "ipython3",
   "version": "3.4.3"
  }
 },
 "nbformat": 4,
 "nbformat_minor": 0
}
