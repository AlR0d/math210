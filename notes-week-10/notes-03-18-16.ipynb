{
 "cells": [
  {
   "cell_type": "markdown",
   "metadata": {},
   "source": [
    "# MATH 210 Introduction to Mathematical Computing\n",
    "\n",
    "## March 18, 2016\n",
    "\n",
    "Today's Agenda:\n",
    "\n",
    "1. Vector Geometry\n",
    "    * Example: Volume of a Parallelpiped\n",
    "    * Example: Projections\n",
    "    * Example: Gram-Schmidt Algorithm\n",
    "2. Exercises"
   ]
  },
  {
   "cell_type": "code",
   "execution_count": 1,
   "metadata": {
    "collapsed": true
   },
   "outputs": [],
   "source": [
    "import numpy as np\n",
    "import scipy.linalg as la"
   ]
  },
  {
   "cell_type": "markdown",
   "metadata": {},
   "source": [
    "## 1. Vector Geometry\n",
    "\n",
    "We can represent vectors as 1-dimensional NumPy arrays and there are NumPy functions for the dot product and (in 3D) cross product of vectors: `np.dot` and `np.cross`. Note however that we need the linear algebra subpackage `scipy.linalg` to compute the norm of a vector.\n",
    "\n",
    "Let's create two vectors $\\mathbf{v}$ and $\\mathbf{w}$ in $\\mathbb{R}^3$ (with random integer entries contained in $[-5,5]$) and compute their dot product, cross product and norms."
   ]
  },
  {
   "cell_type": "code",
   "execution_count": 2,
   "metadata": {
    "collapsed": false
   },
   "outputs": [
    {
     "data": {
      "text/plain": [
       "array([-3,  1, -4])"
      ]
     },
     "execution_count": 2,
     "metadata": {},
     "output_type": "execute_result"
    }
   ],
   "source": [
    "v = np.random.randint(-5,5,3)\n",
    "v"
   ]
  },
  {
   "cell_type": "code",
   "execution_count": 3,
   "metadata": {
    "collapsed": false
   },
   "outputs": [
    {
     "data": {
      "text/plain": [
       "array([ 0, -3, -1])"
      ]
     },
     "execution_count": 3,
     "metadata": {},
     "output_type": "execute_result"
    }
   ],
   "source": [
    "w = np.random.randint(-5,5,3)\n",
    "w"
   ]
  },
  {
   "cell_type": "code",
   "execution_count": 4,
   "metadata": {
    "collapsed": false
   },
   "outputs": [
    {
     "data": {
      "text/plain": [
       "1"
      ]
     },
     "execution_count": 4,
     "metadata": {},
     "output_type": "execute_result"
    }
   ],
   "source": [
    "np.dot(v,w)"
   ]
  },
  {
   "cell_type": "code",
   "execution_count": 5,
   "metadata": {
    "collapsed": false
   },
   "outputs": [
    {
     "data": {
      "text/plain": [
       "array([-13,  -3,   9])"
      ]
     },
     "execution_count": 5,
     "metadata": {},
     "output_type": "execute_result"
    }
   ],
   "source": [
    "np.cross(v,w)"
   ]
  },
  {
   "cell_type": "code",
   "execution_count": 6,
   "metadata": {
    "collapsed": false
   },
   "outputs": [
    {
     "data": {
      "text/plain": [
       "5.0990195135927845"
      ]
     },
     "execution_count": 6,
     "metadata": {},
     "output_type": "execute_result"
    }
   ],
   "source": [
    "la.norm(v)"
   ]
  },
  {
   "cell_type": "code",
   "execution_count": 7,
   "metadata": {
    "collapsed": false
   },
   "outputs": [
    {
     "data": {
      "text/plain": [
       "5.0990195135927845"
      ]
     },
     "execution_count": 7,
     "metadata": {},
     "output_type": "execute_result"
    }
   ],
   "source": [
    "sum([ entry**2 for entry in v ])**0.5"
   ]
  },
  {
   "cell_type": "markdown",
   "metadata": {},
   "source": [
    "### Volume of a Parallelpiped\n",
    "\n",
    "In 3D, the volume of the parallelpiped spanned by vectors $\\mathbf{u}$, $\\mathbf{v}$ and $\\mathbf{w}$ is\n",
    "\n",
    "$$\n",
    "V = \\left| \\, u \\cdot ( v \\times w ) \\, \\right|\n",
    "$$\n",
    "\n",
    "Define a function which takes three 1-dimensional NumPy arrays of length 3 and returns the volume of the parallelpiped spanned by those vectors."
   ]
  },
  {
   "cell_type": "code",
   "execution_count": 8,
   "metadata": {
    "collapsed": true
   },
   "outputs": [],
   "source": [
    "def vol_para(u,v,w):\n",
    "    \"Compute the volume of the parallelpiped spanned by u,v and w.\"\n",
    "    return abs( np.dot( u , np.cross(v,w) ) )"
   ]
  },
  {
   "cell_type": "code",
   "execution_count": 9,
   "metadata": {
    "collapsed": false
   },
   "outputs": [
    {
     "data": {
      "text/plain": [
       "1"
      ]
     },
     "execution_count": 9,
     "metadata": {},
     "output_type": "execute_result"
    }
   ],
   "source": [
    "u = np.array([1,0,0])\n",
    "v = np.array([0,1,0])\n",
    "w = np.array([0,0,1])\n",
    "vol_para(u,v,w)"
   ]
  },
  {
   "cell_type": "code",
   "execution_count": 10,
   "metadata": {
    "collapsed": false
   },
   "outputs": [
    {
     "data": {
      "text/plain": [
       "2"
      ]
     },
     "execution_count": 10,
     "metadata": {},
     "output_type": "execute_result"
    }
   ],
   "source": [
    "u = np.array([1,1,0])\n",
    "v = np.array([0,1,1])\n",
    "w = np.array([1,0,1])\n",
    "vol_para(u,v,w)"
   ]
  },
  {
   "cell_type": "markdown",
   "metadata": {},
   "source": [
    "Note that the function is written in a way that it will accept Python lists of length 3 and compute the corresponding volume."
   ]
  },
  {
   "cell_type": "code",
   "execution_count": 11,
   "metadata": {
    "collapsed": false
   },
   "outputs": [
    {
     "data": {
      "text/plain": [
       "2"
      ]
     },
     "execution_count": 11,
     "metadata": {},
     "output_type": "execute_result"
    }
   ],
   "source": [
    "vol_para([1,1,0],[0,1,1],[1,0,1])"
   ]
  },
  {
   "cell_type": "markdown",
   "metadata": {},
   "source": [
    "### Projections\n",
    "\n",
    "Define a function which takes two 1-dimensional NumPy arrays (or Python lists) $\\mathbf{v}$ and $\\mathbf{a}$ (in that order) and returns the projection of $v$ onto $a$:\n",
    "\n",
    "$$\n",
    "\\mathrm{proj}_{ \\mathbf{a} } (\\mathbf{v}) = \\frac{ \\mathbf{v} \\cdot \\mathbf{a} }{ \\mathbf{a} \\cdot \\mathbf{a} } \\ \\mathbf{a}\n",
    "$$"
   ]
  },
  {
   "cell_type": "code",
   "execution_count": 12,
   "metadata": {
    "collapsed": true
   },
   "outputs": [],
   "source": [
    "def proj(v,a):\n",
    "    \"Compute the projection of v onto a.\"\n",
    "    return np.dot(v,a) / np.dot(a,a) * np.array(a)"
   ]
  },
  {
   "cell_type": "code",
   "execution_count": 13,
   "metadata": {
    "collapsed": false
   },
   "outputs": [
    {
     "data": {
      "text/plain": [
       "array([ 1.,  0.])"
      ]
     },
     "execution_count": 13,
     "metadata": {},
     "output_type": "execute_result"
    }
   ],
   "source": [
    "proj([1,1],[1,0])"
   ]
  },
  {
   "cell_type": "code",
   "execution_count": 14,
   "metadata": {
    "collapsed": false
   },
   "outputs": [
    {
     "data": {
      "text/plain": [
       "array([ 1.,  1.,  0.])"
      ]
     },
     "execution_count": 14,
     "metadata": {},
     "output_type": "execute_result"
    }
   ],
   "source": [
    "proj([1,1,1],[1,1,0])"
   ]
  },
  {
   "cell_type": "markdown",
   "metadata": {
    "collapsed": true
   },
   "source": [
    "### Gram-Schmidt Algorithm\n",
    "\n",
    "The Gram-Schmidt algorithm takes a basis $\\{ \\mathbf{v}_1, \\dots , \\mathbf{v}_n \\}$ of a vector space $V$ and produces an orthonormal basis $\\{ \\mathbf{e}_1, \\dots , \\mathbf{e}_n \\}$ of $V$:\n",
    "\n",
    "\\begin{align}\n",
    "\\mathbf{x}_1 &= \\mathbf{v}_1 \\\\\n",
    "\\mathbf{x}_2 &= \\mathbf{v}_2 - \\mathrm{proj}_{\\mathbf{x}_1}(\\mathbf{v}_2) \\\\\n",
    " & \\vdots \\\\\n",
    "\\mathbf{x}_n &= \\mathbf{v}_n - \\mathrm{proj}_{\\mathbf{x}_1}(\\mathbf{v}_n) - \\mathrm{proj}_{\\mathbf{x}_2}(\\mathbf{v}_n) - \\cdots - \\mathrm{proj}_{\\mathbf{x}_{n-1}}(\\mathbf{v}_n)\n",
    "\\end{align}\n",
    "\n",
    "and then normalize $\\mathbf{e}_i = \\mathbf{x}_i / ||\\mathbf{x}_i||$.\n",
    "\n",
    "Use the Gram-Schmidt algorithm to turn the following basis into a orthonormal basis of $\\mathbb{R}^4$:\n",
    "\n",
    "$$\n",
    "\\mathbf{v}_1 = \\begin{bmatrix} 1 & 2 & 3 & 4 \\end{bmatrix} \\ , \\ \\\n",
    "\\mathbf{v}_2 = \\begin{bmatrix} 1 & 2 & 3 & 2 \\end{bmatrix} \\ , \\ \\\n",
    "\\mathbf{v}_3 = \\begin{bmatrix} 1 & -2 & 3 & 4 \\end{bmatrix} \\ , \\ \\\n",
    "\\mathbf{v}_4 = \\begin{bmatrix} 3 & 2 & 3 & 4 \\end{bmatrix}\n",
    "$$\n",
    "\n",
    "First, let's check that this is a basis of $\\mathbb{R^4}$:"
   ]
  },
  {
   "cell_type": "code",
   "execution_count": 15,
   "metadata": {
    "collapsed": false
   },
   "outputs": [
    {
     "name": "stdout",
     "output_type": "stream",
     "text": [
      "[[ 1  2  3  4]\n",
      " [ 1  2  3  2]\n",
      " [ 1 -2  3  4]\n",
      " [ 3  2  3  4]]\n"
     ]
    }
   ],
   "source": [
    "V = np.array([[1,2,3,4],[1,2,3,2],[1,-2,3,4],[3,2,3,4]])\n",
    "print(V)"
   ]
  },
  {
   "cell_type": "code",
   "execution_count": 16,
   "metadata": {
    "collapsed": false
   },
   "outputs": [
    {
     "data": {
      "text/plain": [
       "-48.0"
      ]
     },
     "execution_count": 16,
     "metadata": {},
     "output_type": "execute_result"
    }
   ],
   "source": [
    "la.det(V)"
   ]
  },
  {
   "cell_type": "markdown",
   "metadata": {},
   "source": [
    "Therefore, these vectors are linearly independent. As we proceed with the Gram-Schmidt algorithm, let's assemble the vectors $\\mathbf{x}_i$ into the rows of a NumPy array $X$ which we intialize as a zero matrix."
   ]
  },
  {
   "cell_type": "code",
   "execution_count": 17,
   "metadata": {
    "collapsed": false
   },
   "outputs": [
    {
     "name": "stdout",
     "output_type": "stream",
     "text": [
      "[[ 0.  0.  0.  0.]\n",
      " [ 0.  0.  0.  0.]\n",
      " [ 0.  0.  0.  0.]\n",
      " [ 0.  0.  0.  0.]]\n"
     ]
    }
   ],
   "source": [
    "X = np.zeros((4,4))\n",
    "print(X)"
   ]
  },
  {
   "cell_type": "markdown",
   "metadata": {},
   "source": [
    "The first two steps of the Gram-Schmidt process are:"
   ]
  },
  {
   "cell_type": "code",
   "execution_count": 18,
   "metadata": {
    "collapsed": false
   },
   "outputs": [
    {
     "name": "stdout",
     "output_type": "stream",
     "text": [
      "[[ 1.          2.          3.          4.        ]\n",
      " [ 0.26666667  0.53333333  0.8        -0.93333333]\n",
      " [ 0.          0.          0.          0.        ]\n",
      " [ 0.          0.          0.          0.        ]]\n"
     ]
    }
   ],
   "source": [
    "X[0,:] = V[0,:]\n",
    "X[1,:] = V[1,:] - proj(V[1,:],X[0,:])\n",
    "print(X)"
   ]
  },
  {
   "cell_type": "markdown",
   "metadata": {},
   "source": [
    "Let's check if $\\mathbf{x}_1$ and $\\mathbf{x}_2$ are perpendicular:"
   ]
  },
  {
   "cell_type": "code",
   "execution_count": 19,
   "metadata": {
    "collapsed": false
   },
   "outputs": [
    {
     "data": {
      "text/plain": [
       "1.7763568394002505e-15"
      ]
     },
     "execution_count": 19,
     "metadata": {},
     "output_type": "execute_result"
    }
   ],
   "source": [
    "np.dot( X[0,:] , X[1,:] )"
   ]
  },
  {
   "cell_type": "markdown",
   "metadata": {},
   "source": [
    "Success! Let's proceed with the next two steps:"
   ]
  },
  {
   "cell_type": "code",
   "execution_count": 20,
   "metadata": {
    "collapsed": false
   },
   "outputs": [
    {
     "name": "stdout",
     "output_type": "stream",
     "text": [
      "[[  1.00000000e+00   2.00000000e+00   3.00000000e+00   4.00000000e+00]\n",
      " [  2.66666667e-01   5.33333333e-01   8.00000000e-01  -9.33333333e-01]\n",
      " [  5.71428571e-01  -2.85714286e+00   1.71428571e+00   1.33226763e-15]\n",
      " [  1.80000000e+00   3.33066907e-16  -6.00000000e-01   6.99440506e-16]]\n"
     ]
    }
   ],
   "source": [
    "X[2,:] = V[2,:] - proj(V[2,:],X[0,:]) - proj(V[2,:],X[1,:])\n",
    "X[3,:] = V[3,:] - proj(V[3,:],X[0,:]) - proj(V[3,:],X[1,:]) - proj(V[3,:],X[2,:])\n",
    "print(X)"
   ]
  },
  {
   "cell_type": "markdown",
   "metadata": {},
   "source": [
    "Finally, let's normalize the vectors $\\mathbf{x}_i$ to obtain an orthonormal basis:"
   ]
  },
  {
   "cell_type": "code",
   "execution_count": 21,
   "metadata": {
    "collapsed": false
   },
   "outputs": [
    {
     "name": "stdout",
     "output_type": "stream",
     "text": [
      "[[  1.82574186e-01   3.65148372e-01   5.47722558e-01   7.30296743e-01]\n",
      " [  1.95180015e-01   3.90360029e-01   5.85540044e-01  -6.83130051e-01]\n",
      " [  1.69030851e-01  -8.45154255e-01   5.07092553e-01   3.94090079e-16]\n",
      " [  9.48683298e-01   1.75541673e-16  -3.16227766e-01   3.68637514e-16]]\n"
     ]
    }
   ],
   "source": [
    "for i in [0,1,2,3]:\n",
    "    X[i,:] = X[i,:] / la.norm(X[i,:])\n",
    "\n",
    "print(X)"
   ]
  },
  {
   "cell_type": "markdown",
   "metadata": {},
   "source": [
    "To check our work, we turn the NumPy array $X$ into a NumPy matrix $Q$ and compute $Q Q^T$. If the rest is the identity, then we have succeeded!"
   ]
  },
  {
   "cell_type": "code",
   "execution_count": 22,
   "metadata": {
    "collapsed": false
   },
   "outputs": [
    {
     "name": "stdout",
     "output_type": "stream",
     "text": [
      "[[  1.00000000e+00   1.94289029e-16   1.11022302e-16  -5.55111512e-17]\n",
      " [  1.94289029e-16   1.00000000e+00  -3.88578059e-16  -6.38378239e-16]\n",
      " [  1.11022302e-16  -3.88578059e-16   1.00000000e+00  -4.99600361e-16]\n",
      " [ -5.55111512e-17  -6.38378239e-16  -4.99600361e-16   1.00000000e+00]]\n"
     ]
    }
   ],
   "source": [
    "Q = np.matrix(X)\n",
    "I = Q * Q.T\n",
    "print(I)"
   ]
  },
  {
   "cell_type": "markdown",
   "metadata": {},
   "source": [
    "Let's round $I$ to 2 decimal places to see it more clearly."
   ]
  },
  {
   "cell_type": "code",
   "execution_count": 23,
   "metadata": {
    "collapsed": false
   },
   "outputs": [
    {
     "data": {
      "text/plain": [
       "array([[ 1.,  0.,  0., -0.],\n",
       "       [ 0.,  1., -0., -0.],\n",
       "       [ 0., -0.,  1., -0.],\n",
       "       [-0., -0., -0.,  1.]])"
      ]
     },
     "execution_count": 23,
     "metadata": {},
     "output_type": "execute_result"
    }
   ],
   "source": [
    "np.round(I,2)"
   ]
  },
  {
   "cell_type": "markdown",
   "metadata": {},
   "source": [
    "Finally, let's round $Q$ to two decimal places to see our final result more clearly:"
   ]
  },
  {
   "cell_type": "code",
   "execution_count": 24,
   "metadata": {
    "collapsed": false
   },
   "outputs": [
    {
     "data": {
      "text/plain": [
       "array([[ 0.18,  0.37,  0.55,  0.73],\n",
       "       [ 0.2 ,  0.39,  0.59, -0.68],\n",
       "       [ 0.17, -0.85,  0.51,  0.  ],\n",
       "       [ 0.95,  0.  , -0.32,  0.  ]])"
      ]
     },
     "execution_count": 24,
     "metadata": {},
     "output_type": "execute_result"
    }
   ],
   "source": [
    "np.round(Q,2)"
   ]
  },
  {
   "cell_type": "markdown",
   "metadata": {},
   "source": [
    "## 2. Exercises"
   ]
  },
  {
   "cell_type": "markdown",
   "metadata": {},
   "source": [
    "**Exercise.** Compute the dot product, cross product and norms of the vectors $\\mathbf{v}$ and $\\mathbf{w}$:\n",
    "\n",
    "(a) $\\mathbf{v} = \\begin{bmatrix} 1 & -1 & 2 \\end{bmatrix}$ and $\\mathbf{w} = \\begin{bmatrix} 3 & 2 & -1 \\end{bmatrix}$\n",
    "\n",
    "(b) $\\mathbf{v} = \\begin{bmatrix} 3 & 4 & -1 \\end{bmatrix}$ and $\\mathbf{w} = \\begin{bmatrix} 0 & 1 & 3 \\end{bmatrix}$"
   ]
  },
  {
   "cell_type": "markdown",
   "metadata": {},
   "source": [
    "**Exercise.** Compute the projection of $\\mathbf{v} = \\begin{bmatrix} 2 & 5 & -1 \\end{bmatrix}$ onto the plane spanned by $\\mathbf{a} = \\begin{bmatrix} 1 & 1 & -1 \\end{bmatrix}$ and $\\mathbf{b} = \\begin{bmatrix} 4 & 0 & 1 \\end{bmatrix}$"
   ]
  },
  {
   "cell_type": "markdown",
   "metadata": {},
   "source": [
    "**Exercise.** Use the Gram-Schmidt algorithm to convert the following basis into an orthonormal basis of $\\mathbb{R}^3$:\n",
    "\n",
    "$$\n",
    "\\mathbf{v}_1 = \\begin{bmatrix} 1 & 1 & -1 \\end{bmatrix} \\ , \\ \\ \n",
    "\\mathbf{v}_2 = \\begin{bmatrix} 4 & -2 & 1 \\end{bmatrix} \\ , \\ \\\n",
    "\\mathbf{v}_3 = \\begin{bmatrix} 1 & 1 & 0 \\end{bmatrix}\n",
    "$$"
   ]
  }
 ],
 "metadata": {
  "kernelspec": {
   "display_name": "Python 3",
   "language": "python",
   "name": "python3"
  },
  "language_info": {
   "codemirror_mode": {
    "name": "ipython",
    "version": 3
   },
   "file_extension": ".py",
   "mimetype": "text/x-python",
   "name": "python",
   "nbconvert_exporter": "python",
   "pygments_lexer": "ipython3",
   "version": "3.4.3"
  }
 },
 "nbformat": 4,
 "nbformat_minor": 0
}
