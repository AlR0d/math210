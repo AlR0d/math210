{
 "cells": [
  {
   "cell_type": "markdown",
   "metadata": {},
   "source": [
    "# MATH 210 Intoduction to Mathematical Computing\n",
    "\n",
    "## March 14, 2016\n",
    "\n",
    "Today's Agenda:\n",
    "\n",
    "1. More Linear Algebra\n",
    "    * Example: Linear Systems of ODEs\n",
    "    * Example: Markov Chains\n",
    "2. Exercises"
   ]
  },
  {
   "cell_type": "code",
   "execution_count": 1,
   "metadata": {
    "collapsed": true
   },
   "outputs": [],
   "source": [
    "import numpy as np\n",
    "import matplotlib.pyplot as plt\n",
    "import scipy.linalg as la\n",
    "%matplotlib inline"
   ]
  },
  {
   "cell_type": "markdown",
   "metadata": {},
   "source": [
    "## 1. More Linear Algebra\n",
    "\n",
    "Last time we briefly listed common linear algebra functions in the subpackage `scipy.linalg` such as\n",
    "\n",
    "* `det`\n",
    "* `eig`\n",
    "* `solve`\n",
    "* `norm`\n",
    "\n",
    "Let's explore some examples which use these functions!"
   ]
  },
  {
   "cell_type": "markdown",
   "metadata": {},
   "source": [
    "### Linear Systems of ODEs (Real Distinct Eigenvalues)\n",
    "\n",
    "Recall the general form of the solution of a linear system of ODEs (with real eigenvalues). Let $A$ be a $n \\times n$ matrix with $n$ distinct real eigenvalues $\\lambda_1$, ... , $\\lambda_n$ and corresponding eigenvectors $\\mathbf{v}_1$, ... , $\\mathbf{v}_n$. Then the general form of the solution of the linear system\n",
    "\n",
    "$$\n",
    "\\frac{ d \\mathbf{y} }{ dt }  = A \\mathbf{y}\n",
    "$$\n",
    "\n",
    "is\n",
    "\n",
    "$$\n",
    "\\mathbf{y} = C_1 \\mathbf{v}_1 e^{\\lambda_1 t} + \\cdots + C_n \\mathbf{v}_n e^{\\lambda_n t}\n",
    "$$\n",
    "\n",
    "for some coefficients $C_1$, ... , $C_n$."
   ]
  },
  {
   "cell_type": "markdown",
   "metadata": {},
   "source": [
    "**Example** Find the exact solution of the system of equations\n",
    "\n",
    "\\begin{align}\n",
    "y_1' &= y_1 - y_2 \\\\\n",
    "y_2' &= - y_2 + 3y_3 \\\\\n",
    "y_3' &= - y_1 + y_2\n",
    "\\end{align}\n",
    "\n",
    "with initial conditions $y_1(0) = y_2(0) = 0$ and $y_3(0) = 1$. Plot the solutions $y_1(t)$, $y_2(t)$ and $y_3(t)$ in the same figure over the interval $t \\in [0,1]$."
   ]
  },
  {
   "cell_type": "code",
   "execution_count": 2,
   "metadata": {
    "collapsed": false
   },
   "outputs": [
    {
     "name": "stdout",
     "output_type": "stream",
     "text": [
      "[[ 1 -1  0]\n",
      " [ 0 -1  3]\n",
      " [-1  1  0]]\n"
     ]
    }
   ],
   "source": [
    "A = np.array([ [1,-1,0], [0,-1,3], [-1,1,0] ])\n",
    "print(A)"
   ]
  },
  {
   "cell_type": "code",
   "execution_count": 3,
   "metadata": {
    "collapsed": true
   },
   "outputs": [],
   "source": [
    "eigvals, eigvecs = la.eig(A)"
   ]
  },
  {
   "cell_type": "code",
   "execution_count": 4,
   "metadata": {
    "collapsed": false
   },
   "outputs": [
    {
     "name": "stdout",
     "output_type": "stream",
     "text": [
      "[  2.00000000e+00+0.j  -6.55725474e-16+0.j  -2.00000000e+00+0.j]\n"
     ]
    }
   ],
   "source": [
    "print(eigvals)"
   ]
  },
  {
   "cell_type": "markdown",
   "metadata": {},
   "source": [
    "We see that the eigenvalues are $2$, $0$ and $-2$ therefore we can set:"
   ]
  },
  {
   "cell_type": "code",
   "execution_count": 5,
   "metadata": {
    "collapsed": true
   },
   "outputs": [],
   "source": [
    "eigvals = [2,0,-2]"
   ]
  },
  {
   "cell_type": "code",
   "execution_count": 6,
   "metadata": {
    "collapsed": false
   },
   "outputs": [
    {
     "name": "stdout",
     "output_type": "stream",
     "text": [
      "[[-0.57735027 -0.6882472   0.30151134]\n",
      " [ 0.57735027 -0.6882472   0.90453403]\n",
      " [ 0.57735027 -0.22941573 -0.30151134]]\n"
     ]
    }
   ],
   "source": [
    "print(eigvecs)"
   ]
  },
  {
   "cell_type": "markdown",
   "metadata": {},
   "source": [
    "We see that the eigenvectors for $\\lambda_1 = 2$, $\\lambda_2 = 0$ and $\\lambda_3 = -2$ are\n",
    "\n",
    "$$\n",
    "\\mathbf{v}_1 = \\begin{bmatrix} -1 \\\\ 1 \\\\ 1 \\end{bmatrix} \\\n",
    "\\mathbf{v}_2 = \\begin{bmatrix} 3 \\\\ 3 \\\\ 1 \\end{bmatrix} \\\n",
    "\\mathbf{v}_3 = \\begin{bmatrix} 1 \\\\ 3 \\\\ -1 \\end{bmatrix}\n",
    "$$"
   ]
  },
  {
   "cell_type": "markdown",
   "metadata": {},
   "source": [
    "Therefore the general solution of the linear system of equations is\n",
    "\n",
    "$$\n",
    "\\mathbf{y}(t) = \n",
    "C_1 \\begin{bmatrix} -1 \\\\ 1 \\\\ 1 \\end{bmatrix} e^{2t} + \n",
    "C_2 \\begin{bmatrix} 3 \\\\ 3 \\\\ 1 \\end{bmatrix} +\n",
    "C_3 \\begin{bmatrix} 1 \\\\ 3 \\\\ -1 \\end{bmatrix} e^{-2t}\n",
    "$$\n",
    "\n",
    "for some coefficients $C_1$, $C_2$ and $C_3$. Plug in the initial conditions to solve for the coefficients $C_1$, $C_2$ and $C_3$\n",
    "\n",
    "$$\n",
    "\\begin{bmatrix} 0 \\\\ 0 \\\\ 1 \\end{bmatrix} = \n",
    "C_1 \\begin{bmatrix} -1 \\\\ 1 \\\\ 1 \\end{bmatrix} + \n",
    "C_2 \\begin{bmatrix} 3 \\\\ 3 \\\\ 1 \\end{bmatrix} +\n",
    "C_3 \\begin{bmatrix} 1 \\\\ 3 \\\\ -1 \\end{bmatrix}\n",
    "$$"
   ]
  },
  {
   "cell_type": "code",
   "execution_count": 7,
   "metadata": {
    "collapsed": false
   },
   "outputs": [
    {
     "name": "stdout",
     "output_type": "stream",
     "text": [
      "[[-1  3  1]\n",
      " [ 1  3  3]\n",
      " [ 1  1 -1]]\n"
     ]
    }
   ],
   "source": [
    "V = np.array([ [-1,3,1], [1,3,3], [1,1,-1]])\n",
    "print(V)"
   ]
  },
  {
   "cell_type": "code",
   "execution_count": 8,
   "metadata": {
    "collapsed": false
   },
   "outputs": [
    {
     "name": "stdout",
     "output_type": "stream",
     "text": [
      "[[0]\n",
      " [0]\n",
      " [1]]\n"
     ]
    }
   ],
   "source": [
    "y0 = np.array([[0],[0],[1]])\n",
    "print(y0)"
   ]
  },
  {
   "cell_type": "code",
   "execution_count": 9,
   "metadata": {
    "collapsed": false
   },
   "outputs": [
    {
     "name": "stdout",
     "output_type": "stream",
     "text": [
      "[[ 0.375]\n",
      " [ 0.25 ]\n",
      " [-0.375]]\n"
     ]
    }
   ],
   "source": [
    "C = la.solve(V,y0)\n",
    "print(C)"
   ]
  },
  {
   "cell_type": "markdown",
   "metadata": {},
   "source": [
    "Therefore we find the exact solution\n",
    "\n",
    "$$\n",
    "\\mathbf{y}(t) = \n",
    "\\frac{3}{8} \\begin{bmatrix} -1 \\\\ 1 \\\\ 1 \\end{bmatrix} e^{2t} + \n",
    "\\frac{1}{4} \\begin{bmatrix} 3 \\\\ 3 \\\\ 1 \\end{bmatrix} -\n",
    "\\frac{3}{8} \\begin{bmatrix} 1 \\\\ 3 \\\\ -1 \\end{bmatrix} e^{-2t}\n",
    "$$\n",
    "\n",
    "which we can plot"
   ]
  },
  {
   "cell_type": "code",
   "execution_count": 10,
   "metadata": {
    "collapsed": false
   },
   "outputs": [
    {
     "data": {
      "image/png": "[encoded data removed]",
      "text/plain": [
       "<matplotlib.figure.Figure at 0x108a01b00>"
      ]
     },
     "metadata": {},
     "output_type": "display_data"
    }
   ],
   "source": [
    "t = np.linspace(0,1,100)\n",
    "y1 = C[0,0]*V[0,0]*np.exp(eigvals[0]*t) + C[1,0]*V[0,1]*np.exp(eigvals[1]*t) + C[2,0]*V[0,2]*np.exp(eigvals[2]*t)\n",
    "y2 = C[0,0]*V[1,0]*np.exp(eigvals[0]*t) + C[1,0]*V[1,1]*np.exp(eigvals[1]*t) + C[2,0]*V[1,2]*np.exp(eigvals[2]*t)\n",
    "y3 = C[0,0]*V[2,0]*np.exp(eigvals[0]*t) + C[1,0]*V[2,1]*np.exp(eigvals[1]*t) + C[2,0]*V[2,2]*np.exp(eigvals[2]*t)\n",
    "plt.figure(figsize=(12,5))\n",
    "plt.plot(t,y1,label='$y_1(t)$')\n",
    "plt.plot(t,y2,label='$y_2(t)$')\n",
    "plt.plot(t,y3,label='$y_3(t)$')\n",
    "plt.legend(loc=0)\n",
    "plt.grid('on')\n",
    "plt.show()"
   ]
  },
  {
   "cell_type": "markdown",
   "metadata": {},
   "source": [
    "### Markov Chains\n",
    "\n",
    "A Markov chain is a set of states with probabilities at each state which describe the likelyhood to proceed to the next given state. For example, consider the example taken from [Wikipedia](https://en.wikipedia.org/wiki/Examples_of_Markov_chains#A_very_simple_weather_model) which describes a simple weather model. There are 2 states, rainy and sunny, and the probabilities of moving between each state is described in the diagram\n",
    "\n",
    "![Markov](https://upload.wikimedia.org/wikipedia/commons/7/7a/Markov_Chain_weather_model_matrix_as_a_graph.png)\n",
    "\n",
    "We can arrange all the probablilites into a transition matrix $P = [p_{i,j}]$ where $p_{i,j}$ is the probability of proceeding to state $i$ from state $j$. For example, if we label sunny as state 1 and rainy as state 2:\n",
    "\n",
    "* $p_{1,1} = 0.9$ is the probability that the next day is sunny (1) given that today is sunny (1)\n",
    "* $p_{1,2} = 0.5$ is the probability that the next day is sunny (1) given that today is rainy (2)\n",
    "* $p_{2,1} = 0.1$ is the probability that the next day is rainy (2) given that today is sunny (1)\n",
    "* $p_{2,2} = 0.5$ is the probability that the next day is rainy (2) given that today is rainy (2)\n",
    "\n",
    "so that\n",
    "\n",
    "$$\n",
    "P = \\begin{bmatrix} 0.9 & 0.5 \\\\ 0.1 & 0.5 \\end{bmatrix}\n",
    "$$"
   ]
  },
  {
   "cell_type": "code",
   "execution_count": 11,
   "metadata": {
    "collapsed": false
   },
   "outputs": [
    {
     "name": "stdout",
     "output_type": "stream",
     "text": [
      "[[ 0.9  0.5]\n",
      " [ 0.1  0.5]]\n"
     ]
    }
   ],
   "source": [
    "P = np.array([ [0.9,0.5], [0.1,0.5] ])\n",
    "print(P)"
   ]
  },
  {
   "cell_type": "markdown",
   "metadata": {},
   "source": [
    "Let $\\mathbf{x}_n$ be the probability vector\n",
    "\n",
    "$$\n",
    "\\mathbf{x}_n = \\begin{bmatrix} x_{n,1} \\\\ x_{n,2} \\end{bmatrix}\n",
    "$$\n",
    "\n",
    "such that the probability of being at state 1 after $n$ steps is $x_{n,1}$ and the probability of being at state 2 after $n$ steps is for $x_{n,2}$.\n",
    "\n",
    "This allows us to compute the probability vector at step $n+1$ as matrix multiplication\n",
    "\n",
    "$$\n",
    "\\mathbf{x_{n+1}} = P \\mathbf{x_n} = \\begin{bmatrix} x_{n,1} p_{1,1} + x_{x,2} p_{1,2} \\\\ x_{n,1} p_{2,1} + x_{n,2} p_{2,2} \\end{bmatrix}\n",
    "$$"
   ]
  },
  {
   "cell_type": "markdown",
   "metadata": {},
   "source": [
    "Let's say today is rainy, that is, $\\mathbf{x}_0 = \\begin{bmatrix} 0 \\\\ 1 \\end{bmatrix}$. **What is the probability that it's a rainy day one week later?** This just means we need to calculate $\\mathbf{x}_7$."
   ]
  },
  {
   "cell_type": "code",
   "execution_count": 12,
   "metadata": {
    "collapsed": false
   },
   "outputs": [
    {
     "name": "stdout",
     "output_type": "stream",
     "text": [
      "[[0]\n",
      " [1]]\n"
     ]
    }
   ],
   "source": [
    "x0 = np.array([ [0], [1] ])\n",
    "print(x0)"
   ]
  },
  {
   "cell_type": "markdown",
   "metadata": {
    "collapsed": true
   },
   "source": [
    "There's only one problem. Awkwardly, the package `scipy.linalg` doesn't have a function to compute matrix powers! So we need to do something like this:"
   ]
  },
  {
   "cell_type": "code",
   "execution_count": 13,
   "metadata": {
    "collapsed": false
   },
   "outputs": [
    {
     "data": {
      "text/plain": [
       "array([[ 0.8336064,  0.831968 ],\n",
       "       [ 0.1663936,  0.168032 ]])"
      ]
     },
     "execution_count": 13,
     "metadata": {},
     "output_type": "execute_result"
    }
   ],
   "source": [
    "la.fractional_matrix_power(P,7)"
   ]
  },
  {
   "cell_type": "code",
   "execution_count": 14,
   "metadata": {
    "collapsed": false
   },
   "outputs": [
    {
     "data": {
      "text/plain": [
       "array([[ 0.8336064,  0.831968 ],\n",
       "       [ 0.1663936,  0.168032 ]])"
      ]
     },
     "execution_count": 14,
     "metadata": {},
     "output_type": "execute_result"
    }
   ],
   "source": [
    "np.linalg.matrix_power(P,7)"
   ]
  },
  {
   "cell_type": "markdown",
   "metadata": {},
   "source": [
    "Anyway, the probability of that it's a rainy day one week later is 16.8%."
   ]
  },
  {
   "cell_type": "code",
   "execution_count": 15,
   "metadata": {
    "collapsed": false
   },
   "outputs": [
    {
     "data": {
      "text/plain": [
       "array([[ 0.831968],\n",
       "       [ 0.168032]])"
      ]
     },
     "execution_count": 15,
     "metadata": {},
     "output_type": "execute_result"
    }
   ],
   "source": [
    "P7 = np.linalg.matrix_power(P,7)\n",
    "np.dot(P7,x0)"
   ]
  },
  {
   "cell_type": "markdown",
   "metadata": {},
   "source": [
    "## 2. Exercises"
   ]
  },
  {
   "cell_type": "markdown",
   "metadata": {},
   "source": [
    "**Exercise.** Find the unique solution of the linear system of equations\n",
    "\n",
    "\\begin{align}\n",
    "y_1' &= 2y_1 + 3y_2 - 4y_3 \\\\\n",
    "y_2' &= 4y_1 + y_2 - 4y_3 \\\\\n",
    "y_3' &= -3y_1 + 3y_2 + y_3\n",
    "\\end{align}\n",
    "\n",
    "with $y_1(0) = 0$, $y_2(0) = 1$ and $y_3(0) = -2$."
   ]
  },
  {
   "cell_type": "markdown",
   "metadata": {},
   "source": [
    "**Exercise.** Let $P$ be the transition matrix of a Markov chain. A **steady state vector** is a vector $\\mathbf{s}$ which satisties\n",
    "\n",
    "$$\n",
    "\\mathbf{s} = P \\mathbf{s}\n",
    "$$\n",
    "\n",
    "In other words, the steady state vector is an eigenvector of $P$ with eigenvalue 1 **such that the entries of that eigenvector sum to 1**.\n",
    "\n",
    "Consider a hockey shootout where Teams A and B takes turns until a single goal determines the winner of the game. For any turn, Team A has a 1/3 chance of scoring and Team B has a 2/5 chance of scoring. Find the transition matrix $P$ and the steady states using 4 states:\n",
    "\n",
    "1. The game is not won and Team A is shooting\n",
    "2. The game is not won and Team B is shooting\n",
    "3. Team A has won the shootout\n",
    "4. Team B has won the shootout"
   ]
  },
  {
   "cell_type": "markdown",
   "metadata": {},
   "source": [
    "**Exercise.** Biologists at UBC observe the movement of a flock of birds on campus. They determine that the flock has three nesting areas labelled 1, 2 and 3. The daily position of the flock is as follows:\n",
    "\n",
    "* If the flock is at 1, then there is a 20% chance the flocks moves to 2 the next day. Otherwise the flock remains at 1.\n",
    "* If the flock is at 2, then there is a 40% chance the flocks moves to 3 the next day. Otherwise the flock remains at 2.\n",
    "* If the flock is at 3, then there is a 50% chance the flocks moves to 1 the next day. Otherwise the flock remains at 3.\n",
    "\n",
    "Find the transition matrix $P$ and the steady state."
   ]
  }
 ],
 "metadata": {
  "kernelspec": {
   "display_name": "Python 3",
   "language": "python",
   "name": "python3"
  },
  "language_info": {
   "codemirror_mode": {
    "name": "ipython",
    "version": 3
   },
   "file_extension": ".py",
   "mimetype": "text/x-python",
   "name": "python",
   "nbconvert_exporter": "python",
   "pygments_lexer": "ipython3",
   "version": "3.4.3"
  }
 },
 "nbformat": 4,
 "nbformat_minor": 0
}
