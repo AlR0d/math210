{
 "cells": [
  {
   "cell_type": "markdown",
   "metadata": {},
   "source": [
    "# Assignment 2 Solutions"
   ]
  },
  {
   "cell_type": "markdown",
   "metadata": {},
   "source": [
    "**QUESTION 1**\n",
    "\n",
    "Write a function called `roots` which takes 3 numerical inputs $a$, $b$ and $c$ (which represent the polynomial $ax^2 + bx + c$) and does the following:\n",
    "\n",
    "* if the roots of $ax^2 + bx + c$ are real and distinct, return a Python list consisting of the two roots\n",
    "* if the roots of $ax^2 + bx + c$ are real and repeated, return the single root\n",
    "* if the roots of $ax^2 + bx + c$ are complex, return a list of length 2 such that both entries of the list are lists which give the real part and the imaginary part of each root. In other words, if r1 and r2 are the complex roots, then the function returns: [ [ Real part of r1, Imaginary part of r1] , [ Real part of r2, Imaginary part of r2 ] ]"
   ]
  },
  {
   "cell_type": "markdown",
   "metadata": {},
   "source": [
    "**Solution**\n",
    "\n",
    "The roots of the polynomial $ax^2 + bx + c$ are given by the quadratic formula\n",
    "\n",
    "$$\n",
    "\\frac{-b \\pm \\sqrt{b^2 - 4ac}}{2a}\n",
    "$$\n",
    "\n",
    "The roots are real and distinct when the discriminant $d = b^2 - 4ac$ is positive, the roots are complex when $d < 0$ and there is a single root when $d = 0$.\n",
    "\n",
    "In the complex case when $d < 0$, notice that we can write the roots as\n",
    "\n",
    "$$\n",
    "\\frac{-b}{2a} \\pm i \\frac{\\sqrt{|d|}}{2a}\n",
    "$$\n"
   ]
  },
  {
   "cell_type": "code",
   "execution_count": 1,
   "metadata": {
    "collapsed": true
   },
   "outputs": [],
   "source": [
    "def roots(a,b,c):\n",
    "    \"Compute the roots of a quadratic polynomial a*x**2 + b*x + c.\"\n",
    "    discriminant = b**2 - 4*a*c\n",
    "    # The roots are real and distinct when discriminant > 0\n",
    "    if discriminant > 0:\n",
    "        r1 = (-b + discriminant**0.5)/(2*a)\n",
    "        r2 = (-b - discriminant**0.5)/(2*a)\n",
    "        return [r1,r2]\n",
    "    # The roots are complex when discriminant < 0\n",
    "    elif discriminant < 0:\n",
    "        # The real part of the root 1\n",
    "        r1_real = -b/(2*a)\n",
    "        # The imaginary part of the root 1\n",
    "        r1_imag = abs(discriminant)**0.5/(2*a)\n",
    "        # Root 2 is simply the conjugate of root 1\n",
    "        r2_real = r1_real\n",
    "        r2_imag = -r1_imag\n",
    "        return [[r1_real,r1_imag],[r2_real,r2_imag]]\n",
    "    # There is a single real repeated root when discriminant = 0\n",
    "    else:\n",
    "        return -b/2*a"
   ]
  },
  {
   "cell_type": "code",
   "execution_count": 2,
   "metadata": {
    "collapsed": false
   },
   "outputs": [
    {
     "data": {
      "text/plain": [
       "[1.0, -1.0]"
      ]
     },
     "execution_count": 2,
     "metadata": {},
     "output_type": "execute_result"
    }
   ],
   "source": [
    "roots(1,0,-1)"
   ]
  },
  {
   "cell_type": "code",
   "execution_count": 3,
   "metadata": {
    "collapsed": false
   },
   "outputs": [
    {
     "data": {
      "text/plain": [
       "-1.0"
      ]
     },
     "execution_count": 3,
     "metadata": {},
     "output_type": "execute_result"
    }
   ],
   "source": [
    "roots(1,2,1)"
   ]
  },
  {
   "cell_type": "code",
   "execution_count": 4,
   "metadata": {
    "collapsed": false
   },
   "outputs": [
    {
     "data": {
      "text/plain": [
       "[[0.0, 1.0], [0.0, -1.0]]"
      ]
     },
     "execution_count": 4,
     "metadata": {},
     "output_type": "execute_result"
    }
   ],
   "source": [
    "roots(1,0,1)"
   ]
  },
  {
   "cell_type": "code",
   "execution_count": 5,
   "metadata": {
    "collapsed": false
   },
   "outputs": [
    {
     "data": {
      "text/plain": [
       "[[-1.0, 1.0], [-1.0, -1.0]]"
      ]
     },
     "execution_count": 5,
     "metadata": {},
     "output_type": "execute_result"
    }
   ],
   "source": [
    "roots(1,2,2)"
   ]
  },
  {
   "cell_type": "markdown",
   "metadata": {},
   "source": [
    "**QUESTION 2**\n",
    "\n",
    "\n",
    "Write a function called `fibonacci_less_than` which takes an integer $N$ and computes the largest Fibonacci number less than (or equal to) $N$. Use your function to find the largest Fibonacci number which is less than 1,000,000."
   ]
  },
  {
   "cell_type": "markdown",
   "metadata": {},
   "source": [
    "**Solution 1 **\n",
    "\n",
    "The sequence of Fibonacci numbers is defined by the recursion relation:\n",
    "\n",
    "$$\n",
    "\\begin{align*}\n",
    "x_0 &= 1 \\\\\n",
    "x_1 &= 1 \\\\\n",
    "x_n &= x_{n-1} + x_{n-2}\n",
    "\\end{align*}\n",
    "$$\n",
    "\n",
    "Notice that $x_n \\geq n$ for all $n \\geq 1$ therefore the $N$th Fibonacci number (for $N \\geq 1$) will certainly be greater than or equal to $N$.\n",
    "\n",
    "Let's write a function which constructs the list of Fibonacci numbers up to $N$ and then returns the last number in the list."
   ]
  },
  {
   "cell_type": "code",
   "execution_count": 6,
   "metadata": {
    "collapsed": false
   },
   "outputs": [],
   "source": [
    "def fibonacci_less_than(N):\n",
    "    \"Compute the largest Fibonacci number less than or equal to a positive integer N.\"\n",
    "    # First let's take care of the cases N = 1 and N = 2\n",
    "    if N == 1 or N == 2:\n",
    "        return N\n",
    "    # Define the first two Fibonacci numbers in the list\n",
    "    fib_list = [1,1]\n",
    "    for n in range(2,N+1):\n",
    "        # Compute the next Fibonacci number and append it to the list \n",
    "        fib_list.append( fib_list[n-1] + fib_list[n-2] )\n",
    "        # Stop the for loop when the last Fibonacci number computed is larger than N\n",
    "        if fib_list[-1] > N:\n",
    "            # Return the second last Fibonaaci number computed\n",
    "            # since it's the largest less than or equal to N\n",
    "            return fib_list[-2]"
   ]
  },
  {
   "cell_type": "markdown",
   "metadata": {},
   "source": [
    "Let's test our function to make sure it's correct:"
   ]
  },
  {
   "cell_type": "code",
   "execution_count": 7,
   "metadata": {
    "collapsed": false
   },
   "outputs": [
    {
     "data": {
      "text/plain": [
       "1"
      ]
     },
     "execution_count": 7,
     "metadata": {},
     "output_type": "execute_result"
    }
   ],
   "source": [
    "fibonacci_less_than(1)"
   ]
  },
  {
   "cell_type": "code",
   "execution_count": 8,
   "metadata": {
    "collapsed": false
   },
   "outputs": [
    {
     "data": {
      "text/plain": [
       "2"
      ]
     },
     "execution_count": 8,
     "metadata": {},
     "output_type": "execute_result"
    }
   ],
   "source": [
    "fibonacci_less_than(2)"
   ]
  },
  {
   "cell_type": "code",
   "execution_count": 9,
   "metadata": {
    "collapsed": false
   },
   "outputs": [
    {
     "data": {
      "text/plain": [
       "5"
      ]
     },
     "execution_count": 9,
     "metadata": {},
     "output_type": "execute_result"
    }
   ],
   "source": [
    "fibonacci_less_than(5)"
   ]
  },
  {
   "cell_type": "code",
   "execution_count": 10,
   "metadata": {
    "collapsed": false
   },
   "outputs": [
    {
     "data": {
      "text/plain": [
       "13"
      ]
     },
     "execution_count": 10,
     "metadata": {},
     "output_type": "execute_result"
    }
   ],
   "source": [
    "fibonacci_less_than(20)"
   ]
  },
  {
   "cell_type": "code",
   "execution_count": 11,
   "metadata": {
    "collapsed": false
   },
   "outputs": [
    {
     "data": {
      "text/plain": [
       "89"
      ]
     },
     "execution_count": 11,
     "metadata": {},
     "output_type": "execute_result"
    }
   ],
   "source": [
    "fibonacci_less_than(100)"
   ]
  },
  {
   "cell_type": "markdown",
   "metadata": {},
   "source": [
    "Now we can use our function to find the largest Fibonacci number less than 1000000:"
   ]
  },
  {
   "cell_type": "code",
   "execution_count": 12,
   "metadata": {
    "collapsed": false
   },
   "outputs": [
    {
     "data": {
      "text/plain": [
       "832040"
      ]
     },
     "execution_count": 12,
     "metadata": {},
     "output_type": "execute_result"
    }
   ],
   "source": [
    "fibonacci_less_than(1000000)"
   ]
  },
  {
   "cell_type": "markdown",
   "metadata": {},
   "source": [
    "**Solution 2**\n",
    "\n",
    "Instead of constructing the list of Fibonacci numbers up to $N$ and then returning the last number in the list, let's just compute the numbers in the sequence and forget about the past values as we go."
   ]
  },
  {
   "cell_type": "code",
   "execution_count": 13,
   "metadata": {
    "collapsed": true
   },
   "outputs": [],
   "source": [
    "def fibonacci_less_than_solution_2(N):\n",
    "    \"Compute the largest Fibonacci number less than or equal to a positive integer N.\"\n",
    "    # First let's take care of the cases N = 1 and N = 2\n",
    "    if N == 1 or N == 2:\n",
    "        return N\n",
    "    # Define the first three Fibonacci numbers in the list\n",
    "    fib_n_minus_1 = 1\n",
    "    fib_n_minus_2 = 1\n",
    "    fib_n = 2\n",
    "    while fib_n < N:\n",
    "        # Update the values:\n",
    "        # The new x_{n-2} is the old x_{n-1}\n",
    "        fib_n_minus_2 = fib_n_minus_1\n",
    "        # The new x_{n-1} is the old x_n\n",
    "        fib_n_minus_1 = fib_n\n",
    "        # Compute the next Fibonacci number\n",
    "        fib_n = fib_n_minus_1 + fib_n_minus_2\n",
    "    # Return the second last Fibonaaci number computed\n",
    "    # since it's the largest less than or equal to N\n",
    "    return fib_n_minus_1"
   ]
  },
  {
   "cell_type": "code",
   "execution_count": 14,
   "metadata": {
    "collapsed": false
   },
   "outputs": [
    {
     "data": {
      "text/plain": [
       "832040"
      ]
     },
     "execution_count": 14,
     "metadata": {},
     "output_type": "execute_result"
    }
   ],
   "source": [
    "fibonacci_less_than_solution_2(1000000)"
   ]
  },
  {
   "cell_type": "markdown",
   "metadata": {},
   "source": [
    "**QUESTION 3**\n",
    "\n",
    "Write a function called `divisors` which takes an integer $N$ and returns a Python list of all its (positive) divisors. For example, if $N = 12$ then the function returns `[1,2,3,4,6,12]`.\n",
    "\n",
    "**Solution 1**"
   ]
  },
  {
   "cell_type": "code",
   "execution_count": 15,
   "metadata": {
    "collapsed": true
   },
   "outputs": [],
   "source": [
    "def divisors(N):\n",
    "    \"Compute the list of positive divisors of N.\"\n",
    "    # The list always starts with 1\n",
    "    list_of_divisors = [1]\n",
    "    # We only need to check divisors up to N/2\n",
    "    for d in range(2,round(N/2)+1):\n",
    "        if N % d == 0:\n",
    "            # If N is divisible by d, append the divisor d to the list\n",
    "            list_of_divisors.append(d)\n",
    "    # The list always ends with N\n",
    "    list_of_divisors.append(N)\n",
    "    return list_of_divisors"
   ]
  },
  {
   "cell_type": "markdown",
   "metadata": {},
   "source": [
    "Let's test our function:"
   ]
  },
  {
   "cell_type": "code",
   "execution_count": 16,
   "metadata": {
    "collapsed": false
   },
   "outputs": [
    {
     "data": {
      "text/plain": [
       "[1, 2, 3, 4, 6, 12]"
      ]
     },
     "execution_count": 16,
     "metadata": {},
     "output_type": "execute_result"
    }
   ],
   "source": [
    "divisors(12)"
   ]
  },
  {
   "cell_type": "code",
   "execution_count": 17,
   "metadata": {
    "collapsed": false
   },
   "outputs": [
    {
     "data": {
      "text/plain": [
       "[1, 17]"
      ]
     },
     "execution_count": 17,
     "metadata": {},
     "output_type": "execute_result"
    }
   ],
   "source": [
    "divisors(17)"
   ]
  },
  {
   "cell_type": "code",
   "execution_count": 18,
   "metadata": {
    "collapsed": false
   },
   "outputs": [
    {
     "data": {
      "text/plain": [
       "[1, 3, 9, 27, 81]"
      ]
     },
     "execution_count": 18,
     "metadata": {},
     "output_type": "execute_result"
    }
   ],
   "source": [
    "divisors(81)"
   ]
  },
  {
   "cell_type": "markdown",
   "metadata": {},
   "source": [
    "**Solution 2**"
   ]
  },
  {
   "cell_type": "code",
   "execution_count": 19,
   "metadata": {
    "collapsed": true
   },
   "outputs": [],
   "source": [
    "def divisors_solution_2(N):\n",
    "    \"Compute the list of positive divisors of N.\"\n",
    "    # The list always includes 1 and N\n",
    "    list_of_divisors = [1,N]\n",
    "    # We only need to check divisors up to \\sqrt{N}\n",
    "    # if we append d and the quotient N//d for each divisor d <= \\sqrt{N}\n",
    "    # (except when N = d^2)\n",
    "    for d in range(2,round(N ** 0.5)+1):\n",
    "        if N % d == 0:\n",
    "            list_of_divisors.append(d)\n",
    "            # Append the quotient N//d only if N is not d^2\n",
    "            # to avoid appending d twice\n",
    "            if d != N // d:\n",
    "                list_of_divisors.append(N // d)\n",
    "    return list_of_divisors"
   ]
  },
  {
   "cell_type": "code",
   "execution_count": 20,
   "metadata": {
    "collapsed": false
   },
   "outputs": [
    {
     "data": {
      "text/plain": [
       "[1, 81, 3, 27, 9]"
      ]
     },
     "execution_count": 20,
     "metadata": {},
     "output_type": "execute_result"
    }
   ],
   "source": [
    "divisors_solution_2(81)"
   ]
  },
  {
   "cell_type": "markdown",
   "metadata": {},
   "source": [
    "**QUESTION 4**\n",
    "\n",
    "In number theory, the sum of divisors function $\\sigma_k(n)$ is\n",
    "\n",
    "$$\n",
    "\\sigma_k(n) = \\sum_{d | n} d^k\n",
    "$$\n",
    "\n",
    "where the sum is taken over the positive divisors $d$ of $n$. For example, $\\sigma_2(12)$ is the sum\n",
    "\n",
    "$$\n",
    "\\sigma_2(12) = 1^2 + 2^2 + 3^2 + 4^2 + 6^2 + 12^2 = 210.\n",
    "$$\n",
    "\n",
    "Use the function `divisors` from previous question to write a function called `sum_of_divisors` which takes 2 inputs $k$ and $n$ and returns $\\sigma_k(n)$."
   ]
  },
  {
   "cell_type": "markdown",
   "metadata": {},
   "source": [
    "**Solution**"
   ]
  },
  {
   "cell_type": "code",
   "execution_count": 21,
   "metadata": {
    "collapsed": true
   },
   "outputs": [],
   "source": [
    "# The function divisors is included in this cell for convenience\n",
    "# It's not necessary to include this function here if it has already\n",
    "# been defined in a cell above\n",
    "def divisors(N):\n",
    "    \"Compute the list of positive divisors of N.\"\n",
    "    # The list always starts with 1\n",
    "    list_of_divisors = [1]\n",
    "    # We only need to check divisors up to N/2\n",
    "    for d in range(2,round(N/2)+1):\n",
    "        if N % d == 0:\n",
    "            list_of_divisors.append(d)\n",
    "    # The list always ends with N\n",
    "    list_of_divisors.append(N)\n",
    "    return list_of_divisors\n",
    "\n",
    "def sum_of_divisors(k,n):\n",
    "    \"Compute the sum of the k powers of the positive divisors of n.\"\n",
    "    list_of_divisors = divisors(n)\n",
    "    list_of_k_powers = []\n",
    "    for divisor in list_of_divisors:\n",
    "        list_of_k_powers.append( divisor**k )\n",
    "    return sum(list_of_k_powers)"
   ]
  },
  {
   "cell_type": "markdown",
   "metadata": {},
   "source": [
    "Let's test our function:"
   ]
  },
  {
   "cell_type": "code",
   "execution_count": 22,
   "metadata": {
    "collapsed": false
   },
   "outputs": [
    {
     "data": {
      "text/plain": [
       "210"
      ]
     },
     "execution_count": 22,
     "metadata": {},
     "output_type": "execute_result"
    }
   ],
   "source": [
    "sum_of_divisors(2,12)"
   ]
  },
  {
   "cell_type": "code",
   "execution_count": 23,
   "metadata": {
    "collapsed": false
   },
   "outputs": [
    {
     "data": {
      "text/plain": [
       "14"
      ]
     },
     "execution_count": 23,
     "metadata": {},
     "output_type": "execute_result"
    }
   ],
   "source": [
    "sum_of_divisors(1,13)"
   ]
  },
  {
   "cell_type": "markdown",
   "metadata": {},
   "source": [
    "**QUESTION 5**\n",
    "\n",
    "Write a function called `is_prime` which takes an integer $N$ and returns the Boolean value **True** if $N$ is prime and **False** if $N$ is not prime."
   ]
  },
  {
   "cell_type": "code",
   "execution_count": 24,
   "metadata": {
    "collapsed": true
   },
   "outputs": [],
   "source": [
    "def is_prime(N):\n",
    "    \"Determine if a positive integer N is prime.\"\n",
    "    if N <= 1:\n",
    "        return False\n",
    "    if N == 2:\n",
    "        return True\n",
    "    for d in range(2,round(N** 0.5)+1):\n",
    "        # If N > 2 is divisible by any integer d where 2 <= d <= N**0.5, then N is not prime\n",
    "        if N % d == 0:\n",
    "            return False\n",
    "    # If N > 2 is not divisible by any integer d where 2 <= d <= N**0.5, then N is prime\n",
    "    return True"
   ]
  },
  {
   "cell_type": "markdown",
   "metadata": {},
   "source": [
    "Let's test our function on all the integers up to 30:"
   ]
  },
  {
   "cell_type": "code",
   "execution_count": 25,
   "metadata": {
    "collapsed": false
   },
   "outputs": [
    {
     "name": "stdout",
     "output_type": "stream",
     "text": [
      "2 is a prime number.\n",
      "3 is a prime number.\n",
      "5 is a prime number.\n",
      "7 is a prime number.\n",
      "11 is a prime number.\n",
      "13 is a prime number.\n",
      "17 is a prime number.\n",
      "19 is a prime number.\n",
      "23 is a prime number.\n",
      "29 is a prime number.\n"
     ]
    }
   ],
   "source": [
    "for n in range(1,31):\n",
    "    if is_prime(n):\n",
    "        print(n, 'is a prime number.')"
   ]
  },
  {
   "cell_type": "markdown",
   "metadata": {},
   "source": [
    "**QUESTION 6**\n",
    "\n",
    "Use the function `is_prime` from the previous question to write a function called `primes_up_to` which takes an integer $N$ and returns a Python list of all primes $p \\leq N$.\n",
    "\n",
    "**Solution**"
   ]
  },
  {
   "cell_type": "code",
   "execution_count": 26,
   "metadata": {
    "collapsed": true
   },
   "outputs": [],
   "source": [
    "# The function is_prime is included in this cell for convenience\n",
    "# It's not necessary to include this function here if it has already\n",
    "# been defined in a cell above\n",
    "def is_prime(N):\n",
    "    \"Determine if a positive integer N is prime.\"\n",
    "    if N <= 1:\n",
    "        return False\n",
    "    if N == 2:\n",
    "        return True\n",
    "    for d in range(2,round(N** 0.5)+1):\n",
    "        # If N > 2 is divisible by any integer d where 2 <= d <= N**0.5, then N is not prime\n",
    "        if N % d == 0:\n",
    "            return False\n",
    "    # If N > 2 is not divisible by any integer d where 2 <= d <= N**0.5, then N is prime\n",
    "    return True\n",
    "\n",
    "def primes_up_to(N):\n",
    "    \"Given N > 1, construct the list of all primes p <= N.\"\n",
    "    list_of_primes = []\n",
    "    for n in range(2,N+1):\n",
    "        if is_prime(n):\n",
    "            list_of_primes.append(n)\n",
    "    return list_of_primes"
   ]
  },
  {
   "cell_type": "markdown",
   "metadata": {},
   "source": [
    "Let's test our function:"
   ]
  },
  {
   "cell_type": "code",
   "execution_count": 27,
   "metadata": {
    "collapsed": false
   },
   "outputs": [
    {
     "data": {
      "text/plain": [
       "[2, 3, 5, 7, 11, 13, 17, 19, 23, 29, 31, 37, 41, 43]"
      ]
     },
     "execution_count": 27,
     "metadata": {},
     "output_type": "execute_result"
    }
   ],
   "source": [
    "primes_up_to(43)"
   ]
  },
  {
   "cell_type": "markdown",
   "metadata": {},
   "source": [
    "**QUESTION 7**\n",
    "\n",
    "Write a function called `twin_primes` which takes an integer $N$ and returns a list of twin primes (given as a list of length 2) less than (or equal to) $N$."
   ]
  },
  {
   "cell_type": "code",
   "execution_count": 28,
   "metadata": {
    "collapsed": true
   },
   "outputs": [],
   "source": [
    "# The functions is_prime and primes_up_to are included in this cell for convenience\n",
    "# It's not necessary to include these functions here if they have already\n",
    "# been defined in cells above\n",
    "def is_prime(N):\n",
    "    \"Determine if a positive integer N is prime.\"\n",
    "    if N == 1:\n",
    "        return False\n",
    "    if N == 2:\n",
    "        return True\n",
    "    for d in range(2,round(N** 0.5)+1):\n",
    "        # If N > 2 is divisible by any integer d where 2 <= d <= N**0.5, then N is not prime\n",
    "        if N % d == 0:\n",
    "            return False\n",
    "    # If N > 2 is not divisible by any integer d where 2 <= d <= N**0.5, then N is prime\n",
    "    return True\n",
    "\n",
    "def primes_up_to(N):\n",
    "    \"Given N > 1, construct the list of all primes p <= N.\"\n",
    "    list_of_primes = []\n",
    "    for n in range(2,N+1):\n",
    "        if is_prime(n):\n",
    "            list_of_primes.append(n)\n",
    "    return list_of_primes\n",
    "\n",
    "def twin_primes(N):\n",
    "    list_of_twin_primes = []\n",
    "    list_of_primes = primes_up_to(N)\n",
    "    for prime in list_of_primes:\n",
    "        if is_prime(prime + 2):\n",
    "            list_of_twin_primes.append([prime,prime+2])\n",
    "    return list_of_twin_primes"
   ]
  },
  {
   "cell_type": "code",
   "execution_count": 29,
   "metadata": {
    "collapsed": false
   },
   "outputs": [
    {
     "data": {
      "text/plain": [
       "[[3, 5], [5, 7], [11, 13], [17, 19], [29, 31], [41, 43]]"
      ]
     },
     "execution_count": 29,
     "metadata": {},
     "output_type": "execute_result"
    }
   ],
   "source": [
    "twin_primes(43)"
   ]
  },
  {
   "cell_type": "code",
   "execution_count": 30,
   "metadata": {
    "collapsed": false
   },
   "outputs": [
    {
     "data": {
      "text/plain": [
       "[[3, 5],\n",
       " [5, 7],\n",
       " [11, 13],\n",
       " [17, 19],\n",
       " [29, 31],\n",
       " [41, 43],\n",
       " [59, 61],\n",
       " [71, 73],\n",
       " [101, 103],\n",
       " [107, 109],\n",
       " [137, 139],\n",
       " [149, 151],\n",
       " [179, 181],\n",
       " [191, 193],\n",
       " [197, 199]]"
      ]
     },
     "execution_count": 30,
     "metadata": {},
     "output_type": "execute_result"
    }
   ],
   "source": [
    "twin_primes(200)"
   ]
  }
 ],
 "metadata": {
  "kernelspec": {
   "display_name": "Python 3",
   "language": "python",
   "name": "python3"
  },
  "language_info": {
   "codemirror_mode": {
    "name": "ipython",
    "version": 3
   },
   "file_extension": ".py",
   "mimetype": "text/x-python",
   "name": "python",
   "nbconvert_exporter": "python",
   "pygments_lexer": "ipython3",
   "version": "3.4.3"
  }
 },
 "nbformat": 4,
 "nbformat_minor": 0
}
