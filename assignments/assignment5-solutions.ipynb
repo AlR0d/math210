{
 "cells": [
  {
   "cell_type": "markdown",
   "metadata": {},
   "source": [
    "# Assignment 5 Solutions"
   ]
  },
  {
   "cell_type": "code",
   "execution_count": 1,
   "metadata": {
    "collapsed": true
   },
   "outputs": [],
   "source": [
    "import numpy as np\n",
    "import matplotlib.pyplot as plt\n",
    "import scipy.integrate as spi\n",
    "%matplotlib inline"
   ]
  },
  {
   "cell_type": "markdown",
   "metadata": {},
   "source": [
    "**QUESTION 1**"
   ]
  },
  {
   "cell_type": "code",
   "execution_count": 2,
   "metadata": {
    "collapsed": true
   },
   "outputs": [],
   "source": [
    "def riemann_sum(y,x,method='left'):\n",
    "    '''\n",
    "    Compute the Riemann sum given the arrays of x and y values.\n",
    "    \n",
    "    INPUT:\n",
    "    x - array of x values\n",
    "    y - array, coresponding array of y values of the integrand\n",
    "    method - string, compute Riemann sum with left endpoints if method == 'left' or right endpoints if method == 'right'\n",
    "    \n",
    "    RETURNS:\n",
    "    The Riemann sum defined by the partition x using left or right endpoints.\n",
    "    '''\n",
    "    n = len(x)\n",
    "    if method == 'left':\n",
    "        return sum([ y[i-1]*(x[i] - x[i-1]) for i in range(1,n) ])\n",
    "    elif method == 'right':\n",
    "        return sum([ y[i]*(x[i] - x[i-1]) for i in range(1,n) ])"
   ]
  },
  {
   "cell_type": "code",
   "execution_count": 3,
   "metadata": {
    "collapsed": false
   },
   "outputs": [
    {
     "data": {
      "text/plain": [
       "1.9999983517708495"
      ]
     },
     "execution_count": 3,
     "metadata": {},
     "output_type": "execute_result"
    }
   ],
   "source": [
    "x = np.linspace(0,np.pi,1000)\n",
    "y = np.sin(x)\n",
    "riemann_sum(y,x)"
   ]
  },
  {
   "cell_type": "code",
   "execution_count": 4,
   "metadata": {
    "collapsed": false
   },
   "outputs": [
    {
     "data": {
      "text/plain": [
       "1.9999983517708528"
      ]
     },
     "execution_count": 4,
     "metadata": {},
     "output_type": "execute_result"
    }
   ],
   "source": [
    "riemann_sum(y,x,method='right')"
   ]
  },
  {
   "cell_type": "markdown",
   "metadata": {},
   "source": [
    "**QUESTION 2**"
   ]
  },
  {
   "cell_type": "code",
   "execution_count": 5,
   "metadata": {
    "collapsed": false
   },
   "outputs": [
    {
     "name": "stdout",
     "output_type": "stream",
     "text": [
      "0.24873117470336062\n"
     ]
    }
   ],
   "source": [
    "def f(x):\n",
    "    return x * np.arcsin(x) / (1 + x**2)\n",
    "\n",
    "approximation, error = spi.quad(f,0,1)\n",
    "print(approximation)"
   ]
  },
  {
   "cell_type": "code",
   "execution_count": 6,
   "metadata": {
    "collapsed": false
   },
   "outputs": [
    {
     "name": "stdout",
     "output_type": "stream",
     "text": [
      "0.248731174703\n"
     ]
    }
   ],
   "source": [
    "true_value = np.pi/2*np.log(2*np.sqrt(2)/(1 + np.sqrt(2)))\n",
    "print(true_value)"
   ]
  },
  {
   "cell_type": "code",
   "execution_count": 7,
   "metadata": {
    "collapsed": false
   },
   "outputs": [
    {
     "data": {
      "text/plain": [
       "True"
      ]
     },
     "execution_count": 7,
     "metadata": {},
     "output_type": "execute_result"
    }
   ],
   "source": [
    "abs(approximation - true_value) < error"
   ]
  },
  {
   "cell_type": "markdown",
   "metadata": {},
   "source": [
    "**QUESTION 3**"
   ]
  },
  {
   "cell_type": "code",
   "execution_count": 8,
   "metadata": {
    "collapsed": true
   },
   "outputs": [],
   "source": [
    "def fresnel(alpha=1,b=5,trig_fun='sin'):\n",
    "    \"Plot the Fresnel sine/cosine function with parameter alpha over the interval [0,b].\"\n",
    "    if trig_fun == 'sin':\n",
    "        def f(y,t):\n",
    "            return np.sin(alpha * t**2)\n",
    "    elif trig_fun == 'cos':\n",
    "        def f(y,t):\n",
    "            return np.cos(alpha * t**2)\n",
    "    \n",
    "    t = np.linspace(0,b,200*alpha)\n",
    "    y = spi.odeint(f,0,t)\n",
    "    plt.plot(t,y)\n",
    "    plt.show()"
   ]
  },
  {
   "cell_type": "code",
   "execution_count": 9,
   "metadata": {
    "collapsed": false
   },
   "outputs": [
    {
     "data": {
      "image/png": "[encoded data removed]",
      "text/plain": [
       "<matplotlib.figure.Figure at 0x108a985c0>"
      ]
     },
     "metadata": {},
     "output_type": "display_data"
    }
   ],
   "source": [
    "fresnel(2,trig_fun='cos')"
   ]
  },
  {
   "cell_type": "markdown",
   "metadata": {
    "collapsed": true
   },
   "source": [
    "**QUESTION 4**"
   ]
  },
  {
   "cell_type": "code",
   "execution_count": 10,
   "metadata": {
    "collapsed": true
   },
   "outputs": [],
   "source": [
    "def trig_ode(alpha=1,beta=1,y0=0,tf=10):\n",
    "    \"Plot and return the solution of the ODE y' = sin(alpha*y) + cos(beta*t) with y(0)=y0 over the interval [0,10].\"\n",
    "    def f(y,t):\n",
    "        return np.sin(alpha*y) + np.cos(beta*t)\n",
    "    t = np.linspace(0,tf,500)\n",
    "    y = spi.odeint(f,y0,t)\n",
    "    plt.plot(t,y)\n",
    "    plt.show()\n",
    "    return (y,t)"
   ]
  },
  {
   "cell_type": "code",
   "execution_count": 11,
   "metadata": {
    "collapsed": false
   },
   "outputs": [
    {
     "data": {
      "image/png": "[encoded data removed]",
      "text/plain": [
       "<matplotlib.figure.Figure at 0x108b5f978>"
      ]
     },
     "metadata": {},
     "output_type": "display_data"
    }
   ],
   "source": [
    "y,t = trig_ode(3)"
   ]
  }
 ],
 "metadata": {
  "kernelspec": {
   "display_name": "Python 3",
   "language": "python",
   "name": "python3"
  },
  "language_info": {
   "codemirror_mode": {
    "name": "ipython",
    "version": 3
   },
   "file_extension": ".py",
   "mimetype": "text/x-python",
   "name": "python",
   "nbconvert_exporter": "python",
   "pygments_lexer": "ipython3",
   "version": "3.4.3"
  }
 },
 "nbformat": 4,
 "nbformat_minor": 0
}
