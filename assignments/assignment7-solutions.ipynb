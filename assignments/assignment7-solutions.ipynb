{
 "cells": [
  {
   "cell_type": "markdown",
   "metadata": {},
   "source": [
    "# Assignment 7 Solutions"
   ]
  },
  {
   "cell_type": "code",
   "execution_count": 2,
   "metadata": {
    "collapsed": true
   },
   "outputs": [],
   "source": [
    "import pandas as pd\n",
    "import matplotlib.pyplot as plt\n",
    "%matplotlib inline"
   ]
  },
  {
   "cell_type": "markdown",
   "metadata": {},
   "source": [
    "**QUESTION 1**"
   ]
  },
  {
   "cell_type": "code",
   "execution_count": 3,
   "metadata": {
    "collapsed": false
   },
   "outputs": [],
   "source": [
    "df = pd.read_csv('http://www.math.ubc.ca/~pwalls/data/a7_diseases.csv')"
   ]
  },
  {
   "cell_type": "code",
   "execution_count": 4,
   "metadata": {
    "collapsed": false
   },
   "outputs": [
    {
     "data": {
      "text/html": [
       "<div>\n",
       "<table border=\"1\" class=\"dataframe\">\n",
       "  <thead>\n",
       "    <tr style=\"text-align: right;\">\n",
       "      <th></th>\n",
       "      <th>Disease</th>\n",
       "      <th>Fiscal Year</th>\n",
       "      <th>Gender</th>\n",
       "      <th>Age Group</th>\n",
       "      <th>Population</th>\n",
       "      <th>Incidence</th>\n",
       "      <th>Prevalence</th>\n",
       "      <th>Mortality with Disease</th>\n",
       "      <th>Mortality without Disease</th>\n",
       "    </tr>\n",
       "  </thead>\n",
       "  <tbody>\n",
       "    <tr>\n",
       "      <th>0</th>\n",
       "      <td>Diabetes</td>\n",
       "      <td>1999</td>\n",
       "      <td>F</td>\n",
       "      <td>1 to 4</td>\n",
       "      <td>651470</td>\n",
       "      <td>150</td>\n",
       "      <td>340</td>\n",
       "      <td>0</td>\n",
       "      <td>220</td>\n",
       "    </tr>\n",
       "    <tr>\n",
       "      <th>1</th>\n",
       "      <td>Diabetes</td>\n",
       "      <td>1999</td>\n",
       "      <td>F</td>\n",
       "      <td>5 to 9</td>\n",
       "      <td>918920</td>\n",
       "      <td>280</td>\n",
       "      <td>1230</td>\n",
       "      <td>0</td>\n",
       "      <td>110</td>\n",
       "    </tr>\n",
       "    <tr>\n",
       "      <th>2</th>\n",
       "      <td>Diabetes</td>\n",
       "      <td>1999</td>\n",
       "      <td>F</td>\n",
       "      <td>10 to 14</td>\n",
       "      <td>910710</td>\n",
       "      <td>390</td>\n",
       "      <td>2250</td>\n",
       "      <td>0</td>\n",
       "      <td>100</td>\n",
       "    </tr>\n",
       "    <tr>\n",
       "      <th>3</th>\n",
       "      <td>Diabetes</td>\n",
       "      <td>1999</td>\n",
       "      <td>F</td>\n",
       "      <td>15 to 19</td>\n",
       "      <td>918890</td>\n",
       "      <td>480</td>\n",
       "      <td>3360</td>\n",
       "      <td>10</td>\n",
       "      <td>280</td>\n",
       "    </tr>\n",
       "    <tr>\n",
       "      <th>4</th>\n",
       "      <td>Diabetes</td>\n",
       "      <td>1999</td>\n",
       "      <td>F</td>\n",
       "      <td>20 to 24</td>\n",
       "      <td>913070</td>\n",
       "      <td>700</td>\n",
       "      <td>4570</td>\n",
       "      <td>10</td>\n",
       "      <td>310</td>\n",
       "    </tr>\n",
       "  </tbody>\n",
       "</table>\n",
       "</div>"
      ],
      "text/plain": [
       "    Disease  Fiscal Year Gender Age Group  Population  Incidence  Prevalence  \\\n",
       "0  Diabetes         1999      F    1 to 4      651470        150         340   \n",
       "1  Diabetes         1999      F    5 to 9      918920        280        1230   \n",
       "2  Diabetes         1999      F  10 to 14      910710        390        2250   \n",
       "3  Diabetes         1999      F  15 to 19      918890        480        3360   \n",
       "4  Diabetes         1999      F  20 to 24      913070        700        4570   \n",
       "\n",
       "   Mortality with Disease  Mortality without Disease  \n",
       "0                       0                        220  \n",
       "1                       0                        110  \n",
       "2                       0                        100  \n",
       "3                      10                        280  \n",
       "4                      10                        310  "
      ]
     },
     "execution_count": 4,
     "metadata": {},
     "output_type": "execute_result"
    }
   ],
   "source": [
    "df.head()"
   ]
  },
  {
   "cell_type": "code",
   "execution_count": 5,
   "metadata": {
    "collapsed": false
   },
   "outputs": [
    {
     "name": "stdout",
     "output_type": "stream",
     "text": [
      "<class 'pandas.core.frame.DataFrame'>\n",
      "Int64Index: 3744 entries, 0 to 3743\n",
      "Data columns (total 9 columns):\n",
      "Disease                      3744 non-null object\n",
      "Fiscal Year                  3744 non-null int64\n",
      "Gender                       3744 non-null object\n",
      "Age Group                    3744 non-null object\n",
      "Population                   3744 non-null int64\n",
      "Incidence                    2640 non-null float64\n",
      "Prevalence                   3744 non-null int64\n",
      "Mortality with Disease       2304 non-null float64\n",
      "Mortality without Disease    2304 non-null float64\n",
      "dtypes: float64(3), int64(3), object(3)\n",
      "memory usage: 292.5+ KB\n"
     ]
    }
   ],
   "source": [
    "df.info()"
   ]
  },
  {
   "cell_type": "code",
   "execution_count": 6,
   "metadata": {
    "collapsed": false
   },
   "outputs": [
    {
     "data": {
      "text/plain": [
       "array([1999, 2000, 2001, 2002, 2003, 2004, 2005, 2006, 2007, 2008, 2009,\n",
       "       2010])"
      ]
     },
     "execution_count": 6,
     "metadata": {},
     "output_type": "execute_result"
    }
   ],
   "source": [
    "df['Fiscal Year'].unique()"
   ]
  },
  {
   "cell_type": "code",
   "execution_count": 7,
   "metadata": {
    "collapsed": false
   },
   "outputs": [
    {
     "data": {
      "text/plain": [
       "array(['1 to 4', '5 to 9', '10 to 14', '15 to 19', '20 to 24', '25 to 29',\n",
       "       '30 to 34', '35 to 39', '40 to 44', '45 to 49', '50 to 54',\n",
       "       '55 to 59', '60 to 64', '65 to 69', '70 to 74', '75 to 79',\n",
       "       '80 to 84', '85+', '<1'], dtype=object)"
      ]
     },
     "execution_count": 7,
     "metadata": {},
     "output_type": "execute_result"
    }
   ],
   "source": [
    "df['Age Group'].unique()"
   ]
  },
  {
   "cell_type": "code",
   "execution_count": 8,
   "metadata": {
    "collapsed": false
   },
   "outputs": [
    {
     "data": {
      "text/plain": [
       "array(['Diabetes', 'Hypertension', 'Mental_Illness',\n",
       "       'MoodAnxiety_Disorder', 'Asthma', 'COPD', 'IHD', 'AMI',\n",
       "       'Heart_Failure', 'Osteoporosis', 'Hip_Fracture'], dtype=object)"
      ]
     },
     "execution_count": 8,
     "metadata": {},
     "output_type": "execute_result"
    }
   ],
   "source": [
    "df['Disease'].unique()"
   ]
  },
  {
   "cell_type": "markdown",
   "metadata": {},
   "source": [
    "**QUESTION 2**"
   ]
  },
  {
   "cell_type": "code",
   "execution_count": 12,
   "metadata": {
    "collapsed": false
   },
   "outputs": [
    {
     "data": {
      "text/plain": [
       "<matplotlib.axes._subplots.AxesSubplot at 0x109917b38>"
      ]
     },
     "execution_count": 12,
     "metadata": {},
     "output_type": "execute_result"
    },
    {
     "data": {
      "image/png": "[encoded data removed]",
      "text/plain": [
       "<matplotlib.figure.Figure at 0x109f4fda0>"
      ]
     },
     "metadata": {},
     "output_type": "display_data"
    }
   ],
   "source": [
    "df[df['Fiscal Year'] == 2010].groupby('Disease').Prevalence.sum().plot(kind='bar',title='Prevalence of Diseases in 2010')"
   ]
  },
  {
   "cell_type": "markdown",
   "metadata": {},
   "source": [
    "**QUESTION 3**"
   ]
  },
  {
   "cell_type": "code",
   "execution_count": 13,
   "metadata": {
    "collapsed": true
   },
   "outputs": [],
   "source": [
    "ages = ['<1','1 to 4', '5 to 9', '10 to 14', '15 to 19', '20 to 24', '25 to 29',\n",
    "       '30 to 34', '35 to 39', '40 to 44', '45 to 49', '50 to 54',\n",
    "       '55 to 59', '60 to 64', '65 to 69', '70 to 74', '75 to 79',\n",
    "       '80 to 84', '85+']"
   ]
  },
  {
   "cell_type": "code",
   "execution_count": 14,
   "metadata": {
    "collapsed": false
   },
   "outputs": [
    {
     "data": {
      "image/png": "[encoded data removed]",
      "text/plain": [
       "<matplotlib.figure.Figure at 0x1099179e8>"
      ]
     },
     "metadata": {},
     "output_type": "display_data"
    }
   ],
   "source": [
    "plt.figure(figsize=(25,8))\n",
    "plt.subplot(1,3,1)\n",
    "asthma = df[df['Disease']=='Asthma'].groupby('Age Group').Incidence.sum().reindex(ages) / 12\n",
    "asthma.plot(kind='bar',title='Average Annual Incidences of Asthma 1999-2010')\n",
    "\n",
    "plt.subplot(1,3,2)\n",
    "diabetes = df[df['Disease']=='Diabetes'].groupby('Age Group').Incidence.sum().reindex(ages) / 12\n",
    "diabetes.plot(kind='bar',title='Average Annual Incidences of Diabetes 1999-2010')\n",
    "\n",
    "plt.subplot(1,3,3)\n",
    "heart = df[df['Disease']=='Heart_Failure'].groupby('Age Group').Incidence.sum().reindex(ages) / 12\n",
    "heart.plot(kind='bar',title='Average Annual Incidences of Heart Failure 1999-2010')\n",
    "plt.savefig('a7_q3.png')"
   ]
  },
  {
   "cell_type": "markdown",
   "metadata": {
    "collapsed": true
   },
   "source": [
    "**QUESTION 4**"
   ]
  },
  {
   "cell_type": "code",
   "execution_count": 15,
   "metadata": {
    "collapsed": false
   },
   "outputs": [
    {
     "data": {
      "text/plain": [
       "<matplotlib.axes._subplots.AxesSubplot at 0x10a165da0>"
      ]
     },
     "execution_count": 15,
     "metadata": {},
     "output_type": "execute_result"
    },
    {
     "data": {
      "image/png": "[encoded data removed]",
      "text/plain": [
       "<matplotlib.figure.Figure at 0x10a44e2b0>"
      ]
     },
     "metadata": {},
     "output_type": "display_data"
    }
   ],
   "source": [
    "osteo = df[(df['Disease'] == 'Osteoporosis') & (df['Fiscal Year'] == 2010)].groupby('Gender').Incidence.sum()\n",
    "osteo.plot(kind='bar',title='Total Incidences of Osteoporosis in 2010 by Gender')"
   ]
  }
 ],
 "metadata": {
  "kernelspec": {
   "display_name": "Python 3",
   "language": "python",
   "name": "python3"
  },
  "language_info": {
   "codemirror_mode": {
    "name": "ipython",
    "version": 3
   },
   "file_extension": ".py",
   "mimetype": "text/x-python",
   "name": "python",
   "nbconvert_exporter": "python",
   "pygments_lexer": "ipython3",
   "version": "3.4.3"
  }
 },
 "nbformat": 4,
 "nbformat_minor": 0
}
