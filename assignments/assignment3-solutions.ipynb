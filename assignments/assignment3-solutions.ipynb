{
 "cells": [
  {
   "cell_type": "markdown",
   "metadata": {},
   "source": [
    "# Assignment 3 Solutions"
   ]
  },
  {
   "cell_type": "markdown",
   "metadata": {},
   "source": [
    "**QUESTION 1**"
   ]
  },
  {
   "cell_type": "code",
   "execution_count": 134,
   "metadata": {
    "collapsed": false
   },
   "outputs": [
    {
     "name": "stdout",
     "output_type": "stream",
     "text": [
      "[1, -3, 5, -7, 9, -11, 13, -15, 17, -19, 21, -23, 25, -27, 29, -31, 33, -35, 37, -39, 41]\n"
     ]
    }
   ],
   "source": [
    "print([ (-1)**n * (2*n+1) for n in range(0,21)])"
   ]
  },
  {
   "cell_type": "code",
   "execution_count": 193,
   "metadata": {
    "collapsed": false
   },
   "outputs": [
    {
     "data": {
      "text/plain": [
       "[[1, 2, 3, 4], [5, 6, 7, 8], [9, 10, 11, 12], [13, 14, 15, 16]]"
      ]
     },
     "execution_count": 193,
     "metadata": {},
     "output_type": "execute_result"
    }
   ],
   "source": [
    "[ [m + 4*n for m in range(1,5)] for n in range(0,4) ]"
   ]
  },
  {
   "cell_type": "markdown",
   "metadata": {},
   "source": [
    "**QUESTION 2**"
   ]
  },
  {
   "cell_type": "code",
   "execution_count": 136,
   "metadata": {
    "collapsed": false
   },
   "outputs": [
    {
     "data": {
      "text/plain": [
       "-0.6926474305598223"
      ]
     },
     "execution_count": 136,
     "metadata": {},
     "output_type": "execute_result"
    }
   ],
   "source": [
    "sum([ (-1)**n/n for n in range(1,1001)])"
   ]
  },
  {
   "cell_type": "code",
   "execution_count": 137,
   "metadata": {
    "collapsed": false
   },
   "outputs": [
    {
     "data": {
      "text/plain": [
       "11044904"
      ]
     },
     "execution_count": 137,
     "metadata": {},
     "output_type": "execute_result"
    }
   ],
   "source": [
    "sum([ d**2 for d in range(1,3246) if 3245 % d == 0])"
   ]
  },
  {
   "cell_type": "markdown",
   "metadata": {},
   "source": [
    "**QUESTION 3**\n",
    "\n",
    "**Solution 1**\n",
    "\n",
    "We can compute $a^2 +b^2$ for **all** $1 \\leq a \\leq b \\leq \\sqrt{n}$ and count the number which equal $n$:"
   ]
  },
  {
   "cell_type": "code",
   "execution_count": 138,
   "metadata": {
    "collapsed": true
   },
   "outputs": [],
   "source": [
    "def sum_of_squares(n):\n",
    "    return len([ [a,b,n] for b in range(1,round(n**0.5)+1) for a in range(1,b+1) if a**2 + b**2 == n])"
   ]
  },
  {
   "cell_type": "code",
   "execution_count": 139,
   "metadata": {
    "collapsed": false
   },
   "outputs": [
    {
     "data": {
      "text/plain": [
       "1"
      ]
     },
     "execution_count": 139,
     "metadata": {},
     "output_type": "execute_result"
    }
   ],
   "source": [
    "sum_of_squares(2)"
   ]
  },
  {
   "cell_type": "code",
   "execution_count": 140,
   "metadata": {
    "collapsed": false
   },
   "outputs": [
    {
     "data": {
      "text/plain": [
       "0"
      ]
     },
     "execution_count": 140,
     "metadata": {},
     "output_type": "execute_result"
    }
   ],
   "source": [
    "sum_of_squares(3)"
   ]
  },
  {
   "cell_type": "code",
   "execution_count": 141,
   "metadata": {
    "collapsed": false
   },
   "outputs": [
    {
     "data": {
      "text/plain": [
       "2"
      ]
     },
     "execution_count": 141,
     "metadata": {},
     "output_type": "execute_result"
    }
   ],
   "source": [
    "sum_of_squares(50)"
   ]
  },
  {
   "cell_type": "code",
   "execution_count": 142,
   "metadata": {
    "collapsed": false
   },
   "outputs": [
    {
     "data": {
      "text/plain": [
       "4"
      ]
     },
     "execution_count": 142,
     "metadata": {},
     "output_type": "execute_result"
    }
   ],
   "source": [
    "sum_of_squares(1105)"
   ]
  },
  {
   "cell_type": "markdown",
   "metadata": {},
   "source": [
    "**Solution 2**\n",
    "\n",
    "Notice that if $a^2+b^2=n$ with $1 \\leq a \\leq b$, then\n",
    "\n",
    "$$\n",
    "1 \\leq a \\leq \\sqrt{ \\frac{n}{2} } \\leq b < \\sqrt{n}\n",
    "$$"
   ]
  },
  {
   "cell_type": "code",
   "execution_count": 143,
   "metadata": {
    "collapsed": true
   },
   "outputs": [],
   "source": [
    "def sum_of_squares2(n):\n",
    "    bound1 = round((n/2)**0.5)\n",
    "    bound2 = round(n**0.5)\n",
    "    return len([ [a,b,n] for b in range(bound1,bound2+1) for a in range(1,b+1) if a**2 + b**2 == n])"
   ]
  },
  {
   "cell_type": "code",
   "execution_count": 144,
   "metadata": {
    "collapsed": false
   },
   "outputs": [
    {
     "data": {
      "text/plain": [
       "1"
      ]
     },
     "execution_count": 144,
     "metadata": {},
     "output_type": "execute_result"
    }
   ],
   "source": [
    "sum_of_squares2(2)"
   ]
  },
  {
   "cell_type": "code",
   "execution_count": 145,
   "metadata": {
    "collapsed": false
   },
   "outputs": [
    {
     "data": {
      "text/plain": [
       "0"
      ]
     },
     "execution_count": 145,
     "metadata": {},
     "output_type": "execute_result"
    }
   ],
   "source": [
    "sum_of_squares2(3)"
   ]
  },
  {
   "cell_type": "code",
   "execution_count": 146,
   "metadata": {
    "collapsed": false
   },
   "outputs": [
    {
     "data": {
      "text/plain": [
       "1"
      ]
     },
     "execution_count": 146,
     "metadata": {},
     "output_type": "execute_result"
    }
   ],
   "source": [
    "sum_of_squares2(5)"
   ]
  },
  {
   "cell_type": "code",
   "execution_count": 147,
   "metadata": {
    "collapsed": false
   },
   "outputs": [
    {
     "data": {
      "text/plain": [
       "1"
      ]
     },
     "execution_count": 147,
     "metadata": {},
     "output_type": "execute_result"
    }
   ],
   "source": [
    "sum_of_squares2(25)"
   ]
  },
  {
   "cell_type": "code",
   "execution_count": 148,
   "metadata": {
    "collapsed": false
   },
   "outputs": [
    {
     "data": {
      "text/plain": [
       "2"
      ]
     },
     "execution_count": 148,
     "metadata": {},
     "output_type": "execute_result"
    }
   ],
   "source": [
    "sum_of_squares2(50)"
   ]
  },
  {
   "cell_type": "code",
   "execution_count": 149,
   "metadata": {
    "collapsed": false
   },
   "outputs": [
    {
     "data": {
      "text/plain": [
       "4"
      ]
     },
     "execution_count": 149,
     "metadata": {},
     "output_type": "execute_result"
    }
   ],
   "source": [
    "sum_of_squares2(1105)"
   ]
  },
  {
   "cell_type": "markdown",
   "metadata": {},
   "source": [
    "**Solution 3**"
   ]
  },
  {
   "cell_type": "code",
   "execution_count": 150,
   "metadata": {
    "collapsed": false
   },
   "outputs": [],
   "source": [
    "def is_square(n):\n",
    "    \"Determine if the integer n is a square.\"\n",
    "    if n < 0:\n",
    "        return False\n",
    "    else:\n",
    "        return round(n**0.5)**2 == n\n",
    "\n",
    "def sum_of_squares3(n):\n",
    "    return len([ a for a in range(1,int((n/2)**0.5)+1) if is_square(n-a**2) ])"
   ]
  },
  {
   "cell_type": "code",
   "execution_count": 151,
   "metadata": {
    "collapsed": false
   },
   "outputs": [
    {
     "data": {
      "text/plain": [
       "1"
      ]
     },
     "execution_count": 151,
     "metadata": {},
     "output_type": "execute_result"
    }
   ],
   "source": [
    "sum_of_squares3(25)"
   ]
  },
  {
   "cell_type": "code",
   "execution_count": 152,
   "metadata": {
    "collapsed": false
   },
   "outputs": [
    {
     "data": {
      "text/plain": [
       "2"
      ]
     },
     "execution_count": 152,
     "metadata": {},
     "output_type": "execute_result"
    }
   ],
   "source": [
    "sum_of_squares3(50)"
   ]
  },
  {
   "cell_type": "code",
   "execution_count": 153,
   "metadata": {
    "collapsed": false
   },
   "outputs": [
    {
     "data": {
      "text/plain": [
       "3"
      ]
     },
     "execution_count": 153,
     "metadata": {},
     "output_type": "execute_result"
    }
   ],
   "source": [
    "sum_of_squares3(325)"
   ]
  },
  {
   "cell_type": "code",
   "execution_count": 154,
   "metadata": {
    "collapsed": false
   },
   "outputs": [
    {
     "data": {
      "text/plain": [
       "4"
      ]
     },
     "execution_count": 154,
     "metadata": {},
     "output_type": "execute_result"
    }
   ],
   "source": [
    "sum_of_squares3(1105)"
   ]
  },
  {
   "cell_type": "markdown",
   "metadata": {},
   "source": [
    "**Test to see which is fastest**"
   ]
  },
  {
   "cell_type": "code",
   "execution_count": 177,
   "metadata": {
    "collapsed": false
   },
   "outputs": [
    {
     "name": "stdout",
     "output_type": "stream",
     "text": [
      "1000 loops, best of 3: 483 µs per loop\n"
     ]
    }
   ],
   "source": [
    "%%timeit\n",
    "sum_of_squares(1105)"
   ]
  },
  {
   "cell_type": "code",
   "execution_count": 178,
   "metadata": {
    "collapsed": false
   },
   "outputs": [
    {
     "name": "stdout",
     "output_type": "stream",
     "text": [
      "1000 loops, best of 3: 244 µs per loop\n"
     ]
    }
   ],
   "source": [
    "%%timeit\n",
    "sum_of_squares2(1105)"
   ]
  },
  {
   "cell_type": "code",
   "execution_count": 179,
   "metadata": {
    "collapsed": false
   },
   "outputs": [
    {
     "name": "stdout",
     "output_type": "stream",
     "text": [
      "10000 loops, best of 3: 35.6 µs per loop\n"
     ]
    }
   ],
   "source": [
    "%%timeit\n",
    "sum_of_squares3(1105)"
   ]
  },
  {
   "cell_type": "markdown",
   "metadata": {},
   "source": [
    "**QUESTION 4**"
   ]
  },
  {
   "cell_type": "code",
   "execution_count": 185,
   "metadata": {
    "collapsed": false
   },
   "outputs": [
    {
     "name": "stdout",
     "output_type": "stream",
     "text": [
      "50\n"
     ]
    }
   ],
   "source": [
    "n = 1\n",
    "result = 0\n",
    "while result < 2:\n",
    "    n += 1\n",
    "    result = sum_of_squares3(n)\n",
    "print(n)"
   ]
  },
  {
   "cell_type": "code",
   "execution_count": 184,
   "metadata": {
    "collapsed": false
   },
   "outputs": [
    {
     "name": "stdout",
     "output_type": "stream",
     "text": [
      "325\n"
     ]
    }
   ],
   "source": [
    "n = 1\n",
    "result = 0\n",
    "while result < 3:\n",
    "    n += 1\n",
    "    result = sum_of_squares3(n)\n",
    "print(n)"
   ]
  },
  {
   "cell_type": "code",
   "execution_count": 183,
   "metadata": {
    "collapsed": false
   },
   "outputs": [
    {
     "name": "stdout",
     "output_type": "stream",
     "text": [
      "1105\n"
     ]
    }
   ],
   "source": [
    "n = 1\n",
    "result = 0\n",
    "while result < 4:\n",
    "    n += 1\n",
    "    result = sum_of_squares3(n)\n",
    "print(n)"
   ]
  },
  {
   "cell_type": "markdown",
   "metadata": {},
   "source": [
    "We can modify our `sum_of_squares` function to display the pairs $(a,b)$ such that $a^2+b^2=n$"
   ]
  },
  {
   "cell_type": "code",
   "execution_count": 186,
   "metadata": {
    "collapsed": true
   },
   "outputs": [],
   "source": [
    "def display_sum_of_squares2(n):\n",
    "    bound1 = round((n/2)**0.5)\n",
    "    bound2 = round(n**0.5)\n",
    "    return [ [a,b] for b in range(bound1,bound2+1) for a in range(1,b+1) if a**2 + b**2 == n]"
   ]
  },
  {
   "cell_type": "code",
   "execution_count": 187,
   "metadata": {
    "collapsed": false
   },
   "outputs": [
    {
     "data": {
      "text/plain": [
       "[[5, 5], [1, 7]]"
      ]
     },
     "execution_count": 187,
     "metadata": {},
     "output_type": "execute_result"
    }
   ],
   "source": [
    "display_sum_of_squares2(50)"
   ]
  },
  {
   "cell_type": "code",
   "execution_count": 188,
   "metadata": {
    "collapsed": false
   },
   "outputs": [
    {
     "data": {
      "text/plain": [
       "[[10, 15], [6, 17], [1, 18]]"
      ]
     },
     "execution_count": 188,
     "metadata": {},
     "output_type": "execute_result"
    }
   ],
   "source": [
    "display_sum_of_squares2(325)"
   ]
  },
  {
   "cell_type": "code",
   "execution_count": 189,
   "metadata": {
    "collapsed": false
   },
   "outputs": [
    {
     "data": {
      "text/plain": [
       "[[23, 24], [12, 31], [9, 32], [4, 33]]"
      ]
     },
     "execution_count": 189,
     "metadata": {},
     "output_type": "execute_result"
    }
   ],
   "source": [
    "display_sum_of_squares2(1105)"
   ]
  },
  {
   "cell_type": "markdown",
   "metadata": {},
   "source": [
    "**QUESTION 5**\n",
    "\n",
    "Let $n$ be a positive integer and let $w(n)$ be the number of ways $n$ can be expressed as the sum of two squares $n=a^2+b^2$ with $1 \\leq a \\leq b$. Then\n",
    "\n",
    "$$\n",
    "\\lim_{N \\to \\infty} \\frac{1}{N} \\sum_{n=1}^N w(n) = \\frac{\\pi}{8}\n",
    "$$\n",
    "\n",
    "In other words, the average number of representations of an integer $n$ by a sum of two squares is $\\pi/8$."
   ]
  },
  {
   "cell_type": "code",
   "execution_count": 191,
   "metadata": {
    "collapsed": false
   },
   "outputs": [
    {
     "data": {
      "text/plain": [
       "0.39"
      ]
     },
     "execution_count": 191,
     "metadata": {},
     "output_type": "execute_result"
    }
   ],
   "source": [
    "sum([sum_of_squares3(n) for n in range(1,2001)])/2000"
   ]
  },
  {
   "cell_type": "code",
   "execution_count": 192,
   "metadata": {
    "collapsed": false
   },
   "outputs": [
    {
     "data": {
      "text/plain": [
       "0.39269875"
      ]
     },
     "execution_count": 192,
     "metadata": {},
     "output_type": "execute_result"
    }
   ],
   "source": [
    "3.14159/8"
   ]
  },
  {
   "cell_type": "markdown",
   "metadata": {},
   "source": [
    "**QUESTION 6**\n",
    "\n",
    "**Solution 1**"
   ]
  },
  {
   "cell_type": "code",
   "execution_count": 171,
   "metadata": {
    "collapsed": true
   },
   "outputs": [],
   "source": [
    "def divisor_sort(L):\n",
    "    print('The list of numbers is:',L)\n",
    "    # Make a list of pairs [num_divs,n] where n is an element in the list L\n",
    "    # and num_divs is the number of divisors of n\n",
    "    extended_list = [ [ len([d for d in range(1,n+1) if n % d == 0 ]), n] for n in L ]\n",
    "    print('The list of pairs [num_divs,n] (where n is an element of the list and num_divs is the number of divisors of n) is:')\n",
    "    print(extended_list)\n",
    "    divisor_list = []\n",
    "    # Construct the list of integers which appear as the number of divisors of an element in the list\n",
    "    # In other words, pick out the set of unique integers appearing in index 0 of any pair in the extended list\n",
    "    for pair in extended_list:\n",
    "        if pair[0] not in divisor_list:\n",
    "            divisor_list.append(pair[0])\n",
    "    divisor_list = sorted(divisor_list)\n",
    "    print('The set of unique integers appearing as the number of divisors of an element in the list is:', divisor_list)\n",
    "    sorted_list = []\n",
    "    for n in divisor_list:\n",
    "        elements_with_n_divisors = [ d[1] for d in extended_list if d[0] == n ]\n",
    "        print('The integers with',n,'divisors are:',elements_with_n_divisors)\n",
    "        elements_with_n_divisors = sorted(elements_with_n_divisors)\n",
    "        sorted_list.extend(elements_with_n_divisors)\n",
    "        print('The updated sorted list is:',sorted_list)\n",
    "    return sorted_list"
   ]
  },
  {
   "cell_type": "code",
   "execution_count": 172,
   "metadata": {
    "collapsed": false
   },
   "outputs": [
    {
     "name": "stdout",
     "output_type": "stream",
     "text": [
      "The list of numbers is: [9, 45, 44, 3, 7, 32]\n",
      "The list of pairs [num_divs,n] (where n is an element of the list and num_divs is the number of divisors of n) is:\n",
      "[[3, 9], [6, 45], [6, 44], [2, 3], [2, 7], [6, 32]]\n",
      "The set of unique integers appearing as the number of divisors of an element in the list is: [2, 3, 6]\n",
      "The integers with 2 divisors are: [3, 7]\n",
      "The updated sorted list is: [3, 7]\n",
      "The integers with 3 divisors are: [9]\n",
      "The updated sorted list is: [3, 7, 9]\n",
      "The integers with 6 divisors are: [45, 44, 32]\n",
      "The updated sorted list is: [3, 7, 9, 32, 44, 45]\n"
     ]
    },
    {
     "data": {
      "text/plain": [
       "[3, 7, 9, 32, 44, 45]"
      ]
     },
     "execution_count": 172,
     "metadata": {},
     "output_type": "execute_result"
    }
   ],
   "source": [
    "divisor_sort([9,45,44,3,7,32])"
   ]
  },
  {
   "cell_type": "markdown",
   "metadata": {},
   "source": [
    "**Solution 2**"
   ]
  },
  {
   "cell_type": "code",
   "execution_count": 170,
   "metadata": {
    "collapsed": true
   },
   "outputs": [],
   "source": [
    "def divisor_sort2(L):\n",
    "    new_list = [ [ len([d for d in range(1,n+1) if n % d == 0 ]), n] for n in L ]\n",
    "    sorted_list = sorted(new_list)\n",
    "    return [n[1] for n in sorted_list]"
   ]
  },
  {
   "cell_type": "code",
   "execution_count": 173,
   "metadata": {
    "collapsed": false
   },
   "outputs": [
    {
     "data": {
      "text/plain": [
       "[3, 7, 9, 32, 44, 45]"
      ]
     },
     "execution_count": 173,
     "metadata": {},
     "output_type": "execute_result"
    }
   ],
   "source": [
    "divisor_sort2([9,45,44,3,7,32])"
   ]
  }
 ],
 "metadata": {
  "kernelspec": {
   "display_name": "Python 3",
   "language": "python",
   "name": "python3"
  },
  "language_info": {
   "codemirror_mode": {
    "name": "ipython",
    "version": 3
   },
   "file_extension": ".py",
   "mimetype": "text/x-python",
   "name": "python",
   "nbconvert_exporter": "python",
   "pygments_lexer": "ipython3",
   "version": "3.4.3"
  }
 },
 "nbformat": 4,
 "nbformat_minor": 0
}
