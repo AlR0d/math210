{
 "cells": [
  {
   "cell_type": "markdown",
   "metadata": {},
   "source": [
    "**QUESTION 1**"
   ]
  },
  {
   "cell_type": "markdown",
   "metadata": {},
   "source": [
    "$$\n",
    "\\frac{4 \\pi r^3}{3} = \\int_0^{2\\pi} \\int_0^{\\pi} \\int_0^r \\rho^2 \\sin(\\phi) \\, d\\rho \\, d\\phi \\, d\\theta\n",
    "$$"
   ]
  },
  {
   "cell_type": "markdown",
   "metadata": {
    "collapsed": true
   },
   "source": [
    "**QUESTION 2**"
   ]
  },
  {
   "cell_type": "code",
   "execution_count": 1,
   "metadata": {
    "collapsed": true
   },
   "outputs": [],
   "source": [
    "def fun(m,n,d):\n",
    "    \"Compute the remainder of m*n divided by d.\"\n",
    "    return m*n % d"
   ]
  },
  {
   "cell_type": "code",
   "execution_count": 2,
   "metadata": {
    "collapsed": false
   },
   "outputs": [
    {
     "data": {
      "text/plain": [
       "2"
      ]
     },
     "execution_count": 2,
     "metadata": {},
     "output_type": "execute_result"
    }
   ],
   "source": [
    "fun(4,5,3)"
   ]
  },
  {
   "cell_type": "markdown",
   "metadata": {},
   "source": [
    "**QUESTION 3**"
   ]
  },
  {
   "cell_type": "code",
   "execution_count": 3,
   "metadata": {
    "collapsed": false
   },
   "outputs": [],
   "source": [
    "def divide_either(m,n):\n",
    "    \"Compute the list of positive integers which divide either m or n.\"\n",
    "    N = max([m,n])\n",
    "    return [ d for d in range(1,N+1) if ( m % d == 0 or n % d == 0 )]"
   ]
  },
  {
   "cell_type": "code",
   "execution_count": 4,
   "metadata": {
    "collapsed": false
   },
   "outputs": [
    {
     "data": {
      "text/plain": [
       "[1, 2, 3, 5, 6, 9, 15, 18]"
      ]
     },
     "execution_count": 4,
     "metadata": {},
     "output_type": "execute_result"
    }
   ],
   "source": [
    "divide_either(18,15)"
   ]
  },
  {
   "cell_type": "markdown",
   "metadata": {},
   "source": [
    "**QUESTION 4**"
   ]
  },
  {
   "cell_type": "code",
   "execution_count": 5,
   "metadata": {
    "collapsed": true
   },
   "outputs": [],
   "source": [
    "def a_sequence(a,N):\n",
    "    \"Compute the Nth term in the recursive sequence given by x_1 = a and x_{n+1} = x_n + 2/x_n.\"\n",
    "    x = a\n",
    "    for n in range(2,N+1):\n",
    "        x = x + 2/x\n",
    "    return x"
   ]
  },
  {
   "cell_type": "code",
   "execution_count": 6,
   "metadata": {
    "collapsed": false
   },
   "outputs": [
    {
     "data": {
      "text/plain": [
       "3.0"
      ]
     },
     "execution_count": 6,
     "metadata": {},
     "output_type": "execute_result"
    }
   ],
   "source": [
    "a_sequence(1,2)"
   ]
  },
  {
   "cell_type": "code",
   "execution_count": 7,
   "metadata": {
    "collapsed": false
   },
   "outputs": [
    {
     "data": {
      "text/plain": [
       "8.727928256697213"
      ]
     },
     "execution_count": 7,
     "metadata": {},
     "output_type": "execute_result"
    }
   ],
   "source": [
    "a_sequence(8,4)"
   ]
  },
  {
   "cell_type": "markdown",
   "metadata": {},
   "source": [
    "**QUESTION 5(a)**"
   ]
  },
  {
   "cell_type": "markdown",
   "metadata": {},
   "source": [
    "$$\n",
    "\\arctan x = \\sum_{n = 0}^{\\infty} \\frac{(-1)^n}{2n+1} x^{2n+1}\n",
    "$$"
   ]
  },
  {
   "cell_type": "markdown",
   "metadata": {},
   "source": [
    "**QUESTION 5(b)**"
   ]
  },
  {
   "cell_type": "code",
   "execution_count": 8,
   "metadata": {
    "collapsed": true
   },
   "outputs": [],
   "source": [
    "def arctan_taylor(x,N):\n",
    "    \"Compute the Nth partial sum of the Taylor series of arctan centered at 0 evaluated at x.\"\n",
    "    if (abs(x) > 1):\n",
    "        print('Error: x is not in the interval [-1,1]')\n",
    "        return None\n",
    "    else:\n",
    "        return sum([ (-1)**n * x**(2*n+1) / (2*n+1) for n in range(0,N+1)])"
   ]
  },
  {
   "cell_type": "code",
   "execution_count": 9,
   "metadata": {
    "collapsed": false
   },
   "outputs": [
    {
     "data": {
      "text/plain": [
       "0.0"
      ]
     },
     "execution_count": 9,
     "metadata": {},
     "output_type": "execute_result"
    }
   ],
   "source": [
    "arctan_taylor(0,1)"
   ]
  },
  {
   "cell_type": "code",
   "execution_count": 10,
   "metadata": {
    "collapsed": false
   },
   "outputs": [
    {
     "name": "stdout",
     "output_type": "stream",
     "text": [
      "Error: x is not in the interval [-1,1]\n"
     ]
    }
   ],
   "source": [
    "arctan_taylor(10,1)"
   ]
  },
  {
   "cell_type": "code",
   "execution_count": 11,
   "metadata": {
    "collapsed": false
   },
   "outputs": [
    {
     "data": {
      "text/plain": [
       "0.46364760900080587"
      ]
     },
     "execution_count": 11,
     "metadata": {},
     "output_type": "execute_result"
    }
   ],
   "source": [
    "arctan_taylor(0.5,100000)"
   ]
  },
  {
   "cell_type": "markdown",
   "metadata": {},
   "source": [
    "**QUESTION 6(a)**"
   ]
  },
  {
   "cell_type": "markdown",
   "metadata": {},
   "source": [
    "The **Fourier series** of the **sawtooth wave** is the infinite series:\n",
    "\n",
    "$$\n",
    "y(t) = \\frac{1}{2} - \\frac{1}{\\pi} \\sum_{k=1}^{\\infty} \\frac{\\sin(2 \\pi k t)}{k}\n",
    "$$\n"
   ]
  },
  {
   "cell_type": "markdown",
   "metadata": {},
   "source": [
    "**QUESTION 6(b)**"
   ]
  },
  {
   "cell_type": "code",
   "execution_count": 12,
   "metadata": {
    "collapsed": true
   },
   "outputs": [],
   "source": [
    "import numpy as np\n",
    "import matplotlib.pyplot as plt\n",
    "%matplotlib inline"
   ]
  },
  {
   "cell_type": "code",
   "execution_count": 13,
   "metadata": {
    "collapsed": false
   },
   "outputs": [
    {
     "data": {
      "image/png": "[encoded data removed]",
      "text/plain": [
       "<matplotlib.figure.Figure at 0x10599bb38>"
      ]
     },
     "metadata": {},
     "output_type": "display_data"
    }
   ],
   "source": [
    "t = np.linspace(0,3,100)\n",
    "y = 1/2 - 1/np.pi * ( np.sin(2*np.pi*t) + np.sin(4*np.pi*t)/2 + np.sin(6*np.pi*t)/3 )\n",
    "plt.plot(t,y);"
   ]
  },
  {
   "cell_type": "markdown",
   "metadata": {},
   "source": [
    "**QUESTION 7**"
   ]
  },
  {
   "cell_type": "code",
   "execution_count": 14,
   "metadata": {
    "collapsed": true
   },
   "outputs": [],
   "source": [
    "def is_square(n):\n",
    "    \"Determine if the integer n is a square.\"\n",
    "    if n < 0:\n",
    "        return False\n",
    "    else:\n",
    "        if round(n**0.5)**2 == n:\n",
    "            return True\n",
    "\n",
    "def elliptic(A,B,C,x_range):\n",
    "    \"Compute the integer solutions of y**2 = A*x**3 + B*x + C for x in the interval x_range.\"\n",
    "    a = x_range[0]\n",
    "    b = x_range[1]\n",
    "    solutions = []\n",
    "    for x in range(a,b+1):\n",
    "        # Compute the right hand side of the equation\n",
    "        f = A*x**3+B*x+C\n",
    "        if is_square(f):\n",
    "            # If RHS is a square, we have a solution\n",
    "            y = round(f**0.5)\n",
    "            solutions.append([x,y])\n",
    "            if f != 0:\n",
    "                # If RHS is a nonzero square, then (x,y) and (x,-y) are both solutions\n",
    "                solutions.append([x,-y])\n",
    "    return solutions"
   ]
  },
  {
   "cell_type": "code",
   "execution_count": 15,
   "metadata": {
    "collapsed": false
   },
   "outputs": [
    {
     "data": {
      "text/plain": [
       "[[-1, 0], [0, 1], [0, -1], [2, 3], [2, -3]]"
      ]
     },
     "execution_count": 15,
     "metadata": {},
     "output_type": "execute_result"
    }
   ],
   "source": [
    "elliptic(1,0,1,[-1,2])"
   ]
  },
  {
   "cell_type": "code",
   "execution_count": 16,
   "metadata": {
    "collapsed": false
   },
   "outputs": [
    {
     "data": {
      "text/plain": [
       "[[0, 1], [0, -1], [3, 8], [3, -8]]"
      ]
     },
     "execution_count": 16,
     "metadata": {},
     "output_type": "execute_result"
    }
   ],
   "source": [
    "elliptic(2,3,1,[-10,10])"
   ]
  }
 ],
 "metadata": {
  "kernelspec": {
   "display_name": "Python 3",
   "language": "python",
   "name": "python3"
  },
  "language_info": {
   "codemirror_mode": {
    "name": "ipython",
    "version": 3
   },
   "file_extension": ".py",
   "mimetype": "text/x-python",
   "name": "python",
   "nbconvert_exporter": "python",
   "pygments_lexer": "ipython3",
   "version": "3.4.3"
  }
 },
 "nbformat": 4,
 "nbformat_minor": 0
}
