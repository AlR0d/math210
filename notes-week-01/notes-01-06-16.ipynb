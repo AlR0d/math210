{
 "cells": [
  {
   "cell_type": "markdown",
   "metadata": {},
   "source": [
    "# MATH 210 Introduction to Mathematical Computing\n",
    "## January 6, 2015"
   ]
  },
  {
   "cell_type": "markdown",
   "metadata": {
    "collapsed": true
   },
   "source": [
    "Today's Agenda:\n",
    "1. Jupyter Notebooks\n",
    "2. Markdown Language\n",
    "3. Latex\n",
    "4. Exercises"
   ]
  },
  {
   "cell_type": "markdown",
   "metadata": {},
   "source": [
    "## 1. Jupyter Notebooks\n",
    "\n",
    "Check out the official webpage [jupyter.org](http://jupyter.org)\n",
    "\n",
    "> The Jupyter Notebook is a web application that allows you to create and share documents that contain live code, equations, visualizations and explanatory text.\n",
    "\n",
    "See Help in the menu above for more **Notebook Help** and **User Interface Tour**.\n",
    "\n",
    "### Cells\n",
    "\n",
    "We will use two kinds of cells: markdown cells and code cells. Notice that the kind of cell is indicated in the toolbar above when the cell is selected.\n",
    "\n",
    "Hit `shift+enter` to execute the contents of a cell.\n",
    "\n",
    "**Markdown cells** contain:\n",
    "\n",
    "* Markdown code\n",
    "* HTML\n",
    "* LaTeX\n",
    "* Plain text\n",
    "\n",
    "This cell is a markdown cell and it contains plain text and markdown language. \n",
    "\n",
    "**Code cells** contain Python code (or whichever language the kernel is running). For example, the next cell is a code cell which contains Python code which displays the first 10 square numbers."
   ]
  },
  {
   "cell_type": "code",
   "execution_count": 1,
   "metadata": {
    "collapsed": false
   },
   "outputs": [
    {
     "name": "stdout",
     "output_type": "stream",
     "text": [
      "1\n",
      "4\n",
      "9\n",
      "16\n",
      "25\n",
      "36\n",
      "49\n",
      "64\n",
      "81\n",
      "100\n"
     ]
    }
   ],
   "source": [
    "# Python code to display the first 10 square numbers\n",
    "for n in range(1,11):\n",
    "    print(n**2)"
   ]
  },
  {
   "cell_type": "markdown",
   "metadata": {},
   "source": [
    "### Modes\n",
    "\n",
    "There are 2 modes: **edit mode** and **command mode**. Press `escape` to enter command mode and `enter` for edit mode.\n",
    "\n",
    "Edit mode allows you to write code, text, markdown, etc. in the cell. The green border indicates when the cell is in edit mode.\n",
    "\n",
    "Command mode allows you to enter keyboard shortcuts to edit the notebook. For example,\n",
    "\n",
    "* hitting the `s` key in command mode saves the document\n",
    "* hitting the `x` key in command mode cuts the active cell\n",
    "* hitting the `a` key in command mode inserts a cell above the active cell\n",
    "\n",
    "See Help in the menu above to see the list of **keyboard shortcuts**."
   ]
  },
  {
   "cell_type": "markdown",
   "metadata": {
    "collapsed": true
   },
   "source": [
    "## 2. Markdown Language\n",
    "\n",
    "Markdown language is an easy-to-ready text format which converts to HTML. Check out [Markdown Basics](https://help.github.com/articles/markdown-basics/) on GitHub.\n",
    "\n",
    "We will only mention a few features of markdown:\n",
    "\n",
    "* create *italics* with asterisks `*italics*`\n",
    "* create **bold text** with double asterisks `**bold text**`\n",
    "* enclose text in single backticks \\` ... \\` to display text in `monospace` font without any formatting\n",
    "* create a link [UBC Math](https://www.math.ubc.ca) with brackets `[UBC Math](https://www.math.ubc.ca)`\n",
    "* display an image ![Python Logo](https://www.python.org/static/community_logos/python-logo.png) similar to a link as above but with a leading exclamation point: <br> `![Python Logo](https://www.python.org/static/community_logos/python-logo.png)`\n",
    "\n",
    "* create headings with the number sign #\n",
    "\n",
    "# Heading 1\n",
    "`# Heading 1`\n",
    "\n",
    "## Heading 2\n",
    "`## Heading 2`\n",
    "\n",
    "### Heading 3\n",
    "`### Heading 3`\n",
    "\n",
    "#### Heading 4\n",
    "`#### Heading 4`\n",
    "\n",
    "##### Heading 5\n",
    "`##### Heading 5`\n",
    "\n",
    "\n",
    "* create ordered and unordered lists with numbers and asterisks. For example, my favourite sports teams are:\n",
    "\n",
    "```\n",
    "* NBA\n",
    "    1. Toronto Raptors\n",
    "    2. Oklahoma City Thunder\n",
    "* NHL\n",
    "    1. Calgary Flames\n",
    "    2. Montreal Canadiens\n",
    "    3. Los Angeles Kings\n",
    "* MLB\n",
    "    1. Toronto Blue Jays\n",
    "    2. Washington Nationals\n",
    "```\n",
    "\n",
    "* NBA\n",
    "    1. Toronto Raptors\n",
    "    2. Oklahoma City Thunder\n",
    "* NHL\n",
    "    1. Calgary Flames\n",
    "    2. Montreal Canadiens\n",
    "    3. Los Angeles Kings\n",
    "* MLB\n",
    "    1. Toronto Blue Jays\n",
    "    2. Washington Nationals\n",
    "* NFL\n",
    "    1. New Patriots\n",
    "    2. Seattle Seahawks"
   ]
  },
  {
   "cell_type": "markdown",
   "metadata": {},
   "source": [
    "## 3. LaTeX\n",
    "\n",
    "LaTeX is a markup language for typesetting documents. We will be using a *very* small part of the language to write mathematical expressions in Jupyter notebooks. See the [LaTeX WikiBook](https://en.wikibooks.org/wiki/LaTeX) for more information (especially the section on [mathematics](https://en.wikibooks.org/wiki/LaTeX/Mathematics)).\n",
    "\n",
    "Enclose LateX code in dollar signs `$ ... $` to display math inline. For example, the code `$\\int_a^b f(x) = F(b) - F(a)$` will render as $\\int_a^b f(x) = F(b) - F(a)$.\n",
    "\n",
    "Enclose LateX code in double dollar signs `$$ ... $$` to display expressions in a centered paragraph. For example, the code `$$f'(a) = \\lim_{x \\to a} \\frac{f(x) - f(a)}{x-a}$$` will render as $$f'(a) = \\lim_{x \\to a} \\frac{f(x) - f(a)}{x-a}$$\n",
    "\n",
    "The most commonly used mathematical symbols are:\n",
    "* the underscore `_` defines subscripts\n",
    "    * `$x_n$` renders as $x_n$\n",
    "* the hat `^` defines superscripts\n",
    "    * `$x^2$` renders as $x^2$\n",
    "* `\\int` is the integral sign $\\int$\n",
    "    * `$\\int_a^b$` renders as $\\int_a^b$\n",
    "* `\\lim` is the limit $\\lim$\n",
    "    * `$\\lim_{x \\to a}$` renders as $\\lim_{x \\to a}$\n",
    "* `\\frac` defines fractions\n",
    "    * `$\\frac{a}{b}$` renders as $\\frac{a}{b}$\n",
    "* Greek symbols are `\\alpha`, `\\beta`, `\\gamma`, etc.\n",
    "    * `$\\alpha$` renders as $\\alpha$\n",
    "* `$\\partial$` is the partial derivative symbol\n",
    "    * `$\\frac{\\partial f}{\\partial x}$` renders as $\\frac{\\partial f}{\\partial x}$\n",
    "    \n",
    "Check out the cool application [Detexify](http://detexify.kirelabs.org) to find any symbol you can imagine."
   ]
  },
  {
   "cell_type": "markdown",
   "metadata": {},
   "source": [
    "## 4. Exercises\n",
    "\n",
    "1. Make a list (in markdown language) of the top 5 websites you visit most often and include a link for each site.\n",
    "2. Make a list of courses you're taking this semester, provide links to the course pages and include pictures of the instructors.\n",
    "3. Go to the [Python Wikipedia page](https://en.wikipedia.org/wiki/Python_programming_language), copy the first paragraph of the introduction, paste it in this notebook and format it so that the word \"Python\" is bold and the words \"code\" and \"language\" are in italics.\n",
    "4. Write LaTeX code to display the [Navier-Stokes Equation for Incompressible Flow](https://en.wikipedia.org/wiki/Navier%E2%80%93Stokes_equations)\n",
    "![Navier](https://upload.wikimedia.org/math/3/c/1/3c1db8f51e4830c7450041e3faff30d0.png)\n",
    "5. Write LaTeX code to display [Green's Theorem](https://en.wikipedia.org/wiki/Green%27s_theorem)\n",
    "![Green](https://upload.wikimedia.org/math/6/9/a/69a456d0e41ae9b609f7437fa0c73f79.png)\n",
    "6. Write LaTeX code to display the [Prime Number Theorem](https://en.wikipedia.org/wiki/Prime_number_theorem)\n",
    "![Prime](https://upload.wikimedia.org/math/f/7/7/f77f90fe2b293aa9f1a75e21dcf2194a.png)"
   ]
  }
 ],
 "metadata": {
  "kernelspec": {
   "display_name": "Python 3",
   "language": "python",
   "name": "python3"
  },
  "language_info": {
   "codemirror_mode": {
    "name": "ipython",
    "version": 3
   },
   "file_extension": ".py",
   "mimetype": "text/x-python",
   "name": "python",
   "nbconvert_exporter": "python",
   "pygments_lexer": "ipython3",
   "version": "3.4.3"
  }
 },
 "nbformat": 4,
 "nbformat_minor": 0
}
