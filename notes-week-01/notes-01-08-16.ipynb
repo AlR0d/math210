{
 "cells": [
  {
   "cell_type": "markdown",
   "metadata": {},
   "source": [
    "**IMPORTANT: Make sure the kernel (see `Kernel` in the toolbar above) is set to Python 3**\n",
    "\n",
    "--------\n",
    "\n",
    "# MATH 210 Introduction to Mathematical Computing\n",
    "\n",
    "## January 8, 2016\n",
    "\n",
    "Today's agenda:\n",
    "\n",
    "1. More Markdown and LaTeX\n",
    "    * List and links\n",
    "    * Matrices, braces and other symbols\n",
    "2. LaTeX Exercises\n",
    "3. Basic Python\n",
    "    * Dataypes `int` and `float`\n",
    "    * Arithmetic operators: `+`, `-`, `*`, `/`, `**`, `%` and `//`\n",
    "4. Python Exercises"
   ]
  },
  {
   "cell_type": "markdown",
   "metadata": {},
   "source": [
    "## 1. More Markdown and LaTeX"
   ]
  },
  {
   "cell_type": "markdown",
   "metadata": {},
   "source": [
    "### Lists and Links\n",
    "\n",
    "Let's practice making lists and links in markdown language by looking at the poll we conducted last class to see what courses everyone is taking this semester. The results were varied!\n",
    "\n",
    "* Second-year MATH courses:\n",
    "    * MATH 210 [Introduction to Mathematical Computing](https://courses.students.ubc.ca/cs/main?pname=subjarea&tname=subjareas&req=3&dept=MATH&course=210)\n",
    "    * MATH 215 [Elementary Differential Equations I](http://www.math.ubc.ca/~coombs/215/math215255common.html)\n",
    "    * MATH 220 [Mathematical Proof](http://www.math.ubc.ca/~gor/Math220_2016/math220_201.html)\n",
    "    * MATH 221 [Matrix Algebra](http://www.math.ubc.ca/~karu/m221/index.html)\n",
    "    * MATH 227 [Advanced Calculus II](http://www.math.ubc.ca/~feldman/m227/)\n",
    "* Third-year MATH courses:\n",
    "    * MATH 301 [Applied Analysis](http://www.math.ubc.ca/~jcwei/MATH301-2016.html)\n",
    "    * MATH 302 [Introduction to Probability](https://courses.students.ubc.ca/cs/main?pname=subjarea&tname=subjareas&req=3&dept=MATH&course=302)\n",
    "    * MATH 303 [Introduction to Stochastic Processes](https://www.sites.google.com/site/balkarichard/home/teaching-2)\n",
    "    * MATH 307 [Applied Linear Algebra](https://courses.students.ubc.ca/cs/main?pname=subjarea&tname=subjareas&req=3&dept=MATH&course=307)\n",
    "    * MATH 313 [Topics in Number Theory](https://courses.students.ubc.ca/cs/main?pname=subjarea&tname=subjareas&req=3&dept=MATH&course=313)\n",
    "    * MATH 317 [Calculus IV](http://www.math.ubc.ca/~ollivier/Math317.html)\n",
    "    * MATH 321 [Real Variables II](http://www.math.ubc.ca/~karu/m321/index.html)\n",
    "    * MATH 323 [Introduction to Rings and Modules](http://www.math.ubc.ca/~miljan/math323/)\n",
    "    * MATH 340 [Introduction to Linear Programming](http://www.math.ubc.ca/~anstee/math340/math340.html)\n",
    "    * MATH 342 [Algebra, Coding Theory, and Cryptography](http://www.math.ubc.ca/~marcus/Math342/)\n",
    "* Other courses:\n",
    "    * MATH 444 [Mathematical Research and Writing](http://www.math.ubc.ca/~steph/444/444.html)\n",
    "    * ECON 234 [Wealth and Poverty of Nations](https://courses.students.ubc.ca/cs/main?pname=subjarea&tname=subjareas&req=3&dept=ECON&course=234)\n",
    "    * ECON 325 [Introduction to Empirical Economics](https://courses.students.ubc.ca/cs/main?pname=subjarea&tname=subjareas&req=3&dept=ECON&course=325)\n",
    "    * ARCL 419 [The Archaeology of Death](https://courses.students.ubc.ca/cs/main?pname=subjarea&tname=subjareas&req=5&dept=ARCL&course=419&section=002)\n",
    "    * BIOC 302 [General Biochemistry](https://courses.students.ubc.ca/cs/main?pname=subjarea&tname=subjareas&req=3&dept=BIOC&course=302)\n",
    "    * VISA 210 [Digital Arts](https://courses.students.ubc.ca/cs/main?pname=subjarea&tname=subjareas&req=3&dept=VISA&course=210)\n",
    "    * VISA 220 [Drawing](https://courses.students.ubc.ca/cs/main?pname=subjarea&tname=subjareas&req=3&dept=VISA&course=220)\n",
    "    * JAPN 103 [Beginning Japanese II B](https://courses.students.ubc.ca/cs/main?pname=subjarea&tname=subjareas&req=3&dept=JAPN&course=103)\n",
    "    * SWED 110 [Elementary Swedish II](https://courses.students.ubc.ca/cs/main?pname=subjarea&tname=subjareas&req=3&dept=SWED&course=110)\n",
    "    * GERM 310 [Intermediate German IV](https://courses.students.ubc.ca/cs/main?pname=subjarea&tname=subjareas&req=3&dept=GERM&course=310)\n",
    "    * CHIN 483 [Modern Chinese Literature II](https://courses.students.ubc.ca/cs/main?pname=subjarea&tname=subjareas&req=3&dept=CHIN&course=483)"
   ]
  },
  {
   "cell_type": "markdown",
   "metadata": {},
   "source": [
    "### Symbols and Matrices in LaTeX\n",
    "\n",
    "Let's explore some more common math symbols. Check out the [LaTeX WikiBook](https://en.wikibooks.org/wiki/LaTeX/Mathematics) and the [Detexify App](http://detexify.kirelabs.org/classify.html).\n",
    "\n",
    "* Matrices:\n",
    "    * `$$\\begin{matrix} a & b \\\\ c & d \\end{matrix}$$` displays a matrix without braces $$\\begin{matrix} a & b \\\\ c & d \\end{matrix}$$\n",
    "    * `$$\\begin{pmatrix} a & b \\\\ c & d \\end{pmatrix}$$` displays a matrix with parentheses $$\\begin{pmatrix} a & b \\\\ c & d \\end{pmatrix}$$\n",
    "    * `$$\\begin{bmatrix} a & b \\\\ c & d \\end{bmatrix}$$` displays a matrix with square brackets $$\\begin{bmatrix} a & b \\\\ c & d \\end{bmatrix}$$\n",
    "* Braces:\n",
    "    * use `\\left( ... \\right)` to enclose tall text in tall braces. For example, `$$\\left( \\frac{1}{2} - 1 \\right$$` renders as $$\\left( \\frac{1}{2} - 1 \\right)$$\n",
    "* Operators\n",
    "    * `$\\bigcap$`  $\\bigcap$\n",
    "    * `$\\bigcup$`  $\\bigcup$\n",
    "    * `$\\prod$`  $\\prod$\n",
    "    * `$\\sum$`  $\\sum$\n",
    "* Fonts\n",
    "    * `$\\mathrm{Hom}$` $\\mathrm{Hom}$\n",
    "    * `$\\mathbb{Z}$`  $\\mathbb{Z}$\n",
    "    * `$\\mathscr{L}$`  $\\mathscr{L}$\n",
    "    * `$\\mathfrak{g}$`  $\\mathfrak{g}$\n",
    "* Other symbols\n",
    "    * `$\\rightarrow$` $\\rightarrow$\n",
    "    * `$\\leftarrow$` $\\leftarrow$\n",
    "    * `$\\Rightarrow$` $\\Rightarrow$\n",
    "    * `$\\Leftrightarrow$` $\\Leftrightarrow$\n",
    "    * `$\\in$`  $\\in$\n",
    "    * `$\\notin$`  $\\notin$\n",
    "    * `$\\forall$`  $\\forall$\n",
    "    * `$\\infty$` $\\infty$"
   ]
  },
  {
   "cell_type": "markdown",
   "metadata": {},
   "source": [
    "## 2. LaTeX Exercises"
   ]
  },
  {
   "cell_type": "markdown",
   "metadata": {},
   "source": [
    "** Exercise 1.** Write LaTeX code to display the general formula for Taylor series ![Taylor](https://upload.wikimedia.org/math/c/3/a/c3a379aaf2b04999084373279ed2da10.png)"
   ]
  },
  {
   "cell_type": "markdown",
   "metadata": {},
   "source": [
    "** Exercise 2.** Write LaTeX code to display Stokes' Theorem ![Stokes](https://upload.wikimedia.org/math/2/1/6/216f8d275203f20027c481b439cd6916.png)"
   ]
  },
  {
   "cell_type": "markdown",
   "metadata": {},
   "source": [
    "**Exercise 3.** Write LaTeX code to display the adjoint property of the tensor product ![Tensor](https://upload.wikimedia.org/math/b/9/2/b920fd7d0cffe3537804a87c54b948c3.png)"
   ]
  },
  {
   "cell_type": "markdown",
   "metadata": {},
   "source": [
    "**Exercise 4.** Write LaTeX code to display the definition of the Laplace transform ![Laplace](https://upload.wikimedia.org/math/8/4/c/84c05132f88e2e2d0d6bb32f0477dee4.png)"
   ]
  },
  {
   "cell_type": "markdown",
   "metadata": {},
   "source": [
    "**Exercise 5.** Write LaTeX code to display the definition of the Jacobian matrix ![Jacobian](https://upload.wikimedia.org/math/7/7/c/77c2073b66ece738cbf312553e61c5a4.png)"
   ]
  },
  {
   "cell_type": "markdown",
   "metadata": {},
   "source": [
    "**Exercise 6.** Pick your favourite course from this semester and write the notes from your last class in LaTeX in this cell. "
   ]
  },
  {
   "cell_type": "markdown",
   "metadata": {},
   "source": [
    "## 3. Basic Python\n",
    "\n",
    "Let's dive into Python! Check out the [Python 3 documentation page](https://docs.python.org/3/) for all the info.\n",
    "\n",
    "**IMPORTANT: Make sure the kernel (see the toolbar above) is set to Python 3**\n",
    "\n",
    "### Dataypes\n",
    "\n",
    "There are several built-in dataypes in Python. Let's focus on the most basic and most commonly used datatypes: `int`, `float`, `list`, `string`."
   ]
  },
  {
   "cell_type": "markdown",
   "metadata": {},
   "source": [
    "### int\n",
    "\n",
    "An `int` is an integer and we can use the arithmetic operators `+`, `-`, `*`, `/`, `**` (exponent), `%` (modulo) and `//` (quotient) to do operations on them:"
   ]
  },
  {
   "cell_type": "code",
   "execution_count": 45,
   "metadata": {
    "collapsed": false
   },
   "outputs": [
    {
     "data": {
      "text/plain": [
       "7"
      ]
     },
     "execution_count": 45,
     "metadata": {},
     "output_type": "execute_result"
    }
   ],
   "source": [
    "2 + 5"
   ]
  },
  {
   "cell_type": "code",
   "execution_count": 46,
   "metadata": {
    "collapsed": false
   },
   "outputs": [
    {
     "data": {
      "text/plain": [
       "2"
      ]
     },
     "execution_count": 46,
     "metadata": {},
     "output_type": "execute_result"
    }
   ],
   "source": [
    "8 - 6"
   ]
  },
  {
   "cell_type": "code",
   "execution_count": 47,
   "metadata": {
    "collapsed": false
   },
   "outputs": [
    {
     "data": {
      "text/plain": [
       "-42"
      ]
     },
     "execution_count": 47,
     "metadata": {},
     "output_type": "execute_result"
    }
   ],
   "source": [
    "6 * -7"
   ]
  },
  {
   "cell_type": "code",
   "execution_count": 48,
   "metadata": {
    "collapsed": false
   },
   "outputs": [
    {
     "data": {
      "text/plain": [
       "11.0"
      ]
     },
     "execution_count": 48,
     "metadata": {},
     "output_type": "execute_result"
    }
   ],
   "source": [
    "121 / 11"
   ]
  },
  {
   "cell_type": "markdown",
   "metadata": {},
   "source": [
    "The operator `**` computes exponents:"
   ]
  },
  {
   "cell_type": "code",
   "execution_count": 49,
   "metadata": {
    "collapsed": false
   },
   "outputs": [
    {
     "data": {
      "text/plain": [
       "64"
      ]
     },
     "execution_count": 49,
     "metadata": {},
     "output_type": "execute_result"
    }
   ],
   "source": [
    "8 ** 2"
   ]
  },
  {
   "cell_type": "markdown",
   "metadata": {},
   "source": [
    "The operator `%` computes the remainder of integer disivion (ie. the modulo operator):"
   ]
  },
  {
   "cell_type": "code",
   "execution_count": 50,
   "metadata": {
    "collapsed": false
   },
   "outputs": [
    {
     "data": {
      "text/plain": [
       "1"
      ]
     },
     "execution_count": 50,
     "metadata": {},
     "output_type": "execute_result"
    }
   ],
   "source": [
    "9 % 4"
   ]
  },
  {
   "cell_type": "markdown",
   "metadata": {},
   "source": [
    "The operator `//` computes the quotient:"
   ]
  },
  {
   "cell_type": "code",
   "execution_count": 51,
   "metadata": {
    "collapsed": false
   },
   "outputs": [
    {
     "data": {
      "text/plain": [
       "2"
      ]
     },
     "execution_count": 51,
     "metadata": {},
     "output_type": "execute_result"
    }
   ],
   "source": [
    "9 // 4"
   ]
  },
  {
   "cell_type": "markdown",
   "metadata": {},
   "source": [
    "### float\n",
    "\n",
    "WAIT! Did you notice something different in the calculation `121/11` above? There's a decimal place in `11.0`. This type is called a `float`. It's just a real number with decimal places and the division operator always returns a `float` even if we're dividing by an `int`. **IMPORTANT: This is a feature of Python 3. Make sure the kernel (see `Kernel` in the toolbar above) is set to Python 3**."
   ]
  },
  {
   "cell_type": "code",
   "execution_count": 52,
   "metadata": {
    "collapsed": false
   },
   "outputs": [
    {
     "data": {
      "text/plain": [
       "int"
      ]
     },
     "execution_count": 52,
     "metadata": {},
     "output_type": "execute_result"
    }
   ],
   "source": [
    "type(11)"
   ]
  },
  {
   "cell_type": "code",
   "execution_count": 53,
   "metadata": {
    "collapsed": false
   },
   "outputs": [
    {
     "data": {
      "text/plain": [
       "float"
      ]
     },
     "execution_count": 53,
     "metadata": {},
     "output_type": "execute_result"
    }
   ],
   "source": [
    "type(11.0)"
   ]
  },
  {
   "cell_type": "code",
   "execution_count": 54,
   "metadata": {
    "collapsed": false
   },
   "outputs": [
    {
     "data": {
      "text/plain": [
       "12.443"
      ]
     },
     "execution_count": 54,
     "metadata": {},
     "output_type": "execute_result"
    }
   ],
   "source": [
    "2.3*5.41"
   ]
  },
  {
   "cell_type": "code",
   "execution_count": 55,
   "metadata": {
    "collapsed": false
   },
   "outputs": [
    {
     "data": {
      "text/plain": [
       "1.4142135623730951"
      ]
     },
     "execution_count": 55,
     "metadata": {},
     "output_type": "execute_result"
    }
   ],
   "source": [
    "2.0**0.5"
   ]
  },
  {
   "cell_type": "markdown",
   "metadata": {},
   "source": [
    "## 4. Python Exercises"
   ]
  },
  {
   "cell_type": "markdown",
   "metadata": {},
   "source": [
    "**Exercise 1.** An interger $p$ is prime if $1$ and $p$ are its only divisors. Find all the primes between $100$ and $150$. (Use the following fact: $p$ is prime if $p$ `%` $n \\not=0$ for all $n \\leq \\sqrt{p}$ where `%` is the modulo operator.)"
   ]
  },
  {
   "cell_type": "markdown",
   "metadata": {},
   "source": [
    "**Exercise 2.** [Fermat's theorem on the sum of two squares](https://en.wikipedia.org/wiki/Fermat%27s_theorem_on_sums_of_two_squares) states that every odd prime number $p$ can be expressed as the sum of two squares. For example, $5 = 2^2 + 1^2$ and $13 = 3^2 + 2^2$. Compute $a^2 + b^2$ for all integers $a,b \\leq 10$ to find those primes $p$ which can be expressed as the sum of two squares in *more than one way*."
   ]
  },
  {
   "cell_type": "markdown",
   "metadata": {},
   "source": [
    "**Exercise 3.** We will continue with basic Python programming next week. In the meantime, check out this video from the SciPy 2015 Conference playlist on YouTube. It gives an introduction to Python and Juyter notebooks."
   ]
  },
  {
   "cell_type": "code",
   "execution_count": 56,
   "metadata": {
    "collapsed": false
   },
   "outputs": [
    {
     "data": {
      "text/html": [
       "\n",
       "        <iframe\n",
       "            width=\"400\"\n",
       "            height=\"300\"\n",
       "            src=\"https://www.youtube.com/embed/pB3BFP001co\"\n",
       "            frameborder=\"0\"\n",
       "            allowfullscreen\n",
       "        ></iframe>\n",
       "        "
      ],
      "text/plain": [
       "<IPython.lib.display.YouTubeVideo at 0x1041026a0>"
      ]
     },
     "execution_count": 56,
     "metadata": {},
     "output_type": "execute_result"
    }
   ],
   "source": [
    "from IPython.display import YouTubeVideo\n",
    "YouTubeVideo(\"pB3BFP001co\")"
   ]
  }
 ],
 "metadata": {
  "kernelspec": {
   "display_name": "Python 3",
   "language": "python",
   "name": "python3"
  },
  "language_info": {
   "codemirror_mode": {
    "name": "ipython",
    "version": 3
   },
   "file_extension": ".py",
   "mimetype": "text/x-python",
   "name": "python",
   "nbconvert_exporter": "python",
   "pygments_lexer": "ipython3",
   "version": "3.4.3"
  }
 },
 "nbformat": 4,
 "nbformat_minor": 0
}
