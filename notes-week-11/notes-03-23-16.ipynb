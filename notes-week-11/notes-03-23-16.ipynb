{
 "cells": [
  {
   "cell_type": "markdown",
   "metadata": {},
   "source": [
    "# MATH 210 Introduction to Mathematical Computing\n",
    "\n",
    "## March 23, 2016\n",
    "\n",
    "Today's Agenda:\n",
    "\n",
    "1. More about pandas DataFrames\n",
    "    * Example: GDP per capita (World Bank Open Data)\n",
    "    * Accessing rows and columns\n",
    "    * More plotting  \n",
    "2. DataFrame methods\n",
    "    * Compute GDP growth using `.diff`\n",
    "    * Find correlation coefficients using `.corr`\n",
    "    * Examples: `.mean`, `.sort_values`, `.max`, `.min`\n",
    "3. Exercises"
   ]
  },
  {
   "cell_type": "code",
   "execution_count": 1,
   "metadata": {
    "collapsed": false
   },
   "outputs": [],
   "source": [
    "import pandas as pd\n",
    "%matplotlib inline"
   ]
  },
  {
   "cell_type": "markdown",
   "metadata": {},
   "source": [
    "## 1. More about pandas DataFrames\n",
    "\n",
    "Let's practice using pandas DataFrames:\n",
    "\n",
    "* Import data with `pandas.read_csv`\n",
    "* Get an overview of the data with the methods `.head()`, `.tail()` and `.info()`\n",
    "* Access columns by name using brackets `[]` (columns are pandas 1-dimensional data structure Series)\n",
    "* Access rows and columns by index labels using `.loc[row_label,col_label]`\n",
    "* Do more plotting with `.plot()` with options `kind='bar'` and `kind='scatter'`"
   ]
  },
  {
   "cell_type": "markdown",
   "metadata": {},
   "source": [
    "### World Bank Open Data: GDP per capita\n",
    "\n",
    "The World Bank has a large amount of open data available online (see [World Bank Open Data](http://data.worldbank.org/)). I've downloaded a dataset describing the GDP per capita from 1960 to 2014 of 13 different countries and it comes with the following description:\n",
    "\n",
    "> GDP per capita (current US$): GDP per capita is gross domestic product divided by midyear population. GDP is the sum of gross value added by all resident producers in the economy plus any product taxes and minus any subsidies not included in the value of the products. It is calculated without making deductions for depreciation of fabricated assets or for depletion and degradation of natural resources. Data are in current U.S. dollars.\n",
    "\n",
    "Let's load the data with `pandas.read_csv` and take look. The first column is the year and so we use the option `index_col=0` to set the year as the index."
   ]
  },
  {
   "cell_type": "code",
   "execution_count": 2,
   "metadata": {
    "collapsed": false
   },
   "outputs": [],
   "source": [
    "gdp_data = pd.read_csv(\"gdp_data.csv\",index_col=0)"
   ]
  },
  {
   "cell_type": "code",
   "execution_count": 3,
   "metadata": {
    "collapsed": false
   },
   "outputs": [
    {
     "data": {
      "text/html": [
       "<div>\n",
       "<table border=\"1\" class=\"dataframe\">\n",
       "  <thead>\n",
       "    <tr style=\"text-align: right;\">\n",
       "      <th></th>\n",
       "      <th>Canada</th>\n",
       "      <th>China</th>\n",
       "      <th>Mexico</th>\n",
       "      <th>United Kingdom</th>\n",
       "      <th>United States</th>\n",
       "      <th>India</th>\n",
       "      <th>Japan</th>\n",
       "      <th>Spain</th>\n",
       "      <th>Kenya</th>\n",
       "      <th>Ghana</th>\n",
       "      <th>Nigeria</th>\n",
       "      <th>Saudi Arabia</th>\n",
       "      <th>Singapore</th>\n",
       "    </tr>\n",
       "    <tr>\n",
       "      <th>Year</th>\n",
       "      <th></th>\n",
       "      <th></th>\n",
       "      <th></th>\n",
       "      <th></th>\n",
       "      <th></th>\n",
       "      <th></th>\n",
       "      <th></th>\n",
       "      <th></th>\n",
       "      <th></th>\n",
       "      <th></th>\n",
       "      <th></th>\n",
       "      <th></th>\n",
       "      <th></th>\n",
       "    </tr>\n",
       "  </thead>\n",
       "  <tbody>\n",
       "    <tr>\n",
       "      <th>1960</th>\n",
       "      <td>2294.568814</td>\n",
       "      <td>88.722498</td>\n",
       "      <td>342.016187</td>\n",
       "      <td>1380.306241</td>\n",
       "      <td>3007.123445</td>\n",
       "      <td>83.794684</td>\n",
       "      <td>478.995340</td>\n",
       "      <td>396.392253</td>\n",
       "      <td>97.621531</td>\n",
       "      <td>182.979246</td>\n",
       "      <td>92.811868</td>\n",
       "      <td>NaN</td>\n",
       "      <td>427.874822</td>\n",
       "    </tr>\n",
       "    <tr>\n",
       "      <th>1961</th>\n",
       "      <td>2231.293824</td>\n",
       "      <td>75.048915</td>\n",
       "      <td>359.290995</td>\n",
       "      <td>1452.544709</td>\n",
       "      <td>3066.562869</td>\n",
       "      <td>87.031166</td>\n",
       "      <td>563.586760</td>\n",
       "      <td>450.053289</td>\n",
       "      <td>94.835254</td>\n",
       "      <td>189.713215</td>\n",
       "      <td>96.811564</td>\n",
       "      <td>NaN</td>\n",
       "      <td>448.953324</td>\n",
       "    </tr>\n",
       "    <tr>\n",
       "      <th>1962</th>\n",
       "      <td>2255.230044</td>\n",
       "      <td>70.122082</td>\n",
       "      <td>374.445430</td>\n",
       "      <td>1513.651449</td>\n",
       "      <td>3243.843078</td>\n",
       "      <td>91.657911</td>\n",
       "      <td>633.640315</td>\n",
       "      <td>520.206131</td>\n",
       "      <td>100.604255</td>\n",
       "      <td>195.120016</td>\n",
       "      <td>104.194016</td>\n",
       "      <td>NaN</td>\n",
       "      <td>471.874354</td>\n",
       "    </tr>\n",
       "    <tr>\n",
       "      <th>1963</th>\n",
       "      <td>2354.839122</td>\n",
       "      <td>73.420392</td>\n",
       "      <td>403.824180</td>\n",
       "      <td>1592.614477</td>\n",
       "      <td>3374.515171</td>\n",
       "      <td>103.135871</td>\n",
       "      <td>717.866915</td>\n",
       "      <td>609.487384</td>\n",
       "      <td>104.012701</td>\n",
       "      <td>210.968978</td>\n",
       "      <td>107.329219</td>\n",
       "      <td>NaN</td>\n",
       "      <td>510.980519</td>\n",
       "    </tr>\n",
       "    <tr>\n",
       "      <th>1964</th>\n",
       "      <td>2529.518179</td>\n",
       "      <td>84.573397</td>\n",
       "      <td>463.896331</td>\n",
       "      <td>1729.399978</td>\n",
       "      <td>3573.941185</td>\n",
       "      <td>117.842826</td>\n",
       "      <td>835.657252</td>\n",
       "      <td>675.241639</td>\n",
       "      <td>108.558933</td>\n",
       "      <td>230.431292</td>\n",
       "      <td>112.933731</td>\n",
       "      <td>NaN</td>\n",
       "      <td>485.296925</td>\n",
       "    </tr>\n",
       "  </tbody>\n",
       "</table>\n",
       "</div>"
      ],
      "text/plain": [
       "           Canada      China      Mexico  United Kingdom  United States  \\\n",
       "Year                                                                      \n",
       "1960  2294.568814  88.722498  342.016187     1380.306241    3007.123445   \n",
       "1961  2231.293824  75.048915  359.290995     1452.544709    3066.562869   \n",
       "1962  2255.230044  70.122082  374.445430     1513.651449    3243.843078   \n",
       "1963  2354.839122  73.420392  403.824180     1592.614477    3374.515171   \n",
       "1964  2529.518179  84.573397  463.896331     1729.399978    3573.941185   \n",
       "\n",
       "           India       Japan       Spain       Kenya       Ghana     Nigeria  \\\n",
       "Year                                                                           \n",
       "1960   83.794684  478.995340  396.392253   97.621531  182.979246   92.811868   \n",
       "1961   87.031166  563.586760  450.053289   94.835254  189.713215   96.811564   \n",
       "1962   91.657911  633.640315  520.206131  100.604255  195.120016  104.194016   \n",
       "1963  103.135871  717.866915  609.487384  104.012701  210.968978  107.329219   \n",
       "1964  117.842826  835.657252  675.241639  108.558933  230.431292  112.933731   \n",
       "\n",
       "      Saudi Arabia   Singapore  \n",
       "Year                            \n",
       "1960           NaN  427.874822  \n",
       "1961           NaN  448.953324  \n",
       "1962           NaN  471.874354  \n",
       "1963           NaN  510.980519  \n",
       "1964           NaN  485.296925  "
      ]
     },
     "execution_count": 3,
     "metadata": {},
     "output_type": "execute_result"
    }
   ],
   "source": [
    "gdp_data.head()"
   ]
  },
  {
   "cell_type": "code",
   "execution_count": 4,
   "metadata": {
    "collapsed": false
   },
   "outputs": [
    {
     "data": {
      "text/html": [
       "<div>\n",
       "<table border=\"1\" class=\"dataframe\">\n",
       "  <thead>\n",
       "    <tr style=\"text-align: right;\">\n",
       "      <th></th>\n",
       "      <th>Canada</th>\n",
       "      <th>China</th>\n",
       "      <th>Mexico</th>\n",
       "      <th>United Kingdom</th>\n",
       "      <th>United States</th>\n",
       "      <th>India</th>\n",
       "      <th>Japan</th>\n",
       "      <th>Spain</th>\n",
       "      <th>Kenya</th>\n",
       "      <th>Ghana</th>\n",
       "      <th>Nigeria</th>\n",
       "      <th>Saudi Arabia</th>\n",
       "      <th>Singapore</th>\n",
       "    </tr>\n",
       "    <tr>\n",
       "      <th>Year</th>\n",
       "      <th></th>\n",
       "      <th></th>\n",
       "      <th></th>\n",
       "      <th></th>\n",
       "      <th></th>\n",
       "      <th></th>\n",
       "      <th></th>\n",
       "      <th></th>\n",
       "      <th></th>\n",
       "      <th></th>\n",
       "      <th></th>\n",
       "      <th></th>\n",
       "      <th></th>\n",
       "    </tr>\n",
       "  </thead>\n",
       "  <tbody>\n",
       "    <tr>\n",
       "      <th>2010</th>\n",
       "      <td>47463.631192</td>\n",
       "      <td>4514.940520</td>\n",
       "      <td>8851.350514</td>\n",
       "      <td>38292.871131</td>\n",
       "      <td>48374.056457</td>\n",
       "      <td>1387.880084</td>\n",
       "      <td>42909.234152</td>\n",
       "      <td>30737.832271</td>\n",
       "      <td>991.850545</td>\n",
       "      <td>1323.099141</td>\n",
       "      <td>2314.963537</td>\n",
       "      <td>18753.981233</td>\n",
       "      <td>46569.973049</td>\n",
       "    </tr>\n",
       "    <tr>\n",
       "      <th>2011</th>\n",
       "      <td>52086.533525</td>\n",
       "      <td>5574.187093</td>\n",
       "      <td>9715.112596</td>\n",
       "      <td>41020.376964</td>\n",
       "      <td>49781.357490</td>\n",
       "      <td>1471.658439</td>\n",
       "      <td>46203.709519</td>\n",
       "      <td>31832.238081</td>\n",
       "      <td>1012.879773</td>\n",
       "      <td>1587.190873</td>\n",
       "      <td>2514.148622</td>\n",
       "      <td>23256.095613</td>\n",
       "      <td>53121.231044</td>\n",
       "    </tr>\n",
       "    <tr>\n",
       "      <th>2012</th>\n",
       "      <td>52733.473689</td>\n",
       "      <td>6264.643878</td>\n",
       "      <td>9703.371017</td>\n",
       "      <td>41294.514801</td>\n",
       "      <td>51456.658728</td>\n",
       "      <td>1449.664875</td>\n",
       "      <td>46679.265432</td>\n",
       "      <td>28647.835243</td>\n",
       "      <td>1184.923256</td>\n",
       "      <td>1641.825922</td>\n",
       "      <td>2739.852189</td>\n",
       "      <td>24883.189715</td>\n",
       "      <td>54577.137365</td>\n",
       "    </tr>\n",
       "    <tr>\n",
       "      <th>2013</th>\n",
       "      <td>52305.258394</td>\n",
       "      <td>6991.853866</td>\n",
       "      <td>10172.722549</td>\n",
       "      <td>42309.039922</td>\n",
       "      <td>52980.043626</td>\n",
       "      <td>1455.102191</td>\n",
       "      <td>38633.708059</td>\n",
       "      <td>29370.663867</td>\n",
       "      <td>1257.202838</td>\n",
       "      <td>1827.101368</td>\n",
       "      <td>2979.834679</td>\n",
       "      <td>24646.020873</td>\n",
       "      <td>55979.757049</td>\n",
       "    </tr>\n",
       "    <tr>\n",
       "      <th>2014</th>\n",
       "      <td>50235.385509</td>\n",
       "      <td>7590.016441</td>\n",
       "      <td>10325.646066</td>\n",
       "      <td>46331.977410</td>\n",
       "      <td>54629.495168</td>\n",
       "      <td>1581.510703</td>\n",
       "      <td>36194.415613</td>\n",
       "      <td>29767.351560</td>\n",
       "      <td>1358.262219</td>\n",
       "      <td>1441.636453</td>\n",
       "      <td>3203.296824</td>\n",
       "      <td>24160.958545</td>\n",
       "      <td>56284.578405</td>\n",
       "    </tr>\n",
       "  </tbody>\n",
       "</table>\n",
       "</div>"
      ],
      "text/plain": [
       "            Canada        China        Mexico  United Kingdom  United States  \\\n",
       "Year                                                                           \n",
       "2010  47463.631192  4514.940520   8851.350514    38292.871131   48374.056457   \n",
       "2011  52086.533525  5574.187093   9715.112596    41020.376964   49781.357490   \n",
       "2012  52733.473689  6264.643878   9703.371017    41294.514801   51456.658728   \n",
       "2013  52305.258394  6991.853866  10172.722549    42309.039922   52980.043626   \n",
       "2014  50235.385509  7590.016441  10325.646066    46331.977410   54629.495168   \n",
       "\n",
       "            India         Japan         Spain        Kenya        Ghana  \\\n",
       "Year                                                                      \n",
       "2010  1387.880084  42909.234152  30737.832271   991.850545  1323.099141   \n",
       "2011  1471.658439  46203.709519  31832.238081  1012.879773  1587.190873   \n",
       "2012  1449.664875  46679.265432  28647.835243  1184.923256  1641.825922   \n",
       "2013  1455.102191  38633.708059  29370.663867  1257.202838  1827.101368   \n",
       "2014  1581.510703  36194.415613  29767.351560  1358.262219  1441.636453   \n",
       "\n",
       "          Nigeria  Saudi Arabia     Singapore  \n",
       "Year                                           \n",
       "2010  2314.963537  18753.981233  46569.973049  \n",
       "2011  2514.148622  23256.095613  53121.231044  \n",
       "2012  2739.852189  24883.189715  54577.137365  \n",
       "2013  2979.834679  24646.020873  55979.757049  \n",
       "2014  3203.296824  24160.958545  56284.578405  "
      ]
     },
     "execution_count": 4,
     "metadata": {},
     "output_type": "execute_result"
    }
   ],
   "source": [
    "gdp_data.tail()"
   ]
  },
  {
   "cell_type": "code",
   "execution_count": 5,
   "metadata": {
    "collapsed": false
   },
   "outputs": [
    {
     "name": "stdout",
     "output_type": "stream",
     "text": [
      "<class 'pandas.core.frame.DataFrame'>\n",
      "Int64Index: 55 entries, 1960 to 2014\n",
      "Data columns (total 13 columns):\n",
      "Canada            55 non-null float64\n",
      "China             55 non-null float64\n",
      "Mexico            55 non-null float64\n",
      "United Kingdom    55 non-null float64\n",
      "United States     55 non-null float64\n",
      "India             55 non-null float64\n",
      "Japan             55 non-null float64\n",
      "Spain             55 non-null float64\n",
      "Kenya             55 non-null float64\n",
      "Ghana             55 non-null float64\n",
      "Nigeria           55 non-null float64\n",
      "Saudi Arabia      47 non-null float64\n",
      "Singapore         55 non-null float64\n",
      "dtypes: float64(13)\n",
      "memory usage: 6.0 KB\n"
     ]
    }
   ],
   "source": [
    "gdp_data.info()"
   ]
  },
  {
   "cell_type": "markdown",
   "metadata": {},
   "source": [
    "### Accessing Rows and Columns\n",
    "\n",
    "We see that Saudi Arabia is missing 8 years of data. We can access that column with brackets `[]` and the result is a pandas Series."
   ]
  },
  {
   "cell_type": "code",
   "execution_count": 6,
   "metadata": {
    "collapsed": false
   },
   "outputs": [
    {
     "data": {
      "text/plain": [
       "Year\n",
       "1960           NaN\n",
       "1961           NaN\n",
       "1962           NaN\n",
       "1963           NaN\n",
       "1964           NaN\n",
       "1965           NaN\n",
       "1966           NaN\n",
       "1967           NaN\n",
       "1968    776.975104\n",
       "1969    800.795916\n",
       "Name: Saudi Arabia, dtype: float64"
      ]
     },
     "execution_count": 6,
     "metadata": {},
     "output_type": "execute_result"
    }
   ],
   "source": [
    "gdp_data['Saudi Arabia'].head(10)"
   ]
  },
  {
   "cell_type": "markdown",
   "metadata": {},
   "source": [
    "We can access several columns by passing a list of column names into the brackets `[]`."
   ]
  },
  {
   "cell_type": "code",
   "execution_count": 7,
   "metadata": {
    "collapsed": false
   },
   "outputs": [
    {
     "data": {
      "text/html": [
       "<div>\n",
       "<table border=\"1\" class=\"dataframe\">\n",
       "  <thead>\n",
       "    <tr style=\"text-align: right;\">\n",
       "      <th></th>\n",
       "      <th>Canada</th>\n",
       "      <th>China</th>\n",
       "      <th>Spain</th>\n",
       "    </tr>\n",
       "    <tr>\n",
       "      <th>Year</th>\n",
       "      <th></th>\n",
       "      <th></th>\n",
       "      <th></th>\n",
       "    </tr>\n",
       "  </thead>\n",
       "  <tbody>\n",
       "    <tr>\n",
       "      <th>2005</th>\n",
       "      <td>36028.232490</td>\n",
       "      <td>1740.096726</td>\n",
       "      <td>26510.717453</td>\n",
       "    </tr>\n",
       "    <tr>\n",
       "      <th>2006</th>\n",
       "      <td>40243.552284</td>\n",
       "      <td>2082.183363</td>\n",
       "      <td>28482.609483</td>\n",
       "    </tr>\n",
       "    <tr>\n",
       "      <th>2007</th>\n",
       "      <td>44328.475377</td>\n",
       "      <td>2673.294191</td>\n",
       "      <td>32709.401038</td>\n",
       "    </tr>\n",
       "    <tr>\n",
       "      <th>2008</th>\n",
       "      <td>46400.441846</td>\n",
       "      <td>3441.221355</td>\n",
       "      <td>35578.736190</td>\n",
       "    </tr>\n",
       "    <tr>\n",
       "      <th>2009</th>\n",
       "      <td>40764.141347</td>\n",
       "      <td>3800.474542</td>\n",
       "      <td>32333.466104</td>\n",
       "    </tr>\n",
       "    <tr>\n",
       "      <th>2010</th>\n",
       "      <td>47463.631192</td>\n",
       "      <td>4514.940520</td>\n",
       "      <td>30737.832271</td>\n",
       "    </tr>\n",
       "    <tr>\n",
       "      <th>2011</th>\n",
       "      <td>52086.533525</td>\n",
       "      <td>5574.187093</td>\n",
       "      <td>31832.238081</td>\n",
       "    </tr>\n",
       "    <tr>\n",
       "      <th>2012</th>\n",
       "      <td>52733.473689</td>\n",
       "      <td>6264.643878</td>\n",
       "      <td>28647.835243</td>\n",
       "    </tr>\n",
       "    <tr>\n",
       "      <th>2013</th>\n",
       "      <td>52305.258394</td>\n",
       "      <td>6991.853866</td>\n",
       "      <td>29370.663867</td>\n",
       "    </tr>\n",
       "    <tr>\n",
       "      <th>2014</th>\n",
       "      <td>50235.385509</td>\n",
       "      <td>7590.016441</td>\n",
       "      <td>29767.351560</td>\n",
       "    </tr>\n",
       "  </tbody>\n",
       "</table>\n",
       "</div>"
      ],
      "text/plain": [
       "            Canada        China         Spain\n",
       "Year                                         \n",
       "2005  36028.232490  1740.096726  26510.717453\n",
       "2006  40243.552284  2082.183363  28482.609483\n",
       "2007  44328.475377  2673.294191  32709.401038\n",
       "2008  46400.441846  3441.221355  35578.736190\n",
       "2009  40764.141347  3800.474542  32333.466104\n",
       "2010  47463.631192  4514.940520  30737.832271\n",
       "2011  52086.533525  5574.187093  31832.238081\n",
       "2012  52733.473689  6264.643878  28647.835243\n",
       "2013  52305.258394  6991.853866  29370.663867\n",
       "2014  50235.385509  7590.016441  29767.351560"
      ]
     },
     "execution_count": 7,
     "metadata": {},
     "output_type": "execute_result"
    }
   ],
   "source": [
    "gdp_data[['Canada','China','Spain']].tail(10)"
   ]
  },
  {
   "cell_type": "markdown",
   "metadata": {},
   "source": [
    "We can also access rows and columns by index label using `.loc[row_label,col_label]`."
   ]
  },
  {
   "cell_type": "code",
   "execution_count": 8,
   "metadata": {
    "collapsed": false
   },
   "outputs": [
    {
     "data": {
      "text/plain": [
       "56284.578405336601"
      ]
     },
     "execution_count": 8,
     "metadata": {},
     "output_type": "execute_result"
    }
   ],
   "source": [
    "gdp_data.loc[2014,'Singapore']"
   ]
  },
  {
   "cell_type": "code",
   "execution_count": 9,
   "metadata": {
    "collapsed": false
   },
   "outputs": [
    {
     "data": {
      "text/html": [
       "<div>\n",
       "<table border=\"1\" class=\"dataframe\">\n",
       "  <thead>\n",
       "    <tr style=\"text-align: right;\">\n",
       "      <th></th>\n",
       "      <th>Canada</th>\n",
       "      <th>Kenya</th>\n",
       "      <th>India</th>\n",
       "    </tr>\n",
       "    <tr>\n",
       "      <th>Year</th>\n",
       "      <th></th>\n",
       "      <th></th>\n",
       "      <th></th>\n",
       "    </tr>\n",
       "  </thead>\n",
       "  <tbody>\n",
       "    <tr>\n",
       "      <th>2007</th>\n",
       "      <td>44328.475377</td>\n",
       "      <td>857.925689</td>\n",
       "      <td>1050.024801</td>\n",
       "    </tr>\n",
       "    <tr>\n",
       "      <th>2008</th>\n",
       "      <td>46400.441846</td>\n",
       "      <td>938.571762</td>\n",
       "      <td>1022.577592</td>\n",
       "    </tr>\n",
       "    <tr>\n",
       "      <th>2009</th>\n",
       "      <td>40764.141347</td>\n",
       "      <td>942.743146</td>\n",
       "      <td>1124.519446</td>\n",
       "    </tr>\n",
       "    <tr>\n",
       "      <th>2010</th>\n",
       "      <td>47463.631192</td>\n",
       "      <td>991.850545</td>\n",
       "      <td>1387.880084</td>\n",
       "    </tr>\n",
       "  </tbody>\n",
       "</table>\n",
       "</div>"
      ],
      "text/plain": [
       "            Canada       Kenya        India\n",
       "Year                                       \n",
       "2007  44328.475377  857.925689  1050.024801\n",
       "2008  46400.441846  938.571762  1022.577592\n",
       "2009  40764.141347  942.743146  1124.519446\n",
       "2010  47463.631192  991.850545  1387.880084"
      ]
     },
     "execution_count": 9,
     "metadata": {},
     "output_type": "execute_result"
    }
   ],
   "source": [
    "gdp_data.loc[2007:2010,['Canada','Kenya','India']]"
   ]
  },
  {
   "cell_type": "markdown",
   "metadata": {},
   "source": [
    "### More Plotting\n",
    "\n",
    "Let's compare the GDP per capita of countries in different regions of the world by selecting and then plotting the data."
   ]
  },
  {
   "cell_type": "markdown",
   "metadata": {},
   "source": [
    "**Example.** Plot the GDP per capita of China, Japan and Singapore over the period 1960 tp 1980."
   ]
  },
  {
   "cell_type": "code",
   "execution_count": 10,
   "metadata": {
    "collapsed": false
   },
   "outputs": [
    {
     "data": {
      "text/plain": [
       "<matplotlib.axes._subplots.AxesSubplot at 0x106fc3780>"
      ]
     },
     "execution_count": 10,
     "metadata": {},
     "output_type": "execute_result"
    },
    {
     "data": {
      "image/png": "[encoded data removed]",
      "text/plain": [
       "<matplotlib.figure.Figure at 0x106fc3a58>"
      ]
     },
     "metadata": {},
     "output_type": "display_data"
    }
   ],
   "source": [
    "gdp_data.loc[1960:1980,['China','Japan','Singapore']].plot()"
   ]
  },
  {
   "cell_type": "markdown",
   "metadata": {},
   "source": [
    "**Example.** Plot the GDP per capita of Canada, United States and Mexico over the period 1990 to 2000."
   ]
  },
  {
   "cell_type": "code",
   "execution_count": 11,
   "metadata": {
    "collapsed": false
   },
   "outputs": [
    {
     "data": {
      "text/plain": [
       "<matplotlib.axes._subplots.AxesSubplot at 0x107070b70>"
      ]
     },
     "execution_count": 11,
     "metadata": {},
     "output_type": "execute_result"
    },
    {
     "data": {
      "image/png": "[encoded data removed]",
      "text/plain": [
       "<matplotlib.figure.Figure at 0x1070660b8>"
      ]
     },
     "metadata": {},
     "output_type": "display_data"
    }
   ],
   "source": [
    "gdp_data.loc[1990:2000,['Canada','United States','Mexico']].plot()"
   ]
  },
  {
   "cell_type": "markdown",
   "metadata": {},
   "source": [
    "**Example.** Plot the GDP per capita in 2014 of all 13 countries as a bar plot."
   ]
  },
  {
   "cell_type": "code",
   "execution_count": 12,
   "metadata": {
    "collapsed": false
   },
   "outputs": [
    {
     "data": {
      "text/plain": [
       "<matplotlib.axes._subplots.AxesSubplot at 0x1070c31d0>"
      ]
     },
     "execution_count": 12,
     "metadata": {},
     "output_type": "execute_result"
    },
    {
     "data": {
      "image/png": "[encoded data removed]",
      "text/plain": [
       "<matplotlib.figure.Figure at 0x1070ccd68>"
      ]
     },
     "metadata": {},
     "output_type": "display_data"
    }
   ],
   "source": [
    "gdp_data.loc[2014].plot(kind='bar',title='GDP per capita in 2014')"
   ]
  },
  {
   "cell_type": "markdown",
   "metadata": {},
   "source": [
    "Which of these 13 countries had the highest GDP per capita in 2014? Singapore!"
   ]
  },
  {
   "cell_type": "markdown",
   "metadata": {},
   "source": [
    "## 2. DataFrame Methods\n",
    "\n",
    "We can do operations on DataFrames using methods such as `.sum()`, `.mean()`, `.diff()` (the difference between adjacent values), `.corr()` (the correlation coefficients column by column).\n",
    "\n",
    "### Computing GDP Growth (%)\n",
    "\n",
    "To compute GDP growth (as percent per capita), we can use the `.diff()` method to find the change in GDP per capita year by year and then divide by the GDP to get the percent change."
   ]
  },
  {
   "cell_type": "code",
   "execution_count": 13,
   "metadata": {
    "collapsed": true
   },
   "outputs": [],
   "source": [
    "gdp_growth = gdp_data.diff() / gdp_data"
   ]
  },
  {
   "cell_type": "code",
   "execution_count": 14,
   "metadata": {
    "collapsed": false
   },
   "outputs": [
    {
     "data": {
      "text/html": [
       "<div>\n",
       "<table border=\"1\" class=\"dataframe\">\n",
       "  <thead>\n",
       "    <tr style=\"text-align: right;\">\n",
       "      <th></th>\n",
       "      <th>Canada</th>\n",
       "      <th>China</th>\n",
       "      <th>Mexico</th>\n",
       "      <th>United Kingdom</th>\n",
       "      <th>United States</th>\n",
       "      <th>India</th>\n",
       "      <th>Japan</th>\n",
       "      <th>Spain</th>\n",
       "      <th>Kenya</th>\n",
       "      <th>Ghana</th>\n",
       "      <th>Nigeria</th>\n",
       "      <th>Saudi Arabia</th>\n",
       "      <th>Singapore</th>\n",
       "    </tr>\n",
       "    <tr>\n",
       "      <th>Year</th>\n",
       "      <th></th>\n",
       "      <th></th>\n",
       "      <th></th>\n",
       "      <th></th>\n",
       "      <th></th>\n",
       "      <th></th>\n",
       "      <th></th>\n",
       "      <th></th>\n",
       "      <th></th>\n",
       "      <th></th>\n",
       "      <th></th>\n",
       "      <th></th>\n",
       "      <th></th>\n",
       "    </tr>\n",
       "  </thead>\n",
       "  <tbody>\n",
       "    <tr>\n",
       "      <th>2010</th>\n",
       "      <td>0.141150</td>\n",
       "      <td>0.158245</td>\n",
       "      <td>0.135987</td>\n",
       "      <td>0.029420</td>\n",
       "      <td>0.028373</td>\n",
       "      <td>0.189757</td>\n",
       "      <td>0.083586</td>\n",
       "      <td>-0.051911</td>\n",
       "      <td>0.049511</td>\n",
       "      <td>0.172017</td>\n",
       "      <td>0.528300</td>\n",
       "      <td>0.165239</td>\n",
       "      <td>0.171626</td>\n",
       "    </tr>\n",
       "    <tr>\n",
       "      <th>2011</th>\n",
       "      <td>0.088754</td>\n",
       "      <td>0.190027</td>\n",
       "      <td>0.088909</td>\n",
       "      <td>0.066491</td>\n",
       "      <td>0.028270</td>\n",
       "      <td>0.056928</td>\n",
       "      <td>0.071303</td>\n",
       "      <td>0.034380</td>\n",
       "      <td>0.020762</td>\n",
       "      <td>0.166389</td>\n",
       "      <td>0.079226</td>\n",
       "      <td>0.193589</td>\n",
       "      <td>0.123327</td>\n",
       "    </tr>\n",
       "    <tr>\n",
       "      <th>2012</th>\n",
       "      <td>0.012268</td>\n",
       "      <td>0.110215</td>\n",
       "      <td>-0.001210</td>\n",
       "      <td>0.006639</td>\n",
       "      <td>0.032558</td>\n",
       "      <td>-0.015171</td>\n",
       "      <td>0.010188</td>\n",
       "      <td>-0.111157</td>\n",
       "      <td>0.145194</td>\n",
       "      <td>0.033277</td>\n",
       "      <td>0.082378</td>\n",
       "      <td>0.065389</td>\n",
       "      <td>0.026676</td>\n",
       "    </tr>\n",
       "    <tr>\n",
       "      <th>2013</th>\n",
       "      <td>-0.008187</td>\n",
       "      <td>0.104008</td>\n",
       "      <td>0.046138</td>\n",
       "      <td>0.023979</td>\n",
       "      <td>0.028754</td>\n",
       "      <td>0.003737</td>\n",
       "      <td>-0.208252</td>\n",
       "      <td>0.024611</td>\n",
       "      <td>0.057492</td>\n",
       "      <td>0.101404</td>\n",
       "      <td>0.080536</td>\n",
       "      <td>-0.009623</td>\n",
       "      <td>0.025056</td>\n",
       "    </tr>\n",
       "    <tr>\n",
       "      <th>2014</th>\n",
       "      <td>-0.041203</td>\n",
       "      <td>0.078809</td>\n",
       "      <td>0.014810</td>\n",
       "      <td>0.086829</td>\n",
       "      <td>0.030193</td>\n",
       "      <td>0.079929</td>\n",
       "      <td>-0.067394</td>\n",
       "      <td>0.013326</td>\n",
       "      <td>0.074403</td>\n",
       "      <td>-0.267380</td>\n",
       "      <td>0.069760</td>\n",
       "      <td>-0.020076</td>\n",
       "      <td>0.005416</td>\n",
       "    </tr>\n",
       "  </tbody>\n",
       "</table>\n",
       "</div>"
      ],
      "text/plain": [
       "        Canada     China    Mexico  United Kingdom  United States     India  \\\n",
       "Year                                                                          \n",
       "2010  0.141150  0.158245  0.135987        0.029420       0.028373  0.189757   \n",
       "2011  0.088754  0.190027  0.088909        0.066491       0.028270  0.056928   \n",
       "2012  0.012268  0.110215 -0.001210        0.006639       0.032558 -0.015171   \n",
       "2013 -0.008187  0.104008  0.046138        0.023979       0.028754  0.003737   \n",
       "2014 -0.041203  0.078809  0.014810        0.086829       0.030193  0.079929   \n",
       "\n",
       "         Japan     Spain     Kenya     Ghana   Nigeria  Saudi Arabia  \\\n",
       "Year                                                                   \n",
       "2010  0.083586 -0.051911  0.049511  0.172017  0.528300      0.165239   \n",
       "2011  0.071303  0.034380  0.020762  0.166389  0.079226      0.193589   \n",
       "2012  0.010188 -0.111157  0.145194  0.033277  0.082378      0.065389   \n",
       "2013 -0.208252  0.024611  0.057492  0.101404  0.080536     -0.009623   \n",
       "2014 -0.067394  0.013326  0.074403 -0.267380  0.069760     -0.020076   \n",
       "\n",
       "      Singapore  \n",
       "Year             \n",
       "2010   0.171626  \n",
       "2011   0.123327  \n",
       "2012   0.026676  \n",
       "2013   0.025056  \n",
       "2014   0.005416  "
      ]
     },
     "execution_count": 14,
     "metadata": {},
     "output_type": "execute_result"
    }
   ],
   "source": [
    "gdp_growth.tail()"
   ]
  },
  {
   "cell_type": "markdown",
   "metadata": {},
   "source": [
    "**Example.** Plot GDP growth of China, Singapore and Canada since 2000."
   ]
  },
  {
   "cell_type": "code",
   "execution_count": 15,
   "metadata": {
    "collapsed": false
   },
   "outputs": [
    {
     "data": {
      "text/plain": [
       "<matplotlib.axes._subplots.AxesSubplot at 0x107396fd0>"
      ]
     },
     "execution_count": 15,
     "metadata": {},
     "output_type": "execute_result"
    },
    {
     "data": {
      "image/png": "[encoded data removed]",
      "text/plain": [
       "<matplotlib.figure.Figure at 0x10719d4e0>"
      ]
     },
     "metadata": {},
     "output_type": "display_data"
    }
   ],
   "source": [
    "gdp_growth.loc[2000:,['China','Singapore','Canada']].plot()"
   ]
  },
  {
   "cell_type": "markdown",
   "metadata": {},
   "source": [
    "We can see that all 3 countries had slower (or negative growth) during the global financial crisis in 2008 and 2009."
   ]
  },
  {
   "cell_type": "markdown",
   "metadata": {},
   "source": [
    "**Example.** Plot GDP growth of Canada and the United States."
   ]
  },
  {
   "cell_type": "code",
   "execution_count": 16,
   "metadata": {
    "collapsed": false
   },
   "outputs": [
    {
     "data": {
      "text/plain": [
       "<matplotlib.axes._subplots.AxesSubplot at 0x1074dfa90>"
      ]
     },
     "execution_count": 16,
     "metadata": {},
     "output_type": "execute_result"
    },
    {
     "data": {
      "image/png": "[encoded data removed]",
      "text/plain": [
       "<matplotlib.figure.Figure at 0x10752c5c0>"
      ]
     },
     "metadata": {},
     "output_type": "display_data"
    }
   ],
   "source": [
    "gdp_growth[['Canada','United States']].plot()"
   ]
  },
  {
   "cell_type": "markdown",
   "metadata": {},
   "source": [
    "**Example.** Plot GDP growth of Canada and the United States as a scatter plot. Is there a correlation?"
   ]
  },
  {
   "cell_type": "code",
   "execution_count": 17,
   "metadata": {
    "collapsed": false
   },
   "outputs": [
    {
     "data": {
      "text/plain": [
       "<matplotlib.axes._subplots.AxesSubplot at 0x1070705f8>"
      ]
     },
     "execution_count": 17,
     "metadata": {},
     "output_type": "execute_result"
    },
    {
     "data": {
      "image/png": "[encoded data removed]",
      "text/plain": [
       "<matplotlib.figure.Figure at 0x10762fda0>"
      ]
     },
     "metadata": {},
     "output_type": "display_data"
    }
   ],
   "source": [
    "gdp_growth[['Canada','United States']].plot(x='Canada',y='United States',kind='scatter')"
   ]
  },
  {
   "cell_type": "markdown",
   "metadata": {},
   "source": [
    "### Computing Correlation Coefficients\n",
    "\n",
    "The `.corr` method computes the correlation coefficient for every pair of columns. Let's see which countries GDP growth are correlated."
   ]
  },
  {
   "cell_type": "code",
   "execution_count": 18,
   "metadata": {
    "collapsed": false
   },
   "outputs": [
    {
     "data": {
      "text/html": [
       "<div>\n",
       "<table border=\"1\" class=\"dataframe\">\n",
       "  <thead>\n",
       "    <tr style=\"text-align: right;\">\n",
       "      <th></th>\n",
       "      <th>Canada</th>\n",
       "      <th>China</th>\n",
       "      <th>Mexico</th>\n",
       "      <th>United Kingdom</th>\n",
       "      <th>United States</th>\n",
       "      <th>India</th>\n",
       "      <th>Japan</th>\n",
       "      <th>Spain</th>\n",
       "      <th>Kenya</th>\n",
       "      <th>Ghana</th>\n",
       "      <th>Nigeria</th>\n",
       "      <th>Saudi Arabia</th>\n",
       "      <th>Singapore</th>\n",
       "    </tr>\n",
       "  </thead>\n",
       "  <tbody>\n",
       "    <tr>\n",
       "      <th>Canada</th>\n",
       "      <td>1.000000</td>\n",
       "      <td>0.111384</td>\n",
       "      <td>0.296198</td>\n",
       "      <td>0.408056</td>\n",
       "      <td>0.509288</td>\n",
       "      <td>0.207439</td>\n",
       "      <td>0.276663</td>\n",
       "      <td>0.347441</td>\n",
       "      <td>0.253780</td>\n",
       "      <td>0.233107</td>\n",
       "      <td>0.448914</td>\n",
       "      <td>0.631696</td>\n",
       "      <td>0.589560</td>\n",
       "    </tr>\n",
       "    <tr>\n",
       "      <th>China</th>\n",
       "      <td>0.111384</td>\n",
       "      <td>1.000000</td>\n",
       "      <td>-0.044511</td>\n",
       "      <td>-0.029256</td>\n",
       "      <td>-0.184294</td>\n",
       "      <td>0.169740</td>\n",
       "      <td>-0.330956</td>\n",
       "      <td>-0.081576</td>\n",
       "      <td>0.242251</td>\n",
       "      <td>0.248313</td>\n",
       "      <td>0.274129</td>\n",
       "      <td>0.110947</td>\n",
       "      <td>0.056095</td>\n",
       "    </tr>\n",
       "    <tr>\n",
       "      <th>Mexico</th>\n",
       "      <td>0.296198</td>\n",
       "      <td>-0.044511</td>\n",
       "      <td>1.000000</td>\n",
       "      <td>0.189209</td>\n",
       "      <td>0.326804</td>\n",
       "      <td>-0.043288</td>\n",
       "      <td>-0.009456</td>\n",
       "      <td>-0.000733</td>\n",
       "      <td>-0.133443</td>\n",
       "      <td>-0.059262</td>\n",
       "      <td>0.163775</td>\n",
       "      <td>0.502015</td>\n",
       "      <td>0.303145</td>\n",
       "    </tr>\n",
       "    <tr>\n",
       "      <th>United Kingdom</th>\n",
       "      <td>0.408056</td>\n",
       "      <td>-0.029256</td>\n",
       "      <td>0.189209</td>\n",
       "      <td>1.000000</td>\n",
       "      <td>0.362502</td>\n",
       "      <td>0.292077</td>\n",
       "      <td>0.255077</td>\n",
       "      <td>0.738142</td>\n",
       "      <td>0.471523</td>\n",
       "      <td>0.274890</td>\n",
       "      <td>0.368383</td>\n",
       "      <td>0.313839</td>\n",
       "      <td>0.259827</td>\n",
       "    </tr>\n",
       "    <tr>\n",
       "      <th>United States</th>\n",
       "      <td>0.509288</td>\n",
       "      <td>-0.184294</td>\n",
       "      <td>0.326804</td>\n",
       "      <td>0.362502</td>\n",
       "      <td>1.000000</td>\n",
       "      <td>0.005081</td>\n",
       "      <td>0.378798</td>\n",
       "      <td>0.217160</td>\n",
       "      <td>0.131332</td>\n",
       "      <td>0.002128</td>\n",
       "      <td>0.039088</td>\n",
       "      <td>0.281704</td>\n",
       "      <td>0.362945</td>\n",
       "    </tr>\n",
       "    <tr>\n",
       "      <th>India</th>\n",
       "      <td>0.207439</td>\n",
       "      <td>0.169740</td>\n",
       "      <td>-0.043288</td>\n",
       "      <td>0.292077</td>\n",
       "      <td>0.005081</td>\n",
       "      <td>1.000000</td>\n",
       "      <td>0.028425</td>\n",
       "      <td>0.171779</td>\n",
       "      <td>0.337648</td>\n",
       "      <td>0.212299</td>\n",
       "      <td>0.308971</td>\n",
       "      <td>0.274674</td>\n",
       "      <td>0.148470</td>\n",
       "    </tr>\n",
       "    <tr>\n",
       "      <th>Japan</th>\n",
       "      <td>0.276663</td>\n",
       "      <td>-0.330956</td>\n",
       "      <td>-0.009456</td>\n",
       "      <td>0.255077</td>\n",
       "      <td>0.378798</td>\n",
       "      <td>0.028425</td>\n",
       "      <td>1.000000</td>\n",
       "      <td>0.378814</td>\n",
       "      <td>-0.018073</td>\n",
       "      <td>-0.023018</td>\n",
       "      <td>-0.084291</td>\n",
       "      <td>0.150911</td>\n",
       "      <td>0.345053</td>\n",
       "    </tr>\n",
       "    <tr>\n",
       "      <th>Spain</th>\n",
       "      <td>0.347441</td>\n",
       "      <td>-0.081576</td>\n",
       "      <td>-0.000733</td>\n",
       "      <td>0.738142</td>\n",
       "      <td>0.217160</td>\n",
       "      <td>0.171779</td>\n",
       "      <td>0.378814</td>\n",
       "      <td>1.000000</td>\n",
       "      <td>0.492380</td>\n",
       "      <td>0.359720</td>\n",
       "      <td>0.372048</td>\n",
       "      <td>0.350564</td>\n",
       "      <td>0.222869</td>\n",
       "    </tr>\n",
       "    <tr>\n",
       "      <th>Kenya</th>\n",
       "      <td>0.253780</td>\n",
       "      <td>0.242251</td>\n",
       "      <td>-0.133443</td>\n",
       "      <td>0.471523</td>\n",
       "      <td>0.131332</td>\n",
       "      <td>0.337648</td>\n",
       "      <td>-0.018073</td>\n",
       "      <td>0.492380</td>\n",
       "      <td>1.000000</td>\n",
       "      <td>0.361705</td>\n",
       "      <td>0.584038</td>\n",
       "      <td>0.341585</td>\n",
       "      <td>0.093838</td>\n",
       "    </tr>\n",
       "    <tr>\n",
       "      <th>Ghana</th>\n",
       "      <td>0.233107</td>\n",
       "      <td>0.248313</td>\n",
       "      <td>-0.059262</td>\n",
       "      <td>0.274890</td>\n",
       "      <td>0.002128</td>\n",
       "      <td>0.212299</td>\n",
       "      <td>-0.023018</td>\n",
       "      <td>0.359720</td>\n",
       "      <td>0.361705</td>\n",
       "      <td>1.000000</td>\n",
       "      <td>0.211047</td>\n",
       "      <td>0.210599</td>\n",
       "      <td>0.077020</td>\n",
       "    </tr>\n",
       "    <tr>\n",
       "      <th>Nigeria</th>\n",
       "      <td>0.448914</td>\n",
       "      <td>0.274129</td>\n",
       "      <td>0.163775</td>\n",
       "      <td>0.368383</td>\n",
       "      <td>0.039088</td>\n",
       "      <td>0.308971</td>\n",
       "      <td>-0.084291</td>\n",
       "      <td>0.372048</td>\n",
       "      <td>0.584038</td>\n",
       "      <td>0.211047</td>\n",
       "      <td>1.000000</td>\n",
       "      <td>0.590346</td>\n",
       "      <td>0.281020</td>\n",
       "    </tr>\n",
       "    <tr>\n",
       "      <th>Saudi Arabia</th>\n",
       "      <td>0.631696</td>\n",
       "      <td>0.110947</td>\n",
       "      <td>0.502015</td>\n",
       "      <td>0.313839</td>\n",
       "      <td>0.281704</td>\n",
       "      <td>0.274674</td>\n",
       "      <td>0.150911</td>\n",
       "      <td>0.350564</td>\n",
       "      <td>0.341585</td>\n",
       "      <td>0.210599</td>\n",
       "      <td>0.590346</td>\n",
       "      <td>1.000000</td>\n",
       "      <td>0.635356</td>\n",
       "    </tr>\n",
       "    <tr>\n",
       "      <th>Singapore</th>\n",
       "      <td>0.589560</td>\n",
       "      <td>0.056095</td>\n",
       "      <td>0.303145</td>\n",
       "      <td>0.259827</td>\n",
       "      <td>0.362945</td>\n",
       "      <td>0.148470</td>\n",
       "      <td>0.345053</td>\n",
       "      <td>0.222869</td>\n",
       "      <td>0.093838</td>\n",
       "      <td>0.077020</td>\n",
       "      <td>0.281020</td>\n",
       "      <td>0.635356</td>\n",
       "      <td>1.000000</td>\n",
       "    </tr>\n",
       "  </tbody>\n",
       "</table>\n",
       "</div>"
      ],
      "text/plain": [
       "                  Canada     China    Mexico  United Kingdom  United States  \\\n",
       "Canada          1.000000  0.111384  0.296198        0.408056       0.509288   \n",
       "China           0.111384  1.000000 -0.044511       -0.029256      -0.184294   \n",
       "Mexico          0.296198 -0.044511  1.000000        0.189209       0.326804   \n",
       "United Kingdom  0.408056 -0.029256  0.189209        1.000000       0.362502   \n",
       "United States   0.509288 -0.184294  0.326804        0.362502       1.000000   \n",
       "India           0.207439  0.169740 -0.043288        0.292077       0.005081   \n",
       "Japan           0.276663 -0.330956 -0.009456        0.255077       0.378798   \n",
       "Spain           0.347441 -0.081576 -0.000733        0.738142       0.217160   \n",
       "Kenya           0.253780  0.242251 -0.133443        0.471523       0.131332   \n",
       "Ghana           0.233107  0.248313 -0.059262        0.274890       0.002128   \n",
       "Nigeria         0.448914  0.274129  0.163775        0.368383       0.039088   \n",
       "Saudi Arabia    0.631696  0.110947  0.502015        0.313839       0.281704   \n",
       "Singapore       0.589560  0.056095  0.303145        0.259827       0.362945   \n",
       "\n",
       "                   India     Japan     Spain     Kenya     Ghana   Nigeria  \\\n",
       "Canada          0.207439  0.276663  0.347441  0.253780  0.233107  0.448914   \n",
       "China           0.169740 -0.330956 -0.081576  0.242251  0.248313  0.274129   \n",
       "Mexico         -0.043288 -0.009456 -0.000733 -0.133443 -0.059262  0.163775   \n",
       "United Kingdom  0.292077  0.255077  0.738142  0.471523  0.274890  0.368383   \n",
       "United States   0.005081  0.378798  0.217160  0.131332  0.002128  0.039088   \n",
       "India           1.000000  0.028425  0.171779  0.337648  0.212299  0.308971   \n",
       "Japan           0.028425  1.000000  0.378814 -0.018073 -0.023018 -0.084291   \n",
       "Spain           0.171779  0.378814  1.000000  0.492380  0.359720  0.372048   \n",
       "Kenya           0.337648 -0.018073  0.492380  1.000000  0.361705  0.584038   \n",
       "Ghana           0.212299 -0.023018  0.359720  0.361705  1.000000  0.211047   \n",
       "Nigeria         0.308971 -0.084291  0.372048  0.584038  0.211047  1.000000   \n",
       "Saudi Arabia    0.274674  0.150911  0.350564  0.341585  0.210599  0.590346   \n",
       "Singapore       0.148470  0.345053  0.222869  0.093838  0.077020  0.281020   \n",
       "\n",
       "                Saudi Arabia  Singapore  \n",
       "Canada              0.631696   0.589560  \n",
       "China               0.110947   0.056095  \n",
       "Mexico              0.502015   0.303145  \n",
       "United Kingdom      0.313839   0.259827  \n",
       "United States       0.281704   0.362945  \n",
       "India               0.274674   0.148470  \n",
       "Japan               0.150911   0.345053  \n",
       "Spain               0.350564   0.222869  \n",
       "Kenya               0.341585   0.093838  \n",
       "Ghana               0.210599   0.077020  \n",
       "Nigeria             0.590346   0.281020  \n",
       "Saudi Arabia        1.000000   0.635356  \n",
       "Singapore           0.635356   1.000000  "
      ]
     },
     "execution_count": 18,
     "metadata": {},
     "output_type": "execute_result"
    }
   ],
   "source": [
    "gdp_corr = gdp_growth.corr()\n",
    "gdp_corr"
   ]
  },
  {
   "cell_type": "markdown",
   "metadata": {},
   "source": [
    "**Example.** Which country's GDP growth is most corelated with Canada?"
   ]
  },
  {
   "cell_type": "code",
   "execution_count": 19,
   "metadata": {
    "collapsed": false
   },
   "outputs": [
    {
     "data": {
      "text/plain": [
       "Canada            1.000000\n",
       "Saudi Arabia      0.631696\n",
       "Singapore         0.589560\n",
       "United States     0.509288\n",
       "Nigeria           0.448914\n",
       "United Kingdom    0.408056\n",
       "Spain             0.347441\n",
       "Mexico            0.296198\n",
       "Japan             0.276663\n",
       "Kenya             0.253780\n",
       "Ghana             0.233107\n",
       "India             0.207439\n",
       "China             0.111384\n",
       "Name: Canada, dtype: float64"
      ]
     },
     "execution_count": 19,
     "metadata": {},
     "output_type": "execute_result"
    }
   ],
   "source": [
    "gdp_corr['Canada'].sort_values(ascending=False)"
   ]
  },
  {
   "cell_type": "markdown",
   "metadata": {},
   "source": [
    "Saudi Arabia! Let's plot GDP growth of Saudi Arabia versus Canada as a scatter plot."
   ]
  },
  {
   "cell_type": "code",
   "execution_count": 20,
   "metadata": {
    "collapsed": false
   },
   "outputs": [
    {
     "data": {
      "text/plain": [
       "<matplotlib.axes._subplots.AxesSubplot at 0x10754add8>"
      ]
     },
     "execution_count": 20,
     "metadata": {},
     "output_type": "execute_result"
    },
    {
     "data": {
      "image/png": "[encoded data removed]",
      "text/plain": [
       "<matplotlib.figure.Figure at 0x10768dfd0>"
      ]
     },
     "metadata": {},
     "output_type": "display_data"
    }
   ],
   "source": [
    "gdp_growth[['Canada','Saudi Arabia']].plot(x='Canada',y='Saudi Arabia',kind='scatter')"
   ]
  },
  {
   "cell_type": "markdown",
   "metadata": {},
   "source": [
    "**Example.** Which two countries have the most correlated GDP growth? Spain and the United Kingdom."
   ]
  },
  {
   "cell_type": "code",
   "execution_count": 21,
   "metadata": {
    "collapsed": false
   },
   "outputs": [
    {
     "data": {
      "text/plain": [
       "<matplotlib.axes._subplots.AxesSubplot at 0x107b18518>"
      ]
     },
     "execution_count": 21,
     "metadata": {},
     "output_type": "execute_result"
    },
    {
     "data": {
      "image/png": "[encoded data removed]",
      "text/plain": [
       "<matplotlib.figure.Figure at 0x107b23780>"
      ]
     },
     "metadata": {},
     "output_type": "display_data"
    }
   ],
   "source": [
    "gdp_growth[['Spain','United Kingdom']].plot(x='Spain',y='United Kingdom',kind='scatter')"
   ]
  },
  {
   "cell_type": "markdown",
   "metadata": {},
   "source": [
    "### More Examples"
   ]
  },
  {
   "cell_type": "markdown",
   "metadata": {},
   "source": [
    "**Example.** Which country averaged the highest GDP growth per capita since 1990? China!"
   ]
  },
  {
   "cell_type": "code",
   "execution_count": 22,
   "metadata": {
    "collapsed": false
   },
   "outputs": [
    {
     "data": {
      "text/plain": [
       "<matplotlib.axes._subplots.AxesSubplot at 0x107c1b9b0>"
      ]
     },
     "execution_count": 22,
     "metadata": {},
     "output_type": "execute_result"
    },
    {
     "data": {
      "image/png": "[encoded data removed]",
      "text/plain": [
       "<matplotlib.figure.Figure at 0x107c24e10>"
      ]
     },
     "metadata": {},
     "output_type": "display_data"
    }
   ],
   "source": [
    "gdp_growth.loc[1990:,:].mean().plot(kind='bar')"
   ]
  },
  {
   "cell_type": "markdown",
   "metadata": {},
   "source": [
    "**Example.** Which country has the highest GDP per capita in 2014? Singapore!"
   ]
  },
  {
   "cell_type": "code",
   "execution_count": 23,
   "metadata": {
    "collapsed": false
   },
   "outputs": [
    {
     "data": {
      "text/plain": [
       "<matplotlib.axes._subplots.AxesSubplot at 0x107dd28d0>"
      ]
     },
     "execution_count": 23,
     "metadata": {},
     "output_type": "execute_result"
    },
    {
     "data": {
      "image/png": "[encoded data removed]",
      "text/plain": [
       "<matplotlib.figure.Figure at 0x107d3fb38>"
      ]
     },
     "metadata": {},
     "output_type": "display_data"
    }
   ],
   "source": [
    "gdp_data.loc[2014,:].plot(kind='bar')"
   ]
  },
  {
   "cell_type": "markdown",
   "metadata": {},
   "source": [
    "**Example.** Which country has the highest GDP per capita in 1990?"
   ]
  },
  {
   "cell_type": "code",
   "execution_count": 24,
   "metadata": {
    "collapsed": false
   },
   "outputs": [
    {
     "data": {
      "text/plain": [
       "<matplotlib.axes._subplots.AxesSubplot at 0x10800c470>"
      ]
     },
     "execution_count": 24,
     "metadata": {},
     "output_type": "execute_result"
    },
    {
     "data": {
      "image/png": "[encoded data removed]",
      "text/plain": [
       "<matplotlib.figure.Figure at 0x108016a90>"
      ]
     },
     "metadata": {},
     "output_type": "display_data"
    }
   ],
   "source": [
    "gdp_data.loc[1990,:].plot(kind='bar')"
   ]
  },
  {
   "cell_type": "markdown",
   "metadata": {},
   "source": [
    "**Example.** Which country had the highest GDP growth in 2014? United Kingdom!"
   ]
  },
  {
   "cell_type": "code",
   "execution_count": 25,
   "metadata": {
    "collapsed": false
   },
   "outputs": [
    {
     "data": {
      "text/plain": [
       "United Kingdom    0.086829\n",
       "India             0.079929\n",
       "China             0.078809\n",
       "Kenya             0.074403\n",
       "Nigeria           0.069760\n",
       "United States     0.030193\n",
       "Mexico            0.014810\n",
       "Spain             0.013326\n",
       "Singapore         0.005416\n",
       "Saudi Arabia     -0.020076\n",
       "Canada           -0.041203\n",
       "Japan            -0.067394\n",
       "Ghana            -0.267380\n",
       "Name: 2014, dtype: float64"
      ]
     },
     "execution_count": 25,
     "metadata": {},
     "output_type": "execute_result"
    }
   ],
   "source": [
    "gdp_growth.loc[2014,:].sort_values(ascending=False)"
   ]
  },
  {
   "cell_type": "code",
   "execution_count": 26,
   "metadata": {
    "collapsed": false
   },
   "outputs": [
    {
     "data": {
      "text/plain": [
       "<matplotlib.axes._subplots.AxesSubplot at 0x1082354a8>"
      ]
     },
     "execution_count": 26,
     "metadata": {},
     "output_type": "execute_result"
    },
    {
     "data": {
      "image/png": "[encoded data removed]",
      "text/plain": [
       "<matplotlib.figure.Figure at 0x108211c88>"
      ]
     },
     "metadata": {},
     "output_type": "display_data"
    }
   ],
   "source": [
    "gdp_growth.loc[2014,:].plot(kind='bar')"
   ]
  },
  {
   "cell_type": "markdown",
   "metadata": {},
   "source": [
    "## 3. Exercises"
   ]
  },
  {
   "cell_type": "markdown",
   "metadata": {},
   "source": [
    "**Exercise.** Plot the GDP growth of India and China from 1965 to 1995."
   ]
  },
  {
   "cell_type": "markdown",
   "metadata": {},
   "source": [
    "**Exercise.** Plot the GDP growth of Nigeria versus Ghana as a scatter plot."
   ]
  },
  {
   "cell_type": "markdown",
   "metadata": {},
   "source": [
    "**Exercise.** The `.mean` method calculates the mean of every column in a DataFrame (or by row if the user chooses that option). Plot the average GDP growth since 2000 of every country in the dataset as a bar plot."
   ]
  },
  {
   "cell_type": "markdown",
   "metadata": {},
   "source": [
    "**Exercise.** The `.max` method computes the maximum of every column and the `.idxmax` finds the index of the maximum of every column. What country experienced the highest GDP growth rate in the dataset and in what year did that occur?"
   ]
  },
  {
   "cell_type": "markdown",
   "metadata": {},
   "source": [
    "**Exercise.** The `.min` method computes the minimum of every column and the `.idxmin` finds the index of the minimum of every column. What country experienced the lowest GDP growth rate in the dataset and in what year did that occur?"
   ]
  }
 ],
 "metadata": {
  "kernelspec": {
   "display_name": "Python 3",
   "language": "python",
   "name": "python3"
  },
  "language_info": {
   "codemirror_mode": {
    "name": "ipython",
    "version": 3
   },
   "file_extension": ".py",
   "mimetype": "text/x-python",
   "name": "python",
   "nbconvert_exporter": "python",
   "pygments_lexer": "ipython3",
   "version": "3.4.3"
  }
 },
 "nbformat": 4,
 "nbformat_minor": 0
}
