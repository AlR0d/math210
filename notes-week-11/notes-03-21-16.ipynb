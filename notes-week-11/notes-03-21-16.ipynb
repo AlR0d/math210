{
 "cells": [
  {
   "cell_type": "markdown",
   "metadata": {},
   "source": [
    "# MATH 210 Introduction to Mathematical Computing\n",
    "\n",
    "## March 21, 2016\n",
    "\n",
    "Today's Agenda:\n",
    "\n",
    "1. Introduction to pandas:\n",
    "    * DataFrames and Importing Data with `pandas.read_csv`\n",
    "    * Getting an Overview of the DataFrame\n",
    "    * Accessing Rows and Columns\n",
    "    * Plotting\n",
    "2. Exercises"
   ]
  },
  {
   "cell_type": "code",
   "execution_count": 1,
   "metadata": {
    "collapsed": true
   },
   "outputs": [],
   "source": [
    "import numpy as np\n",
    "import matplotlib.pyplot as plt\n",
    "%matplotlib inline"
   ]
  },
  {
   "cell_type": "markdown",
   "metadata": {},
   "source": [
    "## 1. Introduction to pandas\n",
    "\n",
    "pandas is Python's data analysis library and it is built on top of NumPy and matplotlib (see the [official pandas webpage](http://pandas.pydata.org/)). Let's begin by importing pandas:"
   ]
  },
  {
   "cell_type": "code",
   "execution_count": 2,
   "metadata": {
    "collapsed": true
   },
   "outputs": [],
   "source": [
    "import pandas as pd"
   ]
  },
  {
   "cell_type": "markdown",
   "metadata": {},
   "source": [
    "### DataFrames and Importing Data with `pandas.read_csv`"
   ]
  },
  {
   "cell_type": "markdown",
   "metadata": {},
   "source": [
    "The main data structure in the pandas library is the DataFrame. A pandas DataFrame resembles an Excel spreadsheet but with much more power and flexibility. The most common way to define a DataFrame is to import some data. The pd.read_csv function is a very powerful and flexible tool for importing data of all shapes and kinds.\n",
    "\n",
    "Let's import some data. The following dataset is taken from the [Statsitics Canada](http://www.statcan.gc.ca/) website and it describes the population of Canada and its provinces and territories by year from 1952 to 2015. The first column is the year and so we can specify an option in `read_csv` to set that column to the index of the DataFrame."
   ]
  },
  {
   "cell_type": "code",
   "execution_count": 3,
   "metadata": {
    "collapsed": false
   },
   "outputs": [],
   "source": [
    "pop_data = pd.read_csv(\"canada_population_data.csv\",index_col=0)"
   ]
  },
  {
   "cell_type": "code",
   "execution_count": 4,
   "metadata": {
    "collapsed": false
   },
   "outputs": [
    {
     "data": {
      "text/plain": [
       "pandas.core.frame.DataFrame"
      ]
     },
     "execution_count": 4,
     "metadata": {},
     "output_type": "execute_result"
    }
   ],
   "source": [
    "type(pop_data)"
   ]
  },
  {
   "cell_type": "markdown",
   "metadata": {},
   "source": [
    "The function `read_csv` has a lot of functionality. Enter `pd.read_csv?` to see all the options!"
   ]
  },
  {
   "cell_type": "code",
   "execution_count": 5,
   "metadata": {
    "collapsed": true
   },
   "outputs": [],
   "source": [
    "pd.read_csv?"
   ]
  },
  {
   "cell_type": "markdown",
   "metadata": {},
   "source": [
    "### Getting an Overview of the DataFrame\n",
    "\n",
    "Now that we have a DataFrame, let's see what we have! We use the following functions to get an overview of the data:\n",
    "\n",
    "* `pd.head(nrows)` - view the first `nrows` of the DataFrame (where `nrows` has default value 5)\n",
    "* `pd.tail(nrows)` - view the last `nrows` of the DataFrame (where `nrows` has default value 5)\n",
    "* `pd.info()` - view a summary of the number of columns and rows and their dataypes\n",
    "\n",
    "Notice that the first column on the left is the **index column** which we set to be the year."
   ]
  },
  {
   "cell_type": "code",
   "execution_count": 6,
   "metadata": {
    "collapsed": false
   },
   "outputs": [
    {
     "data": {
      "text/html": [
       "<div>\n",
       "<table border=\"1\" class=\"dataframe\">\n",
       "  <thead>\n",
       "    <tr style=\"text-align: right;\">\n",
       "      <th></th>\n",
       "      <th>Canada</th>\n",
       "      <th>Newfoundland and Labrador</th>\n",
       "      <th>Prince Edward Island</th>\n",
       "      <th>Nova Scotia</th>\n",
       "      <th>New Brunswick</th>\n",
       "      <th>Quebec</th>\n",
       "      <th>Ontario</th>\n",
       "      <th>Manitoba</th>\n",
       "      <th>Saskatchewan</th>\n",
       "      <th>Alberta</th>\n",
       "      <th>British Columbia</th>\n",
       "      <th>Yukon</th>\n",
       "      <th>Northwest Territories including Nunavut</th>\n",
       "      <th>Northwest Territories</th>\n",
       "      <th>Nunavut</th>\n",
       "    </tr>\n",
       "    <tr>\n",
       "      <th>Year</th>\n",
       "      <th></th>\n",
       "      <th></th>\n",
       "      <th></th>\n",
       "      <th></th>\n",
       "      <th></th>\n",
       "      <th></th>\n",
       "      <th></th>\n",
       "      <th></th>\n",
       "      <th></th>\n",
       "      <th></th>\n",
       "      <th></th>\n",
       "      <th></th>\n",
       "      <th></th>\n",
       "      <th></th>\n",
       "      <th></th>\n",
       "    </tr>\n",
       "  </thead>\n",
       "  <tbody>\n",
       "    <tr>\n",
       "      <th>1952</th>\n",
       "      <td>14436750</td>\n",
       "      <td>372750</td>\n",
       "      <td>100250</td>\n",
       "      <td>652250</td>\n",
       "      <td>525250</td>\n",
       "      <td>4167750</td>\n",
       "      <td>4779250</td>\n",
       "      <td>796000</td>\n",
       "      <td>842250</td>\n",
       "      <td>971500</td>\n",
       "      <td>1204500</td>\n",
       "      <td>9000</td>\n",
       "      <td>16000</td>\n",
       "      <td>NaN</td>\n",
       "      <td>NaN</td>\n",
       "    </tr>\n",
       "    <tr>\n",
       "      <th>1953</th>\n",
       "      <td>14833000</td>\n",
       "      <td>383000</td>\n",
       "      <td>101000</td>\n",
       "      <td>663250</td>\n",
       "      <td>532500</td>\n",
       "      <td>4267000</td>\n",
       "      <td>4935250</td>\n",
       "      <td>808500</td>\n",
       "      <td>859000</td>\n",
       "      <td>1010250</td>\n",
       "      <td>1248250</td>\n",
       "      <td>9000</td>\n",
       "      <td>16000</td>\n",
       "      <td>NaN</td>\n",
       "      <td>NaN</td>\n",
       "    </tr>\n",
       "    <tr>\n",
       "      <th>1954</th>\n",
       "      <td>15269500</td>\n",
       "      <td>394500</td>\n",
       "      <td>101000</td>\n",
       "      <td>672000</td>\n",
       "      <td>539750</td>\n",
       "      <td>4385000</td>\n",
       "      <td>5108250</td>\n",
       "      <td>822500</td>\n",
       "      <td>871750</td>\n",
       "      <td>1054250</td>\n",
       "      <td>1294000</td>\n",
       "      <td>9750</td>\n",
       "      <td>16750</td>\n",
       "      <td>NaN</td>\n",
       "      <td>NaN</td>\n",
       "    </tr>\n",
       "    <tr>\n",
       "      <th>1955</th>\n",
       "      <td>15681250</td>\n",
       "      <td>405500</td>\n",
       "      <td>100000</td>\n",
       "      <td>682750</td>\n",
       "      <td>547000</td>\n",
       "      <td>4510750</td>\n",
       "      <td>5258250</td>\n",
       "      <td>838750</td>\n",
       "      <td>878250</td>\n",
       "      <td>1089500</td>\n",
       "      <td>1341500</td>\n",
       "      <td>11250</td>\n",
       "      <td>17750</td>\n",
       "      <td>NaN</td>\n",
       "      <td>NaN</td>\n",
       "    </tr>\n",
       "    <tr>\n",
       "      <th>1956</th>\n",
       "      <td>16070250</td>\n",
       "      <td>415000</td>\n",
       "      <td>99250</td>\n",
       "      <td>693250</td>\n",
       "      <td>554500</td>\n",
       "      <td>4624750</td>\n",
       "      <td>5403000</td>\n",
       "      <td>848750</td>\n",
       "      <td>879750</td>\n",
       "      <td>1122250</td>\n",
       "      <td>1399000</td>\n",
       "      <td>12000</td>\n",
       "      <td>18750</td>\n",
       "      <td>NaN</td>\n",
       "      <td>NaN</td>\n",
       "    </tr>\n",
       "  </tbody>\n",
       "</table>\n",
       "</div>"
      ],
      "text/plain": [
       "        Canada  Newfoundland and Labrador  Prince Edward Island  Nova Scotia  \\\n",
       "Year                                                                           \n",
       "1952  14436750                     372750                100250       652250   \n",
       "1953  14833000                     383000                101000       663250   \n",
       "1954  15269500                     394500                101000       672000   \n",
       "1955  15681250                     405500                100000       682750   \n",
       "1956  16070250                     415000                 99250       693250   \n",
       "\n",
       "      New Brunswick   Quebec  Ontario  Manitoba  Saskatchewan  Alberta  \\\n",
       "Year                                                                     \n",
       "1952         525250  4167750  4779250    796000        842250   971500   \n",
       "1953         532500  4267000  4935250    808500        859000  1010250   \n",
       "1954         539750  4385000  5108250    822500        871750  1054250   \n",
       "1955         547000  4510750  5258250    838750        878250  1089500   \n",
       "1956         554500  4624750  5403000    848750        879750  1122250   \n",
       "\n",
       "      British Columbia  Yukon  Northwest Territories including Nunavut  \\\n",
       "Year                                                                     \n",
       "1952           1204500   9000                                    16000   \n",
       "1953           1248250   9000                                    16000   \n",
       "1954           1294000   9750                                    16750   \n",
       "1955           1341500  11250                                    17750   \n",
       "1956           1399000  12000                                    18750   \n",
       "\n",
       "      Northwest Territories  Nunavut  \n",
       "Year                                  \n",
       "1952                    NaN      NaN  \n",
       "1953                    NaN      NaN  \n",
       "1954                    NaN      NaN  \n",
       "1955                    NaN      NaN  \n",
       "1956                    NaN      NaN  "
      ]
     },
     "execution_count": 6,
     "metadata": {},
     "output_type": "execute_result"
    }
   ],
   "source": [
    "pop_data.head()"
   ]
  },
  {
   "cell_type": "code",
   "execution_count": 7,
   "metadata": {
    "collapsed": false
   },
   "outputs": [
    {
     "data": {
      "text/html": [
       "<div>\n",
       "<table border=\"1\" class=\"dataframe\">\n",
       "  <thead>\n",
       "    <tr style=\"text-align: right;\">\n",
       "      <th></th>\n",
       "      <th>Canada</th>\n",
       "      <th>Newfoundland and Labrador</th>\n",
       "      <th>Prince Edward Island</th>\n",
       "      <th>Nova Scotia</th>\n",
       "      <th>New Brunswick</th>\n",
       "      <th>Quebec</th>\n",
       "      <th>Ontario</th>\n",
       "      <th>Manitoba</th>\n",
       "      <th>Saskatchewan</th>\n",
       "      <th>Alberta</th>\n",
       "      <th>British Columbia</th>\n",
       "      <th>Yukon</th>\n",
       "      <th>Northwest Territories including Nunavut</th>\n",
       "      <th>Northwest Territories</th>\n",
       "      <th>Nunavut</th>\n",
       "    </tr>\n",
       "    <tr>\n",
       "      <th>Year</th>\n",
       "      <th></th>\n",
       "      <th></th>\n",
       "      <th></th>\n",
       "      <th></th>\n",
       "      <th></th>\n",
       "      <th></th>\n",
       "      <th></th>\n",
       "      <th></th>\n",
       "      <th></th>\n",
       "      <th></th>\n",
       "      <th></th>\n",
       "      <th></th>\n",
       "      <th></th>\n",
       "      <th></th>\n",
       "      <th></th>\n",
       "    </tr>\n",
       "  </thead>\n",
       "  <tbody>\n",
       "    <tr>\n",
       "      <th>2006</th>\n",
       "      <td>32528626</td>\n",
       "      <td>511103</td>\n",
       "      <td>137878</td>\n",
       "      <td>937659</td>\n",
       "      <td>745966</td>\n",
       "      <td>7626106</td>\n",
       "      <td>12641896</td>\n",
       "      <td>1182247</td>\n",
       "      <td>992276</td>\n",
       "      <td>3410912</td>\n",
       "      <td>4236434</td>\n",
       "      <td>32224</td>\n",
       "      <td>NaN</td>\n",
       "      <td>43198</td>\n",
       "      <td>30727</td>\n",
       "    </tr>\n",
       "    <tr>\n",
       "      <th>2007</th>\n",
       "      <td>32847675</td>\n",
       "      <td>509680</td>\n",
       "      <td>137814</td>\n",
       "      <td>935387</td>\n",
       "      <td>745319</td>\n",
       "      <td>7685354</td>\n",
       "      <td>12749822</td>\n",
       "      <td>1187953</td>\n",
       "      <td>1000495</td>\n",
       "      <td>3502678</td>\n",
       "      <td>4286244</td>\n",
       "      <td>32454</td>\n",
       "      <td>NaN</td>\n",
       "      <td>43202</td>\n",
       "      <td>31273</td>\n",
       "    </tr>\n",
       "    <tr>\n",
       "      <th>2008</th>\n",
       "      <td>33198550</td>\n",
       "      <td>511789</td>\n",
       "      <td>138615</td>\n",
       "      <td>935986</td>\n",
       "      <td>746849</td>\n",
       "      <td>7753366</td>\n",
       "      <td>12865668</td>\n",
       "      <td>1196350</td>\n",
       "      <td>1015886</td>\n",
       "      <td>3582788</td>\n",
       "      <td>4343104</td>\n",
       "      <td>33028</td>\n",
       "      <td>NaN</td>\n",
       "      <td>43335</td>\n",
       "      <td>31788</td>\n",
       "    </tr>\n",
       "    <tr>\n",
       "      <th>2009</th>\n",
       "      <td>33581080</td>\n",
       "      <td>516147</td>\n",
       "      <td>139730</td>\n",
       "      <td>938367</td>\n",
       "      <td>749640</td>\n",
       "      <td>7832800</td>\n",
       "      <td>12983106</td>\n",
       "      <td>1206574</td>\n",
       "      <td>1032532</td>\n",
       "      <td>3667912</td>\n",
       "      <td>4405052</td>\n",
       "      <td>33687</td>\n",
       "      <td>NaN</td>\n",
       "      <td>43068</td>\n",
       "      <td>32466</td>\n",
       "    </tr>\n",
       "    <tr>\n",
       "      <th>2010</th>\n",
       "      <td>33958588</td>\n",
       "      <td>521561</td>\n",
       "      <td>141519</td>\n",
       "      <td>941983</td>\n",
       "      <td>752660</td>\n",
       "      <td>7918420</td>\n",
       "      <td>13117298</td>\n",
       "      <td>1219107</td>\n",
       "      <td>1049312</td>\n",
       "      <td>3724528</td>\n",
       "      <td>4461376</td>\n",
       "      <td>34408</td>\n",
       "      <td>NaN</td>\n",
       "      <td>43171</td>\n",
       "      <td>33246</td>\n",
       "    </tr>\n",
       "    <tr>\n",
       "      <th>2011</th>\n",
       "      <td>34302909</td>\n",
       "      <td>524754</td>\n",
       "      <td>143732</td>\n",
       "      <td>944512</td>\n",
       "      <td>755285</td>\n",
       "      <td>7996821</td>\n",
       "      <td>13249885</td>\n",
       "      <td>1232071</td>\n",
       "      <td>1064673</td>\n",
       "      <td>3781472</td>\n",
       "      <td>4497034</td>\n",
       "      <td>35209</td>\n",
       "      <td>NaN</td>\n",
       "      <td>43407</td>\n",
       "      <td>34054</td>\n",
       "    </tr>\n",
       "    <tr>\n",
       "      <th>2012</th>\n",
       "      <td>34698875</td>\n",
       "      <td>526722</td>\n",
       "      <td>145066</td>\n",
       "      <td>944934</td>\n",
       "      <td>756580</td>\n",
       "      <td>8073312</td>\n",
       "      <td>13393063</td>\n",
       "      <td>1248325</td>\n",
       "      <td>1084298</td>\n",
       "      <td>3873407</td>\n",
       "      <td>4538794</td>\n",
       "      <td>36020</td>\n",
       "      <td>NaN</td>\n",
       "      <td>43675</td>\n",
       "      <td>34679</td>\n",
       "    </tr>\n",
       "    <tr>\n",
       "      <th>2013</th>\n",
       "      <td>35102353</td>\n",
       "      <td>528271</td>\n",
       "      <td>145340</td>\n",
       "      <td>943524</td>\n",
       "      <td>755810</td>\n",
       "      <td>8143836</td>\n",
       "      <td>13533970</td>\n",
       "      <td>1263560</td>\n",
       "      <td>1103406</td>\n",
       "      <td>3989191</td>\n",
       "      <td>4579968</td>\n",
       "      <td>36331</td>\n",
       "      <td>NaN</td>\n",
       "      <td>43852</td>\n",
       "      <td>35296</td>\n",
       "    </tr>\n",
       "    <tr>\n",
       "      <th>2014</th>\n",
       "      <td>35496547</td>\n",
       "      <td>528839</td>\n",
       "      <td>145963</td>\n",
       "      <td>942932</td>\n",
       "      <td>755058</td>\n",
       "      <td>8206005</td>\n",
       "      <td>13664922</td>\n",
       "      <td>1278114</td>\n",
       "      <td>1120272</td>\n",
       "      <td>4104536</td>\n",
       "      <td>4633220</td>\n",
       "      <td>36733</td>\n",
       "      <td>NaN</td>\n",
       "      <td>43968</td>\n",
       "      <td>35984</td>\n",
       "    </tr>\n",
       "    <tr>\n",
       "      <th>2015</th>\n",
       "      <td>35825433</td>\n",
       "      <td>528188</td>\n",
       "      <td>146406</td>\n",
       "      <td>943498</td>\n",
       "      <td>754306</td>\n",
       "      <td>8258662</td>\n",
       "      <td>13782341</td>\n",
       "      <td>1292286</td>\n",
       "      <td>1133028</td>\n",
       "      <td>4187166</td>\n",
       "      <td>4681500</td>\n",
       "      <td>37176</td>\n",
       "      <td>NaN</td>\n",
       "      <td>44165</td>\n",
       "      <td>36711</td>\n",
       "    </tr>\n",
       "  </tbody>\n",
       "</table>\n",
       "</div>"
      ],
      "text/plain": [
       "        Canada  Newfoundland and Labrador  Prince Edward Island  Nova Scotia  \\\n",
       "Year                                                                           \n",
       "2006  32528626                     511103                137878       937659   \n",
       "2007  32847675                     509680                137814       935387   \n",
       "2008  33198550                     511789                138615       935986   \n",
       "2009  33581080                     516147                139730       938367   \n",
       "2010  33958588                     521561                141519       941983   \n",
       "2011  34302909                     524754                143732       944512   \n",
       "2012  34698875                     526722                145066       944934   \n",
       "2013  35102353                     528271                145340       943524   \n",
       "2014  35496547                     528839                145963       942932   \n",
       "2015  35825433                     528188                146406       943498   \n",
       "\n",
       "      New Brunswick   Quebec   Ontario  Manitoba  Saskatchewan  Alberta  \\\n",
       "Year                                                                      \n",
       "2006         745966  7626106  12641896   1182247        992276  3410912   \n",
       "2007         745319  7685354  12749822   1187953       1000495  3502678   \n",
       "2008         746849  7753366  12865668   1196350       1015886  3582788   \n",
       "2009         749640  7832800  12983106   1206574       1032532  3667912   \n",
       "2010         752660  7918420  13117298   1219107       1049312  3724528   \n",
       "2011         755285  7996821  13249885   1232071       1064673  3781472   \n",
       "2012         756580  8073312  13393063   1248325       1084298  3873407   \n",
       "2013         755810  8143836  13533970   1263560       1103406  3989191   \n",
       "2014         755058  8206005  13664922   1278114       1120272  4104536   \n",
       "2015         754306  8258662  13782341   1292286       1133028  4187166   \n",
       "\n",
       "      British Columbia  Yukon  Northwest Territories including Nunavut  \\\n",
       "Year                                                                     \n",
       "2006           4236434  32224                                      NaN   \n",
       "2007           4286244  32454                                      NaN   \n",
       "2008           4343104  33028                                      NaN   \n",
       "2009           4405052  33687                                      NaN   \n",
       "2010           4461376  34408                                      NaN   \n",
       "2011           4497034  35209                                      NaN   \n",
       "2012           4538794  36020                                      NaN   \n",
       "2013           4579968  36331                                      NaN   \n",
       "2014           4633220  36733                                      NaN   \n",
       "2015           4681500  37176                                      NaN   \n",
       "\n",
       "      Northwest Territories  Nunavut  \n",
       "Year                                  \n",
       "2006                  43198    30727  \n",
       "2007                  43202    31273  \n",
       "2008                  43335    31788  \n",
       "2009                  43068    32466  \n",
       "2010                  43171    33246  \n",
       "2011                  43407    34054  \n",
       "2012                  43675    34679  \n",
       "2013                  43852    35296  \n",
       "2014                  43968    35984  \n",
       "2015                  44165    36711  "
      ]
     },
     "execution_count": 7,
     "metadata": {},
     "output_type": "execute_result"
    }
   ],
   "source": [
    "pop_data.tail(10)"
   ]
  },
  {
   "cell_type": "code",
   "execution_count": 8,
   "metadata": {
    "collapsed": false
   },
   "outputs": [
    {
     "name": "stdout",
     "output_type": "stream",
     "text": [
      "<class 'pandas.core.frame.DataFrame'>\n",
      "Int64Index: 64 entries, 1952 to 2015\n",
      "Data columns (total 15 columns):\n",
      "Canada                                     64 non-null int64\n",
      "Newfoundland and Labrador                  64 non-null int64\n",
      "Prince Edward Island                       64 non-null int64\n",
      "Nova Scotia                                64 non-null int64\n",
      "New Brunswick                              64 non-null int64\n",
      "Quebec                                     64 non-null int64\n",
      "Ontario                                    64 non-null int64\n",
      "Manitoba                                   64 non-null int64\n",
      "Saskatchewan                               64 non-null int64\n",
      "Alberta                                    64 non-null int64\n",
      "British Columbia                           64 non-null int64\n",
      "Yukon                                      64 non-null int64\n",
      "Northwest Territories including Nunavut    39 non-null float64\n",
      "Northwest Territories                      24 non-null float64\n",
      "Nunavut                                    24 non-null float64\n",
      "dtypes: float64(3), int64(12)\n",
      "memory usage: 8.0 KB\n"
     ]
    }
   ],
   "source": [
    "pop_data.info()"
   ]
  },
  {
   "cell_type": "markdown",
   "metadata": {},
   "source": [
    "We see that we have 16 columns and most contain 64 rows of integer data. There are some missing values in the last three columns. This is because Nunavut became a separate territory in 1999."
   ]
  },
  {
   "cell_type": "markdown",
   "metadata": {},
   "source": [
    "### Accessing Columns (by name using brackets `[]`)\n",
    "\n",
    "We access the columns by name and the output is a **pandas Series**. This is the 1-dimensional pandas data structure and we see that a pandas DataFrame is a 2-dimensional data structure where the columns are pandas Series."
   ]
  },
  {
   "cell_type": "code",
   "execution_count": 9,
   "metadata": {
    "collapsed": false
   },
   "outputs": [
    {
     "data": {
      "text/plain": [
       "Year\n",
       "1952    14436750\n",
       "1953    14833000\n",
       "1954    15269500\n",
       "1955    15681250\n",
       "1956    16070250\n",
       "Name: Canada, dtype: int64"
      ]
     },
     "execution_count": 9,
     "metadata": {},
     "output_type": "execute_result"
    }
   ],
   "source": [
    "pop_data['Canada'].head()"
   ]
  },
  {
   "cell_type": "code",
   "execution_count": 10,
   "metadata": {
    "collapsed": false
   },
   "outputs": [
    {
     "data": {
      "text/plain": [
       "Year\n",
       "2011    34302909\n",
       "2012    34698875\n",
       "2013    35102353\n",
       "2014    35496547\n",
       "2015    35825433\n",
       "Name: Canada, dtype: int64"
      ]
     },
     "execution_count": 10,
     "metadata": {},
     "output_type": "execute_result"
    }
   ],
   "source": [
    "pop_data['Canada'].tail()"
   ]
  },
  {
   "cell_type": "markdown",
   "metadata": {},
   "source": [
    "We can also access several columns at once by passing a Python list of column names. The output is a pandas DataFrame:"
   ]
  },
  {
   "cell_type": "code",
   "execution_count": 11,
   "metadata": {
    "collapsed": false
   },
   "outputs": [
    {
     "data": {
      "text/html": [
       "<div>\n",
       "<table border=\"1\" class=\"dataframe\">\n",
       "  <thead>\n",
       "    <tr style=\"text-align: right;\">\n",
       "      <th></th>\n",
       "      <th>Alberta</th>\n",
       "      <th>Saskatchewan</th>\n",
       "    </tr>\n",
       "    <tr>\n",
       "      <th>Year</th>\n",
       "      <th></th>\n",
       "      <th></th>\n",
       "    </tr>\n",
       "  </thead>\n",
       "  <tbody>\n",
       "    <tr>\n",
       "      <th>1952</th>\n",
       "      <td>971500</td>\n",
       "      <td>842250</td>\n",
       "    </tr>\n",
       "    <tr>\n",
       "      <th>1953</th>\n",
       "      <td>1010250</td>\n",
       "      <td>859000</td>\n",
       "    </tr>\n",
       "    <tr>\n",
       "      <th>1954</th>\n",
       "      <td>1054250</td>\n",
       "      <td>871750</td>\n",
       "    </tr>\n",
       "    <tr>\n",
       "      <th>1955</th>\n",
       "      <td>1089500</td>\n",
       "      <td>878250</td>\n",
       "    </tr>\n",
       "    <tr>\n",
       "      <th>1956</th>\n",
       "      <td>1122250</td>\n",
       "      <td>879750</td>\n",
       "    </tr>\n",
       "    <tr>\n",
       "      <th>1957</th>\n",
       "      <td>1161250</td>\n",
       "      <td>878750</td>\n",
       "    </tr>\n",
       "    <tr>\n",
       "      <th>1958</th>\n",
       "      <td>1205250</td>\n",
       "      <td>891000</td>\n",
       "    </tr>\n",
       "    <tr>\n",
       "      <th>1959</th>\n",
       "      <td>1247250</td>\n",
       "      <td>905750</td>\n",
       "    </tr>\n",
       "    <tr>\n",
       "      <th>1960</th>\n",
       "      <td>1289750</td>\n",
       "      <td>914250</td>\n",
       "    </tr>\n",
       "    <tr>\n",
       "      <th>1961</th>\n",
       "      <td>1330500</td>\n",
       "      <td>924000</td>\n",
       "    </tr>\n",
       "  </tbody>\n",
       "</table>\n",
       "</div>"
      ],
      "text/plain": [
       "      Alberta  Saskatchewan\n",
       "Year                       \n",
       "1952   971500        842250\n",
       "1953  1010250        859000\n",
       "1954  1054250        871750\n",
       "1955  1089500        878250\n",
       "1956  1122250        879750\n",
       "1957  1161250        878750\n",
       "1958  1205250        891000\n",
       "1959  1247250        905750\n",
       "1960  1289750        914250\n",
       "1961  1330500        924000"
      ]
     },
     "execution_count": 11,
     "metadata": {},
     "output_type": "execute_result"
    }
   ],
   "source": [
    "pop_data[['Alberta','Saskatchewan']].head(10)"
   ]
  },
  {
   "cell_type": "markdown",
   "metadata": {},
   "source": [
    "### Accessing Rows and Columns (by index label using `.loc[row_label,col_label]`\n",
    "\n",
    "We use the `.loc` method to access entries in the given rows and columns by their index labels using the syntax `df.loc[row_labels,column_lables]` (for a given dataframe `df`)."
   ]
  },
  {
   "cell_type": "code",
   "execution_count": 12,
   "metadata": {
    "collapsed": false
   },
   "outputs": [
    {
     "data": {
      "text/html": [
       "<div>\n",
       "<table border=\"1\" class=\"dataframe\">\n",
       "  <thead>\n",
       "    <tr style=\"text-align: right;\">\n",
       "      <th></th>\n",
       "      <th>Quebec</th>\n",
       "      <th>Ontario</th>\n",
       "    </tr>\n",
       "    <tr>\n",
       "      <th>Year</th>\n",
       "      <th></th>\n",
       "      <th></th>\n",
       "    </tr>\n",
       "  </thead>\n",
       "  <tbody>\n",
       "    <tr>\n",
       "      <th>2000</th>\n",
       "      <td>7353293</td>\n",
       "      <td>11657472</td>\n",
       "    </tr>\n",
       "    <tr>\n",
       "      <th>2001</th>\n",
       "      <td>7391474</td>\n",
       "      <td>11864712</td>\n",
       "    </tr>\n",
       "    <tr>\n",
       "      <th>2002</th>\n",
       "      <td>7435910</td>\n",
       "      <td>12062619</td>\n",
       "    </tr>\n",
       "    <tr>\n",
       "      <th>2003</th>\n",
       "      <td>7480516</td>\n",
       "      <td>12221288</td>\n",
       "    </tr>\n",
       "    <tr>\n",
       "      <th>2004</th>\n",
       "      <td>7529704</td>\n",
       "      <td>12367823</td>\n",
       "    </tr>\n",
       "    <tr>\n",
       "      <th>2005</th>\n",
       "      <td>7576590</td>\n",
       "      <td>12507353</td>\n",
       "    </tr>\n",
       "    <tr>\n",
       "      <th>2006</th>\n",
       "      <td>7626106</td>\n",
       "      <td>12641896</td>\n",
       "    </tr>\n",
       "    <tr>\n",
       "      <th>2007</th>\n",
       "      <td>7685354</td>\n",
       "      <td>12749822</td>\n",
       "    </tr>\n",
       "    <tr>\n",
       "      <th>2008</th>\n",
       "      <td>7753366</td>\n",
       "      <td>12865668</td>\n",
       "    </tr>\n",
       "    <tr>\n",
       "      <th>2009</th>\n",
       "      <td>7832800</td>\n",
       "      <td>12983106</td>\n",
       "    </tr>\n",
       "    <tr>\n",
       "      <th>2010</th>\n",
       "      <td>7918420</td>\n",
       "      <td>13117298</td>\n",
       "    </tr>\n",
       "  </tbody>\n",
       "</table>\n",
       "</div>"
      ],
      "text/plain": [
       "       Quebec   Ontario\n",
       "Year                   \n",
       "2000  7353293  11657472\n",
       "2001  7391474  11864712\n",
       "2002  7435910  12062619\n",
       "2003  7480516  12221288\n",
       "2004  7529704  12367823\n",
       "2005  7576590  12507353\n",
       "2006  7626106  12641896\n",
       "2007  7685354  12749822\n",
       "2008  7753366  12865668\n",
       "2009  7832800  12983106\n",
       "2010  7918420  13117298"
      ]
     },
     "execution_count": 12,
     "metadata": {},
     "output_type": "execute_result"
    }
   ],
   "source": [
    "pop_data.loc[2000:2010,['Quebec','Ontario']]"
   ]
  },
  {
   "cell_type": "code",
   "execution_count": 13,
   "metadata": {
    "collapsed": false
   },
   "outputs": [
    {
     "data": {
      "text/plain": [
       "Canada                                     35496547\n",
       "Newfoundland and Labrador                    528839\n",
       "Prince Edward Island                         145963\n",
       "Nova Scotia                                  942932\n",
       "New Brunswick                                755058\n",
       "Quebec                                      8206005\n",
       "Ontario                                    13664922\n",
       "Manitoba                                    1278114\n",
       "Saskatchewan                                1120272\n",
       "Alberta                                     4104536\n",
       "British Columbia                            4633220\n",
       "Yukon                                         36733\n",
       "Northwest Territories including Nunavut         NaN\n",
       "Northwest Territories                         43968\n",
       "Nunavut                                       35984\n",
       "Name: 2014, dtype: float64"
      ]
     },
     "execution_count": 13,
     "metadata": {},
     "output_type": "execute_result"
    }
   ],
   "source": [
    "pop_data.loc[2014,:]"
   ]
  },
  {
   "cell_type": "markdown",
   "metadata": {},
   "source": [
    "### Accessing Rows and Columns (by index position using `.iloc[row_num,col_num]`\n",
    "\n",
    "We use the `.iloc` method to access entries in the given rows and columns by their index numbers using the syntax `df.loc[row_labels,column_lables]` (for a given dataframe `df`). For example, the entry in position 0,0 is the population of Canada in 1952."
   ]
  },
  {
   "cell_type": "code",
   "execution_count": 14,
   "metadata": {
    "collapsed": false
   },
   "outputs": [
    {
     "data": {
      "text/plain": [
       "14436750.0"
      ]
     },
     "execution_count": 14,
     "metadata": {},
     "output_type": "execute_result"
    }
   ],
   "source": [
    "pop_data.iloc[0,0]"
   ]
  },
  {
   "cell_type": "code",
   "execution_count": 15,
   "metadata": {
    "collapsed": false
   },
   "outputs": [
    {
     "data": {
      "text/plain": [
       "14436750.0"
      ]
     },
     "execution_count": 15,
     "metadata": {},
     "output_type": "execute_result"
    }
   ],
   "source": [
    "pop_data.loc[1952,'Canada']"
   ]
  },
  {
   "cell_type": "markdown",
   "metadata": {},
   "source": [
    "### Plotting\n",
    "\n",
    "It's really easy to plot data in a DataFrame. Simply use the `.plot()` method and the result is the **plot of every column versus the index column**.\n",
    "\n",
    "**Example.** Plot the population of Canada form 1952 to 2015."
   ]
  },
  {
   "cell_type": "code",
   "execution_count": 16,
   "metadata": {
    "collapsed": false
   },
   "outputs": [
    {
     "data": {
      "image/png": "[encoded data removed]",
      "text/plain": [
       "<matplotlib.figure.Figure at 0x1098ed358>"
      ]
     },
     "metadata": {},
     "output_type": "display_data"
    }
   ],
   "source": [
    "pop_data['Canada'].plot();"
   ]
  },
  {
   "cell_type": "markdown",
   "metadata": {},
   "source": [
    "**Example.** Plot the populations of Ontario and Quebec from 1952 to 2015."
   ]
  },
  {
   "cell_type": "code",
   "execution_count": 17,
   "metadata": {
    "collapsed": false
   },
   "outputs": [
    {
     "data": {
      "text/plain": [
       "<matplotlib.axes._subplots.AxesSubplot at 0x109969be0>"
      ]
     },
     "execution_count": 17,
     "metadata": {},
     "output_type": "execute_result"
    },
    {
     "data": {
      "image/png": "[encoded data removed]",
      "text/plain": [
       "<matplotlib.figure.Figure at 0x109987c88>"
      ]
     },
     "metadata": {},
     "output_type": "display_data"
    }
   ],
   "source": [
    "pop_data[['Ontario','Quebec']].plot()"
   ]
  },
  {
   "cell_type": "markdown",
   "metadata": {},
   "source": [
    "**Example.** Plot the populations of Alberta, Saskatchewan and Manitoba from 1980 to 2000."
   ]
  },
  {
   "cell_type": "code",
   "execution_count": 18,
   "metadata": {
    "collapsed": false
   },
   "outputs": [
    {
     "data": {
      "text/plain": [
       "<matplotlib.axes._subplots.AxesSubplot at 0x109b89ef0>"
      ]
     },
     "execution_count": 18,
     "metadata": {},
     "output_type": "execute_result"
    },
    {
     "data": {
      "image/png": "[encoded data removed]",
      "text/plain": [
       "<matplotlib.figure.Figure at 0x109b91048>"
      ]
     },
     "metadata": {},
     "output_type": "display_data"
    }
   ],
   "source": [
    "pop_data.loc[1980:2000,['Alberta','Saskatchewan','Manitoba']].plot(title='Populations of the Prairie Provinces 1980-2000')"
   ]
  },
  {
   "cell_type": "markdown",
   "metadata": {},
   "source": [
    "**Example.** Plot the populations of the provinces in 2015 as a bar plot."
   ]
  },
  {
   "cell_type": "code",
   "execution_count": 19,
   "metadata": {
    "collapsed": false
   },
   "outputs": [
    {
     "data": {
      "text/plain": [
       "<matplotlib.axes._subplots.AxesSubplot at 0x1099739b0>"
      ]
     },
     "execution_count": 19,
     "metadata": {},
     "output_type": "execute_result"
    },
    {
     "data": {
      "image/png": "[encoded data removed]",
      "text/plain": [
       "<matplotlib.figure.Figure at 0x10998aa90>"
      ]
     },
     "metadata": {},
     "output_type": "display_data"
    }
   ],
   "source": [
    "provinces = ['British Columbia','Alberta','Saskatchewan','Manitoba','Ontario',\n",
    "             'Quebec','Nova Scotia','New Brunswick','Newfoundland and Labrador']\n",
    "pop_data.loc[2015,provinces].plot(kind='bar',title='Populations of Canadian Provinces in 2015')"
   ]
  },
  {
   "cell_type": "markdown",
   "metadata": {
    "collapsed": true
   },
   "source": [
    "## 2. Exercises"
   ]
  },
  {
   "cell_type": "markdown",
   "metadata": {},
   "source": [
    "**Exercise.** Plot the populations of Alberta and British Columbia from 1970 to 2010."
   ]
  },
  {
   "cell_type": "markdown",
   "metadata": {
    "collapsed": true
   },
   "source": [
    "**Exercise.** Plot the populations of Nova Scotia, New Brunswick and Newfoundland and Labrador from 1952 to 2015."
   ]
  }
 ],
 "metadata": {
  "kernelspec": {
   "display_name": "Python 3",
   "language": "python",
   "name": "python3"
  },
  "language_info": {
   "codemirror_mode": {
    "name": "ipython",
    "version": 3
   },
   "file_extension": ".py",
   "mimetype": "text/x-python",
   "name": "python",
   "nbconvert_exporter": "python",
   "pygments_lexer": "ipython3",
   "version": "3.4.3"
  }
 },
 "nbformat": 4,
 "nbformat_minor": 0
}
