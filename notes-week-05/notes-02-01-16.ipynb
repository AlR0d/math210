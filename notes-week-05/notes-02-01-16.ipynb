{
 "cells": [
  {
   "cell_type": "markdown",
   "metadata": {},
   "source": [
    "# MATH 210 Introduction to Mathematical Computing\n",
    "\n",
    "## February 1, 2016\n",
    "\n",
    "Today's Agenda:\n",
    "\n",
    "More about NumPy arrays:\n",
    "\n",
    "1. Indexing and Slicing\n",
    "2. Array Methods\n",
    "    * Arithmetic: `sum`, `cumsum`, `prod` and `cumprod`\n",
    "    * Statistics: `min`, `max`, `mean`, and `std`\n",
    "    * Shape and Size: `size`, `shape`, `ndim`\n",
    "3. Examples: Plotting Random Walks with Matplotlib\n",
    "4. Exercises\n",
    "\n",
    "For more information, check out the following references:\n",
    "\n",
    "* [NumPy](http://www.numpy.org)\n",
    "* [SciPy](http://www.scipy.org)\n",
    "* [SciPy Lecture Notes](http://www.scipy-lectures.org/)"
   ]
  },
  {
   "cell_type": "markdown",
   "metadata": {},
   "source": [
    "## Import NumPy and Matplotlib\n",
    "\n",
    "As always, we must import the `numpy` and `matplotlib.pyplot` packages into our workspace in order to use them:"
   ]
  },
  {
   "cell_type": "code",
   "execution_count": 1,
   "metadata": {
    "collapsed": true
   },
   "outputs": [],
   "source": [
    "import numpy as np\n",
    "import matplotlib.pyplot as plt"
   ]
  },
  {
   "cell_type": "markdown",
   "metadata": {},
   "source": [
    "We also must enter the following command to display our `matplotlib` plots in the notebook:"
   ]
  },
  {
   "cell_type": "code",
   "execution_count": 2,
   "metadata": {
    "collapsed": true
   },
   "outputs": [],
   "source": [
    "%matplotlib inline"
   ]
  },
  {
   "cell_type": "markdown",
   "metadata": {},
   "source": [
    "## 1. Indexing and Slicing NumPy Arrays\n",
    "\n",
    "### Indexing\n",
    "\n",
    "We can access the entries in a NumPy array using square brackets. Remember, all array indices in Python begin at index 0."
   ]
  },
  {
   "cell_type": "code",
   "execution_count": 3,
   "metadata": {
    "collapsed": false
   },
   "outputs": [
    {
     "name": "stdout",
     "output_type": "stream",
     "text": [
      "[[1 2 3]\n",
      " [4 5 6]]\n"
     ]
    }
   ],
   "source": [
    "arr = np.array([[1,2,3],[4,5,6]])\n",
    "print(arr)"
   ]
  },
  {
   "cell_type": "code",
   "execution_count": 4,
   "metadata": {
    "collapsed": false
   },
   "outputs": [
    {
     "data": {
      "text/plain": [
       "1"
      ]
     },
     "execution_count": 4,
     "metadata": {},
     "output_type": "execute_result"
    }
   ],
   "source": [
    "arr[0,0]"
   ]
  },
  {
   "cell_type": "code",
   "execution_count": 5,
   "metadata": {
    "collapsed": false
   },
   "outputs": [
    {
     "data": {
      "text/plain": [
       "5"
      ]
     },
     "execution_count": 5,
     "metadata": {},
     "output_type": "execute_result"
    }
   ],
   "source": [
    "arr[1,1]"
   ]
  },
  {
   "cell_type": "code",
   "execution_count": 6,
   "metadata": {
    "collapsed": false
   },
   "outputs": [
    {
     "data": {
      "text/plain": [
       "3"
      ]
     },
     "execution_count": 6,
     "metadata": {},
     "output_type": "execute_result"
    }
   ],
   "source": [
    "arr[0,2]"
   ]
  },
  {
   "cell_type": "markdown",
   "metadata": {},
   "source": [
    "### Slicing\n",
    "\n",
    "We can access subarrays by what's known as *slicing*. Let's use the NumPy function `np.random.randint` to pratice slicing with a 4 by 8 array with integer entries sampled randomly from the closed interval $[-5,5]$."
   ]
  },
  {
   "cell_type": "code",
   "execution_count": 7,
   "metadata": {
    "collapsed": false
   },
   "outputs": [
    {
     "name": "stdout",
     "output_type": "stream",
     "text": [
      "[[ 2  0 -1  4  0  2 -3  0]\n",
      " [-1  0 -5  2 -1  2  3 -1]\n",
      " [ 2 -2 -4 -1 -5 -2 -3  0]\n",
      " [ 1  2  3  5  2  2  2 -5]]\n"
     ]
    }
   ],
   "source": [
    "arr2 = np.random.randint(-5,6,[4,8])\n",
    "print(arr2)"
   ]
  },
  {
   "cell_type": "code",
   "execution_count": 8,
   "metadata": {
    "collapsed": false
   },
   "outputs": [
    {
     "data": {
      "text/plain": [
       "array([ 2,  0, -1,  4,  0,  2, -3,  0])"
      ]
     },
     "execution_count": 8,
     "metadata": {},
     "output_type": "execute_result"
    }
   ],
   "source": [
    "# The row at index 0\n",
    "arr2[0,:]"
   ]
  },
  {
   "cell_type": "code",
   "execution_count": 9,
   "metadata": {
    "collapsed": false
   },
   "outputs": [
    {
     "data": {
      "text/plain": [
       "array([ 1,  2,  3,  5,  2,  2,  2, -5])"
      ]
     },
     "execution_count": 9,
     "metadata": {},
     "output_type": "execute_result"
    }
   ],
   "source": [
    "# The row at index 3\n",
    "arr2[3,:]"
   ]
  },
  {
   "cell_type": "code",
   "execution_count": 10,
   "metadata": {
    "collapsed": false
   },
   "outputs": [
    {
     "data": {
      "text/plain": [
       "array([ 4,  2, -1,  5])"
      ]
     },
     "execution_count": 10,
     "metadata": {},
     "output_type": "execute_result"
    }
   ],
   "source": [
    "# The column at index 3\n",
    "arr2[:,3]"
   ]
  },
  {
   "cell_type": "code",
   "execution_count": 11,
   "metadata": {
    "collapsed": false
   },
   "outputs": [
    {
     "data": {
      "text/plain": [
       "array([[ 0, -5,  2],\n",
       "       [-2, -4, -1],\n",
       "       [ 2,  3,  5]])"
      ]
     },
     "execution_count": 11,
     "metadata": {},
     "output_type": "execute_result"
    }
   ],
   "source": [
    "# The subarray from row index 1 (inclusive) to 5 (exclusive)\n",
    "# and form column index 1 (inclusive) to 4 (exclusive)\n",
    "arr2[1:5,1:4]"
   ]
  },
  {
   "cell_type": "code",
   "execution_count": 12,
   "metadata": {
    "collapsed": false
   },
   "outputs": [
    {
     "data": {
      "text/plain": [
       "array([[ 0,  4,  2,  0],\n",
       "       [-2, -1, -2,  0]])"
      ]
     },
     "execution_count": 12,
     "metadata": {},
     "output_type": "execute_result"
    }
   ],
   "source": [
    "# The subarray at all even row indices and odd column indices\n",
    "# The colon notation is start:stop:increment (if stop is not indicated, then the slice goes to the end)\n",
    "arr2[0::2,1::2]"
   ]
  },
  {
   "cell_type": "markdown",
   "metadata": {},
   "source": [
    "## 2. Array Methods\n",
    "\n",
    "Remember, in Python, everything is an **object**. Objects have **attributes** (ie. values associated with the object) and **methods** (ie. functions associated with the object). We access an object's methods using the dot notation: `object.method()`. And we access an object's attribures using the dot notation (but without parentheses): `object.attribute`.\n",
    "\n",
    "For example, given a 2-dimensional array (in other words, a matrix) called `my_array`, we could add up all the entries of `my_array` using the method `my_array.sum()` and we could find out the shape of `my_array` by calling for its shape attribute `my_array.size`:"
   ]
  },
  {
   "cell_type": "code",
   "execution_count": 13,
   "metadata": {
    "collapsed": false
   },
   "outputs": [
    {
     "name": "stdout",
     "output_type": "stream",
     "text": [
      "[[1 1 1 0 0 0 0]\n",
      " [1 1 1 1 0 0 0]\n",
      " [0 1 1 0 0 0 1]]\n"
     ]
    }
   ],
   "source": [
    "# Create a 3 by 7 array of random zeros and ones\n",
    "my_array = np.random.randint(0,2,[3,7])\n",
    "print(my_array)"
   ]
  },
  {
   "cell_type": "code",
   "execution_count": 14,
   "metadata": {
    "collapsed": false
   },
   "outputs": [
    {
     "data": {
      "text/plain": [
       "10"
      ]
     },
     "execution_count": 14,
     "metadata": {},
     "output_type": "execute_result"
    }
   ],
   "source": [
    "# Call the sum method\n",
    "my_array.sum()"
   ]
  },
  {
   "cell_type": "code",
   "execution_count": 15,
   "metadata": {
    "collapsed": false
   },
   "outputs": [
    {
     "data": {
      "text/plain": [
       "21"
      ]
     },
     "execution_count": 15,
     "metadata": {},
     "output_type": "execute_result"
    }
   ],
   "source": [
    "# Access the size attribute\n",
    "my_array.size"
   ]
  },
  {
   "cell_type": "markdown",
   "metadata": {},
   "source": [
    "See the full list of NumPy array methods in the NumPy [documentation](http://docs.scipy.org/doc/numpy/reference/arrays.ndarray.html#array-methods)."
   ]
  },
  {
   "cell_type": "markdown",
   "metadata": {},
   "source": [
    "### Arithmetic Methods: `sum`, `cumsum`, `prod` and `cumprod`"
   ]
  },
  {
   "cell_type": "markdown",
   "metadata": {},
   "source": [
    "We can compute the sum of all the entries of an array, or we can compute the sum along any of the axes. The axes of an array are:\n",
    "\n",
    "![axes](http://www.scipy-lectures.org/_images/reductions.png)\n",
    "\n",
    "(The image above is taken from the [SciPy Lecture Notes](http://www.scipy-lectures.org).)"
   ]
  },
  {
   "cell_type": "markdown",
   "metadata": {},
   "source": [
    "Let's generate a matrix with random entries and then compute various sums across the axes of the array."
   ]
  },
  {
   "cell_type": "code",
   "execution_count": 16,
   "metadata": {
    "collapsed": false
   },
   "outputs": [
    {
     "name": "stdout",
     "output_type": "stream",
     "text": [
      "[[4 1 1 1 3]\n",
      " [1 5 5 1 5]\n",
      " [0 2 2 2 3]]\n"
     ]
    }
   ],
   "source": [
    "arr3 = np.random.randint(0,6,[3,5])\n",
    "print(arr3)"
   ]
  },
  {
   "cell_type": "code",
   "execution_count": 17,
   "metadata": {
    "collapsed": false
   },
   "outputs": [
    {
     "data": {
      "text/plain": [
       "36"
      ]
     },
     "execution_count": 17,
     "metadata": {},
     "output_type": "execute_result"
    }
   ],
   "source": [
    "arr3.sum()"
   ]
  },
  {
   "cell_type": "code",
   "execution_count": 18,
   "metadata": {
    "collapsed": false
   },
   "outputs": [
    {
     "data": {
      "text/plain": [
       "array([ 5,  8,  8,  4, 11])"
      ]
     },
     "execution_count": 18,
     "metadata": {},
     "output_type": "execute_result"
    }
   ],
   "source": [
    "arr3.sum(axis=0)"
   ]
  },
  {
   "cell_type": "code",
   "execution_count": 19,
   "metadata": {
    "collapsed": false
   },
   "outputs": [
    {
     "data": {
      "text/plain": [
       "array([10, 17,  9])"
      ]
     },
     "execution_count": 19,
     "metadata": {},
     "output_type": "execute_result"
    }
   ],
   "source": [
    "arr3.sum(axis=1)"
   ]
  },
  {
   "cell_type": "markdown",
   "metadata": {},
   "source": [
    "We can compute the cumulative sum of all the entries of an array, or we can compute the cumulative sum along any of the axes:"
   ]
  },
  {
   "cell_type": "code",
   "execution_count": 20,
   "metadata": {
    "collapsed": false
   },
   "outputs": [
    {
     "data": {
      "text/plain": [
       "array([ 4,  5,  6,  7, 10, 11, 16, 21, 22, 27, 27, 29, 31, 33, 36])"
      ]
     },
     "execution_count": 20,
     "metadata": {},
     "output_type": "execute_result"
    }
   ],
   "source": [
    "arr3.cumsum()"
   ]
  },
  {
   "cell_type": "code",
   "execution_count": 21,
   "metadata": {
    "collapsed": false
   },
   "outputs": [
    {
     "data": {
      "text/plain": [
       "array([[ 4,  1,  1,  1,  3],\n",
       "       [ 5,  6,  6,  2,  8],\n",
       "       [ 5,  8,  8,  4, 11]])"
      ]
     },
     "execution_count": 21,
     "metadata": {},
     "output_type": "execute_result"
    }
   ],
   "source": [
    "arr3.cumsum(axis=0)"
   ]
  },
  {
   "cell_type": "code",
   "execution_count": 22,
   "metadata": {
    "collapsed": false
   },
   "outputs": [
    {
     "data": {
      "text/plain": [
       "array([[ 4,  5,  6,  7, 10],\n",
       "       [ 1,  6, 11, 12, 17],\n",
       "       [ 0,  2,  4,  6,  9]])"
      ]
     },
     "execution_count": 22,
     "metadata": {},
     "output_type": "execute_result"
    }
   ],
   "source": [
    "arr3.cumsum(axis=1)"
   ]
  },
  {
   "cell_type": "markdown",
   "metadata": {},
   "source": [
    "Similarly, we can compute the product or the cumulative product of all the entries in an array or along any of the axes:"
   ]
  },
  {
   "cell_type": "code",
   "execution_count": 23,
   "metadata": {
    "collapsed": false
   },
   "outputs": [
    {
     "name": "stdout",
     "output_type": "stream",
     "text": [
      "[[4 1 1 1 3]\n",
      " [1 5 5 1 5]\n",
      " [0 2 2 2 3]]\n"
     ]
    }
   ],
   "source": [
    "print(arr3)"
   ]
  },
  {
   "cell_type": "code",
   "execution_count": 24,
   "metadata": {
    "collapsed": false
   },
   "outputs": [
    {
     "data": {
      "text/plain": [
       "0"
      ]
     },
     "execution_count": 24,
     "metadata": {},
     "output_type": "execute_result"
    }
   ],
   "source": [
    "arr3.prod()"
   ]
  },
  {
   "cell_type": "code",
   "execution_count": 25,
   "metadata": {
    "collapsed": false
   },
   "outputs": [
    {
     "data": {
      "text/plain": [
       "array([ 0, 10, 10,  2, 45])"
      ]
     },
     "execution_count": 25,
     "metadata": {},
     "output_type": "execute_result"
    }
   ],
   "source": [
    "arr3.prod(axis=0)"
   ]
  },
  {
   "cell_type": "code",
   "execution_count": 26,
   "metadata": {
    "collapsed": false
   },
   "outputs": [
    {
     "data": {
      "text/plain": [
       "array([ 12, 125,   0])"
      ]
     },
     "execution_count": 26,
     "metadata": {},
     "output_type": "execute_result"
    }
   ],
   "source": [
    "arr3.prod(axis=1)"
   ]
  },
  {
   "cell_type": "code",
   "execution_count": 27,
   "metadata": {
    "collapsed": false
   },
   "outputs": [
    {
     "data": {
      "text/plain": [
       "array([[  4,   4,   4,   4,  12],\n",
       "       [  1,   5,  25,  25, 125],\n",
       "       [  0,   0,   0,   0,   0]])"
      ]
     },
     "execution_count": 27,
     "metadata": {},
     "output_type": "execute_result"
    }
   ],
   "source": [
    "arr3.cumprod(axis=1)"
   ]
  },
  {
   "cell_type": "markdown",
   "metadata": {},
   "source": [
    "**Example.** Use the NumPy function `np.arange` and the array method `prod` to define a function called `factorial` which takes an integer $n$ and returns the factorial $n!$."
   ]
  },
  {
   "cell_type": "code",
   "execution_count": 28,
   "metadata": {
    "collapsed": true
   },
   "outputs": [],
   "source": [
    "def factorial(n):\n",
    "    if n < 0:\n",
    "        print(n,'is a negative number.')\n",
    "    elif n == 0:\n",
    "        return 1\n",
    "    else:\n",
    "        return np.arange(1,n+1).prod()"
   ]
  },
  {
   "cell_type": "code",
   "execution_count": 29,
   "metadata": {
    "collapsed": false
   },
   "outputs": [
    {
     "name": "stdout",
     "output_type": "stream",
     "text": [
      "1\n",
      "1\n",
      "2\n",
      "6\n",
      "24\n",
      "120\n",
      "720\n"
     ]
    }
   ],
   "source": [
    "for n in range(0,7):\n",
    "    print(factorial(n))"
   ]
  },
  {
   "cell_type": "markdown",
   "metadata": {},
   "source": [
    "### Statistical Methods: `min`, `max`, `mean`, `median` and `std`\n",
    "\n",
    "The statistical array methods work similarly to the array methods described above:"
   ]
  },
  {
   "cell_type": "code",
   "execution_count": 30,
   "metadata": {
    "collapsed": false
   },
   "outputs": [
    {
     "name": "stdout",
     "output_type": "stream",
     "text": [
      "[  2 -10   6   5   7   4  10   5   1   0   2   7   2  10   8]\n"
     ]
    }
   ],
   "source": [
    "arr4 = np.random.randint(-10,11,15)\n",
    "print(arr4)"
   ]
  },
  {
   "cell_type": "code",
   "execution_count": 31,
   "metadata": {
    "collapsed": false
   },
   "outputs": [
    {
     "data": {
      "text/plain": [
       "-10"
      ]
     },
     "execution_count": 31,
     "metadata": {},
     "output_type": "execute_result"
    }
   ],
   "source": [
    "arr4.min()"
   ]
  },
  {
   "cell_type": "code",
   "execution_count": 32,
   "metadata": {
    "collapsed": false
   },
   "outputs": [
    {
     "data": {
      "text/plain": [
       "10"
      ]
     },
     "execution_count": 32,
     "metadata": {},
     "output_type": "execute_result"
    }
   ],
   "source": [
    "arr4.max()"
   ]
  },
  {
   "cell_type": "code",
   "execution_count": 33,
   "metadata": {
    "collapsed": false
   },
   "outputs": [
    {
     "data": {
      "text/plain": [
       "3.9333333333333331"
      ]
     },
     "execution_count": 33,
     "metadata": {},
     "output_type": "execute_result"
    }
   ],
   "source": [
    "arr4.mean()"
   ]
  },
  {
   "cell_type": "code",
   "execution_count": 34,
   "metadata": {
    "collapsed": false
   },
   "outputs": [
    {
     "data": {
      "text/plain": [
       "3.9333333333333331"
      ]
     },
     "execution_count": 34,
     "metadata": {},
     "output_type": "execute_result"
    }
   ],
   "source": [
    "arr4.sum() / arr4.size"
   ]
  },
  {
   "cell_type": "code",
   "execution_count": 35,
   "metadata": {
    "collapsed": false
   },
   "outputs": [
    {
     "data": {
      "text/plain": [
       "4.7953681355611844"
      ]
     },
     "execution_count": 35,
     "metadata": {},
     "output_type": "execute_result"
    }
   ],
   "source": [
    "arr4.std()"
   ]
  },
  {
   "cell_type": "code",
   "execution_count": 36,
   "metadata": {
    "collapsed": false
   },
   "outputs": [
    {
     "name": "stdout",
     "output_type": "stream",
     "text": [
      "[[ 2  0 -1  4  0  2 -3  0]\n",
      " [-1  0 -5  2 -1  2  3 -1]\n",
      " [ 2 -2 -4 -1 -5 -2 -3  0]\n",
      " [ 1  2  3  5  2  2  2 -5]]\n"
     ]
    }
   ],
   "source": [
    "arr5 = np.random.randint(-4,4,[3,10])\n",
    "print(arr2)"
   ]
  },
  {
   "cell_type": "code",
   "execution_count": 37,
   "metadata": {
    "collapsed": false
   },
   "outputs": [
    {
     "data": {
      "text/plain": [
       "array([-3,  0, -4, -4, -3, -2, -4, -4,  2, -3])"
      ]
     },
     "execution_count": 37,
     "metadata": {},
     "output_type": "execute_result"
    }
   ],
   "source": [
    "arr5.min(axis=0)"
   ]
  },
  {
   "cell_type": "code",
   "execution_count": 38,
   "metadata": {
    "collapsed": false
   },
   "outputs": [
    {
     "data": {
      "text/plain": [
       "array([3, 3, 3])"
      ]
     },
     "execution_count": 38,
     "metadata": {},
     "output_type": "execute_result"
    }
   ],
   "source": [
    "arr5.max(axis=1)"
   ]
  },
  {
   "cell_type": "code",
   "execution_count": 39,
   "metadata": {
    "collapsed": false
   },
   "outputs": [
    {
     "data": {
      "text/plain": [
       "array([-0.5,  0. ,  0.2])"
      ]
     },
     "execution_count": 39,
     "metadata": {},
     "output_type": "execute_result"
    }
   ],
   "source": [
    "arr5.mean(axis=1)"
   ]
  },
  {
   "cell_type": "markdown",
   "metadata": {},
   "source": [
    "### Shape Attributes: `size`, `shape`, `ndim`\n",
    "\n",
    "Array attributes include:\n",
    "* `size` - total nuber of entries in the array\n",
    "* `shape` - the number of indices in each dimension\n",
    "* `ndim` - the number of dimension of the array"
   ]
  },
  {
   "cell_type": "code",
   "execution_count": 40,
   "metadata": {
    "collapsed": false
   },
   "outputs": [
    {
     "name": "stdout",
     "output_type": "stream",
     "text": [
      "[[ 1  2  3  4]\n",
      " [ 5  6  7  8]\n",
      " [ 9 10 11 12]]\n"
     ]
    }
   ],
   "source": [
    "arr6 = np.array([[1,2,3,4],[5,6,7,8],[9,10,11,12]])\n",
    "print(arr6)"
   ]
  },
  {
   "cell_type": "code",
   "execution_count": 41,
   "metadata": {
    "collapsed": false
   },
   "outputs": [
    {
     "data": {
      "text/plain": [
       "12"
      ]
     },
     "execution_count": 41,
     "metadata": {},
     "output_type": "execute_result"
    }
   ],
   "source": [
    "arr6.size"
   ]
  },
  {
   "cell_type": "code",
   "execution_count": 42,
   "metadata": {
    "collapsed": false
   },
   "outputs": [
    {
     "data": {
      "text/plain": [
       "2"
      ]
     },
     "execution_count": 42,
     "metadata": {},
     "output_type": "execute_result"
    }
   ],
   "source": [
    "arr6.ndim"
   ]
  },
  {
   "cell_type": "code",
   "execution_count": 43,
   "metadata": {
    "collapsed": false
   },
   "outputs": [
    {
     "data": {
      "text/plain": [
       "(3, 4)"
      ]
     },
     "execution_count": 43,
     "metadata": {},
     "output_type": "execute_result"
    }
   ],
   "source": [
    "arr6.shape"
   ]
  },
  {
   "cell_type": "markdown",
   "metadata": {},
   "source": [
    "## 3. Examples: Plotting Random Walks with Matplotlib\n",
    "\n",
    "We can simulate a [random walk](https://en.wikipedia.org/wiki/Random_walk) by talking the cumulative sum of a 1-dimensional array of random numbers sampled from the standard normal distribution. In other words, we can think of the steps in a random walk as a sequence of random numbers and then the position of the random walk is the sum of the all the previous steps.\n",
    "\n",
    "To simulate a random walk:\n",
    "\n",
    "1. Generate a random sequence of steps using the standard normal distribution\n",
    "2. Compute the walk via the cumulative sum array method\n",
    "3. Plot the result using Matplotlib's plotting command `plt.plot`."
   ]
  },
  {
   "cell_type": "markdown",
   "metadata": {},
   "source": [
    "### Example 1: A Single Random Walk with 20 Steps"
   ]
  },
  {
   "cell_type": "code",
   "execution_count": 44,
   "metadata": {
    "collapsed": false
   },
   "outputs": [
    {
     "name": "stdout",
     "output_type": "stream",
     "text": [
      "[-0.05256645  0.25283172 -0.24640158  1.27476437 -0.39573007  0.17625835\n",
      " -0.51786797  0.96847655  0.0044384  -0.69776283 -0.95397438 -0.8378826\n",
      " -2.14499667  0.35606079  1.09834928 -0.17841167 -1.76570076  0.88307447\n",
      " -0.56157037  0.55226605]\n"
     ]
    }
   ],
   "source": [
    "steps = np.random.randn(20)\n",
    "print(steps)"
   ]
  },
  {
   "cell_type": "code",
   "execution_count": 45,
   "metadata": {
    "collapsed": false
   },
   "outputs": [
    {
     "name": "stdout",
     "output_type": "stream",
     "text": [
      "[-0.05256645  0.20026527 -0.04613631  1.22862806  0.83289799  1.00915635\n",
      "  0.49128838  1.45976493  1.46420332  0.76644049 -0.18753389 -1.02541649\n",
      " -3.17041316 -2.81435237 -1.7160031  -1.89441477 -3.66011553 -2.77704106\n",
      " -3.33861143 -2.78634537]\n"
     ]
    }
   ],
   "source": [
    "walk = steps.cumsum()\n",
    "print(walk)"
   ]
  },
  {
   "cell_type": "code",
   "execution_count": 46,
   "metadata": {
    "collapsed": false
   },
   "outputs": [
    {
     "data": {
      "image/png": "[encoded data removed]",
      "text/plain": [
       "<matplotlib.figure.Figure at 0x1083ba8d0>"
      ]
     },
     "metadata": {},
     "output_type": "display_data"
    }
   ],
   "source": [
    "plt.plot(walk)\n",
    "plt.title('A Random Walk with 20 Steps')\n",
    "plt.xlabel('Steps')\n",
    "plt.ylabel('Position');"
   ]
  },
  {
   "cell_type": "markdown",
   "metadata": {},
   "source": [
    "### Example 2: $n$ Random Walks with $m$ Steps\n",
    "\n",
    "Let's repeat the same procedure as before but now we'll write a function which takes integers $n$ and $m$ and plots $n$ random walks each with $m$ steps.\n",
    "\n",
    "To accomplish this, we simply note that if we pass a 2-dimensional array into `plt.plot`, the result is a line plot for each column."
   ]
  },
  {
   "cell_type": "code",
   "execution_count": 47,
   "metadata": {
    "collapsed": false
   },
   "outputs": [],
   "source": [
    "def n_random_walks(n,m):\n",
    "    \"Plot n random walks each with m steps.\"\n",
    "    # Each column of the array walks represents a random walk\n",
    "    # and so walks has n columns and m rows,\n",
    "    # and we take the cumulative sum along the columns (axis 0)\n",
    "    walks = np.random.randn(m,n).cumsum(axis=0)\n",
    "    plt.plot(walks)\n",
    "    plt.title( str(n) + ' Random Walks with ' + str(m) + ' Steps')\n",
    "    plt.xlabel('Steps')\n",
    "    plt.ylabel('Position')"
   ]
  },
  {
   "cell_type": "code",
   "execution_count": 48,
   "metadata": {
    "collapsed": false
   },
   "outputs": [
    {
     "data": {
      "image/png": "[encoded data removed]",
      "text/plain": [
       "<matplotlib.figure.Figure at 0x1083ba5f8>"
      ]
     },
     "metadata": {},
     "output_type": "display_data"
    }
   ],
   "source": [
    "n_random_walks(3,200)"
   ]
  },
  {
   "cell_type": "code",
   "execution_count": 49,
   "metadata": {
    "collapsed": false
   },
   "outputs": [
    {
     "data": {
      "image/png": "[encoded data removed]",
      "text/plain": [
       "<matplotlib.figure.Figure at 0x1084919e8>"
      ]
     },
     "metadata": {},
     "output_type": "display_data"
    }
   ],
   "source": [
    "n_random_walks(5,1000)"
   ]
  },
  {
   "cell_type": "markdown",
   "metadata": {},
   "source": [
    "## Exercises"
   ]
  },
  {
   "cell_type": "markdown",
   "metadata": {},
   "source": [
    "**Exercise 1.** Generate a NumPy array with 3 rows and 8 columns with entries sampled uniformly from the closed interval $[-5,5]$ and compute:\n",
    "\n",
    "1. The cumulative sum of all the entries\n",
    "2. The cumulative product down the columns\n",
    "3. The minimum value in each row\n",
    "4. The average value of each column"
   ]
  },
  {
   "cell_type": "markdown",
   "metadata": {},
   "source": [
    "**Exercise 2.** Define a function called `exp_partial` which takes a real number $a$ and a positive integer $N$ and returns the the $N$th partial sum of the Maclaurin series of $e^x$ evaluated at $x=a$:\n",
    "\n",
    "$$\n",
    "\\sum_{n=0}^N \\frac{a^n}{n!}\n",
    "$$"
   ]
  },
  {
   "cell_type": "markdown",
   "metadata": {},
   "source": [
    "**Exercise 3.** Use the NumPy function `np.randint` and the array method `.sum` to define a function called `roll_dice` which takes integer inputs `num_dice` and `num_rolls` and returns a NumPy array of length `num_rolls` which simulates `num_rolls` many rolls of `num_dice` may dice."
   ]
  },
  {
   "cell_type": "markdown",
   "metadata": {},
   "source": [
    "**Exercise 4.** Modify the function `roll_dice` from the previous exercise to write a function called `plot_rolls` which plots a histogram of `num_rolls` many rolls of `num_dice` many dice. (See the cell below for a \"roll of a pair of dice\".) For example, `plot_rolls(2,100)` plots the histogram representing 100 rolls of 2 dice. The result should show 7 as the most frequent roll, and 2 and 12 as the most infrequent. See the matplotlib documentation for [hist](http://matplotlib.org/api/pyplot_api.html#matplotlib.pyplot.hist)."
   ]
  },
  {
   "cell_type": "code",
   "execution_count": 50,
   "metadata": {
    "collapsed": false
   },
   "outputs": [
    {
     "data": {
      "text/plain": [
       "8"
      ]
     },
     "execution_count": 50,
     "metadata": {},
     "output_type": "execute_result"
    }
   ],
   "source": [
    "# A roll of a pair of dice\n",
    "np.random.randint(1,7,2).sum()"
   ]
  },
  {
   "cell_type": "markdown",
   "metadata": {},
   "source": [
    "**Exercise 5.** Write a function called `ternary_random_walk` which takes a single input `num_steps` and plots a random walk with `num_steps` many random steps sampled uniformly from the set $\\{ -1,0,1\\}$."
   ]
  },
  {
   "cell_type": "markdown",
   "metadata": {},
   "source": [
    "**Exercise 6.** Write a function called `custom_random_walk` which takes an integer `num_steps` and a list `step_range`\n",
    "and plots a random walk with `num_steps` many random steps sampled uniformly from the set `step_range`. For example, calling the function `ternary_random_walk(100)` is the same as calling the function `custom_random_walk(100,[-1,0,1])`."
   ]
  }
 ],
 "metadata": {
  "kernelspec": {
   "display_name": "Python 3",
   "language": "python",
   "name": "python3"
  },
  "language_info": {
   "codemirror_mode": {
    "name": "ipython",
    "version": 3
   },
   "file_extension": ".py",
   "mimetype": "text/x-python",
   "name": "python",
   "nbconvert_exporter": "python",
   "pygments_lexer": "ipython3",
   "version": "3.4.3"
  }
 },
 "nbformat": 4,
 "nbformat_minor": 0
}
