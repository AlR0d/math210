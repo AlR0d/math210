{
 "cells": [
  {
   "cell_type": "markdown",
   "metadata": {},
   "source": [
    "**IMPORTANT:** Make sure the kernel is set to Python 3\n",
    "\n",
    "---\n",
    "\n",
    "# MATH 210 Introduction to Mathematical Computing\n",
    "\n",
    "## January 25, 2016\n",
    "\n",
    "Today's Agenda:\n",
    "\n",
    "1. More List Comprehensions\n",
    "2. Modules and Packages\n",
    "    * Example: Create our own Number Theory module\n",
    "\n",
    "See the Python 3 tutorial for more information about [modules](https://docs.python.org/3/tutorial/modules.html) and [packages](https://docs.python.org/3/tutorial/modules.html#packages).\n",
    "\n",
    "*Note: The original plan for the week was to do examples in combinatorics, sorting algorithms and do an example involving the general definition of the determinant of a matrix. However, we need to move on to the scientific somputing packages NumPy, SciPy, matplotlib and pandas.*"
   ]
  },
  {
   "cell_type": "markdown",
   "metadata": {},
   "source": [
    "## 1. More List Comprehensions\n",
    "\n",
    "A list comprehension is Python's simple syntax for creating lists. For example, we can easily construct a list of squares:"
   ]
  },
  {
   "cell_type": "code",
   "execution_count": 1,
   "metadata": {
    "collapsed": false
   },
   "outputs": [
    {
     "data": {
      "text/plain": [
       "[1, 4, 9, 16, 25, 36, 49, 64, 81, 100]"
      ]
     },
     "execution_count": 1,
     "metadata": {},
     "output_type": "execute_result"
    }
   ],
   "source": [
    "[ n**2 for n in range(1,11) ]"
   ]
  },
  {
   "cell_type": "markdown",
   "metadata": {},
   "source": [
    "We can use an `if` statement in a list comprehension. For example, we can create the list of divisors of an integer $N$:"
   ]
  },
  {
   "cell_type": "code",
   "execution_count": 2,
   "metadata": {
    "collapsed": false
   },
   "outputs": [
    {
     "data": {
      "text/plain": [
       "[1, 2, 3, 4, 6, 7, 9, 12, 14, 18, 21, 28, 36, 42, 63, 84, 126, 252]"
      ]
     },
     "execution_count": 2,
     "metadata": {},
     "output_type": "execute_result"
    }
   ],
   "source": [
    "N = 252\n",
    "[ divisor for divisor in range(1,N+1) if N % divisor == 0 ]"
   ]
  },
  {
   "cell_type": "markdown",
   "metadata": {},
   "source": [
    "We can use more than one `for` loop in a list comprehension. For example, let's create the list of all permutations of $\\{ 1,2,3 \\}$:"
   ]
  },
  {
   "cell_type": "code",
   "execution_count": 3,
   "metadata": {
    "collapsed": false
   },
   "outputs": [
    {
     "data": {
      "text/plain": [
       "[[1, 2, 3], [1, 3, 2], [2, 1, 3], [2, 3, 1], [3, 1, 2], [3, 2, 1]]"
      ]
     },
     "execution_count": 3,
     "metadata": {},
     "output_type": "execute_result"
    }
   ],
   "source": [
    "[ [a,b,c] for a in range(1,4) for b in range(1,4) for c in range(1,4) if (a != b and b != c and a != c) ]"
   ]
  },
  {
   "cell_type": "markdown",
   "metadata": {},
   "source": [
    "The `for` loops are executed from left to right therefore, in the example above, b is set to 1 first and then b and then c."
   ]
  },
  {
   "cell_type": "markdown",
   "metadata": {},
   "source": [
    "Let's construct the list triples $[a,b,a^2+b^2]$ to find all sums of squares $a^2 + b^2$ for $1 \\leq a \\leq b \\leq 5$. Note that if we loop variable `a` from `1` to `b`, we have to set `b` first and so the loop for `b` is written first."
   ]
  },
  {
   "cell_type": "code",
   "execution_count": 4,
   "metadata": {
    "collapsed": false
   },
   "outputs": [
    {
     "data": {
      "text/plain": [
       "[[1, 1, 2],\n",
       " [1, 2, 5],\n",
       " [2, 2, 8],\n",
       " [1, 3, 10],\n",
       " [2, 3, 13],\n",
       " [3, 3, 18],\n",
       " [1, 4, 17],\n",
       " [2, 4, 20],\n",
       " [3, 4, 25],\n",
       " [4, 4, 32],\n",
       " [1, 5, 26],\n",
       " [2, 5, 29],\n",
       " [3, 5, 34],\n",
       " [4, 5, 41],\n",
       " [5, 5, 50]]"
      ]
     },
     "execution_count": 4,
     "metadata": {},
     "output_type": "execute_result"
    }
   ],
   "source": [
    "[ [a,b,a**2+b**2] for b in range(1,6) for a in range(1,b+1) ]"
   ]
  },
  {
   "cell_type": "markdown",
   "metadata": {},
   "source": [
    "We can write nested list comprehensions. For example, let's create the list of lists of divisors for integers $n \\leq 20$:"
   ]
  },
  {
   "cell_type": "code",
   "execution_count": 5,
   "metadata": {
    "collapsed": false
   },
   "outputs": [
    {
     "data": {
      "text/plain": [
       "[[1],\n",
       " [1, 2],\n",
       " [1, 3],\n",
       " [1, 2, 4],\n",
       " [1, 5],\n",
       " [1, 2, 3, 6],\n",
       " [1, 7],\n",
       " [1, 2, 4, 8],\n",
       " [1, 3, 9],\n",
       " [1, 2, 5, 10],\n",
       " [1, 11],\n",
       " [1, 2, 3, 4, 6, 12],\n",
       " [1, 13],\n",
       " [1, 2, 7, 14],\n",
       " [1, 3, 5, 15],\n",
       " [1, 2, 4, 8, 16],\n",
       " [1, 17],\n",
       " [1, 2, 3, 6, 9, 18],\n",
       " [1, 19],\n",
       " [1, 2, 4, 5, 10, 20]]"
      ]
     },
     "execution_count": 5,
     "metadata": {},
     "output_type": "execute_result"
    }
   ],
   "source": [
    "[ [ divisor for divisor in range(1,n+1) if n % divisor == 0 ] for n in range(1,21) ]"
   ]
  },
  {
   "cell_type": "markdown",
   "metadata": {},
   "source": [
    "## 2. Modules and Packages\n",
    "\n",
    "We have been using some of the same functions over and over again. For example, we have `is_prime` to test if a postive integer is prime and `divisors` to return the list of divisors of a positive integer. Instead of re-writing these functions (or copying and pasting them) in every new notebook, we can write a Python module (and collect modules into packages) to store our functions for us to import into future notebooks. See the Python 3 tutorial for more about [modules](https://docs.python.org/3/tutorial/modules.html) and [packages](https://docs.python.org/3/tutorial/modules.html#packages).\n",
    "\n",
    "A Python **module** is a text file (with file extension `.py`) containing Python code including functions definitions, variables, et cetera.\n",
    "\n",
    "The built-in function `dir` lists the names that a module defines.\n",
    "\n",
    "Finally, a **package** is a collection of modules organzed under a single name. For example, we will be using the following packages:\n",
    "\n",
    "* NumPy\n",
    "* Matplotlib\n",
    "* SciPy\n",
    "* pandas\n",
    "\n",
    "And each of these packages contain subpackages and modules filled with lots of tools for scientific computing."
   ]
  },
  {
   "cell_type": "markdown",
   "metadata": {},
   "source": [
    "### Example: Create our own number theory package\n",
    "\n",
    "Create a new text file called `number_theory.py` (note the extension `.py`) and save it to the **same directory as this notebook**. In the new file `number_theory.py`, define the functions:\n",
    "\n",
    "* is_prime\n",
    "* primes_up_to\n",
    "* primes_interval\n",
    "* divisors\n",
    "* prime_divisors\n",
    "* twin_primes\n",
    "* twin_primes_interval\n",
    "\n",
    "To access our module `number_theory`, we use the `import` command. And if we want to import the module with a shorter name, such as `nt`, we write `import number_theory as nt`."
   ]
  },
  {
   "cell_type": "code",
   "execution_count": 6,
   "metadata": {
    "collapsed": false
   },
   "outputs": [],
   "source": [
    "import number_theory as nt"
   ]
  },
  {
   "cell_type": "code",
   "execution_count": 7,
   "metadata": {
    "collapsed": false
   },
   "outputs": [
    {
     "data": {
      "text/plain": [
       "True"
      ]
     },
     "execution_count": 7,
     "metadata": {},
     "output_type": "execute_result"
    }
   ],
   "source": [
    "nt.is_prime(16193)"
   ]
  },
  {
   "cell_type": "code",
   "execution_count": 8,
   "metadata": {
    "collapsed": false
   },
   "outputs": [
    {
     "data": {
      "text/plain": [
       "[2, 3, 5, 7, 11, 13, 17, 19, 23, 29, 31, 37, 41, 43, 47, 53, 59, 61, 67]"
      ]
     },
     "execution_count": 8,
     "metadata": {},
     "output_type": "execute_result"
    }
   ],
   "source": [
    "nt.primes_up_to(70)"
   ]
  },
  {
   "cell_type": "code",
   "execution_count": 9,
   "metadata": {
    "collapsed": false
   },
   "outputs": [
    {
     "data": {
      "text/plain": [
       "[2003,\n",
       " 2011,\n",
       " 2017,\n",
       " 2027,\n",
       " 2029,\n",
       " 2039,\n",
       " 2053,\n",
       " 2063,\n",
       " 2069,\n",
       " 2081,\n",
       " 2083,\n",
       " 2087,\n",
       " 2089,\n",
       " 2099]"
      ]
     },
     "execution_count": 9,
     "metadata": {},
     "output_type": "execute_result"
    }
   ],
   "source": [
    "nt.primes_interval(2000,2100)"
   ]
  },
  {
   "cell_type": "code",
   "execution_count": 10,
   "metadata": {
    "collapsed": false
   },
   "outputs": [
    {
     "data": {
      "text/plain": [
       "[[11, 13], [17, 19], [29, 31], [41, 43]]"
      ]
     },
     "execution_count": 10,
     "metadata": {},
     "output_type": "execute_result"
    }
   ],
   "source": [
    "nt.twin_primes_interval(10,43)"
   ]
  },
  {
   "cell_type": "code",
   "execution_count": 11,
   "metadata": {
    "collapsed": false
   },
   "outputs": [
    {
     "data": {
      "text/plain": [
       "[[3119, 3121], [3167, 3169]]"
      ]
     },
     "execution_count": 11,
     "metadata": {},
     "output_type": "execute_result"
    }
   ],
   "source": [
    "nt.twin_primes_interval(3000,3200)"
   ]
  },
  {
   "cell_type": "code",
   "execution_count": 13,
   "metadata": {
    "collapsed": false
   },
   "outputs": [
    {
     "data": {
      "text/plain": [
       "[2, 5]"
      ]
     },
     "execution_count": 13,
     "metadata": {},
     "output_type": "execute_result"
    }
   ],
   "source": [
    "nt.prime_divisors(100)"
   ]
  },
  {
   "cell_type": "code",
   "execution_count": 14,
   "metadata": {
    "collapsed": false
   },
   "outputs": [
    {
     "data": {
      "text/plain": [
       "['__builtins__',\n",
       " '__cached__',\n",
       " '__doc__',\n",
       " '__file__',\n",
       " '__loader__',\n",
       " '__name__',\n",
       " '__package__',\n",
       " '__spec__',\n",
       " 'divisors',\n",
       " 'is_prime',\n",
       " 'prime_divisors',\n",
       " 'primes_interval',\n",
       " 'primes_up_to',\n",
       " 'twin_primes',\n",
       " 'twin_primes_interval']"
      ]
     },
     "execution_count": 14,
     "metadata": {},
     "output_type": "execute_result"
    }
   ],
   "source": [
    "dir(nt)"
   ]
  },
  {
   "cell_type": "code",
   "execution_count": 15,
   "metadata": {
    "collapsed": true
   },
   "outputs": [],
   "source": [
    "nt.is_prime?"
   ]
  }
 ],
 "metadata": {
  "kernelspec": {
   "display_name": "Python 3",
   "language": "python",
   "name": "python3"
  },
  "language_info": {
   "codemirror_mode": {
    "name": "ipython",
    "version": 3
   },
   "file_extension": ".py",
   "mimetype": "text/x-python",
   "name": "python",
   "nbconvert_exporter": "python",
   "pygments_lexer": "ipython3",
   "version": "3.4.3"
  }
 },
 "nbformat": 4,
 "nbformat_minor": 0
}
