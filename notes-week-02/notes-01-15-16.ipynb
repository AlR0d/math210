{
 "cells": [
  {
   "cell_type": "markdown",
   "metadata": {},
   "source": [
    "**IMPORTANT:** Make sure the kernel is set to Python 3\n",
    "\n",
    "---\n",
    "\n",
    "# MATH 210 Introduction to Mathematical Computing\n",
    "\n",
    "## January 15, 2015\n",
    "\n",
    "Today's Agenda:\n",
    "\n",
    "1. More about lists and strings\n",
    "    * Indexing and slicing lists and strings\n",
    "    * Compute the length of a list or string with `len`\n",
    "    * Changing and appending items in a list (but NOT a string)\n",
    "2. `for` loops\n",
    "3. Functions\n",
    "4. Exercises\n",
    "\n",
    "Check out the [Python 3 tutorial](https://docs.python.org/3/tutorial/index.html) for more information. In particular, check out the [documentation](https://docs.python.org/3/library/functions.html) for the list of built-in Python functions including some we have already used: `print()`, `range()`, `len()`, `type()`, `int()`, `float()`, `list()` and `str()`."
   ]
  },
  {
   "cell_type": "markdown",
   "metadata": {},
   "source": [
    "## 1. More about lists and strings"
   ]
  },
  {
   "cell_type": "markdown",
   "metadata": {},
   "source": [
    "### Indexing and slicing lists and strings\n",
    "\n",
    "We can access an item in a list by its index. Notice a couple of features:\n",
    "\n",
    "* a list (or string) starts at index 0\n",
    "* use negative indices to count backwards from the last item"
   ]
  },
  {
   "cell_type": "code",
   "execution_count": 1,
   "metadata": {
    "collapsed": false
   },
   "outputs": [
    {
     "name": "stdout",
     "output_type": "stream",
     "text": [
      "1\n",
      "16\n",
      "49\n",
      "25\n"
     ]
    }
   ],
   "source": [
    "squares = [1,4,9,16,25,36,49]\n",
    "print(squares[0])\n",
    "print(squares[3])\n",
    "print(squares[-1])\n",
    "print(squares[-3])"
   ]
  },
  {
   "cell_type": "markdown",
   "metadata": {},
   "source": [
    "We can access a sublist by slicing (see the [section](https://docs.python.org/3/tutorial/introduction.html#lists) about lists in the Python 3 tutorial):"
   ]
  },
  {
   "cell_type": "code",
   "execution_count": 2,
   "metadata": {
    "collapsed": false
   },
   "outputs": [
    {
     "name": "stdout",
     "output_type": "stream",
     "text": [
      "[4, 9, 16]\n",
      "[1, 9, 25]\n",
      "[1, 4]\n",
      "[9, 16, 25, 36, 49]\n"
     ]
    }
   ],
   "source": [
    "print(squares[1:4])\n",
    "print(squares[0:6:2])\n",
    "print(squares[:2])\n",
    "print(squares[2:])"
   ]
  },
  {
   "cell_type": "markdown",
   "metadata": {},
   "source": [
    "And the same indexing and slicing works for strings:"
   ]
  },
  {
   "cell_type": "code",
   "execution_count": 3,
   "metadata": {
    "collapsed": false
   },
   "outputs": [
    {
     "name": "stdout",
     "output_type": "stream",
     "text": [
      "i\n",
      "s\n",
      "trick\n",
      "tikW\n"
     ]
    }
   ],
   "source": [
    "name = 'Patrick Walls'\n",
    "print(name[4])\n",
    "print(name[-1])\n",
    "print(name[2:7])\n",
    "print(name[2:10:2])"
   ]
  },
  {
   "cell_type": "markdown",
   "metadata": {},
   "source": [
    "### The `len` function\n",
    "\n",
    "The `len` function simply returns the length of a list or string!"
   ]
  },
  {
   "cell_type": "code",
   "execution_count": 4,
   "metadata": {
    "collapsed": false
   },
   "outputs": [
    {
     "data": {
      "text/plain": [
       "10"
      ]
     },
     "execution_count": 4,
     "metadata": {},
     "output_type": "execute_result"
    }
   ],
   "source": [
    "len([0,1,2,3,4,5,6,7,8,9])"
   ]
  },
  {
   "cell_type": "code",
   "execution_count": 5,
   "metadata": {
    "collapsed": false
   },
   "outputs": [
    {
     "data": {
      "text/plain": [
       "26"
      ]
     },
     "execution_count": 5,
     "metadata": {},
     "output_type": "execute_result"
    }
   ],
   "source": [
    "len('abcdefghijklmnopqrstuvwxyz')"
   ]
  },
  {
   "cell_type": "markdown",
   "metadata": {},
   "source": [
    "Check out the list of built-in Python fucntions in the [documentation](https://docs.python.org/3/library/functions.html)."
   ]
  },
  {
   "cell_type": "markdown",
   "metadata": {},
   "source": [
    "### Manipulating lists (but NOT strings)"
   ]
  },
  {
   "cell_type": "markdown",
   "metadata": {},
   "source": [
    "We can reassign an item in a list:"
   ]
  },
  {
   "cell_type": "code",
   "execution_count": 6,
   "metadata": {
    "collapsed": false
   },
   "outputs": [
    {
     "name": "stdout",
     "output_type": "stream",
     "text": [
      "[1, 4, 9, 16, 25, 36, 49]\n",
      "[1, 'four', 9, 16, 25, 36, 49]\n"
     ]
    }
   ],
   "source": [
    "squares = [1,4,9,16,25,36,49]\n",
    "print(squares)\n",
    "squares[1] = 'four'\n",
    "print(squares)"
   ]
  },
  {
   "cell_type": "markdown",
   "metadata": {},
   "source": [
    "We can also append an item to a list using the **append method**:"
   ]
  },
  {
   "cell_type": "code",
   "execution_count": 7,
   "metadata": {
    "collapsed": false
   },
   "outputs": [
    {
     "name": "stdout",
     "output_type": "stream",
     "text": [
      "[1, 'four', 9, 16, 25, 36, 49, 64]\n"
     ]
    }
   ],
   "source": [
    "squares.append(64)\n",
    "print(squares)"
   ]
  },
  {
   "cell_type": "markdown",
   "metadata": {},
   "source": [
    "We will talk more about **methods** later in the course! For now, you can read about methods in object-oriented programming on [Wikipedia](https://en.wikipedia.org/wiki/Method_%28computer_programming%29)."
   ]
  },
  {
   "cell_type": "markdown",
   "metadata": {},
   "source": [
    "Notice what happens when we try to change a character in a string:"
   ]
  },
  {
   "cell_type": "code",
   "execution_count": 8,
   "metadata": {
    "collapsed": false
   },
   "outputs": [
    {
     "name": "stdout",
     "output_type": "stream",
     "text": [
      "mathematics\n"
     ]
    }
   ],
   "source": [
    "word = 'mathematics'\n",
    "print(word)"
   ]
  },
  {
   "cell_type": "code",
   "execution_count": 9,
   "metadata": {
    "collapsed": false
   },
   "outputs": [
    {
     "ename": "TypeError",
     "evalue": "'str' object does not support item assignment",
     "output_type": "error",
     "traceback": [
      "\u001b[0;31m---------------------------------------------------------------------------\u001b[0m",
      "\u001b[0;31mTypeError\u001b[0m                                 Traceback (most recent call last)",
      "\u001b[0;32m<ipython-input-9-1701baae994c>\u001b[0m in \u001b[0;36m<module>\u001b[0;34m()\u001b[0m\n\u001b[0;32m----> 1\u001b[0;31m \u001b[0mword\u001b[0m\u001b[0;34m[\u001b[0m\u001b[0;36m0\u001b[0m\u001b[0;34m]\u001b[0m \u001b[0;34m=\u001b[0m \u001b[0;34m'M'\u001b[0m\u001b[0;34m\u001b[0m\u001b[0m\n\u001b[0m",
      "\u001b[0;31mTypeError\u001b[0m: 'str' object does not support item assignment"
     ]
    }
   ],
   "source": [
    "word[0] = 'M'"
   ]
  },
  {
   "cell_type": "markdown",
   "metadata": {},
   "source": [
    "Strings are [immutable](https://docs.python.org/3/glossary.html#term-immutable)!"
   ]
  },
  {
   "cell_type": "markdown",
   "metadata": {},
   "source": [
    "## 2. `for` Loops"
   ]
  },
  {
   "cell_type": "markdown",
   "metadata": {},
   "source": [
    "To write a `for` loop, we use the syntax:\n",
    "\n",
    "```python\n",
    "for item in iterable:\n",
    "    Write Python code here\n",
    "    Write Python code here\n",
    "    Write Python code here\n",
    "```"
   ]
  },
  {
   "cell_type": "markdown",
   "metadata": {},
   "source": [
    "Important notes:\n",
    "\n",
    "1. An **iterable** is any kind of Python object which looks like a sequence such as a **list** or a **string** (or a generator like `range(0,10)`).\n",
    "2. **Indentation is very important**. All the lines after the `for` statement are indented the same standard 4 spaces and therefore form the block of code which is executed for each iteration through the loop."
   ]
  },
  {
   "cell_type": "code",
   "execution_count": 10,
   "metadata": {
    "collapsed": false
   },
   "outputs": [
    {
     "name": "stdout",
     "output_type": "stream",
     "text": [
      "The square of 1 is 1\n",
      "The square of 2 is 4\n",
      "The square of 3 is 9\n",
      "The square of 4 is 16\n",
      "The square of 5 is 25\n",
      "The square of 6 is 36\n",
      "The square of 7 is 49\n",
      "The square of 8 is 64\n",
      "The square of 9 is 81\n"
     ]
    }
   ],
   "source": [
    "for number in [1,2,3,4,5,6,7,8,9]:\n",
    "    square = number ** 2\n",
    "    print('The square of', number, 'is', square)"
   ]
  },
  {
   "cell_type": "markdown",
   "metadata": {},
   "source": [
    "We can also use the `range` function:"
   ]
  },
  {
   "cell_type": "code",
   "execution_count": 11,
   "metadata": {
    "collapsed": false
   },
   "outputs": [
    {
     "name": "stdout",
     "output_type": "stream",
     "text": [
      "The square of 0 is 0\n",
      "The square of 1 is 1\n",
      "The square of 2 is 4\n",
      "The square of 3 is 9\n",
      "The square of 4 is 16\n",
      "The square of 5 is 25\n",
      "The square of 6 is 36\n",
      "The square of 7 is 49\n",
      "The square of 8 is 64\n",
      "The square of 9 is 81\n"
     ]
    }
   ],
   "source": [
    "for number in range(0,10):\n",
    "    square = number ** 2\n",
    "    print('The square of', number, 'is', square)"
   ]
  },
  {
   "cell_type": "code",
   "execution_count": 12,
   "metadata": {
    "collapsed": false
   },
   "outputs": [
    {
     "name": "stdout",
     "output_type": "stream",
     "text": [
      "Give me a P!\n",
      "Give me a a!\n",
      "Give me a t!\n",
      "Give me a r!\n",
      "Give me a i!\n",
      "Give me a c!\n",
      "Give me a k!\n",
      "What does that spell? Patrick!\n"
     ]
    }
   ],
   "source": [
    "my_name = 'Patrick'\n",
    "for letter in my_name:\n",
    "    print('Give me a', letter + '!')\n",
    "print('What does that spell?', my_name + '!')"
   ]
  },
  {
   "cell_type": "code",
   "execution_count": 13,
   "metadata": {
    "collapsed": false
   },
   "outputs": [
    {
     "name": "stdout",
     "output_type": "stream",
     "text": [
      "Hey!\n",
      "3.14159\n",
      "['a', 1]\n"
     ]
    }
   ],
   "source": [
    "my_list = ['Hey!',3.14159,['a',1]]\n",
    "for item in my_list:\n",
    "    print(item)"
   ]
  },
  {
   "cell_type": "markdown",
   "metadata": {},
   "source": [
    "**Exercise 1.** Write a `for` loop which tests if an integer $n$ is divisible by any integer $m \\leq \\sqrt{n}$."
   ]
  },
  {
   "cell_type": "code",
   "execution_count": 14,
   "metadata": {
    "collapsed": false
   },
   "outputs": [
    {
     "name": "stdout",
     "output_type": "stream",
     "text": [
      "121 is divisible by 1\n",
      "121 is not divisible by 2\n",
      "121 is not divisible by 3\n",
      "121 is not divisible by 4\n",
      "121 is not divisible by 5\n",
      "121 is not divisible by 6\n",
      "121 is not divisible by 7\n",
      "121 is not divisible by 8\n",
      "121 is not divisible by 9\n",
      "121 is not divisible by 10\n",
      "121 is divisible by 11\n"
     ]
    }
   ],
   "source": [
    "n = 121\n",
    "N = int(n**0.5)\n",
    "for m in range(1,N+1):\n",
    "    if (n % m == 0):\n",
    "        print(n,'is divisible by',m)\n",
    "    else:\n",
    "        print(n,'is not divisible by',m)"
   ]
  },
  {
   "cell_type": "markdown",
   "metadata": {},
   "source": [
    "**Exercise 2.** The sequence of Fibonacci numbers 1, 1, 2, 3, 5, etc. is defined by the recursive formula\n",
    "$$\n",
    "\\begin{align*}\n",
    "x_0 &= 1 \\\\\n",
    "x_1 &= 1 \\\\\n",
    "x_n &= x_{n-1} + x_{n-2}\n",
    "\\end{align*}\n",
    "$$\n",
    "Let's say that the first Fibonacci number is 1 and the second is 2 (so that we don't count 1 twice as the first and second Fibonacci number). Then the first 5 Fibonacci numbers are: 1, 2, 3, 5, and 8. Given an integer $N$, write a `for` loop which constructs a Python list of the first $N$ Fibonacci numbers. What is the 100th Fibonacci number?"
   ]
  },
  {
   "cell_type": "code",
   "execution_count": 15,
   "metadata": {
    "collapsed": false
   },
   "outputs": [
    {
     "name": "stdout",
     "output_type": "stream",
     "text": [
      "573147844013817084101\n"
     ]
    }
   ],
   "source": [
    "N=101\n",
    "fib_list = [1,1]\n",
    "for n in range(2,N+1):\n",
    "    fib_list.append( fib_list[n-1] + fib_list[n-2] )\n",
    "print(fib_list[100])"
   ]
  },
  {
   "cell_type": "markdown",
   "metadata": {},
   "source": [
    "Notice that we don't actually need to construct the complete list of Fibonacci numbers to find the 100th Fibonacci number. We could have just done the following:"
   ]
  },
  {
   "cell_type": "code",
   "execution_count": 16,
   "metadata": {
    "collapsed": false
   },
   "outputs": [
    {
     "name": "stdout",
     "output_type": "stream",
     "text": [
      "573147844013817084101\n"
     ]
    }
   ],
   "source": [
    "N = 100\n",
    "fib_n_minus_1 = 1\n",
    "fib_n_minus_2 = 1\n",
    "for n in range(2,N+1):\n",
    "    # Calculate the nth Fibonacci number\n",
    "    fib_n = fib_n_minus_1 + fib_n_minus_2\n",
    "    # Redefine the two previous Fibonacci numbers for the next iteration of the loop\n",
    "    fib_n_minus_2 = fib_n_minus_1\n",
    "    fib_n_minus_1 = fib_n\n",
    "print(fib_n)"
   ]
  },
  {
   "cell_type": "markdown",
   "metadata": {},
   "source": [
    "**Exercise 3.** Given a string `s`, write a `for` loop which counts the number of vowels in `s`. Use the operator `in`. For example:"
   ]
  },
  {
   "cell_type": "code",
   "execution_count": 17,
   "metadata": {
    "collapsed": false
   },
   "outputs": [
    {
     "data": {
      "text/plain": [
       "True"
      ]
     },
     "execution_count": 17,
     "metadata": {},
     "output_type": "execute_result"
    }
   ],
   "source": [
    "'a' in ['a','b','c']"
   ]
  },
  {
   "cell_type": "markdown",
   "metadata": {},
   "source": [
    "**Exercise 4.** Create a list (in increasing order) of all the numbers less than 2000 which are multiples of either 7 or 8."
   ]
  },
  {
   "cell_type": "markdown",
   "metadata": {},
   "source": [
    "**Exercise 5.** A [Pythagorean triple](https://en.wikipedia.org/wiki/Pythagorean_triple) consists of three integers $a$, $b$ and $c$ which satisfy $a^2 + b^2 = c^2$. Given a number $N$, write a loop which constructs the list of all the Pythagorean triples with $c \\leq N$."
   ]
  },
  {
   "cell_type": "markdown",
   "metadata": {},
   "source": [
    "## 3. Functions"
   ]
  },
  {
   "cell_type": "markdown",
   "metadata": {},
   "source": [
    "To define a function, we use the syntax:\n",
    "\n",
    "```python\n",
    "def function_name(x,y,z):\n",
    "    Python code to do calculations\n",
    "    return Some result\n",
    "```"
   ]
  },
  {
   "cell_type": "markdown",
   "metadata": {},
   "source": [
    "For example, let's define a function which takes one numerical input $x$ and return the value $x^2$."
   ]
  },
  {
   "cell_type": "code",
   "execution_count": 18,
   "metadata": {
    "collapsed": true
   },
   "outputs": [],
   "source": [
    "def squared(x):\n",
    "    return x ** 2"
   ]
  },
  {
   "cell_type": "markdown",
   "metadata": {},
   "source": [
    "And now let's call our function `squared`:"
   ]
  },
  {
   "cell_type": "code",
   "execution_count": 19,
   "metadata": {
    "collapsed": false
   },
   "outputs": [
    {
     "name": "stdout",
     "output_type": "stream",
     "text": [
      "4\n",
      "169\n",
      "60025\n"
     ]
    }
   ],
   "source": [
    "print(squared(2))\n",
    "print(squared(13))\n",
    "print(squared(245))"
   ]
  },
  {
   "cell_type": "markdown",
   "metadata": {},
   "source": [
    "Now let's define a function which takes two numeical inputs $x$ and $y$ and returns the mean $(x+y)/2$."
   ]
  },
  {
   "cell_type": "code",
   "execution_count": 20,
   "metadata": {
    "collapsed": true
   },
   "outputs": [],
   "source": [
    "def mean(x,y):\n",
    "    return (x+y)/2"
   ]
  },
  {
   "cell_type": "code",
   "execution_count": 21,
   "metadata": {
    "collapsed": false
   },
   "outputs": [
    {
     "name": "stdout",
     "output_type": "stream",
     "text": [
      "2.5\n",
      "1527.5\n"
     ]
    }
   ],
   "source": [
    "print(mean(2,3))\n",
    "print(mean(2023,1032))"
   ]
  },
  {
   "cell_type": "markdown",
   "metadata": {},
   "source": [
    "Let's define a function which takes a string (or a list) and returns the last letter in the string (or the last item in the list)."
   ]
  },
  {
   "cell_type": "code",
   "execution_count": 22,
   "metadata": {
    "collapsed": true
   },
   "outputs": [],
   "source": [
    "def last(word):\n",
    "    return word[-1]"
   ]
  },
  {
   "cell_type": "code",
   "execution_count": 23,
   "metadata": {
    "collapsed": false
   },
   "outputs": [
    {
     "data": {
      "text/plain": [
       "'s'"
      ]
     },
     "execution_count": 23,
     "metadata": {},
     "output_type": "execute_result"
    }
   ],
   "source": [
    "last('Mathematics')"
   ]
  },
  {
   "cell_type": "code",
   "execution_count": 24,
   "metadata": {
    "collapsed": false
   },
   "outputs": [
    {
     "data": {
      "text/plain": [
       "'210'"
      ]
     },
     "execution_count": 24,
     "metadata": {},
     "output_type": "execute_result"
    }
   ],
   "source": [
    "last(['Math','210'])"
   ]
  },
  {
   "cell_type": "markdown",
   "metadata": {},
   "source": [
    "**Exercise 6.** Write a function called `letter_count` which takes two string inputs, `word` and `letter`, and returns the number of times the letter appears in the word."
   ]
  },
  {
   "cell_type": "markdown",
   "metadata": {},
   "source": [
    "**Exercise 7.** Write a function called `det` which takes a list of 4 numbers `[a,b,c,d]` which represents the matrix $\\begin{bmatrix} a & b \\\\ c & d \\end{bmatrix}$ and returns the determinant."
   ]
  },
  {
   "cell_type": "markdown",
   "metadata": {},
   "source": [
    "**Exercise 8.** Write a function called `factorial` which takes an input $n$ and returns the factorial $n!$. (Do not import the `math` package or any other Python package.)"
   ]
  },
  {
   "cell_type": "markdown",
   "metadata": {},
   "source": [
    "## 4. Exercises"
   ]
  },
  {
   "cell_type": "markdown",
   "metadata": {},
   "source": [
    "**Exercise 9.** Write a function called `is_prime` which takes an integer $n$ and returns the Boolean value `True` if $n$ is prime and `False` if $n$ is not prime."
   ]
  },
  {
   "cell_type": "markdown",
   "metadata": {},
   "source": [
    "**Exercise 10.** Use the function `is_prime` above to find the following:\n",
    "\n",
    "1. The sum of all the primes less than 1000\n",
    "2. All the primes between 100 and 150\n",
    "3. The largest prime less than 4000"
   ]
  },
  {
   "cell_type": "markdown",
   "metadata": {},
   "source": [
    "**Exercise 11.** Use the function `is_prime` above to find the percentage of primes $p < 1000$ which are congruent to 1 modulo 4. (A number $n$ is congruent to 1 modulo 4 if the remainder of $n$ divided by 4 is 1.)"
   ]
  },
  {
   "cell_type": "markdown",
   "metadata": {},
   "source": [
    "**Exercise 12.** How many times does the letter o (uppercase or lowercase) appear in the English version of [Canadian National Anthem](http://pch.gc.ca/eng/1359402373291/1359402467746#a1.1)? (In other words, copy and paste the lyrics into your notebook as a string and write a `for` loop which iterates over the letters in the lyrics string to count the o's.)"
   ]
  },
  {
   "cell_type": "markdown",
   "metadata": {},
   "source": [
    "**Exercise 13.** A [Pythagorean triple](https://en.wikipedia.org/wiki/Pythagorean_triple) consists of three integers $a$, $b$ and $c$ which satisfy $a^2 + b^2 = c^2$. Let $N$ be a positive integer and suppose you choose positive integers $a$ and $b$ such that $0 < a,b \\leq N$. What is the probability of choosing $a$ and $b$ such that they form a Pythagorean triple?"
   ]
  },
  {
   "cell_type": "markdown",
   "metadata": {},
   "source": [
    "**Exercise 14.** A Pythagorean triple is called **primitive** if $a$, $b$ and $c$ have no common factors. Write a function which takes an input integer $N$ and returns a Python list of all the primitive Pythagorean triples with $c \\leq N$."
   ]
  },
  {
   "cell_type": "markdown",
   "metadata": {},
   "source": [
    "**Exercise 15.** The Taylor series of the function $f(x) = e^x$ is given by $$\\sum_{n=0}^{\\infty} \\frac{x^n}{n!}$$ Approximate the value of $e$ by computing the sum of the Taylor series up to $n=15$ with $x=1$ $$\\sum_{n=0}^{15} \\frac{1}{n!}$$\n",
    "(Hint: Use your factorial function from Exercise 8 above.)"
   ]
  }
 ],
 "metadata": {
  "kernelspec": {
   "display_name": "Python 3",
   "language": "python",
   "name": "python3"
  },
  "language_info": {
   "codemirror_mode": {
    "name": "ipython",
    "version": 3
   },
   "file_extension": ".py",
   "mimetype": "text/x-python",
   "name": "python",
   "nbconvert_exporter": "python",
   "pygments_lexer": "ipython3",
   "version": "3.4.3"
  }
 },
 "nbformat": 4,
 "nbformat_minor": 0
}
