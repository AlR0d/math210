{
 "cells": [
  {
   "cell_type": "markdown",
   "metadata": {},
   "source": [
    "# MATH 210 Introduction to Mathematical Computing\n",
    "\n",
    "## April 4, 2016\n",
    "\n",
    "Today's Agenda:\n",
    "\n",
    "1. Example: Vancouver Street Trees Dataset\n",
    "2. Data Wrangling: concatenating DataFrames with `.concat()` and applying a function elementwise on a column using `.map()`\n",
    "3. More Plots"
   ]
  },
  {
   "cell_type": "code",
   "execution_count": 1,
   "metadata": {
    "collapsed": true
   },
   "outputs": [],
   "source": [
    "import pandas as pd\n",
    "%matplotlib inline"
   ]
  },
  {
   "cell_type": "markdown",
   "metadata": {},
   "source": [
    "## 1. Example: Vancouver Street Tree Dataset\n",
    "\n",
    "The City of Vancouver [Open Data Catalogue](http://vancouver.ca/your-government/open-data-catalogue.aspx) is a wonderful resource of open data. Go to the [Street Trees dataset](http://data.vancouver.ca/datacatalogue/streetTrees.htm) and download the `.zip` file containing `.csv` files.\n",
    "\n",
    "When you unzip the contents, you will see 22 `.csv` files containing data about street trees in each neighborhood. The goal of this notebook is build a DataFrame containing the data from several neighbourhoods and analyze it."
   ]
  },
  {
   "cell_type": "markdown",
   "metadata": {},
   "source": [
    "## 2. Data Wrangling\n",
    "\n",
    "Data wrangling is the process of cleaning and manipulating data prior to analysis. Let's choose 5 `.csv` files of the  22 files available and put them together. In particular, let's look at the following neighbourhoods:\n",
    "\n",
    "* StreetTrees_WestPointGrey.csv\n",
    "* StreetTrees_WestEnd.csv\n",
    "* StreetTrees_ArbutusRidge.csv\n",
    "* StreetTrees_Downtown.csv\n",
    "* StreetTrees_Kitsilano.csv\n",
    "\n",
    "Let's try importing `WestPointGrey.csv`:"
   ]
  },
  {
   "cell_type": "code",
   "execution_count": 2,
   "metadata": {
    "collapsed": false
   },
   "outputs": [
    {
     "ename": "UnicodeDecodeError",
     "evalue": "'utf-8' codec can't decode byte 0x92 in position 4: invalid start byte",
     "output_type": "error",
     "traceback": [
      "\u001b[0;31m---------------------------------------------------------------------------\u001b[0m",
      "\u001b[0;31mUnicodeDecodeError\u001b[0m                        Traceback (most recent call last)",
      "\u001b[0;32m<ipython-input-2-f82b80aea677>\u001b[0m in \u001b[0;36m<module>\u001b[0;34m()\u001b[0m\n\u001b[0;32m----> 1\u001b[0;31m \u001b[0mdf\u001b[0m \u001b[0;34m=\u001b[0m \u001b[0mpd\u001b[0m\u001b[0;34m.\u001b[0m\u001b[0mread_csv\u001b[0m\u001b[0;34m(\u001b[0m\u001b[0;34m'StreetTrees_WestPointGrey.csv'\u001b[0m\u001b[0;34m)\u001b[0m\u001b[0;34m\u001b[0m\u001b[0m\n\u001b[0m",
      "\u001b[0;32m/Users/patrickwalls/anaconda/lib/python3.4/site-packages/pandas/io/parsers.py\u001b[0m in \u001b[0;36mparser_f\u001b[0;34m(filepath_or_buffer, sep, dialect, compression, doublequote, escapechar, quotechar, quoting, skipinitialspace, lineterminator, header, index_col, names, prefix, skiprows, skipfooter, skip_footer, na_values, true_values, false_values, delimiter, converters, dtype, usecols, engine, delim_whitespace, as_recarray, na_filter, compact_ints, use_unsigned, low_memory, buffer_lines, warn_bad_lines, error_bad_lines, keep_default_na, thousands, comment, decimal, parse_dates, keep_date_col, dayfirst, date_parser, memory_map, float_precision, nrows, iterator, chunksize, verbose, encoding, squeeze, mangle_dupe_cols, tupleize_cols, infer_datetime_format, skip_blank_lines)\u001b[0m\n\u001b[1;32m    496\u001b[0m                     skip_blank_lines=skip_blank_lines)\n\u001b[1;32m    497\u001b[0m \u001b[0;34m\u001b[0m\u001b[0m\n\u001b[0;32m--> 498\u001b[0;31m         \u001b[0;32mreturn\u001b[0m \u001b[0m_read\u001b[0m\u001b[0;34m(\u001b[0m\u001b[0mfilepath_or_buffer\u001b[0m\u001b[0;34m,\u001b[0m \u001b[0mkwds\u001b[0m\u001b[0;34m)\u001b[0m\u001b[0;34m\u001b[0m\u001b[0m\n\u001b[0m\u001b[1;32m    499\u001b[0m \u001b[0;34m\u001b[0m\u001b[0m\n\u001b[1;32m    500\u001b[0m     \u001b[0mparser_f\u001b[0m\u001b[0;34m.\u001b[0m\u001b[0m__name__\u001b[0m \u001b[0;34m=\u001b[0m \u001b[0mname\u001b[0m\u001b[0;34m\u001b[0m\u001b[0m\n",
      "\u001b[0;32m/Users/patrickwalls/anaconda/lib/python3.4/site-packages/pandas/io/parsers.py\u001b[0m in \u001b[0;36m_read\u001b[0;34m(filepath_or_buffer, kwds)\u001b[0m\n\u001b[1;32m    283\u001b[0m         \u001b[0;32mreturn\u001b[0m \u001b[0mparser\u001b[0m\u001b[0;34m\u001b[0m\u001b[0m\n\u001b[1;32m    284\u001b[0m \u001b[0;34m\u001b[0m\u001b[0m\n\u001b[0;32m--> 285\u001b[0;31m     \u001b[0;32mreturn\u001b[0m \u001b[0mparser\u001b[0m\u001b[0;34m.\u001b[0m\u001b[0mread\u001b[0m\u001b[0;34m(\u001b[0m\u001b[0;34m)\u001b[0m\u001b[0;34m\u001b[0m\u001b[0m\n\u001b[0m\u001b[1;32m    286\u001b[0m \u001b[0;34m\u001b[0m\u001b[0m\n\u001b[1;32m    287\u001b[0m _parser_defaults = {\n",
      "\u001b[0;32m/Users/patrickwalls/anaconda/lib/python3.4/site-packages/pandas/io/parsers.py\u001b[0m in \u001b[0;36mread\u001b[0;34m(self, nrows)\u001b[0m\n\u001b[1;32m    745\u001b[0m                 \u001b[0;32mraise\u001b[0m \u001b[0mValueError\u001b[0m\u001b[0;34m(\u001b[0m\u001b[0;34m'skip_footer not supported for iteration'\u001b[0m\u001b[0;34m)\u001b[0m\u001b[0;34m\u001b[0m\u001b[0m\n\u001b[1;32m    746\u001b[0m \u001b[0;34m\u001b[0m\u001b[0m\n\u001b[0;32m--> 747\u001b[0;31m         \u001b[0mret\u001b[0m \u001b[0;34m=\u001b[0m \u001b[0mself\u001b[0m\u001b[0;34m.\u001b[0m\u001b[0m_engine\u001b[0m\u001b[0;34m.\u001b[0m\u001b[0mread\u001b[0m\u001b[0;34m(\u001b[0m\u001b[0mnrows\u001b[0m\u001b[0;34m)\u001b[0m\u001b[0;34m\u001b[0m\u001b[0m\n\u001b[0m\u001b[1;32m    748\u001b[0m \u001b[0;34m\u001b[0m\u001b[0m\n\u001b[1;32m    749\u001b[0m         \u001b[0;32mif\u001b[0m \u001b[0mself\u001b[0m\u001b[0;34m.\u001b[0m\u001b[0moptions\u001b[0m\u001b[0;34m.\u001b[0m\u001b[0mget\u001b[0m\u001b[0;34m(\u001b[0m\u001b[0;34m'as_recarray'\u001b[0m\u001b[0;34m)\u001b[0m\u001b[0;34m:\u001b[0m\u001b[0;34m\u001b[0m\u001b[0m\n",
      "\u001b[0;32m/Users/patrickwalls/anaconda/lib/python3.4/site-packages/pandas/io/parsers.py\u001b[0m in \u001b[0;36mread\u001b[0;34m(self, nrows)\u001b[0m\n\u001b[1;32m   1195\u001b[0m     \u001b[0;32mdef\u001b[0m \u001b[0mread\u001b[0m\u001b[0;34m(\u001b[0m\u001b[0mself\u001b[0m\u001b[0;34m,\u001b[0m \u001b[0mnrows\u001b[0m\u001b[0;34m=\u001b[0m\u001b[0;32mNone\u001b[0m\u001b[0;34m)\u001b[0m\u001b[0;34m:\u001b[0m\u001b[0;34m\u001b[0m\u001b[0m\n\u001b[1;32m   1196\u001b[0m         \u001b[0;32mtry\u001b[0m\u001b[0;34m:\u001b[0m\u001b[0;34m\u001b[0m\u001b[0m\n\u001b[0;32m-> 1197\u001b[0;31m             \u001b[0mdata\u001b[0m \u001b[0;34m=\u001b[0m \u001b[0mself\u001b[0m\u001b[0;34m.\u001b[0m\u001b[0m_reader\u001b[0m\u001b[0;34m.\u001b[0m\u001b[0mread\u001b[0m\u001b[0;34m(\u001b[0m\u001b[0mnrows\u001b[0m\u001b[0;34m)\u001b[0m\u001b[0;34m\u001b[0m\u001b[0m\n\u001b[0m\u001b[1;32m   1198\u001b[0m         \u001b[0;32mexcept\u001b[0m \u001b[0mStopIteration\u001b[0m\u001b[0;34m:\u001b[0m\u001b[0;34m\u001b[0m\u001b[0m\n\u001b[1;32m   1199\u001b[0m             \u001b[0;32mif\u001b[0m \u001b[0mself\u001b[0m\u001b[0;34m.\u001b[0m\u001b[0m_first_chunk\u001b[0m\u001b[0;34m:\u001b[0m\u001b[0;34m\u001b[0m\u001b[0m\n",
      "\u001b[0;32mpandas/parser.pyx\u001b[0m in \u001b[0;36mpandas.parser.TextReader.read (pandas/parser.c:7988)\u001b[0;34m()\u001b[0m\n",
      "\u001b[0;32mpandas/parser.pyx\u001b[0m in \u001b[0;36mpandas.parser.TextReader._read_low_memory (pandas/parser.c:8244)\u001b[0;34m()\u001b[0m\n",
      "\u001b[0;32mpandas/parser.pyx\u001b[0m in \u001b[0;36mpandas.parser.TextReader._read_rows (pandas/parser.c:9261)\u001b[0;34m()\u001b[0m\n",
      "\u001b[0;32mpandas/parser.pyx\u001b[0m in \u001b[0;36mpandas.parser.TextReader._convert_column_data (pandas/parser.c:10654)\u001b[0;34m()\u001b[0m\n",
      "\u001b[0;32mpandas/parser.pyx\u001b[0m in \u001b[0;36mpandas.parser.TextReader._convert_tokens (pandas/parser.c:11540)\u001b[0;34m()\u001b[0m\n",
      "\u001b[0;32mpandas/parser.pyx\u001b[0m in \u001b[0;36mpandas.parser.TextReader._convert_with_dtype (pandas/parser.c:12976)\u001b[0;34m()\u001b[0m\n",
      "\u001b[0;32mpandas/parser.pyx\u001b[0m in \u001b[0;36mpandas.parser.TextReader._string_convert (pandas/parser.c:13222)\u001b[0;34m()\u001b[0m\n",
      "\u001b[0;32mpandas/parser.pyx\u001b[0m in \u001b[0;36mpandas.parser._string_box_utf8 (pandas/parser.c:18598)\u001b[0;34m()\u001b[0m\n",
      "\u001b[0;31mUnicodeDecodeError\u001b[0m: 'utf-8' codec can't decode byte 0x92 in position 4: invalid start byte"
     ]
    }
   ],
   "source": [
    "df = pd.read_csv('StreetTrees_WestPointGrey.csv')"
   ]
  },
  {
   "cell_type": "markdown",
   "metadata": {},
   "source": [
    "We get an error! It seems the data is using a different encoding in the data and there are some characters that pandas can't read by default. Let's specify the option `encoding='latin'`. This usually works."
   ]
  },
  {
   "cell_type": "code",
   "execution_count": 3,
   "metadata": {
    "collapsed": true
   },
   "outputs": [],
   "source": [
    "df = pd.read_csv('StreetTrees_WestPointGrey.csv',encoding='latin')"
   ]
  },
  {
   "cell_type": "markdown",
   "metadata": {},
   "source": [
    "It works! Let's look at the data:"
   ]
  },
  {
   "cell_type": "code",
   "execution_count": 4,
   "metadata": {
    "collapsed": false
   },
   "outputs": [
    {
     "data": {
      "text/html": [
       "<div>\n",
       "<table border=\"1\" class=\"dataframe\">\n",
       "  <thead>\n",
       "    <tr style=\"text-align: right;\">\n",
       "      <th></th>\n",
       "      <th>TREE_ID</th>\n",
       "      <th>CIVIC_NUMBER</th>\n",
       "      <th>STD_STREET</th>\n",
       "      <th>NEIGHBOURHOOD_NAME</th>\n",
       "      <th>CELL</th>\n",
       "      <th>ON_STREET</th>\n",
       "      <th>ON_STREET_BLOCK</th>\n",
       "      <th>STREET_SIDE_NAME</th>\n",
       "      <th>ASSIGNED</th>\n",
       "      <th>HEIGHT_RANGE_ID</th>\n",
       "      <th>DIAMETER</th>\n",
       "      <th>DATE_PLANTED</th>\n",
       "      <th>PLANT_AREA</th>\n",
       "      <th>ROOT_BARRIER</th>\n",
       "      <th>CURB</th>\n",
       "      <th>CULTIVAR_NAME</th>\n",
       "      <th>GENUS_NAME</th>\n",
       "      <th>SPECIES_NAME</th>\n",
       "      <th>COMMON_NAME</th>\n",
       "    </tr>\n",
       "  </thead>\n",
       "  <tbody>\n",
       "    <tr>\n",
       "      <th>0</th>\n",
       "      <td>589</td>\n",
       "      <td>4694</td>\n",
       "      <td>W 8TH AV</td>\n",
       "      <td>WEST POINT GREY</td>\n",
       "      <td>12</td>\n",
       "      <td>BLANCA ST</td>\n",
       "      <td>2400</td>\n",
       "      <td>EVEN</td>\n",
       "      <td>N</td>\n",
       "      <td>5</td>\n",
       "      <td>32</td>\n",
       "      <td>NaN</td>\n",
       "      <td>B</td>\n",
       "      <td>N</td>\n",
       "      <td>Y</td>\n",
       "      <td></td>\n",
       "      <td>ALNUS</td>\n",
       "      <td>RUGOSA</td>\n",
       "      <td>SPECKLED ALDER</td>\n",
       "    </tr>\n",
       "    <tr>\n",
       "      <th>1</th>\n",
       "      <td>2180</td>\n",
       "      <td>4786</td>\n",
       "      <td>W 2ND AV</td>\n",
       "      <td>WEST POINT GREY</td>\n",
       "      <td>6</td>\n",
       "      <td>W 2ND AV</td>\n",
       "      <td>4700</td>\n",
       "      <td>EVEN</td>\n",
       "      <td>N</td>\n",
       "      <td>2</td>\n",
       "      <td>7</td>\n",
       "      <td>NaN</td>\n",
       "      <td>N</td>\n",
       "      <td>N</td>\n",
       "      <td>N</td>\n",
       "      <td></td>\n",
       "      <td>RHUS</td>\n",
       "      <td>TYPHINA</td>\n",
       "      <td>STAGHORN SUMAC</td>\n",
       "    </tr>\n",
       "    <tr>\n",
       "      <th>2</th>\n",
       "      <td>1909</td>\n",
       "      <td>3707</td>\n",
       "      <td>W 2ND AV</td>\n",
       "      <td>WEST POINT GREY</td>\n",
       "      <td>2</td>\n",
       "      <td>W 2ND AV</td>\n",
       "      <td>3700</td>\n",
       "      <td>ODD</td>\n",
       "      <td>N</td>\n",
       "      <td>4</td>\n",
       "      <td>24</td>\n",
       "      <td>NaN</td>\n",
       "      <td>10</td>\n",
       "      <td>N</td>\n",
       "      <td>Y</td>\n",
       "      <td></td>\n",
       "      <td>BETULA</td>\n",
       "      <td>NIGRA</td>\n",
       "      <td>RIVER BIRCH</td>\n",
       "    </tr>\n",
       "    <tr>\n",
       "      <th>3</th>\n",
       "      <td>1910</td>\n",
       "      <td>3707</td>\n",
       "      <td>W 2ND AV</td>\n",
       "      <td>WEST POINT GREY</td>\n",
       "      <td>5</td>\n",
       "      <td>W 2ND AV</td>\n",
       "      <td>3700</td>\n",
       "      <td>ODD</td>\n",
       "      <td>N</td>\n",
       "      <td>5</td>\n",
       "      <td>22</td>\n",
       "      <td>NaN</td>\n",
       "      <td>10</td>\n",
       "      <td>N</td>\n",
       "      <td>Y</td>\n",
       "      <td></td>\n",
       "      <td>BETULA</td>\n",
       "      <td>NIGRA</td>\n",
       "      <td>RIVER BIRCH</td>\n",
       "    </tr>\n",
       "    <tr>\n",
       "      <th>4</th>\n",
       "      <td>1915</td>\n",
       "      <td>3708</td>\n",
       "      <td>W 2ND AV</td>\n",
       "      <td>WEST POINT GREY</td>\n",
       "      <td>23</td>\n",
       "      <td>ALMA ST</td>\n",
       "      <td>1800</td>\n",
       "      <td>ODD</td>\n",
       "      <td>N</td>\n",
       "      <td>3</td>\n",
       "      <td>16</td>\n",
       "      <td>NaN</td>\n",
       "      <td>6</td>\n",
       "      <td>N</td>\n",
       "      <td>Y</td>\n",
       "      <td>ATROPURPUREUM</td>\n",
       "      <td>PRUNUS</td>\n",
       "      <td>CERASIFERA</td>\n",
       "      <td>PISSARD PLUM</td>\n",
       "    </tr>\n",
       "  </tbody>\n",
       "</table>\n",
       "</div>"
      ],
      "text/plain": [
       "   TREE_ID  CIVIC_NUMBER STD_STREET NEIGHBOURHOOD_NAME  CELL  ON_STREET  \\\n",
       "0      589          4694   W 8TH AV    WEST POINT GREY    12  BLANCA ST   \n",
       "1     2180          4786   W 2ND AV    WEST POINT GREY     6   W 2ND AV   \n",
       "2     1909          3707   W 2ND AV    WEST POINT GREY     2   W 2ND AV   \n",
       "3     1910          3707   W 2ND AV    WEST POINT GREY     5   W 2ND AV   \n",
       "4     1915          3708   W 2ND AV    WEST POINT GREY    23    ALMA ST   \n",
       "\n",
       "   ON_STREET_BLOCK STREET_SIDE_NAME ASSIGNED  HEIGHT_RANGE_ID  DIAMETER  \\\n",
       "0             2400             EVEN        N                5        32   \n",
       "1             4700             EVEN        N                2         7   \n",
       "2             3700              ODD        N                4        24   \n",
       "3             3700              ODD        N                5        22   \n",
       "4             1800              ODD        N                3        16   \n",
       "\n",
       "   DATE_PLANTED PLANT_AREA ROOT_BARRIER CURB  CULTIVAR_NAME GENUS_NAME  \\\n",
       "0           NaN          B            N    Y                     ALNUS   \n",
       "1           NaN          N            N    N                      RHUS   \n",
       "2           NaN         10            N    Y                    BETULA   \n",
       "3           NaN         10            N    Y                    BETULA   \n",
       "4           NaN          6            N    Y  ATROPURPUREUM     PRUNUS   \n",
       "\n",
       "  SPECIES_NAME     COMMON_NAME  \n",
       "0       RUGOSA  SPECKLED ALDER  \n",
       "1      TYPHINA  STAGHORN SUMAC  \n",
       "2        NIGRA     RIVER BIRCH  \n",
       "3        NIGRA     RIVER BIRCH  \n",
       "4   CERASIFERA    PISSARD PLUM  "
      ]
     },
     "execution_count": 4,
     "metadata": {},
     "output_type": "execute_result"
    }
   ],
   "source": [
    "df.head()"
   ]
  },
  {
   "cell_type": "markdown",
   "metadata": {},
   "source": [
    "### Concatenating DataFrames\n",
    "\n",
    "Now that we know what we're dealing with, we can import all the other files we want to analyse and we'll put them in one DataFrame using `.concat`."
   ]
  },
  {
   "cell_type": "code",
   "execution_count": 5,
   "metadata": {
    "collapsed": true
   },
   "outputs": [],
   "source": [
    "WestPointGrey = pd.read_csv('StreetTrees_WestPointGrey.csv',encoding='latin')\n",
    "WestEnd = pd.read_csv('StreetTrees_WestEnd.csv',encoding='latin')\n",
    "ArbutusRidge = pd.read_csv('StreetTrees_ArbutusRidge.csv',encoding='latin')\n",
    "Downtown = pd.read_csv('StreetTrees_Downtown.csv',encoding='latin')\n",
    "Kitsilano = pd.read_csv('StreetTrees_Kitsilano.csv',encoding='latin')\n",
    "\n",
    "trees = pd.concat([WestPointGrey,WestEnd,ArbutusRidge,Kitsilano,Downtown])"
   ]
  },
  {
   "cell_type": "markdown",
   "metadata": {
    "collapsed": false
   },
   "source": [
    "Let's see what we have!"
   ]
  },
  {
   "cell_type": "code",
   "execution_count": 6,
   "metadata": {
    "collapsed": false
   },
   "outputs": [
    {
     "name": "stdout",
     "output_type": "stream",
     "text": [
      "<class 'pandas.core.frame.DataFrame'>\n",
      "Int64Index: 26438 entries, 0 to 5021\n",
      "Data columns (total 19 columns):\n",
      "TREE_ID               26438 non-null int64\n",
      "CIVIC_NUMBER          26438 non-null int64\n",
      "STD_STREET            26438 non-null object\n",
      "NEIGHBOURHOOD_NAME    26438 non-null object\n",
      "CELL                  26438 non-null int64\n",
      "ON_STREET             26438 non-null object\n",
      "ON_STREET_BLOCK       26438 non-null int64\n",
      "STREET_SIDE_NAME      26438 non-null object\n",
      "ASSIGNED              26438 non-null object\n",
      "HEIGHT_RANGE_ID       26438 non-null int64\n",
      "DIAMETER              26438 non-null float64\n",
      "DATE_PLANTED          9693 non-null float64\n",
      "PLANT_AREA            26392 non-null object\n",
      "ROOT_BARRIER          26438 non-null object\n",
      "CURB                  26438 non-null object\n",
      "CULTIVAR_NAME         26438 non-null object\n",
      "GENUS_NAME            26438 non-null object\n",
      "SPECIES_NAME          26438 non-null object\n",
      "COMMON_NAME           26438 non-null object\n",
      "dtypes: float64(2), int64(5), object(12)\n",
      "memory usage: 4.0+ MB\n"
     ]
    }
   ],
   "source": [
    "trees.info()"
   ]
  },
  {
   "cell_type": "code",
   "execution_count": 8,
   "metadata": {
    "collapsed": false
   },
   "outputs": [
    {
     "data": {
      "text/plain": [
       "array(['WEST POINT GREY', 'WEST END', 'ARBUTUS RIDGE', 'KITSILANO',\n",
       "       'DOWNTOWN'], dtype=object)"
      ]
     },
     "execution_count": 8,
     "metadata": {},
     "output_type": "execute_result"
    }
   ],
   "source": [
    "trees['NEIGHBOURHOOD_NAME'].unique()"
   ]
  },
  {
   "cell_type": "markdown",
   "metadata": {},
   "source": [
    "We have 26438 records with 19 columns for trees in 5 neighbourhoods!"
   ]
  },
  {
   "cell_type": "markdown",
   "metadata": {},
   "source": [
    "### Computing values with `.map`\n",
    "\n",
    "Notice that the `DATE_PLANTED` column consists of float values (and null values `NaN`). Let's select the non-null entries to take a look."
   ]
  },
  {
   "cell_type": "code",
   "execution_count": 10,
   "metadata": {
    "collapsed": false
   },
   "outputs": [
    {
     "data": {
      "text/html": [
       "<div>\n",
       "<table border=\"1\" class=\"dataframe\">\n",
       "  <thead>\n",
       "    <tr style=\"text-align: right;\">\n",
       "      <th></th>\n",
       "      <th>TREE_ID</th>\n",
       "      <th>CIVIC_NUMBER</th>\n",
       "      <th>STD_STREET</th>\n",
       "      <th>NEIGHBOURHOOD_NAME</th>\n",
       "      <th>CELL</th>\n",
       "      <th>ON_STREET</th>\n",
       "      <th>ON_STREET_BLOCK</th>\n",
       "      <th>STREET_SIDE_NAME</th>\n",
       "      <th>ASSIGNED</th>\n",
       "      <th>HEIGHT_RANGE_ID</th>\n",
       "      <th>DIAMETER</th>\n",
       "      <th>DATE_PLANTED</th>\n",
       "      <th>PLANT_AREA</th>\n",
       "      <th>ROOT_BARRIER</th>\n",
       "      <th>CURB</th>\n",
       "      <th>CULTIVAR_NAME</th>\n",
       "      <th>GENUS_NAME</th>\n",
       "      <th>SPECIES_NAME</th>\n",
       "      <th>COMMON_NAME</th>\n",
       "    </tr>\n",
       "  </thead>\n",
       "  <tbody>\n",
       "    <tr>\n",
       "      <th>25</th>\n",
       "      <td>892</td>\n",
       "      <td>4593</td>\n",
       "      <td>W 11TH AV</td>\n",
       "      <td>WEST POINT GREY</td>\n",
       "      <td>22</td>\n",
       "      <td>TOLMIE ST</td>\n",
       "      <td>2600</td>\n",
       "      <td>EVEN</td>\n",
       "      <td>N</td>\n",
       "      <td>1</td>\n",
       "      <td>3.00</td>\n",
       "      <td>20081216</td>\n",
       "      <td>8</td>\n",
       "      <td>Y</td>\n",
       "      <td>N</td>\n",
       "      <td>GLOBOSUM</td>\n",
       "      <td>ACER</td>\n",
       "      <td>PLATANOIDES</td>\n",
       "      <td>GLOBEHEAD NORWAY MAPLE</td>\n",
       "    </tr>\n",
       "    <tr>\n",
       "      <th>31</th>\n",
       "      <td>2120</td>\n",
       "      <td>4727</td>\n",
       "      <td>W 2ND AV</td>\n",
       "      <td>WEST POINT GREY</td>\n",
       "      <td>3</td>\n",
       "      <td>W 2ND AV</td>\n",
       "      <td>4700</td>\n",
       "      <td>ODD</td>\n",
       "      <td>N</td>\n",
       "      <td>0</td>\n",
       "      <td>5.25</td>\n",
       "      <td>20020212</td>\n",
       "      <td>N</td>\n",
       "      <td>N</td>\n",
       "      <td>Y</td>\n",
       "      <td>AKEBONO</td>\n",
       "      <td>PRUNUS</td>\n",
       "      <td>X YEDOENSIS</td>\n",
       "      <td>AKEBONO FLOWERING CHERRY</td>\n",
       "    </tr>\n",
       "    <tr>\n",
       "      <th>34</th>\n",
       "      <td>2140</td>\n",
       "      <td>4755</td>\n",
       "      <td>W 2ND AV</td>\n",
       "      <td>WEST POINT GREY</td>\n",
       "      <td>1</td>\n",
       "      <td>W 2ND AV</td>\n",
       "      <td>4700</td>\n",
       "      <td>ODD</td>\n",
       "      <td>N</td>\n",
       "      <td>1</td>\n",
       "      <td>3.00</td>\n",
       "      <td>20020213</td>\n",
       "      <td>10</td>\n",
       "      <td>N</td>\n",
       "      <td>Y</td>\n",
       "      <td>AKEBONO</td>\n",
       "      <td>PRUNUS</td>\n",
       "      <td>X YEDOENSIS</td>\n",
       "      <td>AKEBONO FLOWERING CHERRY</td>\n",
       "    </tr>\n",
       "    <tr>\n",
       "      <th>35</th>\n",
       "      <td>2141</td>\n",
       "      <td>4755</td>\n",
       "      <td>W 2ND AV</td>\n",
       "      <td>WEST POINT GREY</td>\n",
       "      <td>4</td>\n",
       "      <td>W 2ND AV</td>\n",
       "      <td>4700</td>\n",
       "      <td>ODD</td>\n",
       "      <td>N</td>\n",
       "      <td>1</td>\n",
       "      <td>3.00</td>\n",
       "      <td>20000213</td>\n",
       "      <td>10</td>\n",
       "      <td>N</td>\n",
       "      <td>Y</td>\n",
       "      <td>AKEBONO</td>\n",
       "      <td>PRUNUS</td>\n",
       "      <td>X YEDOENSIS</td>\n",
       "      <td>AKEBONO FLOWERING CHERRY</td>\n",
       "    </tr>\n",
       "    <tr>\n",
       "      <th>36</th>\n",
       "      <td>2142</td>\n",
       "      <td>4755</td>\n",
       "      <td>W 2ND AV</td>\n",
       "      <td>WEST POINT GREY</td>\n",
       "      <td>6</td>\n",
       "      <td>W 2ND AV</td>\n",
       "      <td>4700</td>\n",
       "      <td>ODD</td>\n",
       "      <td>N</td>\n",
       "      <td>2</td>\n",
       "      <td>10.00</td>\n",
       "      <td>20020213</td>\n",
       "      <td>10</td>\n",
       "      <td>N</td>\n",
       "      <td>Y</td>\n",
       "      <td>AKEBONO</td>\n",
       "      <td>PRUNUS</td>\n",
       "      <td>X YEDOENSIS</td>\n",
       "      <td>AKEBONO FLOWERING CHERRY</td>\n",
       "    </tr>\n",
       "  </tbody>\n",
       "</table>\n",
       "</div>"
      ],
      "text/plain": [
       "    TREE_ID  CIVIC_NUMBER STD_STREET NEIGHBOURHOOD_NAME  CELL  ON_STREET  \\\n",
       "25      892          4593  W 11TH AV    WEST POINT GREY    22  TOLMIE ST   \n",
       "31     2120          4727   W 2ND AV    WEST POINT GREY     3   W 2ND AV   \n",
       "34     2140          4755   W 2ND AV    WEST POINT GREY     1   W 2ND AV   \n",
       "35     2141          4755   W 2ND AV    WEST POINT GREY     4   W 2ND AV   \n",
       "36     2142          4755   W 2ND AV    WEST POINT GREY     6   W 2ND AV   \n",
       "\n",
       "    ON_STREET_BLOCK STREET_SIDE_NAME ASSIGNED  HEIGHT_RANGE_ID  DIAMETER  \\\n",
       "25             2600             EVEN        N                1      3.00   \n",
       "31             4700              ODD        N                0      5.25   \n",
       "34             4700              ODD        N                1      3.00   \n",
       "35             4700              ODD        N                1      3.00   \n",
       "36             4700              ODD        N                2     10.00   \n",
       "\n",
       "    DATE_PLANTED PLANT_AREA ROOT_BARRIER CURB CULTIVAR_NAME GENUS_NAME  \\\n",
       "25      20081216          8            Y    N      GLOBOSUM       ACER   \n",
       "31      20020212          N            N    Y       AKEBONO     PRUNUS   \n",
       "34      20020213         10            N    Y       AKEBONO     PRUNUS   \n",
       "35      20000213         10            N    Y       AKEBONO     PRUNUS   \n",
       "36      20020213         10            N    Y       AKEBONO     PRUNUS   \n",
       "\n",
       "   SPECIES_NAME               COMMON_NAME  \n",
       "25  PLATANOIDES    GLOBEHEAD NORWAY MAPLE  \n",
       "31  X YEDOENSIS  AKEBONO FLOWERING CHERRY  \n",
       "34  X YEDOENSIS  AKEBONO FLOWERING CHERRY  \n",
       "35  X YEDOENSIS  AKEBONO FLOWERING CHERRY  \n",
       "36  X YEDOENSIS  AKEBONO FLOWERING CHERRY  "
      ]
     },
     "execution_count": 10,
     "metadata": {},
     "output_type": "execute_result"
    }
   ],
   "source": [
    "trees[trees['DATE_PLANTED'].notnull()].head()"
   ]
  },
  {
   "cell_type": "markdown",
   "metadata": {},
   "source": [
    "The dates are 8 digit numbers in the form YYYYMMDD! Let's construct a new column `YEAR_PLANTED` by using the `.map` method with our own function which pick out the year from the 8 digit number.\n",
    "\n",
    "First, let's make a function which picks out the year from the `DATE_PLANTED` column."
   ]
  },
  {
   "cell_type": "code",
   "execution_count": 28,
   "metadata": {
    "collapsed": true
   },
   "outputs": [],
   "source": [
    "def year(n):\n",
    "    \"Return the first 4 digits of n (or NaN if n is null).\"\n",
    "    return n // 10000"
   ]
  },
  {
   "cell_type": "code",
   "execution_count": 29,
   "metadata": {
    "collapsed": false
   },
   "outputs": [
    {
     "data": {
      "text/plain": [
       "2008"
      ]
     },
     "execution_count": 29,
     "metadata": {},
     "output_type": "execute_result"
    }
   ],
   "source": [
    "year(20080816)"
   ]
  },
  {
   "cell_type": "code",
   "execution_count": 43,
   "metadata": {
    "collapsed": false
   },
   "outputs": [
    {
     "data": {
      "text/plain": [
       "-9223372036854775808"
      ]
     },
     "execution_count": 43,
     "metadata": {},
     "output_type": "execute_result"
    }
   ],
   "source": [
    "year(trees.iloc[0,11])"
   ]
  },
  {
   "cell_type": "markdown",
   "metadata": {},
   "source": [
    "We can add a new column to our DataFrame and fill it with the year the tree was planted."
   ]
  },
  {
   "cell_type": "code",
   "execution_count": 32,
   "metadata": {
    "collapsed": false
   },
   "outputs": [],
   "source": [
    "trees['YEAR_PLANTED'] = trees['DATE_PLANTED'].map(year)"
   ]
  },
  {
   "cell_type": "code",
   "execution_count": 37,
   "metadata": {
    "collapsed": false
   },
   "outputs": [
    {
     "data": {
      "text/html": [
       "<div>\n",
       "<table border=\"1\" class=\"dataframe\">\n",
       "  <thead>\n",
       "    <tr style=\"text-align: right;\">\n",
       "      <th></th>\n",
       "      <th>TREE_ID</th>\n",
       "      <th>CIVIC_NUMBER</th>\n",
       "      <th>STD_STREET</th>\n",
       "      <th>NEIGHBOURHOOD_NAME</th>\n",
       "      <th>CELL</th>\n",
       "      <th>ON_STREET</th>\n",
       "      <th>ON_STREET_BLOCK</th>\n",
       "      <th>STREET_SIDE_NAME</th>\n",
       "      <th>ASSIGNED</th>\n",
       "      <th>HEIGHT_RANGE_ID</th>\n",
       "      <th>DIAMETER</th>\n",
       "      <th>DATE_PLANTED</th>\n",
       "      <th>PLANT_AREA</th>\n",
       "      <th>ROOT_BARRIER</th>\n",
       "      <th>CURB</th>\n",
       "      <th>CULTIVAR_NAME</th>\n",
       "      <th>GENUS_NAME</th>\n",
       "      <th>SPECIES_NAME</th>\n",
       "      <th>COMMON_NAME</th>\n",
       "      <th>YEAR_PLANTED</th>\n",
       "    </tr>\n",
       "  </thead>\n",
       "  <tbody>\n",
       "    <tr>\n",
       "      <th>1507</th>\n",
       "      <td>11505</td>\n",
       "      <td>1953</td>\n",
       "      <td>BLANCA ST</td>\n",
       "      <td>WEST POINT GREY</td>\n",
       "      <td>1</td>\n",
       "      <td>BLANCA ST</td>\n",
       "      <td>1900</td>\n",
       "      <td>ODD</td>\n",
       "      <td>N</td>\n",
       "      <td>1</td>\n",
       "      <td>3</td>\n",
       "      <td>20130108</td>\n",
       "      <td>12</td>\n",
       "      <td>N</td>\n",
       "      <td>N</td>\n",
       "      <td>SATOMI</td>\n",
       "      <td>CORNUS</td>\n",
       "      <td>KOUSA</td>\n",
       "      <td>PINK KOUSA DOGWOOD</td>\n",
       "      <td>2013</td>\n",
       "    </tr>\n",
       "    <tr>\n",
       "      <th>1611</th>\n",
       "      <td>16483</td>\n",
       "      <td>1953</td>\n",
       "      <td>BLANCA ST</td>\n",
       "      <td>WEST POINT GREY</td>\n",
       "      <td>5</td>\n",
       "      <td>BLANCA ST</td>\n",
       "      <td>1900</td>\n",
       "      <td>ODD</td>\n",
       "      <td>N</td>\n",
       "      <td>1</td>\n",
       "      <td>3</td>\n",
       "      <td>20130107</td>\n",
       "      <td>12</td>\n",
       "      <td>N</td>\n",
       "      <td>N</td>\n",
       "      <td>SATOMI</td>\n",
       "      <td>CORNUS</td>\n",
       "      <td>KOUSA</td>\n",
       "      <td>PINK KOUSA DOGWOOD</td>\n",
       "      <td>2013</td>\n",
       "    </tr>\n",
       "    <tr>\n",
       "      <th>1612</th>\n",
       "      <td>16497</td>\n",
       "      <td>4497</td>\n",
       "      <td>BELMONT AV</td>\n",
       "      <td>WEST POINT GREY</td>\n",
       "      <td>4</td>\n",
       "      <td>BELMONT AV</td>\n",
       "      <td>4400</td>\n",
       "      <td>ODD</td>\n",
       "      <td>N</td>\n",
       "      <td>1</td>\n",
       "      <td>3</td>\n",
       "      <td>20130129</td>\n",
       "      <td>20</td>\n",
       "      <td>N</td>\n",
       "      <td>N</td>\n",
       "      <td>PRINCETON GOLD</td>\n",
       "      <td>ACER</td>\n",
       "      <td>PLATANOIDES</td>\n",
       "      <td>PRINCETON GOLD MAPLE</td>\n",
       "      <td>2013</td>\n",
       "    </tr>\n",
       "    <tr>\n",
       "      <th>1613</th>\n",
       "      <td>17550</td>\n",
       "      <td>4497</td>\n",
       "      <td>BELMONT AV</td>\n",
       "      <td>WEST POINT GREY</td>\n",
       "      <td>6</td>\n",
       "      <td>BELMONT AV</td>\n",
       "      <td>4400</td>\n",
       "      <td>ODD</td>\n",
       "      <td>N</td>\n",
       "      <td>1</td>\n",
       "      <td>3</td>\n",
       "      <td>20130131</td>\n",
       "      <td>20</td>\n",
       "      <td>N</td>\n",
       "      <td>N</td>\n",
       "      <td>PRINCETON GOLD</td>\n",
       "      <td>ACER</td>\n",
       "      <td>PLATANOIDES</td>\n",
       "      <td>PRINCETON GOLD MAPLE</td>\n",
       "      <td>2013</td>\n",
       "    </tr>\n",
       "    <tr>\n",
       "      <th>1719</th>\n",
       "      <td>17674</td>\n",
       "      <td>1849</td>\n",
       "      <td>BLANCA ST</td>\n",
       "      <td>WEST POINT GREY</td>\n",
       "      <td>2</td>\n",
       "      <td>BLANCA ST</td>\n",
       "      <td>1800</td>\n",
       "      <td>ODD</td>\n",
       "      <td>N</td>\n",
       "      <td>1</td>\n",
       "      <td>3</td>\n",
       "      <td>20130103</td>\n",
       "      <td>12</td>\n",
       "      <td>N</td>\n",
       "      <td>N</td>\n",
       "      <td>SATOMI</td>\n",
       "      <td>CORNUS</td>\n",
       "      <td>KOUSA</td>\n",
       "      <td>PINK KOUSA DOGWOOD</td>\n",
       "      <td>2013</td>\n",
       "    </tr>\n",
       "  </tbody>\n",
       "</table>\n",
       "</div>"
      ],
      "text/plain": [
       "      TREE_ID  CIVIC_NUMBER  STD_STREET NEIGHBOURHOOD_NAME  CELL   ON_STREET  \\\n",
       "1507    11505          1953   BLANCA ST    WEST POINT GREY     1   BLANCA ST   \n",
       "1611    16483          1953   BLANCA ST    WEST POINT GREY     5   BLANCA ST   \n",
       "1612    16497          4497  BELMONT AV    WEST POINT GREY     4  BELMONT AV   \n",
       "1613    17550          4497  BELMONT AV    WEST POINT GREY     6  BELMONT AV   \n",
       "1719    17674          1849   BLANCA ST    WEST POINT GREY     2   BLANCA ST   \n",
       "\n",
       "      ON_STREET_BLOCK STREET_SIDE_NAME ASSIGNED  HEIGHT_RANGE_ID  DIAMETER  \\\n",
       "1507             1900              ODD        N                1         3   \n",
       "1611             1900              ODD        N                1         3   \n",
       "1612             4400              ODD        N                1         3   \n",
       "1613             4400              ODD        N                1         3   \n",
       "1719             1800              ODD        N                1         3   \n",
       "\n",
       "      DATE_PLANTED PLANT_AREA ROOT_BARRIER CURB   CULTIVAR_NAME GENUS_NAME  \\\n",
       "1507      20130108         12            N    N          SATOMI     CORNUS   \n",
       "1611      20130107         12            N    N          SATOMI     CORNUS   \n",
       "1612      20130129         20            N    N  PRINCETON GOLD       ACER   \n",
       "1613      20130131         20            N    N  PRINCETON GOLD       ACER   \n",
       "1719      20130103         12            N    N          SATOMI     CORNUS   \n",
       "\n",
       "     SPECIES_NAME           COMMON_NAME  YEAR_PLANTED  \n",
       "1507        KOUSA   PINK KOUSA DOGWOOD           2013  \n",
       "1611        KOUSA   PINK KOUSA DOGWOOD           2013  \n",
       "1612  PLATANOIDES  PRINCETON GOLD MAPLE          2013  \n",
       "1613  PLATANOIDES  PRINCETON GOLD MAPLE          2013  \n",
       "1719        KOUSA   PINK KOUSA DOGWOOD           2013  "
      ]
     },
     "execution_count": 37,
     "metadata": {},
     "output_type": "execute_result"
    }
   ],
   "source": [
    "trees[trees['YEAR_PLANTED'] == 2013].head()"
   ]
  },
  {
   "cell_type": "markdown",
   "metadata": {},
   "source": [
    "Now we can group by year to see when the trees were planted."
   ]
  },
  {
   "cell_type": "code",
   "execution_count": 45,
   "metadata": {
    "collapsed": false
   },
   "outputs": [
    {
     "data": {
      "text/plain": [
       "<matplotlib.axes._subplots.AxesSubplot at 0x108c78b70>"
      ]
     },
     "execution_count": 45,
     "metadata": {},
     "output_type": "execute_result"
    },
    {
     "data": {
      "image/png": "[encoded data removed]",
      "text/plain": [
       "<matplotlib.figure.Figure at 0x10901a0b8>"
      ]
     },
     "metadata": {},
     "output_type": "display_data"
    }
   ],
   "source": [
    "trees.groupby('YEAR_PLANTED').size().plot(kind='bar')"
   ]
  },
  {
   "cell_type": "markdown",
   "metadata": {},
   "source": [
    "Notice that the dates are floats. For the sake of presentation, we can format the index of the series so that the dates are integers and the label is `Year Planted`."
   ]
  },
  {
   "cell_type": "code",
   "execution_count": 56,
   "metadata": {
    "collapsed": false
   },
   "outputs": [
    {
     "name": "stdout",
     "output_type": "stream",
     "text": [
      "[1989, 1990, 1991, 1992, 1993, 1994, 1995, 1996, 1997, 1998, 1999, 2000, 2001, 2002, 2003, 2004, 2005, 2006, 2007, 2008, 2009, 2010, 2011, 2012, 2013]\n"
     ]
    }
   ],
   "source": [
    "dates = list(range(1989,2014))\n",
    "print(dates)"
   ]
  },
  {
   "cell_type": "code",
   "execution_count": 58,
   "metadata": {
    "collapsed": false
   },
   "outputs": [
    {
     "data": {
      "text/plain": [
       "<matplotlib.axes._subplots.AxesSubplot at 0x10a3fe588>"
      ]
     },
     "execution_count": 58,
     "metadata": {},
     "output_type": "execute_result"
    },
    {
     "data": {
      "image/png": "[encoded data removed]",
      "text/plain": [
       "<matplotlib.figure.Figure at 0x10a4043c8>"
      ]
     },
     "metadata": {},
     "output_type": "display_data"
    }
   ],
   "source": [
    "planted = trees.groupby('YEAR_PLANTED').size()\n",
    "planted.index = dates\n",
    "planted.index.name = 'Year Planted'\n",
    "planted.plot(kind='bar',title='Street Trees Planted by Year')"
   ]
  },
  {
   "cell_type": "markdown",
   "metadata": {},
   "source": [
    "## 3. More plots"
   ]
  },
  {
   "cell_type": "markdown",
   "metadata": {},
   "source": [
    "**EXAMPLE 1.** Plot the number of trees in each neighbourhood."
   ]
  },
  {
   "cell_type": "code",
   "execution_count": 62,
   "metadata": {
    "collapsed": false
   },
   "outputs": [
    {
     "data": {
      "text/plain": [
       "<matplotlib.axes._subplots.AxesSubplot at 0x10bbe1588>"
      ]
     },
     "execution_count": 62,
     "metadata": {},
     "output_type": "execute_result"
    },
    {
     "data": {
      "image/png": "[encoded data removed]",
      "text/plain": [
       "<matplotlib.figure.Figure at 0x10b038a58>"
      ]
     },
     "metadata": {},
     "output_type": "display_data"
    }
   ],
   "source": [
    "trees.groupby('NEIGHBOURHOOD_NAME').size().plot(kind='bar',title='Total Street Trees by Neighbourhood')"
   ]
  },
  {
   "cell_type": "markdown",
   "metadata": {},
   "source": [
    "**EXAMPLE 2.** How many different trees (by common name) are there in the dataset? What are the ten most common trees and how many are there?"
   ]
  },
  {
   "cell_type": "code",
   "execution_count": 67,
   "metadata": {
    "collapsed": false
   },
   "outputs": [
    {
     "data": {
      "text/plain": [
       "428"
      ]
     },
     "execution_count": 67,
     "metadata": {},
     "output_type": "execute_result"
    }
   ],
   "source": [
    "trees['COMMON_NAME'].unique().size"
   ]
  },
  {
   "cell_type": "code",
   "execution_count": 72,
   "metadata": {
    "collapsed": false
   },
   "outputs": [
    {
     "name": "stdout",
     "output_type": "stream",
     "text": [
      "COMMON_NAME\n",
      "PISSARD PLUM                   1633\n",
      "NORWAY MAPLE                   1511\n",
      "KWANZAN FLOWERING CHERRY       1438\n",
      "CRIMEAN LINDEN                  841\n",
      "RED MAPLE                       826\n",
      "COMMON HORSECHESTNUT            653\n",
      "KOBUS MAGNOLIA                  544\n",
      "EUROPEAN BEECH                  533\n",
      "PYRAMIDAL EUROPEAN HORNBEAM     502\n",
      "BOWHALL RED MAPLE               448\n",
      "dtype: int64\n"
     ]
    }
   ],
   "source": [
    "top_ten_trees = trees.groupby('COMMON_NAME').size().sort_values(ascending=False).head(10)\n",
    "print(top_ten_trees)"
   ]
  },
  {
   "cell_type": "code",
   "execution_count": 73,
   "metadata": {
    "collapsed": false
   },
   "outputs": [
    {
     "data": {
      "text/plain": [
       "<matplotlib.axes._subplots.AxesSubplot at 0x10bb699b0>"
      ]
     },
     "execution_count": 73,
     "metadata": {},
     "output_type": "execute_result"
    },
    {
     "data": {
      "image/png": "[encoded data removed]",
      "text/plain": [
       "<matplotlib.figure.Figure at 0x10b4d9390>"
      ]
     },
     "metadata": {},
     "output_type": "display_data"
    }
   ],
   "source": [
    "top_ten_trees.plot(kind='bar',title='Ten Most Common Trees')"
   ]
  },
  {
   "cell_type": "markdown",
   "metadata": {},
   "source": [
    "**EXAMPLE 3.** What were the 10 most common trees planted in 2013?"
   ]
  },
  {
   "cell_type": "code",
   "execution_count": 76,
   "metadata": {
    "collapsed": false
   },
   "outputs": [
    {
     "data": {
      "text/plain": [
       "<matplotlib.axes._subplots.AxesSubplot at 0x10cad1a58>"
      ]
     },
     "execution_count": 76,
     "metadata": {},
     "output_type": "execute_result"
    },
    {
     "data": {
      "image/png": "[encoded data removed]",
      "text/plain": [
       "<matplotlib.figure.Figure at 0x10c9a9e80>"
      ]
     },
     "metadata": {},
     "output_type": "display_data"
    }
   ],
   "source": [
    "top_ten_2013 = trees[trees['YEAR_PLANTED'] == 2013].groupby('COMMON_NAME').size().sort_values(ascending=False).head(10)\n",
    "top_ten_2013.plot(kind='bar',title='Most Common Trees Planted in 2013')"
   ]
  }
 ],
 "metadata": {
  "kernelspec": {
   "display_name": "Python 3",
   "language": "python",
   "name": "python3"
  },
  "language_info": {
   "codemirror_mode": {
    "name": "ipython",
    "version": 3
   },
   "file_extension": ".py",
   "mimetype": "text/x-python",
   "name": "python",
   "nbconvert_exporter": "python",
   "pygments_lexer": "ipython3",
   "version": "3.4.3"
  }
 },
 "nbformat": 4,
 "nbformat_minor": 0
}
