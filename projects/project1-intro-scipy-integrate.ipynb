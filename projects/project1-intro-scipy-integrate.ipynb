{
 "cells": [
  {
   "cell_type": "markdown",
   "metadata": {},
   "source": [
    "# MATH 210 Project I: Approximating Definite Integrals with `scipy.integrate`"
   ]
  },
  {
   "cell_type": "markdown",
   "metadata": {},
   "source": [
    "SciPy is the one of the core scientific computing packages in Python and the subpackage `scipy.integrate` addresses two kinds of computational problems (see the [documentation](http://docs.scipy.org/doc/scipy/reference/integrate.html)):\n",
    "\n",
    "1. Approximate definite integrals: $I = \\int_a^b f(x) \\, dx$\n",
    "2. Approximate solutions of systems of ordinary differential equations\n",
    "\n",
    "**Our goal** in this notebook is to explore **three functions** in the subpackage `scipy.integrate` which **approximate definite integrals**. In particular, we will explore the **trapezoid rule** and **Simpson's rule**, and introduce the implementation of the **QUADPACK Fortran library** for computing integrals. By the end of the notebook, the reader will be able to implement the following functions to approximate definite integrals:\n",
    "\n",
    "* `scipy.integrate.trapz` (see the [documentation](http://docs.scipy.org/doc/scipy/reference/generated/scipy.integrate.trapz.html))\n",
    "* `scipy.integrate.simps` (see the [documentation](http://docs.scipy.org/doc/scipy/reference/generated/scipy.integrate.simps.html))\n",
    "* `scipy.integrate.quad` (see the [documentation](http://docs.scipy.org/doc/scipy/reference/generated/scipy.integrate.quad.html))\n",
    "\n",
    "Our main conclusion is that `quad` is the most accurate of the 3 methods."
   ]
  },
  {
   "cell_type": "markdown",
   "metadata": {},
   "source": [
    "## Contents\n",
    "\n",
    "1. Trapezoid Rule: `trapz`\n",
    "2. Simpson's Rule: `simps`\n",
    "3. QUADPACK Fortran Library: `quad`\n",
    "4. Exercises"
   ]
  },
  {
   "cell_type": "code",
   "execution_count": 1,
   "metadata": {
    "collapsed": true
   },
   "outputs": [],
   "source": [
    "import scipy.integrate as spi\n",
    "import numpy as np\n",
    "import matplotlib.pyplot as plt\n",
    "%matplotlib inline"
   ]
  },
  {
   "cell_type": "markdown",
   "metadata": {},
   "source": [
    "## 1. Trapezoid Rule\n",
    "\n",
    "### Formula for the trapezoid rule\n",
    "\n",
    "The [trapezoid rule](https://en.wikipedia.org/wiki/Trapezoidal_rule) approximates the area under the curve $y = f(x)$ on the interval $[a,b]$ by choosing a fixed partition $x_0 = a, x_1, \\dots, x_n = b$ and summing the areas of the trapezoids at each subinterval\n",
    "\n",
    "$$\n",
    "\\int_a^b f(x) \\, dx \\approx \\sum_{i=0}^{n-1} \\left( \\, (x_{i+1} - x_i) f(x_i) +  (x_{i+1} - x_i) ( f(x_{i+1}) - f(x_i) ) / 2 \\, \\right)\n",
    "$$\n",
    "\n",
    "Note the first term in the expression of the series represents the area of the rectangle of height $f(x_i)$ and width $x_{i+1} - x_i$, and the second term represents the area of the triangle of height $f(x_{i+1}) - f(x_i)$ (possibly negative). We can simplify the expression as\n",
    "\n",
    "$$\n",
    "\\int_a^b f(x) \\, dx \\approx \\frac{1}{2} \\sum_{i=0}^{n-1} ( \\, x_{i+1} - x_i \\, ) ( \\ f(x_{i+1}) + f(x_i) \\, )\n",
    "$$\n",
    "\n",
    "and we note that the accuracy of the trapezoid rule increases as the number of points in the partition of the interval $[a,b]$ increases as shown in the following illustration from [Wikipedia](https://en.wikipedia.org/wiki/Trapezoidal_rule):"
   ]
  },
  {
   "cell_type": "markdown",
   "metadata": {},
   "source": [
    "![trapz](https://upload.wikimedia.org/wikipedia/en/a/ab/Trapezium.gif)"
   ]
  },
  {
   "cell_type": "markdown",
   "metadata": {},
   "source": [
    "### Define our own function to implement the trapezoid rule\n",
    "\n",
    "Note that the trapezoid rule is given by an explicit formula:\n",
    "\n",
    "$$\n",
    "\\int_a^b f(x) \\, dx \\approx \\frac{1}{2} \\sum_{i=0}^{n-1} (x_{i+1} - x_i) ( f(x_{i+1}) + f(x_i) )\n",
    "$$\n",
    "\n",
    "therefore we can write our own function to implement the trapezoid rule:"
   ]
  },
  {
   "cell_type": "code",
   "execution_count": 2,
   "metadata": {
    "collapsed": true
   },
   "outputs": [],
   "source": [
    "def my_trapz(y,x):\n",
    "    return sum([ (x[i+1] - x[i])*(y[i+1] + y[i]) for i in range(0,len(x)-1) ])*0.5"
   ]
  },
  {
   "cell_type": "markdown",
   "metadata": {},
   "source": [
    "### `scipy.integrate.trapz`\n",
    "\n",
    "The function `trapz` implements the trapezoid rule to approximate the definite integral $\\int_a^b f(x) \\, dx$. It takes at least one input array `y` which represents the $y$ values of the given function $f$. The first element of the array is the value $f(a)$ and the last entry in the array is the value $f(b)$. The second input is the corresponding array `x` of $x$ values. The first entry of the array is $a$ and the last entry is $b$.\n",
    "\n",
    "There are 2 more optional inputs however they are not very useful. You can see the [documentation](http://docs.scipy.org/doc/scipy/reference/generated/scipy.integrate.trapz.html) or enter `scipy.integrate.trapz?`\n",
    "\n",
    "Finally, the best way to learn how to use any function is to work out some examples!"
   ]
  },
  {
   "cell_type": "markdown",
   "metadata": {},
   "source": [
    "### Example: Gaussian Integral\n",
    "\n",
    "Let's approximate the definite integral $\\int_0^{100} e^{-x^2} dx$ using the function `trapz` as well as our own function `my_trapz` defined above.\n",
    "\n",
    "Recall, the function $y = e^{-x^2}$ is known as the Gaussian function and defines the [normal distribution](https://en.wikipedia.org/wiki/Normal_distribution)."
   ]
  },
  {
   "cell_type": "code",
   "execution_count": 3,
   "metadata": {
    "collapsed": false
   },
   "outputs": [
    {
     "data": {
      "image/png": "[encoded data removed]",
      "text/plain": [
       "<matplotlib.figure.Figure at 0x108b35198>"
      ]
     },
     "metadata": {},
     "output_type": "display_data"
    }
   ],
   "source": [
    "x = np.linspace(-5,5,100)\n",
    "y = np.exp(-x**2)\n",
    "plt.figure(figsize=[15,5])\n",
    "plt.plot(x,y), plt.title('The Gaussian $y = e^{-x^2}$'), plt.xlim([-5,5]), plt.ylim([-1,2]), plt.grid('on');"
   ]
  },
  {
   "cell_type": "markdown",
   "metadata": {},
   "source": [
    "Before we approximate the definite integral, recall the well-known [Gaussian integral](https://en.wikipedia.org/wiki/Gaussian_integral):\n",
    "\n",
    "$$\n",
    "\\int_0^{\\infty} e^{-x^2} dx = \\frac{\\sqrt{\\pi}}{2}\n",
    "$$\n",
    "\n",
    "Therefore we expect the function `scipy.integrate.trapz` to return a value close to:"
   ]
  },
  {
   "cell_type": "code",
   "execution_count": 4,
   "metadata": {
    "collapsed": false
   },
   "outputs": [
    {
     "data": {
      "text/plain": [
       "0.8862269254527579"
      ]
     },
     "execution_count": 4,
     "metadata": {},
     "output_type": "execute_result"
    }
   ],
   "source": [
    "np.pi ** 0.5 / 2"
   ]
  },
  {
   "cell_type": "markdown",
   "metadata": {},
   "source": [
    "We create an array `x` of 1000 evenly-spaced points from 0 to 100 and the corresponding array `y` of values of $y = e^{-x^2}$ and then pass the arrays into the function `scipy.integrate.trapz`:"
   ]
  },
  {
   "cell_type": "code",
   "execution_count": 5,
   "metadata": {
    "collapsed": false
   },
   "outputs": [
    {
     "data": {
      "text/plain": [
       "0.88622692545275805"
      ]
     },
     "execution_count": 5,
     "metadata": {},
     "output_type": "execute_result"
    }
   ],
   "source": [
    "num_points = 1000\n",
    "x = np.linspace(0,100,num_points)\n",
    "y = np.exp(-x**2)\n",
    "spi.trapz(y,x)"
   ]
  },
  {
   "cell_type": "markdown",
   "metadata": {},
   "source": [
    "Finally, let's approximate the integral using our own function `my_trapz`:"
   ]
  },
  {
   "cell_type": "code",
   "execution_count": 6,
   "metadata": {
    "collapsed": false
   },
   "outputs": [
    {
     "data": {
      "text/plain": [
       "0.88622692545275772"
      ]
     },
     "execution_count": 6,
     "metadata": {},
     "output_type": "execute_result"
    }
   ],
   "source": [
    "my_trapz(y,x)"
   ]
  },
  {
   "cell_type": "markdown",
   "metadata": {},
   "source": [
    "Our result is exactly the same as expected! "
   ]
  },
  {
   "cell_type": "markdown",
   "metadata": {},
   "source": [
    "## 2. Simpson's Rule\n",
    "\n",
    "### Formula for Simpson's rule\n",
    "\n",
    "[Simpson's rule](https://en.wikipedia.org/wiki/Simpson%27s_rule) approximates a definite integral $\\int_a^b f(x) \\, dx$ by replacing $f(x)$ by a quadratic polynomial $p(x)$ which has the same values as $f(x)$ at $x=a$, $x=b$ and the midpoint $x=(b-a)/2$. The result is:\n",
    "\n",
    "$$\n",
    "\\int_a^b f(x) \\, dx \\approx \\frac{b-a}{6} \\left( f(a) + 4 \\ f \\hspace{-1mm} \\left( \\hspace{-0.5mm} \\frac{a+b}{2} \\hspace{-0.5mm} \\right) + f(b) \\right)\n",
    "$$\n"
   ]
  },
  {
   "cell_type": "markdown",
   "metadata": {},
   "source": [
    "However, the accuracy is increased when Simpson's rule is applied to multiple subintervals of $[a,b]$. This is known as [composite Simpson's rule](https://en.wikipedia.org/wiki/Simpson%27s_rule#Composite_Simpson.27s_rule)\n",
    "and is demonstrated in the following illustration from [Wikipedia](https://en.wikipedia.org/wiki/Simpson%27s_rule):\n",
    "\n",
    "![simps](https://upload.wikimedia.org/wikipedia/en/6/67/Simpsonsrule2.gif)\n"
   ]
  },
  {
   "cell_type": "markdown",
   "metadata": {},
   "source": [
    "The formula for the composite Simpson's rule is given by\n",
    "\n",
    "$$\n",
    "\\int_a^b f(x) \\, dx \\approx \\frac{h}{3} \\left[ f(a) + 2 \\sum_{i=1}^{n/2-1} f(x_{2i}) + \\sum_{j=1}^{n/2} f(x_{2j-1}) + f(b) \\right]\n",
    "$$\n",
    "\n",
    "where $x_0 = a, x_1, \\dots , x_n=b$ is a partition of the interval $[a,b]$ into an even number $n$ of subintervals of width $h = x_{i+1} - x_i$."
   ]
  },
  {
   "cell_type": "markdown",
   "metadata": {},
   "source": [
    "### `scipy.integrate.simps`\n",
    "\n",
    "The function `scipy.integrate.simps` approximates a definite integral by the composite Simpson's rule and it operates similarly to `trapz`. The first input is an array of $y$ values and the second input is the array of corresponding $x$ values where the first entry in the array is the value $a$ and the last entry is the value $b$. See the [documentation](http://docs.scipy.org/doc/scipy/reference/generated/scipy.integrate.simps.html) for more information. Let's explore some examples to see how to use the function and compare it to `trapz`."
   ]
  },
  {
   "cell_type": "markdown",
   "metadata": {},
   "source": [
    "### Example: $\\int_1^e \\ln(x) \\, dx$\n",
    "\n",
    "Let's approximate the integral $\\int_1^e \\ln(x) \\, dx$ using both functions `trapz` and `simps` (as well as our function `my_trapz)` and compare the results.\n",
    "\n",
    "Using integration by parts, we know that $\\int \\ln(x) \\, dx = x \\ln(x) - x + C$ therefore\n",
    "\n",
    "$$\n",
    "\\int_1^e \\ln(x) \\, dx = 1\n",
    "$$"
   ]
  },
  {
   "cell_type": "code",
   "execution_count": 7,
   "metadata": {
    "collapsed": true
   },
   "outputs": [],
   "source": [
    "x = np.linspace(1,np.exp(1),101)\n",
    "y = np.log(x)"
   ]
  },
  {
   "cell_type": "code",
   "execution_count": 8,
   "metadata": {
    "collapsed": false
   },
   "outputs": [
    {
     "data": {
      "text/plain": [
       "0.9999844474702988"
      ]
     },
     "execution_count": 8,
     "metadata": {},
     "output_type": "execute_result"
    }
   ],
   "source": [
    "spi.trapz(y,x)"
   ]
  },
  {
   "cell_type": "code",
   "execution_count": 9,
   "metadata": {
    "collapsed": false
   },
   "outputs": [
    {
     "data": {
      "text/plain": [
       "0.99999999908004888"
      ]
     },
     "execution_count": 9,
     "metadata": {},
     "output_type": "execute_result"
    }
   ],
   "source": [
    "spi.simps(y,x)"
   ]
  },
  {
   "cell_type": "code",
   "execution_count": 10,
   "metadata": {
    "collapsed": false
   },
   "outputs": [
    {
     "data": {
      "text/plain": [
       "0.99998444747029858"
      ]
     },
     "execution_count": 10,
     "metadata": {},
     "output_type": "execute_result"
    }
   ],
   "source": [
    "my_trapz(y,x)"
   ]
  },
  {
   "cell_type": "markdown",
   "metadata": {},
   "source": [
    "Composite Simpson's rule wins!"
   ]
  },
  {
   "cell_type": "markdown",
   "metadata": {},
   "source": [
    "### Example: $\\int_{\\pi/4}^{3\\pi/4} \\frac{1}{\\sin x}\\,  dx$\n",
    "\n",
    "Let's approximate the integral $\\int_{\\pi/4}^{3\\pi/4} \\frac{1}{\\sin x} dx$. Using integration by parts, we know that\n",
    "\n",
    "$$\n",
    "\\int \\frac{1}{\\sin x} \\, dx = \\frac{1}{2} \\ln \\left| \\frac{\\cos x - 1}{\\cos x + 1} \\right| + C\n",
    "$$\n",
    "\n",
    "therefore\n",
    "\n",
    "$$\n",
    "\\int_{\\pi/4}^{3\\pi/4} \\frac{1}{\\sin x} \\, dx = 2 \\ln \\left( \\sqrt{2} + 1 \\right) \\approx 1.7627471740390859\n",
    "$$\n"
   ]
  },
  {
   "cell_type": "code",
   "execution_count": 11,
   "metadata": {
    "collapsed": false
   },
   "outputs": [
    {
     "data": {
      "text/plain": [
       "1.7627471740390859"
      ]
     },
     "execution_count": 11,
     "metadata": {},
     "output_type": "execute_result"
    }
   ],
   "source": [
    "2 * np.log(2**0.5 + 1)"
   ]
  },
  {
   "cell_type": "code",
   "execution_count": 12,
   "metadata": {
    "collapsed": false
   },
   "outputs": [],
   "source": [
    "x = np.linspace(np.pi/4,3*np.pi/4,101)\n",
    "y = 1/np.sin(x)"
   ]
  },
  {
   "cell_type": "code",
   "execution_count": 13,
   "metadata": {
    "collapsed": false
   },
   "outputs": [
    {
     "data": {
      "text/plain": [
       "1.7628053286104757"
      ]
     },
     "execution_count": 13,
     "metadata": {},
     "output_type": "execute_result"
    }
   ],
   "source": [
    "spi.trapz(y,x)"
   ]
  },
  {
   "cell_type": "code",
   "execution_count": 14,
   "metadata": {
    "collapsed": false
   },
   "outputs": [
    {
     "data": {
      "text/plain": [
       "1.7627471845520835"
      ]
     },
     "execution_count": 14,
     "metadata": {},
     "output_type": "execute_result"
    }
   ],
   "source": [
    "spi.simps(y,x)"
   ]
  },
  {
   "cell_type": "code",
   "execution_count": 15,
   "metadata": {
    "collapsed": false
   },
   "outputs": [
    {
     "data": {
      "text/plain": [
       "1.7628053286104766"
      ]
     },
     "execution_count": 15,
     "metadata": {},
     "output_type": "execute_result"
    }
   ],
   "source": [
    "my_trapz(y,x)"
   ]
  },
  {
   "cell_type": "markdown",
   "metadata": {},
   "source": [
    "Composite Simpson's rule wins again!"
   ]
  },
  {
   "cell_type": "markdown",
   "metadata": {},
   "source": [
    "## 3. QUADPACK Fortran Library\n",
    "\n",
    "The function `scipy.integrate.quad` works differently than `trapz` and `simps` (see the [documentation](http://docs.scipy.org/doc/scipy/reference/generated/scipy.integrate.quad.html)). In particular:\n",
    "\n",
    "1. Instead of inputting arrays of $x$ and $y$ values, the function `quad` takes a function $f$ and the interval endpoints $a$ and $b$ (as well as other optional inputs)\n",
    "2. The function `quad` returns a tuple of length 2: the first value in the tuple is the approximate value of the definite integral, and the second value is an estimate for the absolute error of the approximation\n",
    "\n",
    "The function `quad` approximates a definite integral using the Fortran library QUADPACK. Exactly how QUADPACK works is too complex for this tutorial however there is an entry on [Wikipedia](https://en.wikipedia.org/wiki/QUADPACK) describing QUADPACK. **The main thing to remember is that QUADPACK is highly accurate and optimized!**"
   ]
  },
  {
   "cell_type": "markdown",
   "metadata": {},
   "source": [
    "### Example: $\\int_0^{\\pi} ( 3\\sin x + \\sin 2x ) \\, dx$"
   ]
  },
  {
   "cell_type": "markdown",
   "metadata": {},
   "source": [
    "Let's compute the integral $\\int_0^{\\pi} ( 3\\sin x + \\sin 2x ) \\, dx$ using all 3 functions `trapz`, `simps` and `quad`. But first, let's plot the function $f(x) = 3\\sin x + \\sin 2x$:"
   ]
  },
  {
   "cell_type": "code",
   "execution_count": 16,
   "metadata": {
    "collapsed": true
   },
   "outputs": [],
   "source": [
    "def f(x):\n",
    "    return 3*np.sin(x) + np.sin(2*x)"
   ]
  },
  {
   "cell_type": "code",
   "execution_count": 17,
   "metadata": {
    "collapsed": false
   },
   "outputs": [
    {
     "data": {
      "image/png": "[encoded data removed]",
      "text/plain": [
       "<matplotlib.figure.Figure at 0x108e76b00>"
      ]
     },
     "metadata": {},
     "output_type": "display_data"
    }
   ],
   "source": [
    "x = np.linspace(0,np.pi,100)\n",
    "y = f(x)\n",
    "plt.plot(x,y)\n",
    "plt.xlim([0,np.pi]), plt.ylim([-1,4]), plt.grid('on');"
   ]
  },
  {
   "cell_type": "markdown",
   "metadata": {},
   "source": [
    "We know that $\\int_0^{\\pi} (3\\sin(x) + \\sin(2x)) \\, dx = 6$ and we compute:"
   ]
  },
  {
   "cell_type": "code",
   "execution_count": 18,
   "metadata": {
    "collapsed": false
   },
   "outputs": [
    {
     "data": {
      "text/plain": [
       "5.9994964916819766"
      ]
     },
     "execution_count": 18,
     "metadata": {},
     "output_type": "execute_result"
    }
   ],
   "source": [
    "spi.trapz(y,x)"
   ]
  },
  {
   "cell_type": "code",
   "execution_count": 19,
   "metadata": {
    "collapsed": false
   },
   "outputs": [
    {
     "data": {
      "text/plain": [
       "5.9994964916819802"
      ]
     },
     "execution_count": 19,
     "metadata": {},
     "output_type": "execute_result"
    }
   ],
   "source": [
    "my_trapz(y,x)"
   ]
  },
  {
   "cell_type": "code",
   "execution_count": 20,
   "metadata": {
    "collapsed": false
   },
   "outputs": [
    {
     "data": {
      "text/plain": [
       "5.9999999070496095"
      ]
     },
     "execution_count": 20,
     "metadata": {},
     "output_type": "execute_result"
    }
   ],
   "source": [
    "spi.simps(y,x)"
   ]
  },
  {
   "cell_type": "code",
   "execution_count": 21,
   "metadata": {
    "collapsed": false
   },
   "outputs": [
    {
     "data": {
      "text/plain": [
       "(6.0, 6.661338147750939e-14)"
      ]
     },
     "execution_count": 21,
     "metadata": {},
     "output_type": "execute_result"
    }
   ],
   "source": [
    "# Note that the first input is the function f that we defined above\n",
    "spi.quad(f,0,np.pi)"
   ]
  },
  {
   "cell_type": "markdown",
   "metadata": {},
   "source": [
    "QUADPACK wins! And is exact!!! Note that we can extract just the value of the definite integral returned by `quad` by the following:"
   ]
  },
  {
   "cell_type": "code",
   "execution_count": 22,
   "metadata": {
    "collapsed": false
   },
   "outputs": [
    {
     "data": {
      "text/plain": [
       "6.0"
      ]
     },
     "execution_count": 22,
     "metadata": {},
     "output_type": "execute_result"
    }
   ],
   "source": [
    "result = spi.quad(f,0,np.pi)\n",
    "result[0]"
   ]
  },
  {
   "cell_type": "markdown",
   "metadata": {},
   "source": [
    "## 4. Exercises"
   ]
  },
  {
   "cell_type": "markdown",
   "metadata": {},
   "source": [
    "**Exercise 1.** Approximate the definite integral $\\int_{-1}^1 \\sqrt{1 - x^2} \\, dx$ using all 3 functions `trapz`, `simps` and `quad`. Compare the results to the true value $\\pi/2$. Which function computed the most accurate approximation?"
   ]
  },
  {
   "cell_type": "markdown",
   "metadata": {},
   "source": [
    "**Exercise 2.** Recall the [square wave](https://en.wikipedia.org/wiki/Square_wave).\n",
    "\n",
    "(a) Find the exact value of definite integral\n",
    "\n",
    "$$\n",
    "\\int_0^{1/2} \\frac{4}{\\pi} \\left( \\sin(2 \\pi x) + \\frac{ \\sin(6 \\pi x )}{ 3 } + \\frac{ \\sin(10 \\pi x )}{ 5 } \\right) \\ dx\n",
    "$$\n",
    "\n",
    "(b) Use all 3 functions `trapz`, `simps` and `quad` to approximate the definite integral in part (a)."
   ]
  },
  {
   "cell_type": "markdown",
   "metadata": {},
   "source": [
    "**Exercise 3.** Use all 3 functions `trapz`, `simps` and `quad` to approximate the integral $\\int_0^1 x e^{-x} dx$. Use integration by parts to solve the integral and find the exact value of the definite integral."
   ]
  }
 ],
 "metadata": {
  "kernelspec": {
   "display_name": "Python 3",
   "language": "python",
   "name": "python3"
  },
  "language_info": {
   "codemirror_mode": {
    "name": "ipython",
    "version": 3
   },
   "file_extension": ".py",
   "mimetype": "text/x-python",
   "name": "python",
   "nbconvert_exporter": "python",
   "pygments_lexer": "ipython3",
   "version": "3.4.3"
  }
 },
 "nbformat": 4,
 "nbformat_minor": 0
}
